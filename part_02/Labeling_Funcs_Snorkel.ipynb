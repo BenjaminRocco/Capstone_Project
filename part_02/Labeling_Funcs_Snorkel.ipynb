{
 "cells": [
  {
   "cell_type": "code",
   "execution_count": 494,
   "metadata": {},
   "outputs": [],
   "source": [
    "# Fundamentals\n",
    "import pandas as pd\n",
    "import numpy as np\n",
    "import re\n",
    "from nltk.corpus import stopwords # Import the stop word list\n",
    "import matplotlib.pyplot as plt\n",
    "import seaborn as sns\n",
    "import time\n",
    "\n",
    "# Modeling Fundamentals\n",
    "from sklearn.preprocessing import PolynomialFeatures, StandardScaler\n",
    "from sklearn.pipeline import Pipeline, make_pipeline\n",
    "from sklearn.model_selection import train_test_split, GridSearchCV, cross_val_score\n",
    "from sklearn.feature_extraction.text import CountVectorizer, TfidfVectorizer\n",
    "from collections import Counter\n",
    "from sklearn.metrics import make_scorer\n",
    "\n",
    "# Models\n",
    "import xgboost as xgb\n",
    "from sklearn.linear_model import LinearRegression\n",
    "from sklearn.linear_model import LogisticRegression\n",
    "from sklearn.neighbors import KNeighborsClassifier\n",
    "from sklearn.naive_bayes import MultinomialNB, BernoulliNB, GaussianNB\n",
    "from sklearn.ensemble import BaggingClassifier, RandomForestClassifier, RandomForestRegressor\n",
    "from sklearn.ensemble import AdaBoostClassifier\n",
    "from sklearn.tree import DecisionTreeClassifier\n",
    "from sklearn.svm import LinearSVC\n",
    "from sklearn.pipeline import Pipeline\n",
    "\n",
    "# Evaluation metrics\n",
    "from sklearn.metrics import confusion_matrix, ConfusionMatrixDisplay\n",
    "from sklearn.metrics import mean_absolute_error, mean_squared_error\n",
    "from sklearn.metrics import f1_score\n",
    "\n",
    "# Ignore Future warnings\n",
    "import warnings\n",
    "warnings.simplefilter(action='ignore', category=FutureWarning);\n",
    "\n"
   ]
  },
  {
   "cell_type": "code",
   "execution_count": 495,
   "metadata": {},
   "outputs": [],
   "source": [
    "# snorkel specific imports\n",
    "from snorkel.labeling import labeling_function\n",
    "from textblob import TextBlob\n",
    "from snorkel.labeling.model import LabelModel\n",
    "from snorkel.labeling import PandasLFApplier\n",
    "from snorkel.labeling import LFAnalysis\n",
    "from snorkel.preprocess import preprocessor\n",
    "from snorkel.labeling.model import MajorityLabelVoter\n",
    "from snorkel.labeling.model import LabelModel\n",
    "from snorkel.labeling import filter_unlabeled_dataframe\n",
    "from snorkel.utils import probs_to_preds\n",
    "from snorkel.labeling import LabelingFunction\n",
    "from snorkel.analysis import get_label_buckets\n",
    "\n",
    "\n",
    "import random\n",
    "\n",
    "import nltk\n",
    "from nltk.corpus import wordnet as wn\n",
    "\n",
    "from snorkel.augmentation import transformation_function\n",
    "\n",
    "nltk.download(\"wordnet\", quiet=True)\n",
    "\n",
    "from snorkel.augmentation import ApplyOnePolicy, PandasTFApplier\n"
   ]
  },
  {
   "cell_type": "code",
   "execution_count": 496,
   "metadata": {},
   "outputs": [],
   "source": [
    "pd.set_option('display.max_colwidth', None)"
   ]
  },
  {
   "cell_type": "markdown",
   "metadata": {},
   "source": [
    "### Original Labeling Functions"
   ]
  },
  {
   "cell_type": "code",
   "execution_count": 497,
   "metadata": {},
   "outputs": [],
   "source": [
    "ABSTAIN = -1\n",
    "BIASED = 1\n",
    "UNBIASED = 0"
   ]
  },
  {
   "cell_type": "markdown",
   "metadata": {},
   "source": [
    "### These labeling functions were a result of false positives/negatives from Classification model in part I (list titled 'misleading bias terms'), and a priori assumptions regarding bias by the author ('bias words' and 'subj words')."
   ]
  },
  {
   "cell_type": "code",
   "execution_count": 498,
   "metadata": {},
   "outputs": [],
   "source": [
    "# with only these three lists highest score of 76 % achieved\n",
    "\n",
    "misleading_bias_terms = ['trump', 'u', 'america', 'american', 'new', 'people', 'states', 'president', 'many', 'states', 'united', 'americans', 'one']\n",
    "bias_words = ['fake', 'news', 'media','biased', 'unreliable', 'propaganda', 'misleading', 'partisan', 'manipulative']\n",
    "subj_words = ['feel', 'feels', 'thinks','thought', 'thoughts','opinion', 'bias', 'think', 'felt', 'believe','believed','believes','believer']\n",
    "\n",
    "# negative commonly used words (resulted in worse score 54 %)\n",
    "# past_tense_keywords = [\"hurt\", \"blamed\", \"harmed\", \"accused\"]\n",
    "# present_tense_keywords = [\"hurts\", \"blames\", \"harms\", \"accuses\"]\n",
    "# active_voice_keywords = [\"hurting\", \"blaming\", \"harming\", \"accusing\"]\n",
    "\n",
    "# Commonly used positive words in past tense\n",
    "past_tense_keywords = [\"Succeeded\", \"Achieved\", \"Excelled\", \"Innovated\"]\n",
    "\n",
    "# Commonly used positive words in present tense\n",
    "present_tense_keywords = [\"Succeeds\", \"Achieves\", \"Excels\", \"Innovates\"]\n",
    "\n",
    "# Commonly used positive words in active voice\n",
    "active_voice_keywords = [\"Succeeding\", \"Achieving\", \"Excelling\", \"Innovating\"]"
   ]
  },
  {
   "cell_type": "markdown",
   "metadata": {},
   "source": [
    "OLD"
   ]
  },
  {
   "cell_type": "code",
   "execution_count": 499,
   "metadata": {},
   "outputs": [],
   "source": [
    "@labeling_function()\n",
    "def lf_keyword_my_binary(x):\n",
    "    \"\"\"Return 1 if any of the misleading_bias_terms is present, else return 0.\"\"\"\n",
    "    presence = any(term in str(x).lower() for term in misleading_bias_terms)\n",
    "    return 1 if presence else 0"
   ]
  },
  {
   "cell_type": "markdown",
   "metadata": {},
   "source": [
    "NEW"
   ]
  },
  {
   "cell_type": "code",
   "execution_count": 500,
   "metadata": {},
   "outputs": [],
   "source": [
    "@labeling_function()\n",
    "def keyword_my_mislead(x):\n",
    "    \"\"\"Return 1 if any of the misleading_bias_terms is present, else return 0.\"\"\"\n",
    "    presence = any(term in str(x).lower() for term in misleading_bias_terms)\n",
    "    return BIASED if presence else UNBIASED"
   ]
  },
  {
   "cell_type": "markdown",
   "metadata": {},
   "source": [
    "OLD"
   ]
  },
  {
   "cell_type": "code",
   "execution_count": 501,
   "metadata": {},
   "outputs": [],
   "source": [
    "@labeling_function()\n",
    "def lf_regex_fake_news_binary(x):\n",
    "    \"\"\"Return 1 if any of the bias_words is present, else return 0.\"\"\"\n",
    "    presence = any(re.search(fr\"\\b{word}\\b\", str(x), flags=re.I) is not None for word in bias_words)\n",
    "    return 1 if presence else 0"
   ]
  },
  {
   "cell_type": "markdown",
   "metadata": {},
   "source": [
    "NEW"
   ]
  },
  {
   "cell_type": "code",
   "execution_count": 502,
   "metadata": {},
   "outputs": [],
   "source": [
    "@labeling_function()\n",
    "def regex_fake_news(x):\n",
    "    \"\"\"Return 1 if any of the bias_words is present, else return 0.\"\"\"\n",
    "    presence = any(re.search(fr\"\\b{word}\\b\", str(x), flags=re.I) is not None for word in bias_words)\n",
    "    return BIASED if presence else UNBIASED"
   ]
  },
  {
   "cell_type": "markdown",
   "metadata": {},
   "source": [
    "OLD"
   ]
  },
  {
   "cell_type": "code",
   "execution_count": 503,
   "metadata": {},
   "outputs": [],
   "source": [
    "@labeling_function()\n",
    "def lf_regex_subjective_binary(x):\n",
    "    \"\"\"Return 1 if any of the subj_words is present, else return 0.\"\"\"\n",
    "    presence = any(re.search(fr\"\\b{word}\\b\", str(x), flags=re.I) is not None for word in subj_words)\n",
    "    return 1 if presence else 0"
   ]
  },
  {
   "cell_type": "markdown",
   "metadata": {},
   "source": [
    "NEW"
   ]
  },
  {
   "cell_type": "code",
   "execution_count": 504,
   "metadata": {},
   "outputs": [],
   "source": [
    "@labeling_function()\n",
    "def regex_subjective(x):\n",
    "    \"\"\"Return BIAS if any of the subj_words is present, else ABSTAIN.\"\"\"\n",
    "    presence = any(re.search(fr\"\\b{word}\\b\", str(x), flags=re.I) is not None for word in subj_words)\n",
    "    return BIASED if presence else UNBIASED"
   ]
  },
  {
   "cell_type": "code",
   "execution_count": 505,
   "metadata": {},
   "outputs": [],
   "source": [
    "# @labeling_function()\n",
    "# def past_tense_keywords_f(x):\n",
    "#     \"\"\"Return BIAS if any of the subj_words is present, else ABSTAIN.\"\"\"\n",
    "#     presence = any(re.search(fr\"\\b{word}\\b\", str(x), flags=re.I) is not None for word in past_tense_keywords)\n",
    "#     return BIASED if presence else ABSTAIN"
   ]
  },
  {
   "cell_type": "code",
   "execution_count": 506,
   "metadata": {},
   "outputs": [],
   "source": [
    "# @labeling_function()\n",
    "# def present_tense_keywords_f(x):\n",
    "#     \"\"\"Return BIAS if any of the subj_words is present, else ABSTAIN.\"\"\"\n",
    "#     presence = any(re.search(fr\"\\b{word}\\b\", str(x), flags=re.I) is not None for word in present_tense_keywords)\n",
    "#     return BIASED if presence else ABSTAIN"
   ]
  },
  {
   "cell_type": "code",
   "execution_count": 507,
   "metadata": {},
   "outputs": [],
   "source": [
    "# @labeling_function()\n",
    "# def active_voice_keywords_f(x):\n",
    "#     \"\"\"Return BIAS if any of the subj_words is present, else ABSTAIN.\"\"\"\n",
    "#     presence = any(re.search(fr\"\\b{word}\\b\", str(x), flags=re.I) is not None for word in active_voice_keywords)\n",
    "#     return BIASED if presence else ABSTAIN"
   ]
  },
  {
   "cell_type": "markdown",
   "metadata": {},
   "source": [
    "### More labeling functions after clustering with CBOW and Skip Grams - See documentation for more details"
   ]
  },
  {
   "cell_type": "code",
   "execution_count": 508,
   "metadata": {},
   "outputs": [],
   "source": [
    "import re\n",
    "\n",
    "keywords = [\n",
    "    \"maps\", \"county\", \"election\", \"coronavirus\", \"case\",\n",
    "    \"risk\", \"cases\", \"covid\", \"latest\", \"trump\",\n",
    "    \"ukraine\", \"russia\", \"war\", \"reminiscent\",\n",
    "    \"removes\", \"proceed\", \"ponder\"\n",
    "]\n",
    "\n",
    "keywords_pattern = \"|\".join(fr\"\\b{re.escape(keyword)}\\b\" for keyword in keywords)\n",
    "\n",
    "@labeling_function()\n",
    "def lf_keyword_maps_binary(x):\n",
    "    return 1 if re.search(fr\"\\b{re.escape('maps')}\\b\", str(x), flags=re.I) else 0\n",
    "\n",
    "@labeling_function()\n",
    "def lf_keyword_county_binary(x):\n",
    "    return 1 if re.search(fr\"\\b{re.escape('county')}\\b\", str(x), flags=re.I) else 0\n",
    "\n",
    "@labeling_function()\n",
    "def lf_keyword_election_binary(x):\n",
    "    return 1 if re.search(fr\"\\b{re.escape('election')}\\b\", str(x), flags=re.I) else 0\n",
    "\n",
    "@labeling_function()\n",
    "def lf_keyword_coronavirus_binary(x):\n",
    "    return 1 if re.search(fr\"\\b{re.escape('coronavirus')}\\b\", str(x), flags=re.I) else 0\n",
    "\n",
    "@labeling_function()\n",
    "def lf_keyword_case_binary(x):\n",
    "    return 1 if re.search(fr\"\\b{re.escape('case')}\\b\", str(x), flags=re.I) else 0\n",
    "\n",
    "@labeling_function()\n",
    "def lf_keyword_risk_binary(x):\n",
    "    return 1 if re.search(fr\"\\b{re.escape('risk')}\\b\", str(x), flags=re.I) else 0\n",
    "\n",
    "@labeling_function()\n",
    "def lf_keyword_cases_binary(x):\n",
    "    return 1 if re.search(fr\"\\b{re.escape('cases')}\\b\", str(x), flags=re.I) else 0\n",
    "\n",
    "@labeling_function()\n",
    "def lf_keyword_covid_binary(x):\n",
    "    return 1 if re.search(fr\"\\b{re.escape('covid')}\\b\", str(x), flags=re.I) else 0\n",
    "\n",
    "@labeling_function()\n",
    "def lf_keyword_latest_binary(x):\n",
    "    return 1 if re.search(fr\"\\b{re.escape('latest')}\\b\", str(x), flags=re.I) else 0\n",
    "\n",
    "@labeling_function()\n",
    "def lf_keyword_trump_binary(x):\n",
    "    return 1 if re.search(fr\"\\b{re.escape('trump')}\\b\", str(x), flags=re.I) else 0\n",
    "\n",
    "@labeling_function()\n",
    "def lf_keyword_ukraine_binary(x):\n",
    "    return 1 if re.search(fr\"\\b{re.escape('ukraine')}\\b\", str(x), flags=re.I) else 0\n",
    "\n",
    "@labeling_function()\n",
    "def lf_keyword_russia_binary(x):\n",
    "    return 1 if re.search(fr\"\\b{re.escape('russia')}\\b\", str(x), flags=re.I) else 0\n",
    "\n",
    "@labeling_function()\n",
    "def lf_keyword_war_binary(x):\n",
    "    return 1 if re.search(fr\"\\b{re.escape('war')}\\b\", str(x), flags=re.I) else 0\n",
    "\n",
    "@labeling_function()\n",
    "def lf_keyword_reminiscent_binary(x):\n",
    "    return 1 if re.search(fr\"\\b{re.escape('reminiscent')}\\b\", str(x), flags=re.I) else 0\n",
    "\n",
    "@labeling_function()\n",
    "def lf_keyword_removes_binary(x):\n",
    "    return 1 if re.search(fr\"\\b{re.escape('removes')}\\b\", str(x), flags=re.I) else 0\n",
    "\n",
    "@labeling_function()\n",
    "def lf_keyword_proceed_binary(x):\n",
    "    return 1 if re.search(fr\"\\b{re.escape('proceed')}\\b\", str(x), flags=re.I) else 0\n",
    "\n",
    "@labeling_function()\n",
    "def lf_keyword_ponder_binary(x):\n",
    "    return 1 if re.search(fr\"\\b{re.escape('ponder')}\\b\", str(x), flags=re.I) else 0\n"
   ]
  },
  {
   "cell_type": "markdown",
   "metadata": {},
   "source": [
    "### Length Based Functions"
   ]
  },
  {
   "cell_type": "code",
   "execution_count": 509,
   "metadata": {},
   "outputs": [],
   "source": [
    "@labeling_function()\n",
    "def lf_long_combined_text_binary(text_list):\n",
    "    \"\"\"Return 1 if the combined length is greater than 376, else return 0.\"\"\"\n",
    "    length = len(\" \".join(str(text_list)).split())\n",
    "    return 1 if length > 130 else 0"
   ]
  },
  {
   "cell_type": "code",
   "execution_count": 510,
   "metadata": {},
   "outputs": [],
   "source": [
    "@labeling_function()\n",
    "def long_combined_text(x):\n",
    "    \"\"\"Return BIAS if the combined length is greater than 376, else ABSTAIN.\"\"\"\n",
    "    return BIASED if len(x.text.split()) > 130 else UNBIASED"
   ]
  },
  {
   "cell_type": "markdown",
   "metadata": {},
   "source": [
    "### Sentiment : Polarity and Subjectivity \n",
    "More biased abstracts/headlines will be more subjective, and on average positive polarity (indicating good feelings / thoughts) will be more biased. "
   ]
  },
  {
   "cell_type": "code",
   "execution_count": 511,
   "metadata": {},
   "outputs": [],
   "source": [
    "@preprocessor(memoize=True)\n",
    "def textblob_sentiment(x):\n",
    "    scores = TextBlob(x.text)\n",
    "    x.polarity = scores.sentiment.polarity\n",
    "    x.subjectivity = scores.sentiment.subjectivity\n",
    "    return x"
   ]
  },
  {
   "cell_type": "code",
   "execution_count": 512,
   "metadata": {},
   "outputs": [],
   "source": [
    "@labeling_function()\n",
    "def lf_textblob_polarity_binary(x):\n",
    "    \"\"\"\n",
    "    We use a third-party sentiment classification model, TextBlob.\n",
    "\n",
    "    We map the polarity to binary classification: 1 if negative, 0 otherwise.\n",
    "    \"\"\"\n",
    "    polarity = TextBlob(str(x)).sentiment.polarity\n",
    "    return 1 if polarity > 0 else 0"
   ]
  },
  {
   "cell_type": "code",
   "execution_count": 513,
   "metadata": {},
   "outputs": [],
   "source": [
    "@labeling_function(pre=[textblob_sentiment])\n",
    "def textblob_polarity(x):\n",
    "    return BIASED if x.polarity > 0.5 else UNBIASED"
   ]
  },
  {
   "cell_type": "code",
   "execution_count": 514,
   "metadata": {},
   "outputs": [],
   "source": [
    "@labeling_function()\n",
    "def lf_textblob_subjectivity_binary(x):\n",
    "    \"\"\"\n",
    "    We use a third-party sentiment classification model, TextBlob.\n",
    "\n",
    "    We map the subjectivity to binary classification: 1 if high subjectivity, 0 otherwise.\n",
    "    \"\"\"\n",
    "    subjectivity = TextBlob(str(x)).sentiment.subjectivity\n",
    "    return 1 if subjectivity > 0.5 else 0"
   ]
  },
  {
   "cell_type": "code",
   "execution_count": 515,
   "metadata": {},
   "outputs": [],
   "source": [
    "@labeling_function(pre=[textblob_sentiment])\n",
    "def textblob_subjectivity(x):\n",
    "    return BIASED if x.subjectivity >= 0.4 else UNBIASED"
   ]
  },
  {
   "cell_type": "markdown",
   "metadata": {},
   "source": [
    "### More Keywords (Adapted from Snorkel Tutorial)"
   ]
  },
  {
   "cell_type": "code",
   "execution_count": 516,
   "metadata": {},
   "outputs": [
    {
     "data": {
      "text/plain": [
       "'Unbiased articles contain maps, county, results, election, coronavirus, case, risk, cases, covid, latest.'"
      ]
     },
     "execution_count": 516,
     "metadata": {},
     "output_type": "execute_result"
    }
   ],
   "source": [
    "def keyword_lookup(x, keywords, label):\n",
    "    if any(word in x.text.lower() for word in keywords):\n",
    "        return label\n",
    "    return ABSTAIN\n",
    "\n",
    "\n",
    "def make_keyword_lf(keywords, label=BIASED):\n",
    "    return LabelingFunction(\n",
    "        name=f\"keyword_{keywords[0]}\",\n",
    "        f=keyword_lookup,\n",
    "        resources=dict(keywords=keywords, label=label),\n",
    "    )\n",
    "\n",
    "\n",
    "\"\"\"Biased articles have accusatory language\"\"\"\n",
    "keyword_hurt = make_keyword_lf(keywords=[\"hurt, hurts, hurting\"])\n",
    "\n",
    "\"\"\"Biased articles have accusatory language\"\"\"\n",
    "keyword_blame = make_keyword_lf(keywords=[\"blamed, blames, blaming\"])\n",
    "\n",
    "\"\"\"Biased articles have accusatory language.\"\"\"\n",
    "keyword_harm = make_keyword_lf(keywords=[\"harmed, harms, harming\"])\n",
    "\n",
    "\"\"\"Biased articles have accusatory language\"\"\"\n",
    "keyword_accuse = make_keyword_lf(keywords=[\"accused\", \"accuses, accusing\"])\n",
    "\n",
    "\"\"\"Biased articles have flowery language\"\"\"\n",
    "keyword_succeeded = make_keyword_lf(keywords=[\"succeeds, succeeded, succeeding\"])\n",
    "\n",
    "\"\"\"Biased articles have flowery language\"\"\"\n",
    "keyword_achieves = make_keyword_lf(keywords=[\"achieves, achieved, achieving\"])\n",
    "\n",
    "\"\"\"Biased articles have flowery language\"\"\"\n",
    "keyword_excels = make_keyword_lf(keywords=[\"excels, excelled, excelling\"])\n",
    "\n",
    "\"\"\"Words similar to president found with continuous bag of word\"\"\"\n",
    "keyword_hypocrisy = make_keyword_lf(keywords=[\"weakened, two, emily, code\"])\n",
    "\n",
    "\n",
    "\"\"\"Unbiased articles have see latest charts.\"\"\"\n",
    "keyword_maps = make_keyword_lf(keywords=[\"maps\"], label=UNBIASED)\n",
    "keyword_county = make_keyword_lf(keywords=[\"county\"], label=UNBIASED)\n",
    "keyword_election = make_keyword_lf(keywords=[\"election\"], label=UNBIASED)\n",
    "keyword_coronavirus = make_keyword_lf(keywords=[\"coronavirus\"], label=UNBIASED)\n",
    "keyword_case = make_keyword_lf(keywords=[\"case\"], label=UNBIASED)\n",
    "keyword_risk = make_keyword_lf(keywords=[\"risk\"], label=UNBIASED)\n",
    "keyword_cases = make_keyword_lf(keywords=[\"cases\"], label=UNBIASED)\n",
    "keyword_covid = make_keyword_lf(keywords=[\"covid\"], label=UNBIASED)\n",
    "keyword_latest = make_keyword_lf(keywords=[\"latest\"], label=UNBIASED)\n",
    "\n",
    "# New biased keywords\n",
    "keyword_trump = make_keyword_lf(keywords=[\"trump\"], label=BIASED)\n",
    "keyword_ukraine = make_keyword_lf(keywords=[\"ukraine\"], label=BIASED)\n",
    "keyword_russia = make_keyword_lf(keywords=[\"russia\"], label=BIASED)\n",
    "keyword_war = make_keyword_lf(keywords=[\"war\"], label=BIASED)\n",
    "\n",
    "keyword_reminiscent = make_keyword_lf(keywords=[\"reminiscent\"], label=BIASED)\n",
    "keyword_removes = make_keyword_lf(keywords=[\"removes\"], label=BIASED)\n",
    "keyword_proceed = make_keyword_lf(keywords=[\"proceed\"], label=BIASED)\n",
    "keyword_ponder = make_keyword_lf(keywords=[\"ponder\"], label=BIASED)\n",
    "\n",
    "\n",
    "\"\"\"Unbiased articles contain maps, county, results, election, coronavirus, case, risk, cases, covid, latest.\"\"\"\n"
   ]
  },
  {
   "cell_type": "code",
   "execution_count": 517,
   "metadata": {},
   "outputs": [
    {
     "data": {
      "text/plain": [
       "'\\nkeyword_maps,\\nkeyword_county,\\nkeyword_election,\\nkeyword_coronavirus,\\nkeyword_case,\\nkeyword_risk,\\nkeyword_cases,\\nkeyword_covid,\\nkeyword_latest,\\n'"
      ]
     },
     "execution_count": 517,
     "metadata": {},
     "output_type": "execute_result"
    }
   ],
   "source": [
    "'''\n",
    "# Commonly used positive words in past tense\n",
    "past_tense_keywords = [\"Succeeded\", \"Achieved\", \"Excelled\", \"Innovated\"]\n",
    "\n",
    "# Commonly used positive words in present tense\n",
    "present_tense_keywords = [\"Succeeds\", \"Achieves\", \"Excels\", \"Innovates\"]\n",
    "\n",
    "# Commonly used positive words in active voice\n",
    "active_voice_keywords = [\"Succeeding\", \"Achieving\", \"Excelling\", \"Innovating\"]\n",
    "\n",
    "keyword_succeeded,\n",
    "keyword_achieves,\n",
    "keyword_excels,\n",
    "\n",
    "keyword_hurt\n",
    "keyword_hurts\n",
    "keyword_hurting\n",
    "keyword_blamed\n",
    "keyword_blames\n",
    "keyword_blaming\n",
    "keyword_harmed\n",
    "keyword_harms\n",
    "keyword_harming\n",
    "keyword_accused\n",
    "keyword_accuses\n",
    "keyword_accusing\n",
    "'''\n",
    "\n",
    "# Common nonbiased words: \n",
    "'''\n",
    "keyword_maps,\n",
    "keyword_county,\n",
    "keyword_election,\n",
    "keyword_coronavirus,\n",
    "keyword_case,\n",
    "keyword_risk,\n",
    "keyword_cases,\n",
    "keyword_covid,\n",
    "keyword_latest,\n",
    "'''"
   ]
  },
  {
   "cell_type": "markdown",
   "metadata": {},
   "source": [
    "### Load in Data\n"
   ]
  },
  {
   "cell_type": "code",
   "execution_count": 518,
   "metadata": {},
   "outputs": [],
   "source": [
    "df_train = pd.read_csv('/Users/ben/Desktop/DSI_GA_Materials/capstone/Capstone_Project_backup/Data/unlabeled_train.csv')\n"
   ]
  },
  {
   "cell_type": "code",
   "execution_count": 519,
   "metadata": {},
   "outputs": [],
   "source": [
    "df_test = pd.read_csv('/Users/ben/Desktop/DSI_GA_Materials/capstone/Capstone_Project_backup/Data/kappa_labeled_train.csv')"
   ]
  },
  {
   "cell_type": "markdown",
   "metadata": {},
   "source": [
    "### EDA and Column relabeling "
   ]
  },
  {
   "cell_type": "code",
   "execution_count": 520,
   "metadata": {},
   "outputs": [
    {
     "data": {
      "text/html": [
       "<div>\n",
       "<style scoped>\n",
       "    .dataframe tbody tr th:only-of-type {\n",
       "        vertical-align: middle;\n",
       "    }\n",
       "\n",
       "    .dataframe tbody tr th {\n",
       "        vertical-align: top;\n",
       "    }\n",
       "\n",
       "    .dataframe thead th {\n",
       "        text-align: right;\n",
       "    }\n",
       "</style>\n",
       "<table border=\"1\" class=\"dataframe\">\n",
       "  <thead>\n",
       "    <tr style=\"text-align: right;\">\n",
       "      <th></th>\n",
       "      <th>Unnamed: 0</th>\n",
       "      <th>abstracts_headlines</th>\n",
       "      <th>section_name</th>\n",
       "    </tr>\n",
       "  </thead>\n",
       "  <tbody>\n",
       "    <tr>\n",
       "      <th>0</th>\n",
       "      <td>0</td>\n",
       "      <td>new start treaty nearly wrapped president obama begin discussing far reaching deals russia next treaties</td>\n",
       "      <td>1</td>\n",
       "    </tr>\n",
       "    <tr>\n",
       "      <th>1</th>\n",
       "      <td>1</td>\n",
       "      <td>response plea israel release jonathan pollard plea pollard release</td>\n",
       "      <td>1</td>\n",
       "    </tr>\n",
       "    <tr>\n",
       "      <th>2</th>\n",
       "      <td>2</td>\n",
       "      <td>letters editor regarding tensions new york medical schools caribbean doctors learn best</td>\n",
       "      <td>1</td>\n",
       "    </tr>\n",
       "    <tr>\n",
       "      <th>3</th>\n",
       "      <td>3</td>\n",
       "      <td>canada beat united states semifinals world junior tournament advancing final th consecutive year canada beats united states world junior semifinal</td>\n",
       "      <td>0</td>\n",
       "    </tr>\n",
       "    <tr>\n",
       "      <th>4</th>\n",
       "      <td>4</td>\n",
       "      <td>kristine lilly holds world record international appearances u announced retirement wednesday lilly iron lady u soccer retires</td>\n",
       "      <td>0</td>\n",
       "    </tr>\n",
       "  </tbody>\n",
       "</table>\n",
       "</div>"
      ],
      "text/plain": [
       "   Unnamed: 0  \\\n",
       "0           0   \n",
       "1           1   \n",
       "2           2   \n",
       "3           3   \n",
       "4           4   \n",
       "\n",
       "                                                                                                                                  abstracts_headlines  \\\n",
       "0                                            new start treaty nearly wrapped president obama begin discussing far reaching deals russia next treaties   \n",
       "1                                                                                  response plea israel release jonathan pollard plea pollard release   \n",
       "2                                                             letters editor regarding tensions new york medical schools caribbean doctors learn best   \n",
       "3  canada beat united states semifinals world junior tournament advancing final th consecutive year canada beats united states world junior semifinal   \n",
       "4                       kristine lilly holds world record international appearances u announced retirement wednesday lilly iron lady u soccer retires   \n",
       "\n",
       "   section_name  \n",
       "0             1  \n",
       "1             1  \n",
       "2             1  \n",
       "3             0  \n",
       "4             0  "
      ]
     },
     "execution_count": 520,
     "metadata": {},
     "output_type": "execute_result"
    }
   ],
   "source": [
    "df_train.head()"
   ]
  },
  {
   "cell_type": "code",
   "execution_count": 521,
   "metadata": {},
   "outputs": [
    {
     "data": {
      "text/html": [
       "<div>\n",
       "<style scoped>\n",
       "    .dataframe tbody tr th:only-of-type {\n",
       "        vertical-align: middle;\n",
       "    }\n",
       "\n",
       "    .dataframe tbody tr th {\n",
       "        vertical-align: top;\n",
       "    }\n",
       "\n",
       "    .dataframe thead th {\n",
       "        text-align: right;\n",
       "    }\n",
       "</style>\n",
       "<table border=\"1\" class=\"dataframe\">\n",
       "  <thead>\n",
       "    <tr style=\"text-align: right;\">\n",
       "      <th></th>\n",
       "      <th>Unnamed: 0.1</th>\n",
       "      <th>Unnamed: 0</th>\n",
       "      <th>abstracts_headlines</th>\n",
       "      <th>section_name</th>\n",
       "      <th>cohen_kappa_label</th>\n",
       "      <th>cohen_kappa_range_none_to_slight</th>\n",
       "      <th>cohen_kappa_range_fair</th>\n",
       "      <th>cohen_kappa_range_moderate</th>\n",
       "      <th>cohen_kappa_range_substantial</th>\n",
       "      <th>cohen_kappa_range_almost_perfect</th>\n",
       "      <th>cohen_kappa_range_nan</th>\n",
       "    </tr>\n",
       "  </thead>\n",
       "  <tbody>\n",
       "    <tr>\n",
       "      <th>0</th>\n",
       "      <td>0</td>\n",
       "      <td>0</td>\n",
       "      <td>new start treaty nearly wrapped president obama begin discussing far reaching deals russia next treaties</td>\n",
       "      <td>1</td>\n",
       "      <td>0.2</td>\n",
       "      <td>1</td>\n",
       "      <td>0</td>\n",
       "      <td>0</td>\n",
       "      <td>0</td>\n",
       "      <td>0</td>\n",
       "      <td>0</td>\n",
       "    </tr>\n",
       "    <tr>\n",
       "      <th>1</th>\n",
       "      <td>1</td>\n",
       "      <td>1</td>\n",
       "      <td>response plea israel release jonathan pollard plea pollard release</td>\n",
       "      <td>1</td>\n",
       "      <td>0.0</td>\n",
       "      <td>0</td>\n",
       "      <td>0</td>\n",
       "      <td>0</td>\n",
       "      <td>0</td>\n",
       "      <td>0</td>\n",
       "      <td>1</td>\n",
       "    </tr>\n",
       "    <tr>\n",
       "      <th>2</th>\n",
       "      <td>2</td>\n",
       "      <td>2</td>\n",
       "      <td>letters editor regarding tensions new york medical schools caribbean doctors learn best</td>\n",
       "      <td>1</td>\n",
       "      <td>0.2</td>\n",
       "      <td>1</td>\n",
       "      <td>0</td>\n",
       "      <td>0</td>\n",
       "      <td>0</td>\n",
       "      <td>0</td>\n",
       "      <td>0</td>\n",
       "    </tr>\n",
       "    <tr>\n",
       "      <th>3</th>\n",
       "      <td>3</td>\n",
       "      <td>3</td>\n",
       "      <td>canada beat united states semifinals world junior tournament advancing final th consecutive year canada beats united states world junior semifinal</td>\n",
       "      <td>0</td>\n",
       "      <td>0.5</td>\n",
       "      <td>0</td>\n",
       "      <td>0</td>\n",
       "      <td>1</td>\n",
       "      <td>0</td>\n",
       "      <td>0</td>\n",
       "      <td>0</td>\n",
       "    </tr>\n",
       "    <tr>\n",
       "      <th>4</th>\n",
       "      <td>4</td>\n",
       "      <td>4</td>\n",
       "      <td>kristine lilly holds world record international appearances u announced retirement wednesday lilly iron lady u soccer retires</td>\n",
       "      <td>0</td>\n",
       "      <td>0.2</td>\n",
       "      <td>1</td>\n",
       "      <td>0</td>\n",
       "      <td>0</td>\n",
       "      <td>0</td>\n",
       "      <td>0</td>\n",
       "      <td>0</td>\n",
       "    </tr>\n",
       "  </tbody>\n",
       "</table>\n",
       "</div>"
      ],
      "text/plain": [
       "   Unnamed: 0.1  Unnamed: 0  \\\n",
       "0             0           0   \n",
       "1             1           1   \n",
       "2             2           2   \n",
       "3             3           3   \n",
       "4             4           4   \n",
       "\n",
       "                                                                                                                                  abstracts_headlines  \\\n",
       "0                                            new start treaty nearly wrapped president obama begin discussing far reaching deals russia next treaties   \n",
       "1                                                                                  response plea israel release jonathan pollard plea pollard release   \n",
       "2                                                             letters editor regarding tensions new york medical schools caribbean doctors learn best   \n",
       "3  canada beat united states semifinals world junior tournament advancing final th consecutive year canada beats united states world junior semifinal   \n",
       "4                       kristine lilly holds world record international appearances u announced retirement wednesday lilly iron lady u soccer retires   \n",
       "\n",
       "   section_name  cohen_kappa_label  cohen_kappa_range_none_to_slight  \\\n",
       "0             1                0.2                                 1   \n",
       "1             1                0.0                                 0   \n",
       "2             1                0.2                                 1   \n",
       "3             0                0.5                                 0   \n",
       "4             0                0.2                                 1   \n",
       "\n",
       "   cohen_kappa_range_fair  cohen_kappa_range_moderate  \\\n",
       "0                       0                           0   \n",
       "1                       0                           0   \n",
       "2                       0                           0   \n",
       "3                       0                           1   \n",
       "4                       0                           0   \n",
       "\n",
       "   cohen_kappa_range_substantial  cohen_kappa_range_almost_perfect  \\\n",
       "0                              0                                 0   \n",
       "1                              0                                 0   \n",
       "2                              0                                 0   \n",
       "3                              0                                 0   \n",
       "4                              0                                 0   \n",
       "\n",
       "   cohen_kappa_range_nan  \n",
       "0                      0  \n",
       "1                      1  \n",
       "2                      0  \n",
       "3                      0  \n",
       "4                      0  "
      ]
     },
     "execution_count": 521,
     "metadata": {},
     "output_type": "execute_result"
    }
   ],
   "source": [
    "df_test.head()"
   ]
  },
  {
   "cell_type": "code",
   "execution_count": 522,
   "metadata": {},
   "outputs": [],
   "source": [
    "df_test = df_test.drop(columns=['Unnamed: 0.1','Unnamed: 0','cohen_kappa_label','cohen_kappa_range_none_to_slight',\t'cohen_kappa_range_fair','cohen_kappa_range_moderate','cohen_kappa_range_substantial','cohen_kappa_range_almost_perfect','cohen_kappa_range_nan'])"
   ]
  },
  {
   "cell_type": "code",
   "execution_count": 523,
   "metadata": {},
   "outputs": [
    {
     "data": {
      "text/html": [
       "<div>\n",
       "<style scoped>\n",
       "    .dataframe tbody tr th:only-of-type {\n",
       "        vertical-align: middle;\n",
       "    }\n",
       "\n",
       "    .dataframe tbody tr th {\n",
       "        vertical-align: top;\n",
       "    }\n",
       "\n",
       "    .dataframe thead th {\n",
       "        text-align: right;\n",
       "    }\n",
       "</style>\n",
       "<table border=\"1\" class=\"dataframe\">\n",
       "  <thead>\n",
       "    <tr style=\"text-align: right;\">\n",
       "      <th></th>\n",
       "      <th>abstracts_headlines</th>\n",
       "      <th>section_name</th>\n",
       "    </tr>\n",
       "  </thead>\n",
       "  <tbody>\n",
       "    <tr>\n",
       "      <th>0</th>\n",
       "      <td>new start treaty nearly wrapped president obama begin discussing far reaching deals russia next treaties</td>\n",
       "      <td>1</td>\n",
       "    </tr>\n",
       "    <tr>\n",
       "      <th>1</th>\n",
       "      <td>response plea israel release jonathan pollard plea pollard release</td>\n",
       "      <td>1</td>\n",
       "    </tr>\n",
       "    <tr>\n",
       "      <th>2</th>\n",
       "      <td>letters editor regarding tensions new york medical schools caribbean doctors learn best</td>\n",
       "      <td>1</td>\n",
       "    </tr>\n",
       "    <tr>\n",
       "      <th>3</th>\n",
       "      <td>canada beat united states semifinals world junior tournament advancing final th consecutive year canada beats united states world junior semifinal</td>\n",
       "      <td>0</td>\n",
       "    </tr>\n",
       "    <tr>\n",
       "      <th>4</th>\n",
       "      <td>kristine lilly holds world record international appearances u announced retirement wednesday lilly iron lady u soccer retires</td>\n",
       "      <td>0</td>\n",
       "    </tr>\n",
       "    <tr>\n",
       "      <th>...</th>\n",
       "      <td>...</td>\n",
       "      <td>...</td>\n",
       "    </tr>\n",
       "    <tr>\n",
       "      <th>20403</th>\n",
       "      <td>job market remained strong last month suggesting workers remain high demand still quitting often labor department report showed workers quit february job openings stayed high</td>\n",
       "      <td>0</td>\n",
       "    </tr>\n",
       "    <tr>\n",
       "      <th>20404</th>\n",
       "      <td>recent poll data suggests rising prices dominate americans economic concerns inflation fears highest since americans especially republicans getting worried inflation</td>\n",
       "      <td>0</td>\n",
       "    </tr>\n",
       "    <tr>\n",
       "      <th>20405</th>\n",
       "      <td>scientists keeping eye ba one three genetically distinct varieties omicron variant coronavirus ba subvariant omicron accounts half new u coronavirus cases c c estimates</td>\n",
       "      <td>0</td>\n",
       "    </tr>\n",
       "    <tr>\n",
       "      <th>20406</th>\n",
       "      <td>twenty one republican state attorneys general filed lawsuit biden administration tuesday block federal mask mandate public transportation twenty one states file lawsuit block mask mandate public transportation</td>\n",
       "      <td>0</td>\n",
       "    </tr>\n",
       "    <tr>\n",
       "      <th>20407</th>\n",
       "      <td>bill named emmett till black boy murdered mississippi first time explicitly criminalized act come symbolize grim history racism united states biden signs bill making lynching federal crime</td>\n",
       "      <td>0</td>\n",
       "    </tr>\n",
       "  </tbody>\n",
       "</table>\n",
       "<p>20408 rows × 2 columns</p>\n",
       "</div>"
      ],
      "text/plain": [
       "                                                                                                                                                                                                     abstracts_headlines  \\\n",
       "0                                                                                                               new start treaty nearly wrapped president obama begin discussing far reaching deals russia next treaties   \n",
       "1                                                                                                                                                     response plea israel release jonathan pollard plea pollard release   \n",
       "2                                                                                                                                letters editor regarding tensions new york medical schools caribbean doctors learn best   \n",
       "3                                                                     canada beat united states semifinals world junior tournament advancing final th consecutive year canada beats united states world junior semifinal   \n",
       "4                                                                                          kristine lilly holds world record international appearances u announced retirement wednesday lilly iron lady u soccer retires   \n",
       "...                                                                                                                                                                                                                  ...   \n",
       "20403                                     job market remained strong last month suggesting workers remain high demand still quitting often labor department report showed workers quit february job openings stayed high   \n",
       "20404                                              recent poll data suggests rising prices dominate americans economic concerns inflation fears highest since americans especially republicans getting worried inflation   \n",
       "20405                                           scientists keeping eye ba one three genetically distinct varieties omicron variant coronavirus ba subvariant omicron accounts half new u coronavirus cases c c estimates   \n",
       "20406  twenty one republican state attorneys general filed lawsuit biden administration tuesday block federal mask mandate public transportation twenty one states file lawsuit block mask mandate public transportation   \n",
       "20407                       bill named emmett till black boy murdered mississippi first time explicitly criminalized act come symbolize grim history racism united states biden signs bill making lynching federal crime   \n",
       "\n",
       "       section_name  \n",
       "0                 1  \n",
       "1                 1  \n",
       "2                 1  \n",
       "3                 0  \n",
       "4                 0  \n",
       "...             ...  \n",
       "20403             0  \n",
       "20404             0  \n",
       "20405             0  \n",
       "20406             0  \n",
       "20407             0  \n",
       "\n",
       "[20408 rows x 2 columns]"
      ]
     },
     "execution_count": 523,
     "metadata": {},
     "output_type": "execute_result"
    }
   ],
   "source": [
    "df_test"
   ]
  },
  {
   "cell_type": "code",
   "execution_count": 524,
   "metadata": {},
   "outputs": [],
   "source": [
    "df_test.rename(columns={'abstracts_headlines': 'text'}, inplace=True)\n"
   ]
  },
  {
   "cell_type": "code",
   "execution_count": 525,
   "metadata": {},
   "outputs": [],
   "source": [
    "# Assuming 'abstracts_headlines' is the current column name\n",
    "df_train.rename(columns={'abstracts_headlines': 'text'}, inplace=True)\n",
    "\n"
   ]
  },
  {
   "cell_type": "code",
   "execution_count": 526,
   "metadata": {},
   "outputs": [
    {
     "data": {
      "text/html": [
       "<div>\n",
       "<style scoped>\n",
       "    .dataframe tbody tr th:only-of-type {\n",
       "        vertical-align: middle;\n",
       "    }\n",
       "\n",
       "    .dataframe tbody tr th {\n",
       "        vertical-align: top;\n",
       "    }\n",
       "\n",
       "    .dataframe thead th {\n",
       "        text-align: right;\n",
       "    }\n",
       "</style>\n",
       "<table border=\"1\" class=\"dataframe\">\n",
       "  <thead>\n",
       "    <tr style=\"text-align: right;\">\n",
       "      <th></th>\n",
       "      <th>Unnamed: 0</th>\n",
       "      <th>text</th>\n",
       "      <th>section_name</th>\n",
       "    </tr>\n",
       "  </thead>\n",
       "  <tbody>\n",
       "    <tr>\n",
       "      <th>0</th>\n",
       "      <td>0</td>\n",
       "      <td>new start treaty nearly wrapped president obama begin discussing far reaching deals russia next treaties</td>\n",
       "      <td>1</td>\n",
       "    </tr>\n",
       "    <tr>\n",
       "      <th>1</th>\n",
       "      <td>1</td>\n",
       "      <td>response plea israel release jonathan pollard plea pollard release</td>\n",
       "      <td>1</td>\n",
       "    </tr>\n",
       "    <tr>\n",
       "      <th>2</th>\n",
       "      <td>2</td>\n",
       "      <td>letters editor regarding tensions new york medical schools caribbean doctors learn best</td>\n",
       "      <td>1</td>\n",
       "    </tr>\n",
       "    <tr>\n",
       "      <th>3</th>\n",
       "      <td>3</td>\n",
       "      <td>canada beat united states semifinals world junior tournament advancing final th consecutive year canada beats united states world junior semifinal</td>\n",
       "      <td>0</td>\n",
       "    </tr>\n",
       "    <tr>\n",
       "      <th>4</th>\n",
       "      <td>4</td>\n",
       "      <td>kristine lilly holds world record international appearances u announced retirement wednesday lilly iron lady u soccer retires</td>\n",
       "      <td>0</td>\n",
       "    </tr>\n",
       "    <tr>\n",
       "      <th>...</th>\n",
       "      <td>...</td>\n",
       "      <td>...</td>\n",
       "      <td>...</td>\n",
       "    </tr>\n",
       "    <tr>\n",
       "      <th>20403</th>\n",
       "      <td>20403</td>\n",
       "      <td>job market remained strong last month suggesting workers remain high demand still quitting often labor department report showed workers quit february job openings stayed high</td>\n",
       "      <td>0</td>\n",
       "    </tr>\n",
       "    <tr>\n",
       "      <th>20404</th>\n",
       "      <td>20404</td>\n",
       "      <td>recent poll data suggests rising prices dominate americans economic concerns inflation fears highest since americans especially republicans getting worried inflation</td>\n",
       "      <td>0</td>\n",
       "    </tr>\n",
       "    <tr>\n",
       "      <th>20405</th>\n",
       "      <td>20405</td>\n",
       "      <td>scientists keeping eye ba one three genetically distinct varieties omicron variant coronavirus ba subvariant omicron accounts half new u coronavirus cases c c estimates</td>\n",
       "      <td>0</td>\n",
       "    </tr>\n",
       "    <tr>\n",
       "      <th>20406</th>\n",
       "      <td>20406</td>\n",
       "      <td>twenty one republican state attorneys general filed lawsuit biden administration tuesday block federal mask mandate public transportation twenty one states file lawsuit block mask mandate public transportation</td>\n",
       "      <td>0</td>\n",
       "    </tr>\n",
       "    <tr>\n",
       "      <th>20407</th>\n",
       "      <td>20407</td>\n",
       "      <td>bill named emmett till black boy murdered mississippi first time explicitly criminalized act come symbolize grim history racism united states biden signs bill making lynching federal crime</td>\n",
       "      <td>0</td>\n",
       "    </tr>\n",
       "  </tbody>\n",
       "</table>\n",
       "<p>20408 rows × 3 columns</p>\n",
       "</div>"
      ],
      "text/plain": [
       "       Unnamed: 0  \\\n",
       "0               0   \n",
       "1               1   \n",
       "2               2   \n",
       "3               3   \n",
       "4               4   \n",
       "...           ...   \n",
       "20403       20403   \n",
       "20404       20404   \n",
       "20405       20405   \n",
       "20406       20406   \n",
       "20407       20407   \n",
       "\n",
       "                                                                                                                                                                                                                    text  \\\n",
       "0                                                                                                               new start treaty nearly wrapped president obama begin discussing far reaching deals russia next treaties   \n",
       "1                                                                                                                                                     response plea israel release jonathan pollard plea pollard release   \n",
       "2                                                                                                                                letters editor regarding tensions new york medical schools caribbean doctors learn best   \n",
       "3                                                                     canada beat united states semifinals world junior tournament advancing final th consecutive year canada beats united states world junior semifinal   \n",
       "4                                                                                          kristine lilly holds world record international appearances u announced retirement wednesday lilly iron lady u soccer retires   \n",
       "...                                                                                                                                                                                                                  ...   \n",
       "20403                                     job market remained strong last month suggesting workers remain high demand still quitting often labor department report showed workers quit february job openings stayed high   \n",
       "20404                                              recent poll data suggests rising prices dominate americans economic concerns inflation fears highest since americans especially republicans getting worried inflation   \n",
       "20405                                           scientists keeping eye ba one three genetically distinct varieties omicron variant coronavirus ba subvariant omicron accounts half new u coronavirus cases c c estimates   \n",
       "20406  twenty one republican state attorneys general filed lawsuit biden administration tuesday block federal mask mandate public transportation twenty one states file lawsuit block mask mandate public transportation   \n",
       "20407                       bill named emmett till black boy murdered mississippi first time explicitly criminalized act come symbolize grim history racism united states biden signs bill making lynching federal crime   \n",
       "\n",
       "       section_name  \n",
       "0                 1  \n",
       "1                 1  \n",
       "2                 1  \n",
       "3                 0  \n",
       "4                 0  \n",
       "...             ...  \n",
       "20403             0  \n",
       "20404             0  \n",
       "20405             0  \n",
       "20406             0  \n",
       "20407             0  \n",
       "\n",
       "[20408 rows x 3 columns]"
      ]
     },
     "execution_count": 526,
     "metadata": {},
     "output_type": "execute_result"
    }
   ],
   "source": [
    "df_train"
   ]
  },
  {
   "cell_type": "code",
   "execution_count": 527,
   "metadata": {},
   "outputs": [],
   "source": [
    "df_train = df_train.iloc[:len(df_train)//2, :]"
   ]
  },
  {
   "cell_type": "code",
   "execution_count": 528,
   "metadata": {},
   "outputs": [
    {
     "data": {
      "text/html": [
       "<div>\n",
       "<style scoped>\n",
       "    .dataframe tbody tr th:only-of-type {\n",
       "        vertical-align: middle;\n",
       "    }\n",
       "\n",
       "    .dataframe tbody tr th {\n",
       "        vertical-align: top;\n",
       "    }\n",
       "\n",
       "    .dataframe thead th {\n",
       "        text-align: right;\n",
       "    }\n",
       "</style>\n",
       "<table border=\"1\" class=\"dataframe\">\n",
       "  <thead>\n",
       "    <tr style=\"text-align: right;\">\n",
       "      <th></th>\n",
       "      <th>Unnamed: 0</th>\n",
       "      <th>text</th>\n",
       "      <th>section_name</th>\n",
       "    </tr>\n",
       "  </thead>\n",
       "  <tbody>\n",
       "    <tr>\n",
       "      <th>0</th>\n",
       "      <td>0</td>\n",
       "      <td>new start treaty nearly wrapped president obama begin discussing far reaching deals russia next treaties</td>\n",
       "      <td>1</td>\n",
       "    </tr>\n",
       "    <tr>\n",
       "      <th>1</th>\n",
       "      <td>1</td>\n",
       "      <td>response plea israel release jonathan pollard plea pollard release</td>\n",
       "      <td>1</td>\n",
       "    </tr>\n",
       "    <tr>\n",
       "      <th>2</th>\n",
       "      <td>2</td>\n",
       "      <td>letters editor regarding tensions new york medical schools caribbean doctors learn best</td>\n",
       "      <td>1</td>\n",
       "    </tr>\n",
       "    <tr>\n",
       "      <th>3</th>\n",
       "      <td>3</td>\n",
       "      <td>canada beat united states semifinals world junior tournament advancing final th consecutive year canada beats united states world junior semifinal</td>\n",
       "      <td>0</td>\n",
       "    </tr>\n",
       "    <tr>\n",
       "      <th>4</th>\n",
       "      <td>4</td>\n",
       "      <td>kristine lilly holds world record international appearances u announced retirement wednesday lilly iron lady u soccer retires</td>\n",
       "      <td>0</td>\n",
       "    </tr>\n",
       "    <tr>\n",
       "      <th>...</th>\n",
       "      <td>...</td>\n",
       "      <td>...</td>\n",
       "      <td>...</td>\n",
       "    </tr>\n",
       "    <tr>\n",
       "      <th>10199</th>\n",
       "      <td>10199</td>\n",
       "      <td>syrian refugee family faces life president trump stay go</td>\n",
       "      <td>1</td>\n",
       "    </tr>\n",
       "    <tr>\n",
       "      <th>10200</th>\n",
       "      <td>10200</td>\n",
       "      <td>many republicans especially senate increasingly see need tread carefully even alter course push repeal affordable care act really sick really scared voters temper action health law</td>\n",
       "      <td>0</td>\n",
       "    </tr>\n",
       "    <tr>\n",
       "      <th>10201</th>\n",
       "      <td>10201</td>\n",
       "      <td>accusation president offered evidence sets another spasm surrounding young administration gleaned trump allegations wiretapping</td>\n",
       "      <td>0</td>\n",
       "    </tr>\n",
       "    <tr>\n",
       "      <th>10202</th>\n",
       "      <td>10202</td>\n",
       "      <td>aarp allies objecting house committees plan vote republican bill could leave people large premium increases repeal health law faces new hurdle older americans</td>\n",
       "      <td>0</td>\n",
       "    </tr>\n",
       "    <tr>\n",
       "      <th>10203</th>\n",
       "      <td>10203</td>\n",
       "      <td>president trump accusatory tweets predecessor drew attention news effort thwart north korea nuclear missile program tech roundup america cyberwar north korea</td>\n",
       "      <td>0</td>\n",
       "    </tr>\n",
       "  </tbody>\n",
       "</table>\n",
       "<p>10204 rows × 3 columns</p>\n",
       "</div>"
      ],
      "text/plain": [
       "       Unnamed: 0  \\\n",
       "0               0   \n",
       "1               1   \n",
       "2               2   \n",
       "3               3   \n",
       "4               4   \n",
       "...           ...   \n",
       "10199       10199   \n",
       "10200       10200   \n",
       "10201       10201   \n",
       "10202       10202   \n",
       "10203       10203   \n",
       "\n",
       "                                                                                                                                                                                       text  \\\n",
       "0                                                                                  new start treaty nearly wrapped president obama begin discussing far reaching deals russia next treaties   \n",
       "1                                                                                                                        response plea israel release jonathan pollard plea pollard release   \n",
       "2                                                                                                   letters editor regarding tensions new york medical schools caribbean doctors learn best   \n",
       "3                                        canada beat united states semifinals world junior tournament advancing final th consecutive year canada beats united states world junior semifinal   \n",
       "4                                                             kristine lilly holds world record international appearances u announced retirement wednesday lilly iron lady u soccer retires   \n",
       "...                                                                                                                                                                                     ...   \n",
       "10199                                                                                                                              syrian refugee family faces life president trump stay go   \n",
       "10200  many republicans especially senate increasingly see need tread carefully even alter course push repeal affordable care act really sick really scared voters temper action health law   \n",
       "10201                                                       accusation president offered evidence sets another spasm surrounding young administration gleaned trump allegations wiretapping   \n",
       "10202                        aarp allies objecting house committees plan vote republican bill could leave people large premium increases repeal health law faces new hurdle older americans   \n",
       "10203                         president trump accusatory tweets predecessor drew attention news effort thwart north korea nuclear missile program tech roundup america cyberwar north korea   \n",
       "\n",
       "       section_name  \n",
       "0                 1  \n",
       "1                 1  \n",
       "2                 1  \n",
       "3                 0  \n",
       "4                 0  \n",
       "...             ...  \n",
       "10199             1  \n",
       "10200             0  \n",
       "10201             0  \n",
       "10202             0  \n",
       "10203             0  \n",
       "\n",
       "[10204 rows x 3 columns]"
      ]
     },
     "execution_count": 528,
     "metadata": {},
     "output_type": "execute_result"
    }
   ],
   "source": [
    "df_train"
   ]
  },
  {
   "cell_type": "code",
   "execution_count": 529,
   "metadata": {},
   "outputs": [],
   "source": [
    "\n",
    "df_test = df_test.iloc[len(df_test)//2:, :]\n"
   ]
  },
  {
   "cell_type": "code",
   "execution_count": 530,
   "metadata": {},
   "outputs": [
    {
     "data": {
      "text/html": [
       "<div>\n",
       "<style scoped>\n",
       "    .dataframe tbody tr th:only-of-type {\n",
       "        vertical-align: middle;\n",
       "    }\n",
       "\n",
       "    .dataframe tbody tr th {\n",
       "        vertical-align: top;\n",
       "    }\n",
       "\n",
       "    .dataframe thead th {\n",
       "        text-align: right;\n",
       "    }\n",
       "</style>\n",
       "<table border=\"1\" class=\"dataframe\">\n",
       "  <thead>\n",
       "    <tr style=\"text-align: right;\">\n",
       "      <th></th>\n",
       "      <th>text</th>\n",
       "      <th>section_name</th>\n",
       "    </tr>\n",
       "  </thead>\n",
       "  <tbody>\n",
       "    <tr>\n",
       "      <th>10204</th>\n",
       "      <td>thinking drink carefully eat lead much better bottles table want pick better bottles repeat wine food</td>\n",
       "      <td>0</td>\n",
       "    </tr>\n",
       "    <tr>\n",
       "      <th>10205</th>\n",
       "      <td>trump administration faces problem china high trade barriers allowed world trade organization china entered group developing country insists still one building trade walls</td>\n",
       "      <td>0</td>\n",
       "    </tr>\n",
       "    <tr>\n",
       "      <th>10206</th>\n",
       "      <td>attitude toward education democracy business quality life helped european nation top list united states slipped best country world survey says switzerland</td>\n",
       "      <td>0</td>\n",
       "    </tr>\n",
       "    <tr>\n",
       "      <th>10207</th>\n",
       "      <td>falling france shebelieves cup americans left ponder showing scored one goal three matches u women soccer team first back back losses three years</td>\n",
       "      <td>0</td>\n",
       "    </tr>\n",
       "    <tr>\n",
       "      <th>10208</th>\n",
       "      <td>study journal archives sexual behavior found americans sex average nine fewer times years ago americans less sex</td>\n",
       "      <td>0</td>\n",
       "    </tr>\n",
       "    <tr>\n",
       "      <th>...</th>\n",
       "      <td>...</td>\n",
       "      <td>...</td>\n",
       "    </tr>\n",
       "    <tr>\n",
       "      <th>20403</th>\n",
       "      <td>job market remained strong last month suggesting workers remain high demand still quitting often labor department report showed workers quit february job openings stayed high</td>\n",
       "      <td>0</td>\n",
       "    </tr>\n",
       "    <tr>\n",
       "      <th>20404</th>\n",
       "      <td>recent poll data suggests rising prices dominate americans economic concerns inflation fears highest since americans especially republicans getting worried inflation</td>\n",
       "      <td>0</td>\n",
       "    </tr>\n",
       "    <tr>\n",
       "      <th>20405</th>\n",
       "      <td>scientists keeping eye ba one three genetically distinct varieties omicron variant coronavirus ba subvariant omicron accounts half new u coronavirus cases c c estimates</td>\n",
       "      <td>0</td>\n",
       "    </tr>\n",
       "    <tr>\n",
       "      <th>20406</th>\n",
       "      <td>twenty one republican state attorneys general filed lawsuit biden administration tuesday block federal mask mandate public transportation twenty one states file lawsuit block mask mandate public transportation</td>\n",
       "      <td>0</td>\n",
       "    </tr>\n",
       "    <tr>\n",
       "      <th>20407</th>\n",
       "      <td>bill named emmett till black boy murdered mississippi first time explicitly criminalized act come symbolize grim history racism united states biden signs bill making lynching federal crime</td>\n",
       "      <td>0</td>\n",
       "    </tr>\n",
       "  </tbody>\n",
       "</table>\n",
       "<p>10204 rows × 2 columns</p>\n",
       "</div>"
      ],
      "text/plain": [
       "                                                                                                                                                                                                                    text  \\\n",
       "10204                                                                                                              thinking drink carefully eat lead much better bottles table want pick better bottles repeat wine food   \n",
       "10205                                        trump administration faces problem china high trade barriers allowed world trade organization china entered group developing country insists still one building trade walls   \n",
       "10206                                                         attitude toward education democracy business quality life helped european nation top list united states slipped best country world survey says switzerland   \n",
       "10207                                                                  falling france shebelieves cup americans left ponder showing scored one goal three matches u women soccer team first back back losses three years   \n",
       "10208                                                                                                   study journal archives sexual behavior found americans sex average nine fewer times years ago americans less sex   \n",
       "...                                                                                                                                                                                                                  ...   \n",
       "20403                                     job market remained strong last month suggesting workers remain high demand still quitting often labor department report showed workers quit february job openings stayed high   \n",
       "20404                                              recent poll data suggests rising prices dominate americans economic concerns inflation fears highest since americans especially republicans getting worried inflation   \n",
       "20405                                           scientists keeping eye ba one three genetically distinct varieties omicron variant coronavirus ba subvariant omicron accounts half new u coronavirus cases c c estimates   \n",
       "20406  twenty one republican state attorneys general filed lawsuit biden administration tuesday block federal mask mandate public transportation twenty one states file lawsuit block mask mandate public transportation   \n",
       "20407                       bill named emmett till black boy murdered mississippi first time explicitly criminalized act come symbolize grim history racism united states biden signs bill making lynching federal crime   \n",
       "\n",
       "       section_name  \n",
       "10204             0  \n",
       "10205             0  \n",
       "10206             0  \n",
       "10207             0  \n",
       "10208             0  \n",
       "...             ...  \n",
       "20403             0  \n",
       "20404             0  \n",
       "20405             0  \n",
       "20406             0  \n",
       "20407             0  \n",
       "\n",
       "[10204 rows x 2 columns]"
      ]
     },
     "execution_count": 530,
     "metadata": {},
     "output_type": "execute_result"
    }
   ],
   "source": [
    "df_test"
   ]
  },
  {
   "cell_type": "code",
   "execution_count": 531,
   "metadata": {},
   "outputs": [],
   "source": [
    "sampled_data = df_train.sample(n=1000, random_state=42)"
   ]
  },
  {
   "cell_type": "code",
   "execution_count": 532,
   "metadata": {},
   "outputs": [],
   "source": [
    "sampled_data.to_csv('/Users/ben/Desktop/DSI_GA_Materials/capstone/Capstone_Project_backup/Data/sampled_train.csv')"
   ]
  },
  {
   "cell_type": "code",
   "execution_count": 533,
   "metadata": {},
   "outputs": [
    {
     "data": {
      "text/plain": [
       "Unnamed: 0       int64\n",
       "text            object\n",
       "section_name     int64\n",
       "dtype: object"
      ]
     },
     "execution_count": 533,
     "metadata": {},
     "output_type": "execute_result"
    }
   ],
   "source": [
    "sampled_data.dtypes"
   ]
  },
  {
   "cell_type": "code",
   "execution_count": 534,
   "metadata": {},
   "outputs": [
    {
     "data": {
      "text/html": [
       "<div>\n",
       "<style scoped>\n",
       "    .dataframe tbody tr th:only-of-type {\n",
       "        vertical-align: middle;\n",
       "    }\n",
       "\n",
       "    .dataframe tbody tr th {\n",
       "        vertical-align: top;\n",
       "    }\n",
       "\n",
       "    .dataframe thead th {\n",
       "        text-align: right;\n",
       "    }\n",
       "</style>\n",
       "<table border=\"1\" class=\"dataframe\">\n",
       "  <thead>\n",
       "    <tr style=\"text-align: right;\">\n",
       "      <th></th>\n",
       "      <th>Unnamed: 0</th>\n",
       "      <th>text</th>\n",
       "      <th>section_name</th>\n",
       "    </tr>\n",
       "  </thead>\n",
       "  <tbody>\n",
       "    <tr>\n",
       "      <th>8990</th>\n",
       "      <td>8990</td>\n",
       "      <td>international herald tribune archives french ambassador asks united states relief assistance babies prisoners vichy france seeks aid babies prisoners</td>\n",
       "      <td>0</td>\n",
       "    </tr>\n",
       "    <tr>\n",
       "      <th>3433</th>\n",
       "      <td>3433</td>\n",
       "      <td>india united states need build upon success civil nuclear deal work toward next defining moment india u relations search transformative moment</td>\n",
       "      <td>0</td>\n",
       "    </tr>\n",
       "    <tr>\n",
       "      <th>1087</th>\n",
       "      <td>1087</td>\n",
       "      <td>democrats leading charge extend tax break many republicans demanding cut paid extended congress role reversal federal payroll tax cut</td>\n",
       "      <td>0</td>\n",
       "    </tr>\n",
       "    <tr>\n",
       "      <th>6485</th>\n",
       "      <td>6485</td>\n",
       "      <td>united nations panel monitors compliance antitorture treaty expressed skepticism thursday american law enforcement national security practices u n commission presses u torture</td>\n",
       "      <td>0</td>\n",
       "    </tr>\n",
       "    <tr>\n",
       "      <th>10062</th>\n",
       "      <td>10062</td>\n",
       "      <td>kevin baker looks country tradition innovation america ingenious celebration american innovation erie canal jazz mri</td>\n",
       "      <td>0</td>\n",
       "    </tr>\n",
       "    <tr>\n",
       "      <th>...</th>\n",
       "      <td>...</td>\n",
       "      <td>...</td>\n",
       "      <td>...</td>\n",
       "    </tr>\n",
       "    <tr>\n",
       "      <th>5402</th>\n",
       "      <td>5402</td>\n",
       "      <td>fan favorites seem coming back life frequently ever everybody thrilled tv popular demand better worse</td>\n",
       "      <td>1</td>\n",
       "    </tr>\n",
       "    <tr>\n",
       "      <th>8851</th>\n",
       "      <td>8851</td>\n",
       "      <td>monday night hillary clinton longtime aide huma abedin sent mass email supporters saying mr trump islamophobia reflect nation values could even threaten national security democrats begin fund raising donald trump proposed ban muslims</td>\n",
       "      <td>0</td>\n",
       "    </tr>\n",
       "    <tr>\n",
       "      <th>6041</th>\n",
       "      <td>6041</td>\n",
       "      <td>chief justice john g roberts jr preside conservative majority become beleaguered dissenter migrate center new spectrum next nine years</td>\n",
       "      <td>1</td>\n",
       "    </tr>\n",
       "    <tr>\n",
       "      <th>9362</th>\n",
       "      <td>9362</td>\n",
       "      <td>proposed rule meant close loophole american banking system allows secret financial maneuvers like ones revealed panama papers u plans require banks identify owners shell companies</td>\n",
       "      <td>0</td>\n",
       "    </tr>\n",
       "    <tr>\n",
       "      <th>7741</th>\n",
       "      <td>7741</td>\n",
       "      <td>shaker aamer british resident held guant namo since cleared release u act obama slap britain face</td>\n",
       "      <td>1</td>\n",
       "    </tr>\n",
       "  </tbody>\n",
       "</table>\n",
       "<p>1000 rows × 3 columns</p>\n",
       "</div>"
      ],
      "text/plain": [
       "       Unnamed: 0  \\\n",
       "8990         8990   \n",
       "3433         3433   \n",
       "1087         1087   \n",
       "6485         6485   \n",
       "10062       10062   \n",
       "...           ...   \n",
       "5402         5402   \n",
       "8851         8851   \n",
       "6041         6041   \n",
       "9362         9362   \n",
       "7741         7741   \n",
       "\n",
       "                                                                                                                                                                                                                                            text  \\\n",
       "8990                                                                                       international herald tribune archives french ambassador asks united states relief assistance babies prisoners vichy france seeks aid babies prisoners   \n",
       "3433                                                                                              india united states need build upon success civil nuclear deal work toward next defining moment india u relations search transformative moment   \n",
       "1087                                                                                                       democrats leading charge extend tax break many republicans demanding cut paid extended congress role reversal federal payroll tax cut   \n",
       "6485                                                             united nations panel monitors compliance antitorture treaty expressed skepticism thursday american law enforcement national security practices u n commission presses u torture   \n",
       "10062                                                                                                                       kevin baker looks country tradition innovation america ingenious celebration american innovation erie canal jazz mri   \n",
       "...                                                                                                                                                                                                                                          ...   \n",
       "5402                                                                                                                                       fan favorites seem coming back life frequently ever everybody thrilled tv popular demand better worse   \n",
       "8851   monday night hillary clinton longtime aide huma abedin sent mass email supporters saying mr trump islamophobia reflect nation values could even threaten national security democrats begin fund raising donald trump proposed ban muslims   \n",
       "6041                                                                                                      chief justice john g roberts jr preside conservative majority become beleaguered dissenter migrate center new spectrum next nine years   \n",
       "9362                                                         proposed rule meant close loophole american banking system allows secret financial maneuvers like ones revealed panama papers u plans require banks identify owners shell companies   \n",
       "7741                                                                                                                                           shaker aamer british resident held guant namo since cleared release u act obama slap britain face   \n",
       "\n",
       "       section_name  \n",
       "8990              0  \n",
       "3433              0  \n",
       "1087              0  \n",
       "6485              0  \n",
       "10062             0  \n",
       "...             ...  \n",
       "5402              1  \n",
       "8851              0  \n",
       "6041              1  \n",
       "9362              0  \n",
       "7741              1  \n",
       "\n",
       "[1000 rows x 3 columns]"
      ]
     },
     "execution_count": 534,
     "metadata": {},
     "output_type": "execute_result"
    }
   ],
   "source": [
    "sampled_data"
   ]
  },
  {
   "cell_type": "code",
   "execution_count": 535,
   "metadata": {},
   "outputs": [],
   "source": [
    "sampled_data.rename(columns={'section_name': 'label'}, inplace=True)\n"
   ]
  },
  {
   "cell_type": "code",
   "execution_count": 536,
   "metadata": {},
   "outputs": [
    {
     "data": {
      "text/html": [
       "<div>\n",
       "<style scoped>\n",
       "    .dataframe tbody tr th:only-of-type {\n",
       "        vertical-align: middle;\n",
       "    }\n",
       "\n",
       "    .dataframe tbody tr th {\n",
       "        vertical-align: top;\n",
       "    }\n",
       "\n",
       "    .dataframe thead th {\n",
       "        text-align: right;\n",
       "    }\n",
       "</style>\n",
       "<table border=\"1\" class=\"dataframe\">\n",
       "  <thead>\n",
       "    <tr style=\"text-align: right;\">\n",
       "      <th></th>\n",
       "      <th>Unnamed: 0</th>\n",
       "      <th>text</th>\n",
       "      <th>label</th>\n",
       "    </tr>\n",
       "  </thead>\n",
       "  <tbody>\n",
       "    <tr>\n",
       "      <th>8990</th>\n",
       "      <td>8990</td>\n",
       "      <td>international herald tribune archives french ambassador asks united states relief assistance babies prisoners vichy france seeks aid babies prisoners</td>\n",
       "      <td>0</td>\n",
       "    </tr>\n",
       "    <tr>\n",
       "      <th>3433</th>\n",
       "      <td>3433</td>\n",
       "      <td>india united states need build upon success civil nuclear deal work toward next defining moment india u relations search transformative moment</td>\n",
       "      <td>0</td>\n",
       "    </tr>\n",
       "    <tr>\n",
       "      <th>1087</th>\n",
       "      <td>1087</td>\n",
       "      <td>democrats leading charge extend tax break many republicans demanding cut paid extended congress role reversal federal payroll tax cut</td>\n",
       "      <td>0</td>\n",
       "    </tr>\n",
       "    <tr>\n",
       "      <th>6485</th>\n",
       "      <td>6485</td>\n",
       "      <td>united nations panel monitors compliance antitorture treaty expressed skepticism thursday american law enforcement national security practices u n commission presses u torture</td>\n",
       "      <td>0</td>\n",
       "    </tr>\n",
       "    <tr>\n",
       "      <th>10062</th>\n",
       "      <td>10062</td>\n",
       "      <td>kevin baker looks country tradition innovation america ingenious celebration american innovation erie canal jazz mri</td>\n",
       "      <td>0</td>\n",
       "    </tr>\n",
       "    <tr>\n",
       "      <th>...</th>\n",
       "      <td>...</td>\n",
       "      <td>...</td>\n",
       "      <td>...</td>\n",
       "    </tr>\n",
       "    <tr>\n",
       "      <th>5402</th>\n",
       "      <td>5402</td>\n",
       "      <td>fan favorites seem coming back life frequently ever everybody thrilled tv popular demand better worse</td>\n",
       "      <td>1</td>\n",
       "    </tr>\n",
       "    <tr>\n",
       "      <th>8851</th>\n",
       "      <td>8851</td>\n",
       "      <td>monday night hillary clinton longtime aide huma abedin sent mass email supporters saying mr trump islamophobia reflect nation values could even threaten national security democrats begin fund raising donald trump proposed ban muslims</td>\n",
       "      <td>0</td>\n",
       "    </tr>\n",
       "    <tr>\n",
       "      <th>6041</th>\n",
       "      <td>6041</td>\n",
       "      <td>chief justice john g roberts jr preside conservative majority become beleaguered dissenter migrate center new spectrum next nine years</td>\n",
       "      <td>1</td>\n",
       "    </tr>\n",
       "    <tr>\n",
       "      <th>9362</th>\n",
       "      <td>9362</td>\n",
       "      <td>proposed rule meant close loophole american banking system allows secret financial maneuvers like ones revealed panama papers u plans require banks identify owners shell companies</td>\n",
       "      <td>0</td>\n",
       "    </tr>\n",
       "    <tr>\n",
       "      <th>7741</th>\n",
       "      <td>7741</td>\n",
       "      <td>shaker aamer british resident held guant namo since cleared release u act obama slap britain face</td>\n",
       "      <td>1</td>\n",
       "    </tr>\n",
       "  </tbody>\n",
       "</table>\n",
       "<p>1000 rows × 3 columns</p>\n",
       "</div>"
      ],
      "text/plain": [
       "       Unnamed: 0  \\\n",
       "8990         8990   \n",
       "3433         3433   \n",
       "1087         1087   \n",
       "6485         6485   \n",
       "10062       10062   \n",
       "...           ...   \n",
       "5402         5402   \n",
       "8851         8851   \n",
       "6041         6041   \n",
       "9362         9362   \n",
       "7741         7741   \n",
       "\n",
       "                                                                                                                                                                                                                                            text  \\\n",
       "8990                                                                                       international herald tribune archives french ambassador asks united states relief assistance babies prisoners vichy france seeks aid babies prisoners   \n",
       "3433                                                                                              india united states need build upon success civil nuclear deal work toward next defining moment india u relations search transformative moment   \n",
       "1087                                                                                                       democrats leading charge extend tax break many republicans demanding cut paid extended congress role reversal federal payroll tax cut   \n",
       "6485                                                             united nations panel monitors compliance antitorture treaty expressed skepticism thursday american law enforcement national security practices u n commission presses u torture   \n",
       "10062                                                                                                                       kevin baker looks country tradition innovation america ingenious celebration american innovation erie canal jazz mri   \n",
       "...                                                                                                                                                                                                                                          ...   \n",
       "5402                                                                                                                                       fan favorites seem coming back life frequently ever everybody thrilled tv popular demand better worse   \n",
       "8851   monday night hillary clinton longtime aide huma abedin sent mass email supporters saying mr trump islamophobia reflect nation values could even threaten national security democrats begin fund raising donald trump proposed ban muslims   \n",
       "6041                                                                                                      chief justice john g roberts jr preside conservative majority become beleaguered dissenter migrate center new spectrum next nine years   \n",
       "9362                                                         proposed rule meant close loophole american banking system allows secret financial maneuvers like ones revealed panama papers u plans require banks identify owners shell companies   \n",
       "7741                                                                                                                                           shaker aamer british resident held guant namo since cleared release u act obama slap britain face   \n",
       "\n",
       "       label  \n",
       "8990       0  \n",
       "3433       0  \n",
       "1087       0  \n",
       "6485       0  \n",
       "10062      0  \n",
       "...      ...  \n",
       "5402       1  \n",
       "8851       0  \n",
       "6041       1  \n",
       "9362       0  \n",
       "7741       1  \n",
       "\n",
       "[1000 rows x 3 columns]"
      ]
     },
     "execution_count": 536,
     "metadata": {},
     "output_type": "execute_result"
    }
   ],
   "source": [
    "sampled_data"
   ]
  },
  {
   "cell_type": "code",
   "execution_count": 537,
   "metadata": {},
   "outputs": [],
   "source": [
    "sampled_data = sampled_data.drop(columns=['Unnamed: 0'])"
   ]
  },
  {
   "cell_type": "code",
   "execution_count": 538,
   "metadata": {},
   "outputs": [],
   "source": [
    "sampled_test = df_test.sample(n=100, random_state=42)"
   ]
  },
  {
   "cell_type": "code",
   "execution_count": 539,
   "metadata": {},
   "outputs": [],
   "source": [
    "sampled_test.reset_index(drop=True, inplace=True)\n"
   ]
  },
  {
   "cell_type": "code",
   "execution_count": 540,
   "metadata": {},
   "outputs": [],
   "source": [
    "sampled_test.rename(columns={'section_name': 'label'}, inplace=True)\n"
   ]
  },
  {
   "cell_type": "code",
   "execution_count": 541,
   "metadata": {},
   "outputs": [
    {
     "data": {
      "text/html": [
       "<div>\n",
       "<style scoped>\n",
       "    .dataframe tbody tr th:only-of-type {\n",
       "        vertical-align: middle;\n",
       "    }\n",
       "\n",
       "    .dataframe tbody tr th {\n",
       "        vertical-align: top;\n",
       "    }\n",
       "\n",
       "    .dataframe thead th {\n",
       "        text-align: right;\n",
       "    }\n",
       "</style>\n",
       "<table border=\"1\" class=\"dataframe\">\n",
       "  <thead>\n",
       "    <tr style=\"text-align: right;\">\n",
       "      <th></th>\n",
       "      <th>text</th>\n",
       "      <th>label</th>\n",
       "    </tr>\n",
       "  </thead>\n",
       "  <tbody>\n",
       "    <tr>\n",
       "      <th>0</th>\n",
       "      <td>militants engaged former officials hamid karzai abdullah abdullah well moscow seek help building inclusive government cementing rule chaos persists kabul airport taliban discuss new government</td>\n",
       "      <td>0</td>\n",
       "    </tr>\n",
       "    <tr>\n",
       "      <th>1</th>\n",
       "      <td>american spirit gets lebanese makeover beirut potomac</td>\n",
       "      <td>1</td>\n",
       "    </tr>\n",
       "    <tr>\n",
       "      <th>2</th>\n",
       "      <td>pleasant protest tyranny workplace productivity letter recommendation drinking lunch</td>\n",
       "      <td>0</td>\n",
       "    </tr>\n",
       "    <tr>\n",
       "      <th>3</th>\n",
       "      <td>see latest charts maps coronavirus cases deaths hospitalizations dixon area lee county illinois covid case risk tracker</td>\n",
       "      <td>0</td>\n",
       "    </tr>\n",
       "    <tr>\n",
       "      <th>4</th>\n",
       "      <td>biden administration said measures would degrade ability wage war ukraine would prevent belarus channeling forbidden goods russia u extends technology restrictions belarus russian oil industry</td>\n",
       "      <td>0</td>\n",
       "    </tr>\n",
       "    <tr>\n",
       "      <th>...</th>\n",
       "      <td>...</td>\n",
       "      <td>...</td>\n",
       "    </tr>\n",
       "    <tr>\n",
       "      <th>95</th>\n",
       "      <td>see full results maps texas election texas election results th congressional district</td>\n",
       "      <td>0</td>\n",
       "    </tr>\n",
       "    <tr>\n",
       "      <th>96</th>\n",
       "      <td>see latest charts maps coronavirus cases deaths hospitalizations woodson county kansas woodson county kansas covid case risk tracker</td>\n",
       "      <td>0</td>\n",
       "    </tr>\n",
       "    <tr>\n",
       "      <th>97</th>\n",
       "      <td>see latest charts maps coronavirus cases deaths hospitalizations jesup area wayne county georgia covid case risk tracker</td>\n",
       "      <td>0</td>\n",
       "    </tr>\n",
       "    <tr>\n",
       "      <th>98</th>\n",
       "      <td>see full results maps kansas elections kansas election results</td>\n",
       "      <td>0</td>\n",
       "    </tr>\n",
       "    <tr>\n",
       "      <th>99</th>\n",
       "      <td>working nonstop hurts employees well managers praise culture overwork richest man china wrong hour days blessing</td>\n",
       "      <td>1</td>\n",
       "    </tr>\n",
       "  </tbody>\n",
       "</table>\n",
       "<p>100 rows × 2 columns</p>\n",
       "</div>"
      ],
      "text/plain": [
       "                                                                                                                                                                                                text  \\\n",
       "0   militants engaged former officials hamid karzai abdullah abdullah well moscow seek help building inclusive government cementing rule chaos persists kabul airport taliban discuss new government   \n",
       "1                                                                                                                                              american spirit gets lebanese makeover beirut potomac   \n",
       "2                                                                                                               pleasant protest tyranny workplace productivity letter recommendation drinking lunch   \n",
       "3                                                                            see latest charts maps coronavirus cases deaths hospitalizations dixon area lee county illinois covid case risk tracker   \n",
       "4   biden administration said measures would degrade ability wage war ukraine would prevent belarus channeling forbidden goods russia u extends technology restrictions belarus russian oil industry   \n",
       "..                                                                                                                                                                                               ...   \n",
       "95                                                                                                             see full results maps texas election texas election results th congressional district   \n",
       "96                                                              see latest charts maps coronavirus cases deaths hospitalizations woodson county kansas woodson county kansas covid case risk tracker   \n",
       "97                                                                          see latest charts maps coronavirus cases deaths hospitalizations jesup area wayne county georgia covid case risk tracker   \n",
       "98                                                                                                                                    see full results maps kansas elections kansas election results   \n",
       "99                                                                                  working nonstop hurts employees well managers praise culture overwork richest man china wrong hour days blessing   \n",
       "\n",
       "    label  \n",
       "0       0  \n",
       "1       1  \n",
       "2       0  \n",
       "3       0  \n",
       "4       0  \n",
       "..    ...  \n",
       "95      0  \n",
       "96      0  \n",
       "97      0  \n",
       "98      0  \n",
       "99      1  \n",
       "\n",
       "[100 rows x 2 columns]"
      ]
     },
     "execution_count": 541,
     "metadata": {},
     "output_type": "execute_result"
    }
   ],
   "source": [
    "sampled_test"
   ]
  },
  {
   "cell_type": "markdown",
   "metadata": {},
   "source": [
    "##### Sampled Test Exported in order to hand label based on author's perception of whether the abstract/headline coupling had a tendency towards bias (labeled with a 1) or did not have a tendency towards bias (labeled with a 0). "
   ]
  },
  {
   "cell_type": "code",
   "execution_count": 542,
   "metadata": {},
   "outputs": [],
   "source": [
    "sampled_test.to_csv('/Users/ben/Desktop/DSI_GA_Materials/capstone/Capstone_Project_backup/Data/sampled_test_to_hand_label.csv')"
   ]
  },
  {
   "cell_type": "code",
   "execution_count": 543,
   "metadata": {},
   "outputs": [],
   "source": [
    "sampled_test = pd.read_csv('/Users/ben/Desktop/DSI_GA_Materials/capstone/Capstone_Project_backup/Data/sampled_test_hand_labeled.csv')"
   ]
  },
  {
   "cell_type": "code",
   "execution_count": 544,
   "metadata": {},
   "outputs": [
    {
     "data": {
      "text/html": [
       "<div>\n",
       "<style scoped>\n",
       "    .dataframe tbody tr th:only-of-type {\n",
       "        vertical-align: middle;\n",
       "    }\n",
       "\n",
       "    .dataframe tbody tr th {\n",
       "        vertical-align: top;\n",
       "    }\n",
       "\n",
       "    .dataframe thead th {\n",
       "        text-align: right;\n",
       "    }\n",
       "</style>\n",
       "<table border=\"1\" class=\"dataframe\">\n",
       "  <thead>\n",
       "    <tr style=\"text-align: right;\">\n",
       "      <th></th>\n",
       "      <th>Unnamed: 0</th>\n",
       "      <th>text</th>\n",
       "      <th>label</th>\n",
       "    </tr>\n",
       "  </thead>\n",
       "  <tbody>\n",
       "    <tr>\n",
       "      <th>0</th>\n",
       "      <td>0</td>\n",
       "      <td>militants engaged former officials hamid karzai abdullah abdullah well moscow seek help building inclusive government cementing rule chaos persists kabul airport taliban discuss new government</td>\n",
       "      <td>1</td>\n",
       "    </tr>\n",
       "    <tr>\n",
       "      <th>1</th>\n",
       "      <td>1</td>\n",
       "      <td>american spirit gets lebanese makeover beirut potomac</td>\n",
       "      <td>1</td>\n",
       "    </tr>\n",
       "    <tr>\n",
       "      <th>2</th>\n",
       "      <td>2</td>\n",
       "      <td>pleasant protest tyranny workplace productivity letter recommendation drinking lunch</td>\n",
       "      <td>1</td>\n",
       "    </tr>\n",
       "    <tr>\n",
       "      <th>3</th>\n",
       "      <td>3</td>\n",
       "      <td>see latest charts maps coronavirus cases deaths hospitalizations dixon area lee county illinois covid case risk tracker</td>\n",
       "      <td>0</td>\n",
       "    </tr>\n",
       "    <tr>\n",
       "      <th>4</th>\n",
       "      <td>4</td>\n",
       "      <td>biden administration said measures would degrade ability wage war ukraine would prevent belarus channeling forbidden goods russia u extends technology restrictions belarus russian oil industry</td>\n",
       "      <td>1</td>\n",
       "    </tr>\n",
       "    <tr>\n",
       "      <th>...</th>\n",
       "      <td>...</td>\n",
       "      <td>...</td>\n",
       "      <td>...</td>\n",
       "    </tr>\n",
       "    <tr>\n",
       "      <th>95</th>\n",
       "      <td>95</td>\n",
       "      <td>see full results maps texas election texas election results th congressional district</td>\n",
       "      <td>0</td>\n",
       "    </tr>\n",
       "    <tr>\n",
       "      <th>96</th>\n",
       "      <td>96</td>\n",
       "      <td>see latest charts maps coronavirus cases deaths hospitalizations woodson county kansas woodson county kansas covid case risk tracker</td>\n",
       "      <td>0</td>\n",
       "    </tr>\n",
       "    <tr>\n",
       "      <th>97</th>\n",
       "      <td>97</td>\n",
       "      <td>see latest charts maps coronavirus cases deaths hospitalizations jesup area wayne county georgia covid case risk tracker</td>\n",
       "      <td>0</td>\n",
       "    </tr>\n",
       "    <tr>\n",
       "      <th>98</th>\n",
       "      <td>98</td>\n",
       "      <td>see full results maps kansas elections kansas election results</td>\n",
       "      <td>0</td>\n",
       "    </tr>\n",
       "    <tr>\n",
       "      <th>99</th>\n",
       "      <td>99</td>\n",
       "      <td>working nonstop hurts employees well managers praise culture overwork richest man china wrong hour days blessing</td>\n",
       "      <td>1</td>\n",
       "    </tr>\n",
       "  </tbody>\n",
       "</table>\n",
       "<p>100 rows × 3 columns</p>\n",
       "</div>"
      ],
      "text/plain": [
       "    Unnamed: 0  \\\n",
       "0            0   \n",
       "1            1   \n",
       "2            2   \n",
       "3            3   \n",
       "4            4   \n",
       "..         ...   \n",
       "95          95   \n",
       "96          96   \n",
       "97          97   \n",
       "98          98   \n",
       "99          99   \n",
       "\n",
       "                                                                                                                                                                                                text  \\\n",
       "0   militants engaged former officials hamid karzai abdullah abdullah well moscow seek help building inclusive government cementing rule chaos persists kabul airport taliban discuss new government   \n",
       "1                                                                                                                                              american spirit gets lebanese makeover beirut potomac   \n",
       "2                                                                                                               pleasant protest tyranny workplace productivity letter recommendation drinking lunch   \n",
       "3                                                                            see latest charts maps coronavirus cases deaths hospitalizations dixon area lee county illinois covid case risk tracker   \n",
       "4   biden administration said measures would degrade ability wage war ukraine would prevent belarus channeling forbidden goods russia u extends technology restrictions belarus russian oil industry   \n",
       "..                                                                                                                                                                                               ...   \n",
       "95                                                                                                             see full results maps texas election texas election results th congressional district   \n",
       "96                                                              see latest charts maps coronavirus cases deaths hospitalizations woodson county kansas woodson county kansas covid case risk tracker   \n",
       "97                                                                          see latest charts maps coronavirus cases deaths hospitalizations jesup area wayne county georgia covid case risk tracker   \n",
       "98                                                                                                                                    see full results maps kansas elections kansas election results   \n",
       "99                                                                                  working nonstop hurts employees well managers praise culture overwork richest man china wrong hour days blessing   \n",
       "\n",
       "    label  \n",
       "0       1  \n",
       "1       1  \n",
       "2       1  \n",
       "3       0  \n",
       "4       1  \n",
       "..    ...  \n",
       "95      0  \n",
       "96      0  \n",
       "97      0  \n",
       "98      0  \n",
       "99      1  \n",
       "\n",
       "[100 rows x 3 columns]"
      ]
     },
     "execution_count": 544,
     "metadata": {},
     "output_type": "execute_result"
    }
   ],
   "source": [
    "sampled_test"
   ]
  },
  {
   "cell_type": "code",
   "execution_count": 545,
   "metadata": {},
   "outputs": [],
   "source": [
    "sampled_test = sampled_test.drop(columns=['Unnamed: 0'])"
   ]
  },
  {
   "cell_type": "code",
   "execution_count": 546,
   "metadata": {},
   "outputs": [
    {
     "data": {
      "text/html": [
       "<div>\n",
       "<style scoped>\n",
       "    .dataframe tbody tr th:only-of-type {\n",
       "        vertical-align: middle;\n",
       "    }\n",
       "\n",
       "    .dataframe tbody tr th {\n",
       "        vertical-align: top;\n",
       "    }\n",
       "\n",
       "    .dataframe thead th {\n",
       "        text-align: right;\n",
       "    }\n",
       "</style>\n",
       "<table border=\"1\" class=\"dataframe\">\n",
       "  <thead>\n",
       "    <tr style=\"text-align: right;\">\n",
       "      <th></th>\n",
       "      <th>text</th>\n",
       "      <th>label</th>\n",
       "    </tr>\n",
       "  </thead>\n",
       "  <tbody>\n",
       "    <tr>\n",
       "      <th>0</th>\n",
       "      <td>militants engaged former officials hamid karzai abdullah abdullah well moscow seek help building inclusive government cementing rule chaos persists kabul airport taliban discuss new government</td>\n",
       "      <td>1</td>\n",
       "    </tr>\n",
       "    <tr>\n",
       "      <th>1</th>\n",
       "      <td>american spirit gets lebanese makeover beirut potomac</td>\n",
       "      <td>1</td>\n",
       "    </tr>\n",
       "    <tr>\n",
       "      <th>2</th>\n",
       "      <td>pleasant protest tyranny workplace productivity letter recommendation drinking lunch</td>\n",
       "      <td>1</td>\n",
       "    </tr>\n",
       "    <tr>\n",
       "      <th>3</th>\n",
       "      <td>see latest charts maps coronavirus cases deaths hospitalizations dixon area lee county illinois covid case risk tracker</td>\n",
       "      <td>0</td>\n",
       "    </tr>\n",
       "    <tr>\n",
       "      <th>4</th>\n",
       "      <td>biden administration said measures would degrade ability wage war ukraine would prevent belarus channeling forbidden goods russia u extends technology restrictions belarus russian oil industry</td>\n",
       "      <td>1</td>\n",
       "    </tr>\n",
       "    <tr>\n",
       "      <th>...</th>\n",
       "      <td>...</td>\n",
       "      <td>...</td>\n",
       "    </tr>\n",
       "    <tr>\n",
       "      <th>95</th>\n",
       "      <td>see full results maps texas election texas election results th congressional district</td>\n",
       "      <td>0</td>\n",
       "    </tr>\n",
       "    <tr>\n",
       "      <th>96</th>\n",
       "      <td>see latest charts maps coronavirus cases deaths hospitalizations woodson county kansas woodson county kansas covid case risk tracker</td>\n",
       "      <td>0</td>\n",
       "    </tr>\n",
       "    <tr>\n",
       "      <th>97</th>\n",
       "      <td>see latest charts maps coronavirus cases deaths hospitalizations jesup area wayne county georgia covid case risk tracker</td>\n",
       "      <td>0</td>\n",
       "    </tr>\n",
       "    <tr>\n",
       "      <th>98</th>\n",
       "      <td>see full results maps kansas elections kansas election results</td>\n",
       "      <td>0</td>\n",
       "    </tr>\n",
       "    <tr>\n",
       "      <th>99</th>\n",
       "      <td>working nonstop hurts employees well managers praise culture overwork richest man china wrong hour days blessing</td>\n",
       "      <td>1</td>\n",
       "    </tr>\n",
       "  </tbody>\n",
       "</table>\n",
       "<p>100 rows × 2 columns</p>\n",
       "</div>"
      ],
      "text/plain": [
       "                                                                                                                                                                                                text  \\\n",
       "0   militants engaged former officials hamid karzai abdullah abdullah well moscow seek help building inclusive government cementing rule chaos persists kabul airport taliban discuss new government   \n",
       "1                                                                                                                                              american spirit gets lebanese makeover beirut potomac   \n",
       "2                                                                                                               pleasant protest tyranny workplace productivity letter recommendation drinking lunch   \n",
       "3                                                                            see latest charts maps coronavirus cases deaths hospitalizations dixon area lee county illinois covid case risk tracker   \n",
       "4   biden administration said measures would degrade ability wage war ukraine would prevent belarus channeling forbidden goods russia u extends technology restrictions belarus russian oil industry   \n",
       "..                                                                                                                                                                                               ...   \n",
       "95                                                                                                             see full results maps texas election texas election results th congressional district   \n",
       "96                                                              see latest charts maps coronavirus cases deaths hospitalizations woodson county kansas woodson county kansas covid case risk tracker   \n",
       "97                                                                          see latest charts maps coronavirus cases deaths hospitalizations jesup area wayne county georgia covid case risk tracker   \n",
       "98                                                                                                                                    see full results maps kansas elections kansas election results   \n",
       "99                                                                                  working nonstop hurts employees well managers praise culture overwork richest man china wrong hour days blessing   \n",
       "\n",
       "    label  \n",
       "0       1  \n",
       "1       1  \n",
       "2       1  \n",
       "3       0  \n",
       "4       1  \n",
       "..    ...  \n",
       "95      0  \n",
       "96      0  \n",
       "97      0  \n",
       "98      0  \n",
       "99      1  \n",
       "\n",
       "[100 rows x 2 columns]"
      ]
     },
     "execution_count": 546,
     "metadata": {},
     "output_type": "execute_result"
    }
   ],
   "source": [
    "sampled_test"
   ]
  },
  {
   "cell_type": "code",
   "execution_count": 547,
   "metadata": {},
   "outputs": [],
   "source": [
    "sampled_data['label'] = sampled_data['label'].replace({'0': 'UNBIASED', '1': 'BIASED'})\n"
   ]
  },
  {
   "cell_type": "code",
   "execution_count": 548,
   "metadata": {},
   "outputs": [
    {
     "data": {
      "text/html": [
       "<div>\n",
       "<style scoped>\n",
       "    .dataframe tbody tr th:only-of-type {\n",
       "        vertical-align: middle;\n",
       "    }\n",
       "\n",
       "    .dataframe tbody tr th {\n",
       "        vertical-align: top;\n",
       "    }\n",
       "\n",
       "    .dataframe thead th {\n",
       "        text-align: right;\n",
       "    }\n",
       "</style>\n",
       "<table border=\"1\" class=\"dataframe\">\n",
       "  <thead>\n",
       "    <tr style=\"text-align: right;\">\n",
       "      <th></th>\n",
       "      <th>text</th>\n",
       "      <th>label</th>\n",
       "    </tr>\n",
       "  </thead>\n",
       "  <tbody>\n",
       "    <tr>\n",
       "      <th>8990</th>\n",
       "      <td>international herald tribune archives french ambassador asks united states relief assistance babies prisoners vichy france seeks aid babies prisoners</td>\n",
       "      <td>0</td>\n",
       "    </tr>\n",
       "    <tr>\n",
       "      <th>3433</th>\n",
       "      <td>india united states need build upon success civil nuclear deal work toward next defining moment india u relations search transformative moment</td>\n",
       "      <td>0</td>\n",
       "    </tr>\n",
       "    <tr>\n",
       "      <th>1087</th>\n",
       "      <td>democrats leading charge extend tax break many republicans demanding cut paid extended congress role reversal federal payroll tax cut</td>\n",
       "      <td>0</td>\n",
       "    </tr>\n",
       "    <tr>\n",
       "      <th>6485</th>\n",
       "      <td>united nations panel monitors compliance antitorture treaty expressed skepticism thursday american law enforcement national security practices u n commission presses u torture</td>\n",
       "      <td>0</td>\n",
       "    </tr>\n",
       "    <tr>\n",
       "      <th>10062</th>\n",
       "      <td>kevin baker looks country tradition innovation america ingenious celebration american innovation erie canal jazz mri</td>\n",
       "      <td>0</td>\n",
       "    </tr>\n",
       "  </tbody>\n",
       "</table>\n",
       "</div>"
      ],
      "text/plain": [
       "                                                                                                                                                                                  text  \\\n",
       "8990                             international herald tribune archives french ambassador asks united states relief assistance babies prisoners vichy france seeks aid babies prisoners   \n",
       "3433                                    india united states need build upon success civil nuclear deal work toward next defining moment india u relations search transformative moment   \n",
       "1087                                             democrats leading charge extend tax break many republicans demanding cut paid extended congress role reversal federal payroll tax cut   \n",
       "6485   united nations panel monitors compliance antitorture treaty expressed skepticism thursday american law enforcement national security practices u n commission presses u torture   \n",
       "10062                                                             kevin baker looks country tradition innovation america ingenious celebration american innovation erie canal jazz mri   \n",
       "\n",
       "       label  \n",
       "8990       0  \n",
       "3433       0  \n",
       "1087       0  \n",
       "6485       0  \n",
       "10062      0  "
      ]
     },
     "execution_count": 548,
     "metadata": {},
     "output_type": "execute_result"
    }
   ],
   "source": [
    "sampled_data.head()"
   ]
  },
  {
   "cell_type": "code",
   "execution_count": 549,
   "metadata": {},
   "outputs": [],
   "source": [
    "sampled_test['label'] = sampled_test['label'].replace({0: 'UNBIASED', 1: 'BIASED'})"
   ]
  },
  {
   "cell_type": "code",
   "execution_count": 550,
   "metadata": {},
   "outputs": [
    {
     "data": {
      "text/html": [
       "<div>\n",
       "<style scoped>\n",
       "    .dataframe tbody tr th:only-of-type {\n",
       "        vertical-align: middle;\n",
       "    }\n",
       "\n",
       "    .dataframe tbody tr th {\n",
       "        vertical-align: top;\n",
       "    }\n",
       "\n",
       "    .dataframe thead th {\n",
       "        text-align: right;\n",
       "    }\n",
       "</style>\n",
       "<table border=\"1\" class=\"dataframe\">\n",
       "  <thead>\n",
       "    <tr style=\"text-align: right;\">\n",
       "      <th></th>\n",
       "      <th>text</th>\n",
       "      <th>label</th>\n",
       "    </tr>\n",
       "  </thead>\n",
       "  <tbody>\n",
       "    <tr>\n",
       "      <th>8990</th>\n",
       "      <td>international herald tribune archives french ambassador asks united states relief assistance babies prisoners vichy france seeks aid babies prisoners</td>\n",
       "      <td>0</td>\n",
       "    </tr>\n",
       "    <tr>\n",
       "      <th>3433</th>\n",
       "      <td>india united states need build upon success civil nuclear deal work toward next defining moment india u relations search transformative moment</td>\n",
       "      <td>0</td>\n",
       "    </tr>\n",
       "    <tr>\n",
       "      <th>1087</th>\n",
       "      <td>democrats leading charge extend tax break many republicans demanding cut paid extended congress role reversal federal payroll tax cut</td>\n",
       "      <td>0</td>\n",
       "    </tr>\n",
       "    <tr>\n",
       "      <th>6485</th>\n",
       "      <td>united nations panel monitors compliance antitorture treaty expressed skepticism thursday american law enforcement national security practices u n commission presses u torture</td>\n",
       "      <td>0</td>\n",
       "    </tr>\n",
       "    <tr>\n",
       "      <th>10062</th>\n",
       "      <td>kevin baker looks country tradition innovation america ingenious celebration american innovation erie canal jazz mri</td>\n",
       "      <td>0</td>\n",
       "    </tr>\n",
       "  </tbody>\n",
       "</table>\n",
       "</div>"
      ],
      "text/plain": [
       "                                                                                                                                                                                  text  \\\n",
       "8990                             international herald tribune archives french ambassador asks united states relief assistance babies prisoners vichy france seeks aid babies prisoners   \n",
       "3433                                    india united states need build upon success civil nuclear deal work toward next defining moment india u relations search transformative moment   \n",
       "1087                                             democrats leading charge extend tax break many republicans demanding cut paid extended congress role reversal federal payroll tax cut   \n",
       "6485   united nations panel monitors compliance antitorture treaty expressed skepticism thursday american law enforcement national security practices u n commission presses u torture   \n",
       "10062                                                             kevin baker looks country tradition innovation america ingenious celebration american innovation erie canal jazz mri   \n",
       "\n",
       "       label  \n",
       "8990       0  \n",
       "3433       0  \n",
       "1087       0  \n",
       "6485       0  \n",
       "10062      0  "
      ]
     },
     "execution_count": 550,
     "metadata": {},
     "output_type": "execute_result"
    }
   ],
   "source": [
    "sampled_data.head()"
   ]
  },
  {
   "cell_type": "code",
   "execution_count": 551,
   "metadata": {},
   "outputs": [
    {
     "data": {
      "text/html": [
       "<div>\n",
       "<style scoped>\n",
       "    .dataframe tbody tr th:only-of-type {\n",
       "        vertical-align: middle;\n",
       "    }\n",
       "\n",
       "    .dataframe tbody tr th {\n",
       "        vertical-align: top;\n",
       "    }\n",
       "\n",
       "    .dataframe thead th {\n",
       "        text-align: right;\n",
       "    }\n",
       "</style>\n",
       "<table border=\"1\" class=\"dataframe\">\n",
       "  <thead>\n",
       "    <tr style=\"text-align: right;\">\n",
       "      <th></th>\n",
       "      <th>text</th>\n",
       "      <th>label</th>\n",
       "    </tr>\n",
       "  </thead>\n",
       "  <tbody>\n",
       "    <tr>\n",
       "      <th>0</th>\n",
       "      <td>militants engaged former officials hamid karzai abdullah abdullah well moscow seek help building inclusive government cementing rule chaos persists kabul airport taliban discuss new government</td>\n",
       "      <td>BIASED</td>\n",
       "    </tr>\n",
       "    <tr>\n",
       "      <th>1</th>\n",
       "      <td>american spirit gets lebanese makeover beirut potomac</td>\n",
       "      <td>BIASED</td>\n",
       "    </tr>\n",
       "    <tr>\n",
       "      <th>2</th>\n",
       "      <td>pleasant protest tyranny workplace productivity letter recommendation drinking lunch</td>\n",
       "      <td>BIASED</td>\n",
       "    </tr>\n",
       "    <tr>\n",
       "      <th>3</th>\n",
       "      <td>see latest charts maps coronavirus cases deaths hospitalizations dixon area lee county illinois covid case risk tracker</td>\n",
       "      <td>UNBIASED</td>\n",
       "    </tr>\n",
       "    <tr>\n",
       "      <th>4</th>\n",
       "      <td>biden administration said measures would degrade ability wage war ukraine would prevent belarus channeling forbidden goods russia u extends technology restrictions belarus russian oil industry</td>\n",
       "      <td>BIASED</td>\n",
       "    </tr>\n",
       "  </tbody>\n",
       "</table>\n",
       "</div>"
      ],
      "text/plain": [
       "                                                                                                                                                                                               text  \\\n",
       "0  militants engaged former officials hamid karzai abdullah abdullah well moscow seek help building inclusive government cementing rule chaos persists kabul airport taliban discuss new government   \n",
       "1                                                                                                                                             american spirit gets lebanese makeover beirut potomac   \n",
       "2                                                                                                              pleasant protest tyranny workplace productivity letter recommendation drinking lunch   \n",
       "3                                                                           see latest charts maps coronavirus cases deaths hospitalizations dixon area lee county illinois covid case risk tracker   \n",
       "4  biden administration said measures would degrade ability wage war ukraine would prevent belarus channeling forbidden goods russia u extends technology restrictions belarus russian oil industry   \n",
       "\n",
       "      label  \n",
       "0    BIASED  \n",
       "1    BIASED  \n",
       "2    BIASED  \n",
       "3  UNBIASED  \n",
       "4    BIASED  "
      ]
     },
     "execution_count": 551,
     "metadata": {},
     "output_type": "execute_result"
    }
   ],
   "source": [
    "sampled_test.head()"
   ]
  },
  {
   "cell_type": "code",
   "execution_count": 552,
   "metadata": {},
   "outputs": [
    {
     "data": {
      "text/plain": [
       "text     object\n",
       "label     int64\n",
       "dtype: object"
      ]
     },
     "execution_count": 552,
     "metadata": {},
     "output_type": "execute_result"
    }
   ],
   "source": [
    "sampled_data.dtypes"
   ]
  },
  {
   "cell_type": "code",
   "execution_count": 553,
   "metadata": {},
   "outputs": [
    {
     "data": {
      "text/plain": [
       "text     object\n",
       "label    object\n",
       "dtype: object"
      ]
     },
     "execution_count": 553,
     "metadata": {},
     "output_type": "execute_result"
    }
   ],
   "source": [
    "sampled_test.dtypes"
   ]
  },
  {
   "cell_type": "code",
   "execution_count": 554,
   "metadata": {},
   "outputs": [],
   "source": [
    "Y_test = sampled_test.label.values"
   ]
  },
  {
   "cell_type": "code",
   "execution_count": 555,
   "metadata": {},
   "outputs": [
    {
     "data": {
      "text/plain": [
       "array(['BIASED', 'BIASED', 'BIASED', 'UNBIASED', 'BIASED', 'UNBIASED',\n",
       "       'UNBIASED', 'UNBIASED', 'UNBIASED', 'BIASED', 'BIASED', 'UNBIASED',\n",
       "       'UNBIASED', 'UNBIASED', 'BIASED', 'UNBIASED', 'UNBIASED', 'BIASED',\n",
       "       'UNBIASED', 'UNBIASED', 'UNBIASED', 'UNBIASED', 'UNBIASED',\n",
       "       'UNBIASED', 'BIASED', 'UNBIASED', 'BIASED', 'BIASED', 'BIASED',\n",
       "       'BIASED', 'BIASED', 'UNBIASED', 'UNBIASED', 'UNBIASED', 'UNBIASED',\n",
       "       'BIASED', 'UNBIASED', 'BIASED', 'UNBIASED', 'UNBIASED', 'BIASED',\n",
       "       'BIASED', 'UNBIASED', 'BIASED', 'UNBIASED', 'BIASED', 'BIASED',\n",
       "       'UNBIASED', 'UNBIASED', 'BIASED', 'BIASED', 'BIASED', 'UNBIASED',\n",
       "       'UNBIASED', 'BIASED', 'BIASED', 'UNBIASED', 'UNBIASED', 'UNBIASED',\n",
       "       'BIASED', 'BIASED', 'BIASED', 'BIASED', 'BIASED', 'BIASED',\n",
       "       'UNBIASED', 'BIASED', 'BIASED', 'UNBIASED', 'BIASED', 'UNBIASED',\n",
       "       'BIASED', 'BIASED', 'BIASED', 'UNBIASED', 'UNBIASED', 'BIASED',\n",
       "       'UNBIASED', 'BIASED', 'BIASED', 'UNBIASED', 'BIASED', 'UNBIASED',\n",
       "       'UNBIASED', 'UNBIASED', 'UNBIASED', 'BIASED', 'BIASED', 'UNBIASED',\n",
       "       'UNBIASED', 'BIASED', 'BIASED', 'BIASED', 'UNBIASED', 'UNBIASED',\n",
       "       'UNBIASED', 'UNBIASED', 'UNBIASED', 'UNBIASED', 'BIASED'],\n",
       "      dtype=object)"
      ]
     },
     "execution_count": 555,
     "metadata": {},
     "output_type": "execute_result"
    }
   ],
   "source": [
    "Y_test"
   ]
  },
  {
   "cell_type": "code",
   "execution_count": 556,
   "metadata": {},
   "outputs": [
    {
     "name": "stdout",
     "output_type": "stream",
     "text": [
      "[0 1]\n"
     ]
    }
   ],
   "source": [
    "print(sampled_data['label'].unique())\n"
   ]
  },
  {
   "cell_type": "code",
   "execution_count": 595,
   "metadata": {},
   "outputs": [],
   "source": [
    "sampled_data['label'] = sampled_data['label'].astype(str).str.strip()\n"
   ]
  },
  {
   "cell_type": "code",
   "execution_count": 596,
   "metadata": {},
   "outputs": [
    {
     "name": "stdout",
     "output_type": "stream",
     "text": [
      "['0' '1']\n"
     ]
    }
   ],
   "source": [
    "print(sampled_data['label'].unique())\n"
   ]
  },
  {
   "cell_type": "code",
   "execution_count": 559,
   "metadata": {},
   "outputs": [
    {
     "name": "stdout",
     "output_type": "stream",
     "text": [
      "Number of Unbiased Samples: 1\n",
      "Number of Biased Samples: 0\n"
     ]
    }
   ],
   "source": [
    "print(\"Number of Unbiased Samples:\", len(sampled_data.loc[unbiased_condition]))\n",
    "print(\"Number of Biased Samples:\", len(sampled_data.loc[biased_condition]))\n"
   ]
  },
  {
   "cell_type": "markdown",
   "metadata": {},
   "source": [
    "### From here follow Snorkel labeling function procedure"
   ]
  },
  {
   "cell_type": "markdown",
   "metadata": {},
   "source": [
    "### Labeling Functions "
   ]
  },
  {
   "cell_type": "code",
   "execution_count": 560,
   "metadata": {},
   "outputs": [],
   "source": [
    "lfs = [\n",
    "    keyword_my_mislead,\n",
    "    # keyword_hurt,\n",
    "    # keyword_blame,\n",
    "    # keyword_harm,\n",
    "    # keyword_accuse,\n",
    "    # keyword_succeeded,\n",
    "    # keyword_achieves,\n",
    "    # keyword_excels,\n",
    "    # keyword_charts,\n",
    "    # keyword_results,\n",
    "    # keyword_hypocrisy,\n",
    "    # keyword_maps,\n",
    "    # keyword_county,\n",
    "    # keyword_election,\n",
    "    # keyword_coronavirus,\n",
    "    # keyword_case,\n",
    "    # keyword_risk,\n",
    "    # keyword_cases,\n",
    "    # keyword_covid,\n",
    "    # keyword_latest,\n",
    "    # keyword_trump, \n",
    "    # keyword_ukraine, \n",
    "    # keyword_russia, \n",
    "    # keyword_war,\n",
    "    # keyword_reminiscent, \n",
    "    # keyword_removes, \n",
    "    # keyword_proceed, \n",
    "    # keyword_ponder,\n",
    "    regex_fake_news,\n",
    "    regex_subjective,\n",
    "    long_combined_text,\n",
    "    textblob_polarity,\n",
    "    textblob_subjectivity\n",
    "]"
   ]
  },
  {
   "cell_type": "code",
   "execution_count": 561,
   "metadata": {},
   "outputs": [],
   "source": [
    "applier = PandasLFApplier(lfs)"
   ]
  },
  {
   "cell_type": "code",
   "execution_count": 562,
   "metadata": {},
   "outputs": [
    {
     "name": "stderr",
     "output_type": "stream",
     "text": [
      " 40%|████      | 404/1000 [00:02<00:04, 148.74it/s]"
     ]
    },
    {
     "name": "stderr",
     "output_type": "stream",
     "text": [
      "100%|██████████| 1000/1000 [00:06<00:00, 155.81it/s]\n"
     ]
    }
   ],
   "source": [
    "L_train = applier.apply(sampled_data)\n"
   ]
  },
  {
   "cell_type": "code",
   "execution_count": 563,
   "metadata": {},
   "outputs": [
    {
     "name": "stderr",
     "output_type": "stream",
     "text": [
      "  0%|          | 0/100 [00:00<?, ?it/s]"
     ]
    },
    {
     "name": "stderr",
     "output_type": "stream",
     "text": [
      "100%|██████████| 100/100 [00:00<00:00, 200.14it/s]\n"
     ]
    }
   ],
   "source": [
    "L_test = applier.apply(df=sampled_test)"
   ]
  },
  {
   "cell_type": "markdown",
   "metadata": {},
   "source": [
    "### Now it is important to access Polarity, Coverage, Overlaps, and Conflicts of Following Table and Use these to Guide Usage of Keyword Functions and whether or not it is necessary to create more"
   ]
  },
  {
   "cell_type": "markdown",
   "metadata": {},
   "source": [
    "The following is from Snorkel documentation and goes into more depth as to what these summary statistics terms mean: \n",
    "\n",
    "- Polarity: The set of unique labels this LF outputs (excluding abstains)\n",
    "- Coverage: The fraction of the dataset the LF labels\n",
    "-  Overlaps: The fraction of the dataset where this LF and at least one other LF label\n",
    "- Conflicts: The fraction of the dataset where this LF and at least one other LF label and disagree\n",
    "- Correct: The number of data points this LF labels correctly (if gold labels are provided)\n",
    "- Incorrect: The number of data points this LF labels incorrectly (if gold labels are provided)\n",
    "- Empirical Accuracy: The empirical accuracy of this LF (if gold labels are provided)"
   ]
  },
  {
   "cell_type": "code",
   "execution_count": 564,
   "metadata": {},
   "outputs": [
    {
     "data": {
      "text/html": [
       "<div>\n",
       "<style scoped>\n",
       "    .dataframe tbody tr th:only-of-type {\n",
       "        vertical-align: middle;\n",
       "    }\n",
       "\n",
       "    .dataframe tbody tr th {\n",
       "        vertical-align: top;\n",
       "    }\n",
       "\n",
       "    .dataframe thead th {\n",
       "        text-align: right;\n",
       "    }\n",
       "</style>\n",
       "<table border=\"1\" class=\"dataframe\">\n",
       "  <thead>\n",
       "    <tr style=\"text-align: right;\">\n",
       "      <th></th>\n",
       "      <th>j</th>\n",
       "      <th>Polarity</th>\n",
       "      <th>Coverage</th>\n",
       "      <th>Overlaps</th>\n",
       "      <th>Conflicts</th>\n",
       "    </tr>\n",
       "  </thead>\n",
       "  <tbody>\n",
       "    <tr>\n",
       "      <th>keyword_my_mislead</th>\n",
       "      <td>0</td>\n",
       "      <td>[0, 1]</td>\n",
       "      <td>1.0</td>\n",
       "      <td>1.0</td>\n",
       "      <td>0.987</td>\n",
       "    </tr>\n",
       "    <tr>\n",
       "      <th>regex_fake_news</th>\n",
       "      <td>1</td>\n",
       "      <td>[0, 1]</td>\n",
       "      <td>1.0</td>\n",
       "      <td>1.0</td>\n",
       "      <td>0.987</td>\n",
       "    </tr>\n",
       "    <tr>\n",
       "      <th>regex_subjective</th>\n",
       "      <td>2</td>\n",
       "      <td>[0, 1]</td>\n",
       "      <td>1.0</td>\n",
       "      <td>1.0</td>\n",
       "      <td>0.987</td>\n",
       "    </tr>\n",
       "    <tr>\n",
       "      <th>long_combined_text</th>\n",
       "      <td>3</td>\n",
       "      <td>[0]</td>\n",
       "      <td>1.0</td>\n",
       "      <td>1.0</td>\n",
       "      <td>0.987</td>\n",
       "    </tr>\n",
       "    <tr>\n",
       "      <th>textblob_polarity</th>\n",
       "      <td>4</td>\n",
       "      <td>[0, 1]</td>\n",
       "      <td>1.0</td>\n",
       "      <td>1.0</td>\n",
       "      <td>0.987</td>\n",
       "    </tr>\n",
       "    <tr>\n",
       "      <th>textblob_subjectivity</th>\n",
       "      <td>5</td>\n",
       "      <td>[0, 1]</td>\n",
       "      <td>1.0</td>\n",
       "      <td>1.0</td>\n",
       "      <td>0.987</td>\n",
       "    </tr>\n",
       "  </tbody>\n",
       "</table>\n",
       "</div>"
      ],
      "text/plain": [
       "                       j Polarity  Coverage  Overlaps  Conflicts\n",
       "keyword_my_mislead     0   [0, 1]       1.0       1.0      0.987\n",
       "regex_fake_news        1   [0, 1]       1.0       1.0      0.987\n",
       "regex_subjective       2   [0, 1]       1.0       1.0      0.987\n",
       "long_combined_text     3      [0]       1.0       1.0      0.987\n",
       "textblob_polarity      4   [0, 1]       1.0       1.0      0.987\n",
       "textblob_subjectivity  5   [0, 1]       1.0       1.0      0.987"
      ]
     },
     "execution_count": 564,
     "metadata": {},
     "output_type": "execute_result"
    }
   ],
   "source": [
    "LFAnalysis(L=L_train, lfs=lfs).lf_summary()\n"
   ]
  },
  {
   "cell_type": "code",
   "execution_count": 565,
   "metadata": {},
   "outputs": [
    {
     "data": {
      "text/plain": [
       "6"
      ]
     },
     "execution_count": 565,
     "metadata": {},
     "output_type": "execute_result"
    }
   ],
   "source": [
    "len(lfs)"
   ]
  },
  {
   "cell_type": "code",
   "execution_count": 566,
   "metadata": {},
   "outputs": [
    {
     "name": "stdout",
     "output_type": "stream",
     "text": [
      "Labeling Function 1 - check coverage: 100.0%\n",
      "Labeling Function 2 - check coverage: 100.0%\n",
      "Labeling Function 3 - check coverage: 100.0%\n",
      "Labeling Function 4 - check coverage: 100.0%\n",
      "Labeling Function 5 - check coverage: 100.0%\n",
      "Labeling Function 6 - check coverage: 100.0%\n"
     ]
    }
   ],
   "source": [
    "# Assuming L_train is a DataFrame with 23 labeling functions\n",
    "num_labeling_functions = 6 #23\n",
    "\n",
    "# Initialize empty lists to store coverages for each labeling function\n",
    "coverages_list = []\n",
    "\n",
    "for i in range(num_labeling_functions):\n",
    "    # Calculate coverage for each labeling function\n",
    "    coverage = (L_train[:, i] != ABSTAIN).mean()\n",
    "    \n",
    "    # Append the coverages to the lists\n",
    "    coverages_list.append(coverage)\n",
    "\n",
    "    print(f\"Labeling Function {i + 1} - check coverage: {coverage * 100:.1f}%\")\n",
    "\n",
    "# Convert the lists to arrays if needed\n",
    "coverages = np.array(coverages_list)"
   ]
  },
  {
   "cell_type": "code",
   "execution_count": 567,
   "metadata": {},
   "outputs": [],
   "source": [
    "# len(sampled_data.iloc[L_train[:, 1] == ABSTAIN])"
   ]
  },
  {
   "cell_type": "code",
   "execution_count": 568,
   "metadata": {},
   "outputs": [
    {
     "data": {
      "text/plain": [
       "29"
      ]
     },
     "execution_count": 568,
     "metadata": {},
     "output_type": "execute_result"
    }
   ],
   "source": [
    "len(sampled_data.iloc[L_train[:, 1] == BIASED])"
   ]
  },
  {
   "cell_type": "code",
   "execution_count": 569,
   "metadata": {},
   "outputs": [
    {
     "data": {
      "text/plain": [
       "971"
      ]
     },
     "execution_count": 569,
     "metadata": {},
     "output_type": "execute_result"
    }
   ],
   "source": [
    "len(sampled_data.iloc[L_train[:, 1] == UNBIASED])"
   ]
  },
  {
   "cell_type": "code",
   "execution_count": 577,
   "metadata": {},
   "outputs": [
    {
     "data": {
      "text/html": [
       "<div>\n",
       "<style scoped>\n",
       "    .dataframe tbody tr th:only-of-type {\n",
       "        vertical-align: middle;\n",
       "    }\n",
       "\n",
       "    .dataframe tbody tr th {\n",
       "        vertical-align: top;\n",
       "    }\n",
       "\n",
       "    .dataframe thead th {\n",
       "        text-align: right;\n",
       "    }\n",
       "</style>\n",
       "<table border=\"1\" class=\"dataframe\">\n",
       "  <thead>\n",
       "    <tr style=\"text-align: right;\">\n",
       "      <th></th>\n",
       "      <th>text</th>\n",
       "      <th>label</th>\n",
       "    </tr>\n",
       "  </thead>\n",
       "  <tbody>\n",
       "    <tr>\n",
       "      <th>8990</th>\n",
       "      <td>international herald tribune archives french ambassador asks united states relief assistance babies prisoners vichy france seeks aid babies prisoners</td>\n",
       "      <td>0</td>\n",
       "    </tr>\n",
       "    <tr>\n",
       "      <th>3433</th>\n",
       "      <td>india united states need build upon success civil nuclear deal work toward next defining moment india u relations search transformative moment</td>\n",
       "      <td>0</td>\n",
       "    </tr>\n",
       "    <tr>\n",
       "      <th>1087</th>\n",
       "      <td>democrats leading charge extend tax break many republicans demanding cut paid extended congress role reversal federal payroll tax cut</td>\n",
       "      <td>0</td>\n",
       "    </tr>\n",
       "    <tr>\n",
       "      <th>6485</th>\n",
       "      <td>united nations panel monitors compliance antitorture treaty expressed skepticism thursday american law enforcement national security practices u n commission presses u torture</td>\n",
       "      <td>0</td>\n",
       "    </tr>\n",
       "    <tr>\n",
       "      <th>10062</th>\n",
       "      <td>kevin baker looks country tradition innovation america ingenious celebration american innovation erie canal jazz mri</td>\n",
       "      <td>0</td>\n",
       "    </tr>\n",
       "    <tr>\n",
       "      <th>...</th>\n",
       "      <td>...</td>\n",
       "      <td>...</td>\n",
       "    </tr>\n",
       "    <tr>\n",
       "      <th>5402</th>\n",
       "      <td>fan favorites seem coming back life frequently ever everybody thrilled tv popular demand better worse</td>\n",
       "      <td>1</td>\n",
       "    </tr>\n",
       "    <tr>\n",
       "      <th>8851</th>\n",
       "      <td>monday night hillary clinton longtime aide huma abedin sent mass email supporters saying mr trump islamophobia reflect nation values could even threaten national security democrats begin fund raising donald trump proposed ban muslims</td>\n",
       "      <td>0</td>\n",
       "    </tr>\n",
       "    <tr>\n",
       "      <th>6041</th>\n",
       "      <td>chief justice john g roberts jr preside conservative majority become beleaguered dissenter migrate center new spectrum next nine years</td>\n",
       "      <td>1</td>\n",
       "    </tr>\n",
       "    <tr>\n",
       "      <th>9362</th>\n",
       "      <td>proposed rule meant close loophole american banking system allows secret financial maneuvers like ones revealed panama papers u plans require banks identify owners shell companies</td>\n",
       "      <td>0</td>\n",
       "    </tr>\n",
       "    <tr>\n",
       "      <th>7741</th>\n",
       "      <td>shaker aamer british resident held guant namo since cleared release u act obama slap britain face</td>\n",
       "      <td>1</td>\n",
       "    </tr>\n",
       "  </tbody>\n",
       "</table>\n",
       "<p>947 rows × 2 columns</p>\n",
       "</div>"
      ],
      "text/plain": [
       "                                                                                                                                                                                                                                            text  \\\n",
       "8990                                                                                       international herald tribune archives french ambassador asks united states relief assistance babies prisoners vichy france seeks aid babies prisoners   \n",
       "3433                                                                                              india united states need build upon success civil nuclear deal work toward next defining moment india u relations search transformative moment   \n",
       "1087                                                                                                       democrats leading charge extend tax break many republicans demanding cut paid extended congress role reversal federal payroll tax cut   \n",
       "6485                                                             united nations panel monitors compliance antitorture treaty expressed skepticism thursday american law enforcement national security practices u n commission presses u torture   \n",
       "10062                                                                                                                       kevin baker looks country tradition innovation america ingenious celebration american innovation erie canal jazz mri   \n",
       "...                                                                                                                                                                                                                                          ...   \n",
       "5402                                                                                                                                       fan favorites seem coming back life frequently ever everybody thrilled tv popular demand better worse   \n",
       "8851   monday night hillary clinton longtime aide huma abedin sent mass email supporters saying mr trump islamophobia reflect nation values could even threaten national security democrats begin fund raising donald trump proposed ban muslims   \n",
       "6041                                                                                                      chief justice john g roberts jr preside conservative majority become beleaguered dissenter migrate center new spectrum next nine years   \n",
       "9362                                                         proposed rule meant close loophole american banking system allows secret financial maneuvers like ones revealed panama papers u plans require banks identify owners shell companies   \n",
       "7741                                                                                                                                           shaker aamer british resident held guant namo since cleared release u act obama slap britain face   \n",
       "\n",
       "      label  \n",
       "8990      0  \n",
       "3433      0  \n",
       "1087      0  \n",
       "6485      0  \n",
       "10062     0  \n",
       "...     ...  \n",
       "5402      1  \n",
       "8851      0  \n",
       "6041      1  \n",
       "9362      0  \n",
       "7741      1  \n",
       "\n",
       "[947 rows x 2 columns]"
      ]
     },
     "execution_count": 577,
     "metadata": {},
     "output_type": "execute_result"
    }
   ],
   "source": [
    "buckets = get_label_buckets(L_train[:, 0], L_train[:, 1])\n",
    "sampled_data.iloc[buckets[(BIASED, UNBIASED)]]"
   ]
  },
  {
   "cell_type": "markdown",
   "metadata": {},
   "source": [
    "##### Further labeling "
   ]
  },
  {
   "cell_type": "code",
   "execution_count": 571,
   "metadata": {},
   "outputs": [],
   "source": [
    "majority_model = MajorityLabelVoter()\n",
    "preds_train = majority_model.predict(L=L_train)"
   ]
  },
  {
   "cell_type": "code",
   "execution_count": 572,
   "metadata": {},
   "outputs": [
    {
     "name": "stderr",
     "output_type": "stream",
     "text": [
      "INFO:root:Computing O...\n",
      "INFO:root:Estimating \\mu...\n",
      "  0%|          | 0/500 [00:00<?, ?epoch/s]INFO:root:[0 epochs]: TRAIN:[loss=18.995]\n",
      " 18%|█▊        | 91/500 [00:00<00:00, 905.01epoch/s]INFO:root:[100 epochs]: TRAIN:[loss=0.006]\n",
      " 36%|███▋      | 182/500 [00:00<00:00, 905.89epoch/s]INFO:root:[200 epochs]: TRAIN:[loss=0.002]\n",
      " 55%|█████▌    | 277/500 [00:00<00:00, 924.57epoch/s]INFO:root:[300 epochs]: TRAIN:[loss=0.001]\n",
      " 74%|███████▍  | 370/500 [00:00<00:00, 859.15epoch/s]INFO:root:[400 epochs]: TRAIN:[loss=0.001]\n",
      "100%|██████████| 500/500 [00:00<00:00, 952.50epoch/s] \n",
      "INFO:root:Finished Training\n"
     ]
    }
   ],
   "source": [
    "label_model = LabelModel(cardinality=2, verbose=True)\n",
    "label_model.fit(L_train=L_train, n_epochs=500, log_freq=100, seed=123)"
   ]
  },
  {
   "cell_type": "code",
   "execution_count": 584,
   "metadata": {},
   "outputs": [],
   "source": [
    "Y_test = np.where(Y_test == \"BIASED\", 1, 0)\n"
   ]
  },
  {
   "cell_type": "code",
   "execution_count": 585,
   "metadata": {},
   "outputs": [
    {
     "data": {
      "text/plain": [
       "array([1, 1, 1, 0, 1, 0, 0, 0, 0, 1, 1, 0, 0, 0, 1, 0, 0, 1, 0, 0, 0, 0,\n",
       "       0, 0, 1, 0, 1, 1, 1, 1, 1, 0, 0, 0, 0, 1, 0, 1, 0, 0, 1, 1, 0, 1,\n",
       "       0, 1, 1, 0, 0, 1, 1, 1, 0, 0, 1, 1, 0, 0, 0, 1, 1, 1, 1, 1, 1, 0,\n",
       "       1, 1, 0, 1, 0, 1, 1, 1, 0, 0, 1, 0, 1, 1, 0, 1, 0, 0, 0, 0, 1, 1,\n",
       "       0, 0, 1, 1, 1, 0, 0, 0, 0, 0, 0, 1])"
      ]
     },
     "execution_count": 585,
     "metadata": {},
     "output_type": "execute_result"
    }
   ],
   "source": [
    "Y_test"
   ]
  },
  {
   "cell_type": "code",
   "execution_count": 586,
   "metadata": {},
   "outputs": [
    {
     "name": "stdout",
     "output_type": "stream",
     "text": [
      "Majority Vote Accuracy:   72.0%\n",
      "Label Model Accuracy:     78.0%\n"
     ]
    }
   ],
   "source": [
    "majority_acc = majority_model.score(L=L_test, Y=Y_test, tie_break_policy=\"random\")[\n",
    "    \"accuracy\"\n",
    "]\n",
    "print(f\"{'Majority Vote Accuracy:':<25} {majority_acc * 100:.1f}%\")\n",
    "\n",
    "label_model_acc = label_model.score(L=L_test, Y=Y_test, tie_break_policy=\"random\")[\n",
    "    \"accuracy\"\n",
    "]\n",
    "print(f\"{'Label Model Accuracy:':<25} {label_model_acc * 100:.1f}%\")"
   ]
  },
  {
   "cell_type": "markdown",
   "metadata": {},
   "source": [
    "### Label Model Accuracy could be improved in future versions"
   ]
  },
  {
   "cell_type": "code",
   "execution_count": 597,
   "metadata": {},
   "outputs": [],
   "source": [
    "sampled_data['label'] = sampled_data['label'].astype(int)"
   ]
  },
  {
   "cell_type": "code",
   "execution_count": 598,
   "metadata": {},
   "outputs": [
    {
     "data": {
      "text/plain": [
       "text     object\n",
       "label     int64\n",
       "dtype: object"
      ]
     },
     "execution_count": 598,
     "metadata": {},
     "output_type": "execute_result"
    }
   ],
   "source": [
    "sampled_data.dtypes"
   ]
  },
  {
   "cell_type": "code",
   "execution_count": 599,
   "metadata": {},
   "outputs": [],
   "source": [
    "from sklearn.feature_extraction.text import CountVectorizer\n",
    "\n",
    "vectorizer = CountVectorizer(ngram_range=(1, 5))\n",
    "X_train = vectorizer.fit_transform(sampled_data.text.tolist())\n",
    "X_test = vectorizer.transform(sampled_test.text.tolist())"
   ]
  },
  {
   "cell_type": "code",
   "execution_count": 600,
   "metadata": {},
   "outputs": [
    {
     "data": {
      "text/html": [
       "<style>#sk-container-id-3 {color: black;}#sk-container-id-3 pre{padding: 0;}#sk-container-id-3 div.sk-toggleable {background-color: white;}#sk-container-id-3 label.sk-toggleable__label {cursor: pointer;display: block;width: 100%;margin-bottom: 0;padding: 0.3em;box-sizing: border-box;text-align: center;}#sk-container-id-3 label.sk-toggleable__label-arrow:before {content: \"▸\";float: left;margin-right: 0.25em;color: #696969;}#sk-container-id-3 label.sk-toggleable__label-arrow:hover:before {color: black;}#sk-container-id-3 div.sk-estimator:hover label.sk-toggleable__label-arrow:before {color: black;}#sk-container-id-3 div.sk-toggleable__content {max-height: 0;max-width: 0;overflow: hidden;text-align: left;background-color: #f0f8ff;}#sk-container-id-3 div.sk-toggleable__content pre {margin: 0.2em;color: black;border-radius: 0.25em;background-color: #f0f8ff;}#sk-container-id-3 input.sk-toggleable__control:checked~div.sk-toggleable__content {max-height: 200px;max-width: 100%;overflow: auto;}#sk-container-id-3 input.sk-toggleable__control:checked~label.sk-toggleable__label-arrow:before {content: \"▾\";}#sk-container-id-3 div.sk-estimator input.sk-toggleable__control:checked~label.sk-toggleable__label {background-color: #d4ebff;}#sk-container-id-3 div.sk-label input.sk-toggleable__control:checked~label.sk-toggleable__label {background-color: #d4ebff;}#sk-container-id-3 input.sk-hidden--visually {border: 0;clip: rect(1px 1px 1px 1px);clip: rect(1px, 1px, 1px, 1px);height: 1px;margin: -1px;overflow: hidden;padding: 0;position: absolute;width: 1px;}#sk-container-id-3 div.sk-estimator {font-family: monospace;background-color: #f0f8ff;border: 1px dotted black;border-radius: 0.25em;box-sizing: border-box;margin-bottom: 0.5em;}#sk-container-id-3 div.sk-estimator:hover {background-color: #d4ebff;}#sk-container-id-3 div.sk-parallel-item::after {content: \"\";width: 100%;border-bottom: 1px solid gray;flex-grow: 1;}#sk-container-id-3 div.sk-label:hover label.sk-toggleable__label {background-color: #d4ebff;}#sk-container-id-3 div.sk-serial::before {content: \"\";position: absolute;border-left: 1px solid gray;box-sizing: border-box;top: 0;bottom: 0;left: 50%;z-index: 0;}#sk-container-id-3 div.sk-serial {display: flex;flex-direction: column;align-items: center;background-color: white;padding-right: 0.2em;padding-left: 0.2em;position: relative;}#sk-container-id-3 div.sk-item {position: relative;z-index: 1;}#sk-container-id-3 div.sk-parallel {display: flex;align-items: stretch;justify-content: center;background-color: white;position: relative;}#sk-container-id-3 div.sk-item::before, #sk-container-id-3 div.sk-parallel-item::before {content: \"\";position: absolute;border-left: 1px solid gray;box-sizing: border-box;top: 0;bottom: 0;left: 50%;z-index: -1;}#sk-container-id-3 div.sk-parallel-item {display: flex;flex-direction: column;z-index: 1;position: relative;background-color: white;}#sk-container-id-3 div.sk-parallel-item:first-child::after {align-self: flex-end;width: 50%;}#sk-container-id-3 div.sk-parallel-item:last-child::after {align-self: flex-start;width: 50%;}#sk-container-id-3 div.sk-parallel-item:only-child::after {width: 0;}#sk-container-id-3 div.sk-dashed-wrapped {border: 1px dashed gray;margin: 0 0.4em 0.5em 0.4em;box-sizing: border-box;padding-bottom: 0.4em;background-color: white;}#sk-container-id-3 div.sk-label label {font-family: monospace;font-weight: bold;display: inline-block;line-height: 1.2em;}#sk-container-id-3 div.sk-label-container {text-align: center;}#sk-container-id-3 div.sk-container {/* jupyter's `normalize.less` sets `[hidden] { display: none; }` but bootstrap.min.css set `[hidden] { display: none !important; }` so we also need the `!important` here to be able to override the default hidden behavior on the sphinx rendered scikit-learn.org. See: https://github.com/scikit-learn/scikit-learn/issues/21755 */display: inline-block !important;position: relative;}#sk-container-id-3 div.sk-text-repr-fallback {display: none;}</style><div id=\"sk-container-id-3\" class=\"sk-top-container\"><div class=\"sk-text-repr-fallback\"><pre>LogisticRegression(C=1000.0, solver=&#x27;liblinear&#x27;)</pre><b>In a Jupyter environment, please rerun this cell to show the HTML representation or trust the notebook. <br />On GitHub, the HTML representation is unable to render, please try loading this page with nbviewer.org.</b></div><div class=\"sk-container\" hidden><div class=\"sk-item\"><div class=\"sk-estimator sk-toggleable\"><input class=\"sk-toggleable__control sk-hidden--visually\" id=\"sk-estimator-id-3\" type=\"checkbox\" checked><label for=\"sk-estimator-id-3\" class=\"sk-toggleable__label sk-toggleable__label-arrow\">LogisticRegression</label><div class=\"sk-toggleable__content\"><pre>LogisticRegression(C=1000.0, solver=&#x27;liblinear&#x27;)</pre></div></div></div></div></div>"
      ],
      "text/plain": [
       "LogisticRegression(C=1000.0, solver='liblinear')"
      ]
     },
     "execution_count": 600,
     "metadata": {},
     "output_type": "execute_result"
    }
   ],
   "source": [
    "from sklearn.linear_model import LogisticRegression\n",
    "\n",
    "sklearn_model = LogisticRegression(C=1e3, solver=\"liblinear\")\n",
    "sklearn_model.fit(X=X_train, y=sampled_data['label'])"
   ]
  },
  {
   "cell_type": "code",
   "execution_count": 601,
   "metadata": {},
   "outputs": [
    {
     "name": "stdout",
     "output_type": "stream",
     "text": [
      "Test Accuracy: 62.0%\n"
     ]
    }
   ],
   "source": [
    "print(f\"Test Accuracy: {sklearn_model.score(X=X_test, y=Y_test) * 100:.1f}%\")\n"
   ]
  },
  {
   "cell_type": "markdown",
   "metadata": {},
   "source": [
    "### Label Model Accuracy could be improved in future versions"
   ]
  }
 ],
 "metadata": {
  "kernelspec": {
   "display_name": "base",
   "language": "python",
   "name": "python3"
  },
  "language_info": {
   "codemirror_mode": {
    "name": "ipython",
    "version": 3
   },
   "file_extension": ".py",
   "mimetype": "text/x-python",
   "name": "python",
   "nbconvert_exporter": "python",
   "pygments_lexer": "ipython3",
   "version": "3.10.13"
  }
 },
 "nbformat": 4,
 "nbformat_minor": 2
}
