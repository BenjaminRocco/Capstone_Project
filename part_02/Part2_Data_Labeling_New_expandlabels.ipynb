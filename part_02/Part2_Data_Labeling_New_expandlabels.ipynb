{
 "cells": [
  {
   "cell_type": "code",
   "execution_count": 2,
   "id": "c2c2e72a-1866-46cd-b599-4eaaef379379",
   "metadata": {},
   "outputs": [],
   "source": [
    "# Fundamentals\n",
    "import pandas as pd\n",
    "import numpy as np\n",
    "import re\n",
    "from nltk.corpus import stopwords # Import the stop word list\n",
    "import matplotlib.pyplot as plt\n",
    "import seaborn as sns\n",
    "import time\n",
    "\n",
    "# Modeling Fundamentals\n",
    "from sklearn.preprocessing import PolynomialFeatures, StandardScaler\n",
    "from sklearn.pipeline import Pipeline, make_pipeline\n",
    "from sklearn.model_selection import train_test_split, GridSearchCV, cross_val_score\n",
    "from sklearn.feature_extraction.text import CountVectorizer, TfidfVectorizer\n",
    "from collections import Counter\n",
    "from sklearn.metrics import make_scorer\n",
    "\n",
    "# Models\n",
    "from sklearn.linear_model import LinearRegression\n",
    "from sklearn.linear_model import LogisticRegression\n",
    "from sklearn.neighbors import KNeighborsClassifier\n",
    "from sklearn.naive_bayes import MultinomialNB, BernoulliNB, GaussianNB\n",
    "from sklearn.ensemble import BaggingClassifier, RandomForestClassifier, RandomForestRegressor\n",
    "from sklearn.ensemble import AdaBoostClassifier\n",
    "from sklearn.tree import DecisionTreeClassifier\n",
    "from sklearn.svm import LinearSVC\n",
    "from sklearn.pipeline import Pipeline\n",
    "\n",
    "# Evaluation metrics\n",
    "from sklearn.metrics import confusion_matrix, ConfusionMatrixDisplay\n",
    "from sklearn.metrics import mean_absolute_error, mean_squared_error\n",
    "from sklearn.metrics import f1_score\n",
    "from sklearn.metrics import cohen_kappa_score\n",
    "\n",
    "# Ignore Future warnings\n",
    "import warnings\n",
    "warnings.simplefilter(action='ignore', category=FutureWarning);"
   ]
  },
  {
   "cell_type": "code",
   "execution_count": 3,
   "id": "445d5fb0-de36-415a-b5c9-a3346253f378",
   "metadata": {},
   "outputs": [],
   "source": [
    "# snorkel specific imports\n",
    "from snorkel.labeling import labeling_function\n",
    "from textblob import TextBlob\n",
    "from snorkel.labeling.model import LabelModel\n",
    "from snorkel.labeling import PandasLFApplier\n",
    "\n",
    "import random\n",
    "\n",
    "import nltk\n",
    "from nltk.corpus import wordnet as wn\n",
    "\n",
    "from snorkel.augmentation import transformation_function\n",
    "\n",
    "nltk.download(\"wordnet\", quiet=True)\n",
    "\n",
    "from snorkel.augmentation import ApplyOnePolicy, PandasTFApplier\n"
   ]
  },
  {
   "cell_type": "code",
   "execution_count": 4,
   "id": "1da6ea53-1631-4a3e-926e-5d85df9c5127",
   "metadata": {},
   "outputs": [],
   "source": [
    "pd.set_option('display.max_colwidth', None)"
   ]
  },
  {
   "cell_type": "markdown",
   "id": "43b49221-f327-4411-9470-288cc4bdfd6a",
   "metadata": {},
   "source": [
    "## Define the label mappings for convenience (These are Cohen Kappa Score tiers)\n",
    "\n",
    "- 0.01–0.20 as none to slight bias\n",
    "- 0.21–0.40 as fair bias\n",
    "- 0.41– 0.60 as moderate bias\n",
    "- 0.61–0.80 as substantial bias\n",
    "- 0.81–1.00 as perfectly bias \n"
   ]
  },
  {
   "cell_type": "code",
   "execution_count": 5,
   "id": "45e9d29a-e3f6-4e76-b9d5-6b76afee34b3",
   "metadata": {},
   "outputs": [],
   "source": [
    "abstain = -1 # cohen kappa is not lower than 0 \n",
    "none_to_slight = 0.20\n",
    "fair = 0.40\n",
    "moderate = 0.60\n",
    "substantial = 0.80\n",
    "perfect = 1.0 "
   ]
  },
  {
   "cell_type": "markdown",
   "id": "9e07aeea-eb32-4aa8-85e5-0f40da6bd92f",
   "metadata": {},
   "source": [
    "#### Outputs of multivariable linear equation will fall within 0 or 1 and will thus be assigned a Cohen Kappa Score"
   ]
  },
  {
   "cell_type": "markdown",
   "id": "acdb5139-34b9-47a9-a348-c4a96d69fc23",
   "metadata": {},
   "source": [
    "# Define Labeling Functions"
   ]
  },
  {
   "cell_type": "markdown",
   "id": "517423c5-3edb-4ebd-a323-148cdf3dac6d",
   "metadata": {},
   "source": [
    "#### List of misleading bias terms identified in false positives / false negatives from Part I "
   ]
  },
  {
   "cell_type": "code",
   "execution_count": 6,
   "id": "518aa28c-87f0-4d79-98d1-6043bb50e9f8",
   "metadata": {},
   "outputs": [],
   "source": [
    "misleading_bias_terms = ['trump', 'u', 'america', 'american', 'new', 'people', 'states', 'president', 'many', 'states', 'united', 'americans', 'one']"
   ]
  },
  {
   "cell_type": "markdown",
   "id": "c8520f49-aad3-4182-aa7f-971047d598ff",
   "metadata": {},
   "source": [
    "#### Started with Multi-Tier but now implementing \n",
    "#### a binary return to create a linear function with \n",
    "#### weights associated with each variable represented by a labeling function"
   ]
  },
  {
   "cell_type": "code",
   "execution_count": 7,
   "id": "b1845ca8-f63f-49c9-b3ef-e3133391c8eb",
   "metadata": {},
   "outputs": [],
   "source": [
    "def lf_keyword_my(x):\n",
    "    \"\"\"Label based on the number of hits in the misleading_bias_terms list. \n",
    "    These words were throwing the most errors in the classification models (false positives/negatives).\"\"\"\n",
    "    count_hits = sum(term in str(x).lower() for term in misleading_bias_terms)\n",
    "\n",
    "    if count_hits == 0:\n",
    "        return abstain\n",
    "    elif count_hits <= 1:\n",
    "        return none_to_slight\n",
    "    elif count_hits <= 2:\n",
    "        return fair\n",
    "    elif count_hits <= 3:\n",
    "        return moderate\n",
    "    elif count_hits <= 4:\n",
    "        return substantial\n",
    "    else:\n",
    "        return perfect"
   ]
  },
  {
   "cell_type": "code",
   "execution_count": 8,
   "id": "341004b6-e142-41a3-a24e-5701e9a90eb6",
   "metadata": {},
   "outputs": [],
   "source": [
    "@labeling_function()\n",
    "def lf_keyword_my_binary(x):\n",
    "    \"\"\"Return 1 if any of the misleading_bias_terms is present, else return 0.\"\"\"\n",
    "    presence = any(term in str(x).lower() for term in misleading_bias_terms)\n",
    "    return 1 if presence else 0"
   ]
  },
  {
   "cell_type": "code",
   "execution_count": 9,
   "id": "7805a4f6-7326-4806-922f-b1b3ce1bb524",
   "metadata": {},
   "outputs": [
    {
     "data": {
      "text/plain": [
       "0.6"
      ]
     },
     "execution_count": 9,
     "metadata": {},
     "output_type": "execute_result"
    }
   ],
   "source": [
    "lf_keyword_my('Trump is America')"
   ]
  },
  {
   "cell_type": "code",
   "execution_count": 10,
   "id": "8d7899ab-2dbd-4f1f-baf0-e707247cb857",
   "metadata": {},
   "outputs": [
    {
     "data": {
      "text/plain": [
       "1"
      ]
     },
     "execution_count": 10,
     "metadata": {},
     "output_type": "execute_result"
    }
   ],
   "source": [
    "lf_keyword_my_binary('Trump is America')"
   ]
  },
  {
   "cell_type": "markdown",
   "id": "6df119b1-c617-4ed2-97f9-723feff5bf14",
   "metadata": {},
   "source": [
    "#### Bias words : Paradoxically, headlines/abstracts that incorporate these words can often times be biased themselves"
   ]
  },
  {
   "cell_type": "code",
   "execution_count": 11,
   "id": "680ffae2-0a05-4f61-9ea3-99f6b2b65bd0",
   "metadata": {},
   "outputs": [],
   "source": [
    "bias_words = ['fake', 'news', 'media','biased', 'unreliable', 'propaganda', 'misleading', 'partisan', 'manipulative']\n"
   ]
  },
  {
   "cell_type": "code",
   "execution_count": 12,
   "id": "47fa1cf0-ef42-461d-8c06-f4082847e879",
   "metadata": {},
   "outputs": [],
   "source": [
    "@labeling_function()\n",
    "def lf_regex_fake_news(x):\n",
    "    \"\"\"Label based on the number of hits in the bias_words list. More hits means more biased. \n",
    "    Paradoxically, abstracts and headlines that include these terms tend to be more biased. \"\"\"\n",
    "    count_hits = sum(re.search(fr\"\\b{word}\\b\", str(x), flags=re.I) is not None for word in bias_words)\n",
    "\n",
    "    if count_hits == 0:\n",
    "        return abstain\n",
    "    elif count_hits <= 1:\n",
    "        return none_to_slight\n",
    "    elif count_hits <= 2:\n",
    "        return fair\n",
    "    elif count_hits <= 3:\n",
    "        return moderate\n",
    "    elif count_hits <= 4:\n",
    "        return substantial\n",
    "    else:\n",
    "        return perfect"
   ]
  },
  {
   "cell_type": "code",
   "execution_count": 13,
   "id": "36e7c27e-7852-4bc1-b37c-56886eef536c",
   "metadata": {},
   "outputs": [],
   "source": [
    "@labeling_function()\n",
    "def lf_regex_fake_news_binary(x):\n",
    "    \"\"\"Return 1 if any of the bias_words is present, else return 0.\"\"\"\n",
    "    presence = any(re.search(fr\"\\b{word}\\b\", str(x), flags=re.I) is not None for word in bias_words)\n",
    "    return 1 if presence else 0"
   ]
  },
  {
   "cell_type": "code",
   "execution_count": 14,
   "id": "9d90c614-5587-42c8-b63a-ce889f1ee4cc",
   "metadata": {},
   "outputs": [
    {
     "data": {
      "text/plain": [
       "0.6"
      ]
     },
     "execution_count": 14,
     "metadata": {},
     "output_type": "execute_result"
    }
   ],
   "source": [
    "lf_regex_fake_news('Fake news media is leading america down a dark path')"
   ]
  },
  {
   "cell_type": "code",
   "execution_count": 15,
   "id": "3bc0fca9-1776-4dc1-ad3d-529af9ffa0cc",
   "metadata": {},
   "outputs": [
    {
     "data": {
      "text/plain": [
       "1"
      ]
     },
     "execution_count": 15,
     "metadata": {},
     "output_type": "execute_result"
    }
   ],
   "source": [
    "lf_regex_fake_news_binary('Fake news media is leading america down a dark path')"
   ]
  },
  {
   "cell_type": "markdown",
   "id": "f3515648-a49b-461c-a6e1-ee42bd9871f8",
   "metadata": {},
   "source": [
    "#### Label Function for words that are associated with opinionated speech "
   ]
  },
  {
   "cell_type": "code",
   "execution_count": 16,
   "id": "5aaa8634-540a-4aa7-a90d-c3c55ab1645a",
   "metadata": {},
   "outputs": [],
   "source": [
    "subj_words = ['feel', 'feels', 'thinks','thought', 'thoughts','opinion', 'bias', 'think', 'felt', 'believe','believed','believes','believer']\n"
   ]
  },
  {
   "cell_type": "code",
   "execution_count": 17,
   "id": "f2591940-b1de-42a3-8e90-f7c61b1cf1a4",
   "metadata": {},
   "outputs": [],
   "source": [
    "@labeling_function()\n",
    "def lf_regex_subjective(x):\n",
    "    \"\"\"Label based on the number of hits in the bias_words list. More hits means more biased. \n",
    "    Paradoxically, abstracts and headlines that include these terms tend to be more biased. \"\"\"\n",
    "    count_hits = sum(re.search(fr\"\\b{word}\\b\", str(x), flags=re.I) is not None for word in subj_words)\n",
    "\n",
    "    if count_hits == 0:\n",
    "        return abstain\n",
    "    elif count_hits <= 1:\n",
    "        return none_to_slight\n",
    "    elif count_hits <= 2:\n",
    "        return fair\n",
    "    elif count_hits <= 3:\n",
    "        return moderate\n",
    "    elif count_hits <= 4:\n",
    "        return substantial\n",
    "    else:\n",
    "        return perfect"
   ]
  },
  {
   "cell_type": "code",
   "execution_count": 18,
   "id": "57822ebb-6c9b-4f08-b9d0-8954f2f8d869",
   "metadata": {},
   "outputs": [],
   "source": [
    "@labeling_function()\n",
    "def lf_regex_subjective_binary(x):\n",
    "    \"\"\"Return 1 if any of the subj_words is present, else return 0.\"\"\"\n",
    "    presence = any(re.search(fr\"\\b{word}\\b\", str(x), flags=re.I) is not None for word in subj_words)\n",
    "    return 1 if presence else 0"
   ]
  },
  {
   "cell_type": "code",
   "execution_count": 19,
   "id": "14e2faab-529b-4230-aa58-09397ac29a96",
   "metadata": {},
   "outputs": [
    {
     "data": {
      "text/plain": [
       "0.2"
      ]
     },
     "execution_count": 19,
     "metadata": {},
     "output_type": "execute_result"
    }
   ],
   "source": [
    "lf_regex_subjective('The author felt')"
   ]
  },
  {
   "cell_type": "code",
   "execution_count": 20,
   "id": "e41df66b-ed74-4e52-8fe8-98ed6b98c2b9",
   "metadata": {},
   "outputs": [
    {
     "data": {
      "text/plain": [
       "1"
      ]
     },
     "execution_count": 20,
     "metadata": {},
     "output_type": "execute_result"
    }
   ],
   "source": [
    "lf_regex_subjective_binary('The author felt')"
   ]
  },
  {
   "cell_type": "code",
   "execution_count": 21,
   "id": "e44815c5-db7f-43aa-9007-3edd69661409",
   "metadata": {},
   "outputs": [],
   "source": [
    "@labeling_function()\n",
    "def lf_long_combined_text(text_list):\n",
    "    \"\"\"Categorize based on combined length of words in abstracts and headlines. Longer abstracts and titles that tend to ramble tend to be more biased.\"\"\"\n",
    "    length = len(\" \".join(str(text_list)).split())\n",
    "\n",
    "    return (\n",
    "        abstain if length < 19 else\n",
    "        none_to_slight if length < 56 else\n",
    "        fair if length < 133 else\n",
    "        moderate if length < 376 else\n",
    "        substantial if length < 615 else\n",
    "        perfect\n",
    "    )"
   ]
  },
  {
   "cell_type": "code",
   "execution_count": 22,
   "id": "6675aba7-fad1-4e42-b0d2-da63b7c89c6d",
   "metadata": {},
   "outputs": [],
   "source": [
    "@labeling_function()\n",
    "def lf_long_combined_text_binary(text_list):\n",
    "    \"\"\"Return 1 if the combined length is greater than 376, else return 0.\"\"\"\n",
    "    length = len(\" \".join(str(text_list)).split())\n",
    "    return 1 if length > 376 else 0"
   ]
  },
  {
   "cell_type": "code",
   "execution_count": 23,
   "id": "413e431d-a418-42db-86b2-aae75816448b",
   "metadata": {},
   "outputs": [
    {
     "data": {
      "text/plain": [
       "0.4"
      ]
     },
     "execution_count": 23,
     "metadata": {},
     "output_type": "execute_result"
    }
   ],
   "source": [
    "lf_long_combined_text('America is headed down an incredibly dark path if it continues to support genocide')"
   ]
  },
  {
   "cell_type": "code",
   "execution_count": 24,
   "id": "f018649e-36a3-420b-af94-b5c3a7e34456",
   "metadata": {},
   "outputs": [],
   "source": [
    "@labeling_function()\n",
    "def lf_textblob_polarity(x):\n",
    "    \"\"\"\n",
    "    We use a third-party sentiment classification model, TextBlob.\n",
    "\n",
    "    We map the polarity to the specified bias categories with heuristic that negative abstracts/headlines tend to contain more bias. \n",
    "    \"\"\"\n",
    "    polarity = TextBlob(str(x)).sentiment.polarity\n",
    "\n",
    "    return (\n",
    "        abstain if polarity > 0.3 else\n",
    "        none_to_slight if polarity > 0.0 else\n",
    "        fair if polarity > -0.2 else\n",
    "        moderate if polarity > -0.4 else\n",
    "        substantial if polarity > -0.6 else\n",
    "        perfect\n",
    "    )"
   ]
  },
  {
   "cell_type": "code",
   "execution_count": 25,
   "id": "76b8df0b-fb5c-4d46-83ec-10ac5f1d2778",
   "metadata": {},
   "outputs": [],
   "source": [
    "@labeling_function()\n",
    "def lf_textblob_polarity_binary(x):\n",
    "    \"\"\"\n",
    "    We use a third-party sentiment classification model, TextBlob.\n",
    "\n",
    "    We map the polarity to binary classification: 1 if negative, 0 otherwise.\n",
    "    \"\"\"\n",
    "    polarity = TextBlob(str(x)).sentiment.polarity\n",
    "    return 1 if polarity < 0 else 0"
   ]
  },
  {
   "cell_type": "code",
   "execution_count": 26,
   "id": "e958b7a5-1b7d-4a4e-9e09-91bf8bc63143",
   "metadata": {},
   "outputs": [
    {
     "data": {
      "text/plain": [
       "0"
      ]
     },
     "execution_count": 26,
     "metadata": {},
     "output_type": "execute_result"
    }
   ],
   "source": [
    "lf_textblob_polarity_binary('something positive')"
   ]
  },
  {
   "cell_type": "code",
   "execution_count": 27,
   "id": "2fdf51e1-8a6e-46ff-a1bb-b845f9d6eb43",
   "metadata": {},
   "outputs": [],
   "source": [
    "@labeling_function()\n",
    "def lf_textblob_subjectivity(x):\n",
    "    \"\"\"\n",
    "    We use a third-party sentiment classification model, TextBlob.\n",
    "\n",
    "    We map the polarity to the specified bias categories with heuristic that negative abstracts/headlines tend to contain more bias. \n",
    "    \"\"\"\n",
    "    subjectivity = TextBlob(str(x)).sentiment.subjectivity\n",
    "\n",
    "    return (\n",
    "        abstain if subjectivity == 0.0 else\n",
    "        none_to_slight if subjectivity < 0.2 else\n",
    "        fair if subjectivity < 0.4 else\n",
    "        moderate if subjectivity < 0.6 else\n",
    "        substantial if subjectivity < 0.8 else\n",
    "        perfect\n",
    "    )"
   ]
  },
  {
   "cell_type": "code",
   "execution_count": 28,
   "id": "4e69d88d-a799-4e35-af84-d38239f8c47f",
   "metadata": {},
   "outputs": [],
   "source": [
    "@labeling_function()\n",
    "def lf_textblob_subjectivity_binary(x):\n",
    "    \"\"\"\n",
    "    We use a third-party sentiment classification model, TextBlob.\n",
    "\n",
    "    We map the subjectivity to binary classification: 1 if high subjectivity, 0 otherwise.\n",
    "    \"\"\"\n",
    "    subjectivity = TextBlob(str(x)).sentiment.subjectivity\n",
    "    return 1 if subjectivity > 0.5 else 0"
   ]
  },
  {
   "cell_type": "markdown",
   "id": "66403237",
   "metadata": {},
   "source": [
    "### Expanded Labeling Functions to play with distribution\n"
   ]
  },
  {
   "cell_type": "code",
   "execution_count": 29,
   "id": "64b1c5f5",
   "metadata": {},
   "outputs": [],
   "source": [
    "past_tense_keywords = [\"hurt\", \"blamed\", \"harmed\", \"accused\"]\n",
    "present_tense_keywords = [\"hurts\", \"blames\", \"harms\", \"accuses\"]\n",
    "active_voice_keywords = [\"hurting\", \"blaming\", \"harming\", \"accusing\"]\n"
   ]
  },
  {
   "cell_type": "code",
   "execution_count": 30,
   "id": "e7e841e0",
   "metadata": {},
   "outputs": [],
   "source": [
    "@labeling_function()\n",
    "def lf_past_tense_keywords_binary(x):\n",
    "    \"\"\"Return BIAS if any of the subj_words is present, else ABSTAIN.\"\"\"\n",
    "    presence = any(re.search(fr\"\\b{word}\\b\", str(x), flags=re.I) is not None for word in past_tense_keywords)\n",
    "    return 1 if presence else 0"
   ]
  },
  {
   "cell_type": "code",
   "execution_count": 31,
   "id": "bd8d2b00",
   "metadata": {},
   "outputs": [],
   "source": [
    "@labeling_function()\n",
    "def lf_present_tense_keywords_binary(x):\n",
    "    \"\"\"Return BIAS if any of the subj_words is present, else ABSTAIN.\"\"\"\n",
    "    presence = any(re.search(fr\"\\b{word}\\b\", str(x), flags=re.I) is not None for word in present_tense_keywords)\n",
    "    return 1 if presence else 0"
   ]
  },
  {
   "cell_type": "code",
   "execution_count": 32,
   "id": "56b0f7a1",
   "metadata": {},
   "outputs": [],
   "source": [
    "@labeling_function()\n",
    "def lf_active_voice_keywords_binary(x):\n",
    "    \"\"\"Return BIAS if any of the subj_words is present, else ABSTAIN.\"\"\"\n",
    "    presence = any(re.search(fr\"\\b{word}\\b\", str(x), flags=re.I) is not None for word in active_voice_keywords)\n",
    "    return 1 if presence else 0"
   ]
  },
  {
   "cell_type": "markdown",
   "id": "bc71c61e-03ad-42cd-9a6a-2d808201c56a",
   "metadata": {},
   "source": [
    "# Precleaning \n",
    "#### (Saved Won't have to repeat)"
   ]
  },
  {
   "cell_type": "code",
   "execution_count": 33,
   "id": "f6d2cc0b-ec36-4f11-9329-07d6299aec47",
   "metadata": {},
   "outputs": [],
   "source": [
    "# df = pd.read_csv('Desktop/DSI_GA_Materials/capstone/Capstone_Project_backup/Data/united_states_headlines_last_decade.csv')\n"
   ]
  },
  {
   "cell_type": "code",
   "execution_count": 34,
   "id": "0186e3a8-a759-4346-9c29-bb7fb5632277",
   "metadata": {},
   "outputs": [],
   "source": [
    "# columns_to_drop = ['Unnamed: 0', 'keyword', 'news_desk', 'keyword','pub_date','year']"
   ]
  },
  {
   "cell_type": "code",
   "execution_count": 35,
   "id": "a7d9c093-7f37-471c-b4d3-f7775c594cd9",
   "metadata": {},
   "outputs": [],
   "source": [
    "# df = df.drop(columns=columns_to_drop)"
   ]
  },
  {
   "cell_type": "code",
   "execution_count": 36,
   "id": "075cc1be-ca19-40c3-a67e-dc7ef8554ca4",
   "metadata": {},
   "outputs": [],
   "source": [
    "# df['section_name'] = np.where(df['section_name'] == 'Opinion', 1, 0)"
   ]
  },
  {
   "cell_type": "code",
   "execution_count": 37,
   "id": "2ce2394d-0d2a-4069-a164-0c4c6d65ea1b",
   "metadata": {},
   "outputs": [],
   "source": [
    "# df.to_csv('Desktop/DSI_GA_Materials/capstone/Capstone_Project_backup/Data/precleaned_df.csv')"
   ]
  },
  {
   "cell_type": "code",
   "execution_count": 40,
   "id": "4c475070-0a7b-409d-892a-6cb90786b341",
   "metadata": {},
   "outputs": [],
   "source": [
    "df = pd.read_csv('/Users/ben/Desktop/DSI_GA_Materials/capstone/Capstone_Project_backup/Data/precleaned_df.csv')"
   ]
  },
  {
   "cell_type": "markdown",
   "id": "d084c839-798d-4d34-9093-a41622810f3d",
   "metadata": {},
   "source": [
    "### Train Test Split and Regex Clean"
   ]
  },
  {
   "cell_type": "code",
   "execution_count": 41,
   "id": "c20952d4-3877-4f0a-94cd-9f08372ca872",
   "metadata": {},
   "outputs": [],
   "source": [
    "X_train, X_test, y_train, y_test = train_test_split(df[['abstract', 'headline']],\n",
    "                                                    df['section_name'],\n",
    "                                                    train_size = 0.80,\n",
    "                                                    random_state = 42,\n",
    "                                                   shuffle=False)"
   ]
  },
  {
   "cell_type": "code",
   "execution_count": 42,
   "id": "d7115a62-f7de-4554-9e2b-3a44f1037eef",
   "metadata": {},
   "outputs": [
    {
     "name": "stdout",
     "output_type": "stream",
     "text": [
      "There are 25510 posts.\n",
      "Cleaning and parsing the training set abstracts...\n"
     ]
    },
    {
     "name": "stdout",
     "output_type": "stream",
     "text": [
      "Post 5000 of 25510.\n",
      "Post 10000 of 25510.\n",
      "Post 15000 of 25510.\n",
      "Post 20000 of 25510.\n",
      "Cleaning and parsing the testing set abstracts...\n",
      "Post 20500 of 25510.\n",
      "Post 21000 of 25510.\n",
      "Post 21500 of 25510.\n",
      "Post 22000 of 25510.\n",
      "Post 22500 of 25510.\n",
      "Post 23000 of 25510.\n",
      "Post 23500 of 25510.\n",
      "Post 24000 of 25510.\n",
      "Post 24500 of 25510.\n",
      "Post 25000 of 25510.\n",
      "Post 25500 of 25510.\n",
      "Cleaning and parsing the training set headlines...\n",
      "Post 5000 of 25510.\n",
      "Post 10000 of 25510.\n",
      "Post 15000 of 25510.\n",
      "Post 20000 of 25510.\n",
      "Cleaning and parsing the testing set headlines...\n",
      "Post 20500 of 25510.\n",
      "Post 21000 of 25510.\n",
      "Post 21500 of 25510.\n",
      "Post 22000 of 25510.\n",
      "Post 22500 of 25510.\n",
      "Post 23000 of 25510.\n",
      "Post 23500 of 25510.\n",
      "Post 24000 of 25510.\n",
      "Post 24500 of 25510.\n",
      "Post 25000 of 25510.\n",
      "Post 25500 of 25510.\n"
     ]
    }
   ],
   "source": [
    "def filtered_words(train_data):\n",
    "    # Function to convert a raw post to a string of words\n",
    "    # The input is a single string (a raw subreddit title), and \n",
    "    # the output is a single string (a preprocessed subreddit post)\n",
    "    \n",
    "    # 1. Remove non-letters.\n",
    "    letters_only = re.sub(\"[^a-zA-Z]\", \" \", train_data)\n",
    "    \n",
    "    # 2. Convert to lower case, split into individual words.\n",
    "    words = letters_only.lower().split()\n",
    "    \n",
    "    # 3. In Python, searching a set is much faster than searching\n",
    "    # a list, so convert the stop words to a set.\n",
    "    stops = set(stopwords.words('english'))\n",
    "    \n",
    "    # 4. Remove stop words.\n",
    "    meaningful_words = [w for w in words if w not in stops]\n",
    "    \n",
    "    # 5. Join the words back into one string separated by space, \n",
    "    # and return the result.\n",
    "    return(\" \".join(meaningful_words))\n",
    "\n",
    "total_abs_headlines = df.shape[0]\n",
    "print(f'There are {total_abs_headlines} posts.')\n",
    "\n",
    "# Initialize an empty list to hold the clean abstracts and headlines.\n",
    "clean_train_abs = []\n",
    "clean_test_abs = []\n",
    "clean_train_lines = []\n",
    "clean_test_lines = []\n",
    "\n",
    "print(\"Cleaning and parsing the training set abstracts...\")\n",
    "\n",
    "j = 0\n",
    "for train_abs in X_train['abstract']:\n",
    "    # Convert abstract to words, then append to clean_train_abs.\n",
    "    train_abs_str = str(train_abs)\n",
    "    clean_train_abs.append(filtered_words(train_abs_str))   \n",
    "    # If the index is divisible by 5000, print a message\n",
    "    if (j + 1) % 5000 == 0:\n",
    "        print(f'Post {j + 1} of {total_abs_headlines}.')\n",
    "    \n",
    "    j += 1\n",
    "\n",
    "print(\"Cleaning and parsing the testing set abstracts...\")\n",
    "# Do the same for testing set.\n",
    "for test_abs in X_test['abstract']:\n",
    "    # Convert abstract to words, then append to clean_test_abs.\n",
    "    test_abs_str = str(test_abs)\n",
    "    clean_test_abs.append(filtered_words(test_abs_str))\n",
    "    \n",
    "    # If the index is divisible by 500, print a message\n",
    "    if (j + 1) % 500 == 0:\n",
    "        print(f'Post {j + 1} of {total_abs_headlines}.')\n",
    "        \n",
    "    j += 1\n",
    "\n",
    "print(\"Cleaning and parsing the training set headlines...\")\n",
    "\n",
    "j = 0\n",
    "for train_lines in X_train['headline']:\n",
    "    # Convert headline to words, then append to clean_train_lines.\n",
    "    train_lines_str = str(train_lines)\n",
    "    clean_train_lines.append(filtered_words(train_lines_str))\n",
    "    \n",
    "    # If the index is divisible by 5000, print a message\n",
    "    if (j + 1) % 5000 == 0:\n",
    "        print(f'Post {j + 1} of {total_abs_headlines}.')\n",
    "    \n",
    "    j += 1\n",
    "\n",
    "print(\"Cleaning and parsing the testing set headlines...\")\n",
    "# Do the same for testing set.\n",
    "for test_lines in X_test['headline']:\n",
    "    # Convert headline to words, then append to clean_test_lines.\n",
    "    test_lines_str = str(test_lines)\n",
    "    clean_test_lines.append(filtered_words(test_lines_str))\n",
    "    \n",
    "    # If the index is divisible by 500, print a message\n",
    "    if (j + 1) % 500 == 0:\n",
    "        print(f'Post {j + 1} of {total_abs_headlines}.')\n",
    "        \n",
    "    j += 1\n"
   ]
  },
  {
   "cell_type": "code",
   "execution_count": 43,
   "id": "11af588b-f940-4e76-9038-300c3eb9968c",
   "metadata": {},
   "outputs": [
    {
     "data": {
      "text/plain": [
       "0                                                                                                                 new start treaty nearly wrapped president obama begin discussing far reaching deals russia next treaties\n",
       "1                                                                                                                                                       response plea israel release jonathan pollard plea pollard release\n",
       "2                                                                                                                                  letters editor regarding tensions new york medical schools caribbean doctors learn best\n",
       "3                                                                       canada beat united states semifinals world junior tournament advancing final th consecutive year canada beats united states world junior semifinal\n",
       "4                                                                                            kristine lilly holds world record international appearances u announced retirement wednesday lilly iron lady u soccer retires\n",
       "                                                                                                               ...                                                                                                        \n",
       "20403                                       job market remained strong last month suggesting workers remain high demand still quitting often labor department report showed workers quit february job openings stayed high\n",
       "20404                                                recent poll data suggests rising prices dominate americans economic concerns inflation fears highest since americans especially republicans getting worried inflation\n",
       "20405                                             scientists keeping eye ba one three genetically distinct varieties omicron variant coronavirus ba subvariant omicron accounts half new u coronavirus cases c c estimates\n",
       "20406    twenty one republican state attorneys general filed lawsuit biden administration tuesday block federal mask mandate public transportation twenty one states file lawsuit block mask mandate public transportation\n",
       "20407                         bill named emmett till black boy murdered mississippi first time explicitly criminalized act come symbolize grim history racism united states biden signs bill making lynching federal crime\n",
       "Length: 20408, dtype: object"
      ]
     },
     "execution_count": 43,
     "metadata": {},
     "output_type": "execute_result"
    }
   ],
   "source": [
    "clean_train_abs = pd.Series(clean_train_abs)\n",
    "clean_train_lines = pd.Series(clean_train_lines)\n",
    "\n",
    "# Combine the lists element-wise\n",
    "clean_train_total = clean_train_abs + ' ' + clean_train_lines\n",
    "\n",
    "# Display the result\n",
    "clean_train_total"
   ]
  },
  {
   "cell_type": "code",
   "execution_count": 44,
   "id": "4470656c-c0bc-4f9b-b9c2-6ce3a9eee178",
   "metadata": {},
   "outputs": [
    {
     "data": {
      "text/plain": [
       "0       united states entered third year pandemic fewer americans reporting wearing masks recent months according poll released tuesday associated press norc americans taking fewer precautions two years pandemic poll says\n",
       "1                                                                                    republicans ignored widespread agreement among judges sentencing guidelines message republicans send judges attack ketanji brown jackson\n",
       "2                                                                                                                 culture medicine means crying sleeping making mistakes getting help many doctors treat mental health secret\n",
       "3                                                                                                                                                       samuel huntington foresaw current world order yes clash civilizations\n",
       "4                                                                                                                   supervisors called help people navigate personal challenges whether training everyone ok back work anyway\n",
       "                                                                                                                ...                                                                                                          \n",
       "5097                                                                                                           unconscious bias medical profession may raising risks pregnant black women bias endangers pregnant black women\n",
       "5098                                                                                                     upshot staff shares selection favorite charts documents queries calculations past year data points documents made us\n",
       "5099                                                   move comes israel presses offensive gaza despite increasing pressure united states lower conflict intensity biden administration bypasses congress weapons sale israel\n",
       "5100                                                        president biden seems nervous sealing deal would improve health quality life millions americans stricter rule truck emissions electrify big noisy belching trucks\n",
       "5101                                                                           era shrinking water resources rising temperatures undoubtedly test southwest states question adapt whether survive flee american southwest yet\n",
       "Length: 5102, dtype: object"
      ]
     },
     "execution_count": 44,
     "metadata": {},
     "output_type": "execute_result"
    }
   ],
   "source": [
    "clean_test_abs = pd.Series(clean_test_abs)\n",
    "clean_test_lines = pd.Series(clean_test_lines)\n",
    "\n",
    "# Combine the lists element-wise\n",
    "clean_test_total = clean_test_abs + ' ' + clean_test_lines\n",
    "\n",
    "# Display the result\n",
    "clean_test_total"
   ]
  },
  {
   "cell_type": "code",
   "execution_count": 45,
   "id": "9e85dba7-cd41-497b-b474-61452a94260a",
   "metadata": {},
   "outputs": [
    {
     "data": {
      "text/html": [
       "<div>\n",
       "<style scoped>\n",
       "    .dataframe tbody tr th:only-of-type {\n",
       "        vertical-align: middle;\n",
       "    }\n",
       "\n",
       "    .dataframe tbody tr th {\n",
       "        vertical-align: top;\n",
       "    }\n",
       "\n",
       "    .dataframe thead th {\n",
       "        text-align: right;\n",
       "    }\n",
       "</style>\n",
       "<table border=\"1\" class=\"dataframe\">\n",
       "  <thead>\n",
       "    <tr style=\"text-align: right;\">\n",
       "      <th></th>\n",
       "      <th>abstract</th>\n",
       "      <th>headline</th>\n",
       "    </tr>\n",
       "  </thead>\n",
       "  <tbody>\n",
       "    <tr>\n",
       "      <th>0</th>\n",
       "      <td>With the New Start treaty nearly wrapped up, President Obama should begin discussing other, more far-reaching deals with Russia.</td>\n",
       "      <td>The Next Treaties</td>\n",
       "    </tr>\n",
       "    <tr>\n",
       "      <th>1</th>\n",
       "      <td>A response to a plea by Israel for the release of Jonathan Pollard.</td>\n",
       "      <td>Plea for Pollard’s Release</td>\n",
       "    </tr>\n",
       "    <tr>\n",
       "      <th>2</th>\n",
       "      <td>Letters to the editor regarding tensions between New York medical schools and those in the Caribbean.</td>\n",
       "      <td>Where Do Doctors Learn Best?</td>\n",
       "    </tr>\n",
       "    <tr>\n",
       "      <th>3</th>\n",
       "      <td>Canada beat the United States in the semifinals of the world junior tournament, advancing to the final for the 10th consecutive year.</td>\n",
       "      <td>Canada Beats United States in World Junior Semifinal</td>\n",
       "    </tr>\n",
       "    <tr>\n",
       "      <th>4</th>\n",
       "      <td>Kristine Lilly, who holds the world record with 352 international appearances for the U.S., announced her retirement on Wednesday.</td>\n",
       "      <td>Lilly, Iron Lady of U.S. Soccer, Retires at 39</td>\n",
       "    </tr>\n",
       "    <tr>\n",
       "      <th>...</th>\n",
       "      <td>...</td>\n",
       "      <td>...</td>\n",
       "    </tr>\n",
       "    <tr>\n",
       "      <th>20403</th>\n",
       "      <td>The job market remained very strong last month, suggesting that workers remain in high demand and are still quitting more often, a Labor Department report showed.</td>\n",
       "      <td>More workers quit in February as job openings stayed high.</td>\n",
       "    </tr>\n",
       "    <tr>\n",
       "      <th>20404</th>\n",
       "      <td>Recent poll data suggests that rising prices dominate Americans’ economic concerns, with inflation fears the highest since 1985.</td>\n",
       "      <td>Americans, especially Republicans, are getting more worried about inflation.</td>\n",
       "    </tr>\n",
       "    <tr>\n",
       "      <th>20405</th>\n",
       "      <td>Scientists have been keeping an eye on BA.2, one of three genetically distinct varieties of the Omicron variant of the coronavirus.</td>\n",
       "      <td>The BA.2 subvariant of Omicron accounts for over half of new U.S. coronavirus cases, the C.D.C. estimates.</td>\n",
       "    </tr>\n",
       "    <tr>\n",
       "      <th>20406</th>\n",
       "      <td>Twenty-one Republican state attorneys general filed a lawsuit against the Biden administration on Tuesday to block the federal mask mandate on public transportation.</td>\n",
       "      <td>Twenty-one states file a lawsuit to block the mask mandate on public transportation.</td>\n",
       "    </tr>\n",
       "    <tr>\n",
       "      <th>20407</th>\n",
       "      <td>The bill, named for Emmett Till, a Black boy who was murdered in Mississippi in 1955, for the first time explicitly criminalized an act that had come to symbolize the grim history of racism in the United States.</td>\n",
       "      <td>Biden Signs Bill Making Lynching a Federal Crime</td>\n",
       "    </tr>\n",
       "  </tbody>\n",
       "</table>\n",
       "<p>20408 rows × 2 columns</p>\n",
       "</div>"
      ],
      "text/plain": [
       "                                                                                                                                                                                                                  abstract  \\\n",
       "0                                                                                         With the New Start treaty nearly wrapped up, President Obama should begin discussing other, more far-reaching deals with Russia.   \n",
       "1                                                                                                                                                      A response to a plea by Israel for the release of Jonathan Pollard.   \n",
       "2                                                                                                                    Letters to the editor regarding tensions between New York medical schools and those in the Caribbean.   \n",
       "3                                                                                    Canada beat the United States in the semifinals of the world junior tournament, advancing to the final for the 10th consecutive year.   \n",
       "4                                                                                       Kristine Lilly, who holds the world record with 352 international appearances for the U.S., announced her retirement on Wednesday.   \n",
       "...                                                                                                                                                                                                                    ...   \n",
       "20403                                                   The job market remained very strong last month, suggesting that workers remain in high demand and are still quitting more often, a Labor Department report showed.   \n",
       "20404                                                                                     Recent poll data suggests that rising prices dominate Americans’ economic concerns, with inflation fears the highest since 1985.   \n",
       "20405                                                                                  Scientists have been keeping an eye on BA.2, one of three genetically distinct varieties of the Omicron variant of the coronavirus.   \n",
       "20406                                                Twenty-one Republican state attorneys general filed a lawsuit against the Biden administration on Tuesday to block the federal mask mandate on public transportation.   \n",
       "20407  The bill, named for Emmett Till, a Black boy who was murdered in Mississippi in 1955, for the first time explicitly criminalized an act that had come to symbolize the grim history of racism in the United States.   \n",
       "\n",
       "                                                                                                         headline  \n",
       "0                                                                                               The Next Treaties  \n",
       "1                                                                                      Plea for Pollard’s Release  \n",
       "2                                                                                    Where Do Doctors Learn Best?  \n",
       "3                                                            Canada Beats United States in World Junior Semifinal  \n",
       "4                                                                  Lilly, Iron Lady of U.S. Soccer, Retires at 39  \n",
       "...                                                                                                           ...  \n",
       "20403                                                  More workers quit in February as job openings stayed high.  \n",
       "20404                                Americans, especially Republicans, are getting more worried about inflation.  \n",
       "20405  The BA.2 subvariant of Omicron accounts for over half of new U.S. coronavirus cases, the C.D.C. estimates.  \n",
       "20406                        Twenty-one states file a lawsuit to block the mask mandate on public transportation.  \n",
       "20407                                                            Biden Signs Bill Making Lynching a Federal Crime  \n",
       "\n",
       "[20408 rows x 2 columns]"
      ]
     },
     "execution_count": 45,
     "metadata": {},
     "output_type": "execute_result"
    }
   ],
   "source": [
    "X_train"
   ]
  },
  {
   "cell_type": "code",
   "execution_count": 46,
   "id": "05e8009a-36b1-4d5b-af08-c816de356108",
   "metadata": {},
   "outputs": [
    {
     "data": {
      "text/plain": [
       "0        1\n",
       "1        1\n",
       "2        1\n",
       "3        0\n",
       "4        0\n",
       "        ..\n",
       "20403    0\n",
       "20404    0\n",
       "20405    0\n",
       "20406    0\n",
       "20407    0\n",
       "Name: section_name, Length: 20408, dtype: int64"
      ]
     },
     "execution_count": 46,
     "metadata": {},
     "output_type": "execute_result"
    }
   ],
   "source": [
    "y_train"
   ]
  },
  {
   "cell_type": "markdown",
   "id": "e7b03c43-e289-4a4d-8fdd-f23a8315dbba",
   "metadata": {},
   "source": [
    "### Finally, we proceed to new label modeling"
   ]
  },
  {
   "cell_type": "code",
   "execution_count": 51,
   "id": "4220e26c-ef7b-45d9-9831-64a260a89168",
   "metadata": {},
   "outputs": [],
   "source": [
    "df_train = pd.read_csv('/Users/ben/Desktop/DSI_GA_Materials/capstone/Capstone_Project_backup/Data/unlabeled_train.csv')\n"
   ]
  },
  {
   "cell_type": "code",
   "execution_count": 58,
   "id": "dba2d695-a15f-4e47-bf53-2827bbe96a18",
   "metadata": {},
   "outputs": [],
   "source": [
    "# Define weights for each binary labeling function\n",
    "weight_lf_keyword_my_binary = 0.05\n",
    "weight_lf_regex_fake_news_binary = 0.1\n",
    "weight_lf_regex_subjective_binary = 0.1\n",
    "weight_lf_long_combined_text_binary = 0.2\n",
    "weight_lf_textblob_polarity_binary = 0.1\n",
    "weight_lf_textblob_subjectivity_binary = 0.3\n",
    "weight_lf_past_tense_keywords_binary = 0.05\n",
    "weight_lf_present_tense_keywords_binary = 0.05\n",
    "weight_lf_active_voice_keywords_binary = 0.05\n",
    "\n",
    "@labeling_function()\n",
    "def combined_binary_bias_score(x):\n",
    "    \"\"\"Combine binary labeling functions into a linear equation.\"\"\"\n",
    "    lf1_score = lf_keyword_my_binary(x) * weight_lf_keyword_my_binary\n",
    "    lf2_score = lf_regex_fake_news_binary(x) * weight_lf_regex_fake_news_binary\n",
    "    lf3_score = lf_regex_subjective_binary(x) * weight_lf_regex_subjective_binary\n",
    "    lf4_score = lf_long_combined_text_binary(x) * weight_lf_long_combined_text_binary\n",
    "    lf5_score = lf_textblob_polarity_binary(x) * weight_lf_textblob_polarity_binary\n",
    "    lf6_score = lf_textblob_subjectivity_binary(x) * weight_lf_textblob_subjectivity_binary\n",
    "    lf7_score = lf_past_tense_keywords_binary(x) * weight_lf_past_tense_keywords_binary\n",
    "    lf8_score = lf_present_tense_keywords_binary(x) * weight_lf_present_tense_keywords_binary\n",
    "    lf9_score = lf_active_voice_keywords_binary(x) * weight_lf_active_voice_keywords_binary\n",
    "\n",
    "    # Combine scores with weights\n",
    "    combined_score = (\n",
    "        lf1_score + lf2_score + lf3_score + lf4_score +\n",
    "        lf5_score + lf6_score \n",
    "        + lf7_score + lf8_score + lf9_score\n",
    "    )\n",
    "\n",
    "    # Normalize to the range [0, 1]\n",
    "    normalized_score = max(0, min(combined_score, 1))\n",
    "\n",
    "    return normalized_score\n",
    "\n",
    "    # Combine scores with weights\n",
    "    combined_score = lf1_score + lf2_score + lf3_score + lf4_score + lf5_score + lf6_score\n",
    "\n",
    "    # Normalize to the range [0, 1]\n",
    "    normalized_score = max(0, min(combined_score, 1))\n",
    "\n",
    "    return normalized_score\n"
   ]
  },
  {
   "cell_type": "code",
   "execution_count": 59,
   "id": "11f4b318-b3bb-4ffe-ac34-cdfd4a31acdb",
   "metadata": {},
   "outputs": [],
   "source": [
    "df_train[\"cohen_kappa_label\"] = df_train[\"abstracts_headlines\"].apply(combined_binary_bias_score)\n"
   ]
  },
  {
   "cell_type": "code",
   "execution_count": 60,
   "id": "2ec42775-9ef2-4104-97b0-4019ca6a25eb",
   "metadata": {},
   "outputs": [
    {
     "data": {
      "text/plain": [
       "cohen_kappa_label\n",
       "0.05    0.473540\n",
       "0.35    0.249265\n",
       "0.15    0.166748\n",
       "0.45    0.064436\n",
       "0.10    0.011123\n",
       "0.00    0.010241\n",
       "0.25    0.008820\n",
       "0.30    0.004214\n",
       "0.20    0.004116\n",
       "0.55    0.003675\n",
       "0.40    0.001666\n",
       "0.50    0.000980\n",
       "0.40    0.000882\n",
       "0.60    0.000098\n",
       "0.35    0.000049\n",
       "0.45    0.000049\n",
       "0.65    0.000049\n",
       "0.45    0.000049\n",
       "Name: proportion, dtype: float64"
      ]
     },
     "execution_count": 60,
     "metadata": {},
     "output_type": "execute_result"
    }
   ],
   "source": [
    "df_train[\"cohen_kappa_label\"].value_counts(normalize=True)"
   ]
  },
  {
   "cell_type": "code",
   "execution_count": 61,
   "id": "124a9e59-3704-4292-a6c0-c02155ac7c1c",
   "metadata": {},
   "outputs": [
    {
     "data": {
      "image/png": "[encoded data removed]",
      "text/plain": [
       "<Figure size 640x480 with 1 Axes>"
      ]
     },
     "metadata": {},
     "output_type": "display_data"
    }
   ],
   "source": [
    "sns.histplot(df_train[\"cohen_kappa_label\"], bins=10, kde=False, color='skyblue', edgecolor='black')\n",
    "\n",
    "plt.xlabel('Cohen Kappa Bias Score')\n",
    "plt.ylabel('Frequency')\n",
    "plt.title('Distribution of Combined Cohen Kappa Bias Scores')\n",
    "plt.show()"
   ]
  },
  {
   "cell_type": "code",
   "execution_count": 88,
   "id": "5b5773b0-d907-4dfe-a139-1fa3060dcbc0",
   "metadata": {},
   "outputs": [
    {
     "data": {
      "image/png": "[encoded data removed]",
      "text/plain": [
       "<Figure size 640x480 with 1 Axes>"
      ]
     },
     "metadata": {},
     "output_type": "display_data"
    }
   ],
   "source": [
    "sns.histplot(df_train[\"cohen_kappa_label\"], bins=10, kde=True, color='purple', edgecolor='black',\n",
    "             kde_kws={'bw_method': 0.175})\n",
    "\n",
    "plt.xlabel('Cohen Kappa Bias Score')\n",
    "plt.ylabel('Frequency')\n",
    "plt.title('Distribution of Combined Cohen Kappa Bias Scores with Two Bell Curves')\n",
    "plt.show()"
   ]
  },
  {
   "cell_type": "code",
   "execution_count": 63,
   "id": "06454b88-7229-43c9-935e-51d96d13671f",
   "metadata": {},
   "outputs": [],
   "source": [
    "bins = [0, 0.2, 0.4, 0.6, 0.8, 1.0]\n",
    "labels = ['none_to_slight', 'fair', 'moderate', 'substantial', 'almost_perfect']\n",
    "\n",
    "# Fill NaN values with a specific value (e.g., -1)\n",
    "df_train['cohen_kappa_label'] = df_train['cohen_kappa_label'].fillna(-1)\n",
    "\n",
    "# Use get_dummies with dummy_na parameter\n",
    "df_dummies = pd.get_dummies(pd.cut(df_train['cohen_kappa_label'], bins=bins, labels=labels), dummy_na=True,\n",
    "                             prefix='cohen_kappa_range', dtype=int)\n",
    "\n",
    "# Concatenate the dummy columns to the original DataFrame\n",
    "df_train = pd.concat([df_train, df_dummies], axis=1)"
   ]
  },
  {
   "cell_type": "code",
   "execution_count": 64,
   "id": "7a5bf7b7-aa84-40d8-a07c-692641bc8e32",
   "metadata": {},
   "outputs": [
    {
     "data": {
      "text/html": [
       "<div>\n",
       "<style scoped>\n",
       "    .dataframe tbody tr th:only-of-type {\n",
       "        vertical-align: middle;\n",
       "    }\n",
       "\n",
       "    .dataframe tbody tr th {\n",
       "        vertical-align: top;\n",
       "    }\n",
       "\n",
       "    .dataframe thead th {\n",
       "        text-align: right;\n",
       "    }\n",
       "</style>\n",
       "<table border=\"1\" class=\"dataframe\">\n",
       "  <thead>\n",
       "    <tr style=\"text-align: right;\">\n",
       "      <th></th>\n",
       "      <th>Unnamed: 0</th>\n",
       "      <th>abstracts_headlines</th>\n",
       "      <th>section_name</th>\n",
       "      <th>cohen_kappa_label</th>\n",
       "      <th>cohen_kappa_range_none_to_slight</th>\n",
       "      <th>cohen_kappa_range_fair</th>\n",
       "      <th>cohen_kappa_range_moderate</th>\n",
       "      <th>cohen_kappa_range_substantial</th>\n",
       "      <th>cohen_kappa_range_almost_perfect</th>\n",
       "      <th>cohen_kappa_range_nan</th>\n",
       "    </tr>\n",
       "  </thead>\n",
       "  <tbody>\n",
       "    <tr>\n",
       "      <th>0</th>\n",
       "      <td>0</td>\n",
       "      <td>new start treaty nearly wrapped president obama begin discussing far reaching deals russia next treaties</td>\n",
       "      <td>1</td>\n",
       "      <td>0.05</td>\n",
       "      <td>1</td>\n",
       "      <td>0</td>\n",
       "      <td>0</td>\n",
       "      <td>0</td>\n",
       "      <td>0</td>\n",
       "      <td>0</td>\n",
       "    </tr>\n",
       "    <tr>\n",
       "      <th>1</th>\n",
       "      <td>1</td>\n",
       "      <td>response plea israel release jonathan pollard plea pollard release</td>\n",
       "      <td>1</td>\n",
       "      <td>0.00</td>\n",
       "      <td>0</td>\n",
       "      <td>0</td>\n",
       "      <td>0</td>\n",
       "      <td>0</td>\n",
       "      <td>0</td>\n",
       "      <td>1</td>\n",
       "    </tr>\n",
       "    <tr>\n",
       "      <th>2</th>\n",
       "      <td>2</td>\n",
       "      <td>letters editor regarding tensions new york medical schools caribbean doctors learn best</td>\n",
       "      <td>1</td>\n",
       "      <td>0.05</td>\n",
       "      <td>1</td>\n",
       "      <td>0</td>\n",
       "      <td>0</td>\n",
       "      <td>0</td>\n",
       "      <td>0</td>\n",
       "      <td>0</td>\n",
       "    </tr>\n",
       "    <tr>\n",
       "      <th>3</th>\n",
       "      <td>3</td>\n",
       "      <td>canada beat united states semifinals world junior tournament advancing final th consecutive year canada beats united states world junior semifinal</td>\n",
       "      <td>0</td>\n",
       "      <td>0.35</td>\n",
       "      <td>0</td>\n",
       "      <td>1</td>\n",
       "      <td>0</td>\n",
       "      <td>0</td>\n",
       "      <td>0</td>\n",
       "      <td>0</td>\n",
       "    </tr>\n",
       "    <tr>\n",
       "      <th>4</th>\n",
       "      <td>4</td>\n",
       "      <td>kristine lilly holds world record international appearances u announced retirement wednesday lilly iron lady u soccer retires</td>\n",
       "      <td>0</td>\n",
       "      <td>0.05</td>\n",
       "      <td>1</td>\n",
       "      <td>0</td>\n",
       "      <td>0</td>\n",
       "      <td>0</td>\n",
       "      <td>0</td>\n",
       "      <td>0</td>\n",
       "    </tr>\n",
       "    <tr>\n",
       "      <th>...</th>\n",
       "      <td>...</td>\n",
       "      <td>...</td>\n",
       "      <td>...</td>\n",
       "      <td>...</td>\n",
       "      <td>...</td>\n",
       "      <td>...</td>\n",
       "      <td>...</td>\n",
       "      <td>...</td>\n",
       "      <td>...</td>\n",
       "      <td>...</td>\n",
       "    </tr>\n",
       "    <tr>\n",
       "      <th>20403</th>\n",
       "      <td>20403</td>\n",
       "      <td>job market remained strong last month suggesting workers remain high demand still quitting often labor department report showed workers quit february job openings stayed high</td>\n",
       "      <td>0</td>\n",
       "      <td>0.05</td>\n",
       "      <td>1</td>\n",
       "      <td>0</td>\n",
       "      <td>0</td>\n",
       "      <td>0</td>\n",
       "      <td>0</td>\n",
       "      <td>0</td>\n",
       "    </tr>\n",
       "    <tr>\n",
       "      <th>20404</th>\n",
       "      <td>20404</td>\n",
       "      <td>recent poll data suggests rising prices dominate americans economic concerns inflation fears highest since americans especially republicans getting worried inflation</td>\n",
       "      <td>0</td>\n",
       "      <td>0.05</td>\n",
       "      <td>1</td>\n",
       "      <td>0</td>\n",
       "      <td>0</td>\n",
       "      <td>0</td>\n",
       "      <td>0</td>\n",
       "      <td>0</td>\n",
       "    </tr>\n",
       "    <tr>\n",
       "      <th>20405</th>\n",
       "      <td>20405</td>\n",
       "      <td>scientists keeping eye ba one three genetically distinct varieties omicron variant coronavirus ba subvariant omicron accounts half new u coronavirus cases c c estimates</td>\n",
       "      <td>0</td>\n",
       "      <td>0.05</td>\n",
       "      <td>1</td>\n",
       "      <td>0</td>\n",
       "      <td>0</td>\n",
       "      <td>0</td>\n",
       "      <td>0</td>\n",
       "      <td>0</td>\n",
       "    </tr>\n",
       "    <tr>\n",
       "      <th>20406</th>\n",
       "      <td>20406</td>\n",
       "      <td>twenty one republican state attorneys general filed lawsuit biden administration tuesday block federal mask mandate public transportation twenty one states file lawsuit block mask mandate public transportation</td>\n",
       "      <td>0</td>\n",
       "      <td>0.05</td>\n",
       "      <td>1</td>\n",
       "      <td>0</td>\n",
       "      <td>0</td>\n",
       "      <td>0</td>\n",
       "      <td>0</td>\n",
       "      <td>0</td>\n",
       "    </tr>\n",
       "    <tr>\n",
       "      <th>20407</th>\n",
       "      <td>20407</td>\n",
       "      <td>bill named emmett till black boy murdered mississippi first time explicitly criminalized act come symbolize grim history racism united states biden signs bill making lynching federal crime</td>\n",
       "      <td>0</td>\n",
       "      <td>0.45</td>\n",
       "      <td>0</td>\n",
       "      <td>0</td>\n",
       "      <td>1</td>\n",
       "      <td>0</td>\n",
       "      <td>0</td>\n",
       "      <td>0</td>\n",
       "    </tr>\n",
       "  </tbody>\n",
       "</table>\n",
       "<p>20408 rows × 10 columns</p>\n",
       "</div>"
      ],
      "text/plain": [
       "       Unnamed: 0  \\\n",
       "0               0   \n",
       "1               1   \n",
       "2               2   \n",
       "3               3   \n",
       "4               4   \n",
       "...           ...   \n",
       "20403       20403   \n",
       "20404       20404   \n",
       "20405       20405   \n",
       "20406       20406   \n",
       "20407       20407   \n",
       "\n",
       "                                                                                                                                                                                                     abstracts_headlines  \\\n",
       "0                                                                                                               new start treaty nearly wrapped president obama begin discussing far reaching deals russia next treaties   \n",
       "1                                                                                                                                                     response plea israel release jonathan pollard plea pollard release   \n",
       "2                                                                                                                                letters editor regarding tensions new york medical schools caribbean doctors learn best   \n",
       "3                                                                     canada beat united states semifinals world junior tournament advancing final th consecutive year canada beats united states world junior semifinal   \n",
       "4                                                                                          kristine lilly holds world record international appearances u announced retirement wednesday lilly iron lady u soccer retires   \n",
       "...                                                                                                                                                                                                                  ...   \n",
       "20403                                     job market remained strong last month suggesting workers remain high demand still quitting often labor department report showed workers quit february job openings stayed high   \n",
       "20404                                              recent poll data suggests rising prices dominate americans economic concerns inflation fears highest since americans especially republicans getting worried inflation   \n",
       "20405                                           scientists keeping eye ba one three genetically distinct varieties omicron variant coronavirus ba subvariant omicron accounts half new u coronavirus cases c c estimates   \n",
       "20406  twenty one republican state attorneys general filed lawsuit biden administration tuesday block federal mask mandate public transportation twenty one states file lawsuit block mask mandate public transportation   \n",
       "20407                       bill named emmett till black boy murdered mississippi first time explicitly criminalized act come symbolize grim history racism united states biden signs bill making lynching federal crime   \n",
       "\n",
       "       section_name  cohen_kappa_label  cohen_kappa_range_none_to_slight  \\\n",
       "0                 1               0.05                                 1   \n",
       "1                 1               0.00                                 0   \n",
       "2                 1               0.05                                 1   \n",
       "3                 0               0.35                                 0   \n",
       "4                 0               0.05                                 1   \n",
       "...             ...                ...                               ...   \n",
       "20403             0               0.05                                 1   \n",
       "20404             0               0.05                                 1   \n",
       "20405             0               0.05                                 1   \n",
       "20406             0               0.05                                 1   \n",
       "20407             0               0.45                                 0   \n",
       "\n",
       "       cohen_kappa_range_fair  cohen_kappa_range_moderate  \\\n",
       "0                           0                           0   \n",
       "1                           0                           0   \n",
       "2                           0                           0   \n",
       "3                           1                           0   \n",
       "4                           0                           0   \n",
       "...                       ...                         ...   \n",
       "20403                       0                           0   \n",
       "20404                       0                           0   \n",
       "20405                       0                           0   \n",
       "20406                       0                           0   \n",
       "20407                       0                           1   \n",
       "\n",
       "       cohen_kappa_range_substantial  cohen_kappa_range_almost_perfect  \\\n",
       "0                                  0                                 0   \n",
       "1                                  0                                 0   \n",
       "2                                  0                                 0   \n",
       "3                                  0                                 0   \n",
       "4                                  0                                 0   \n",
       "...                              ...                               ...   \n",
       "20403                              0                                 0   \n",
       "20404                              0                                 0   \n",
       "20405                              0                                 0   \n",
       "20406                              0                                 0   \n",
       "20407                              0                                 0   \n",
       "\n",
       "       cohen_kappa_range_nan  \n",
       "0                          0  \n",
       "1                          1  \n",
       "2                          0  \n",
       "3                          0  \n",
       "4                          0  \n",
       "...                      ...  \n",
       "20403                      0  \n",
       "20404                      0  \n",
       "20405                      0  \n",
       "20406                      0  \n",
       "20407                      0  \n",
       "\n",
       "[20408 rows x 10 columns]"
      ]
     },
     "execution_count": 64,
     "metadata": {},
     "output_type": "execute_result"
    }
   ],
   "source": [
    "df_train"
   ]
  },
  {
   "cell_type": "code",
   "execution_count": 65,
   "id": "7e0885d4-f768-4984-9171-017569b63116",
   "metadata": {},
   "outputs": [],
   "source": [
    "bool_columns = [col for col in df_train.columns if type(df_train[col]) == 'bool']\n",
    "df_train = df_train.drop(columns=bool_columns)"
   ]
  },
  {
   "cell_type": "code",
   "execution_count": 66,
   "id": "774f6fc7-d747-40af-a356-96d0b92c5c18",
   "metadata": {},
   "outputs": [
    {
     "data": {
      "text/html": [
       "<div>\n",
       "<style scoped>\n",
       "    .dataframe tbody tr th:only-of-type {\n",
       "        vertical-align: middle;\n",
       "    }\n",
       "\n",
       "    .dataframe tbody tr th {\n",
       "        vertical-align: top;\n",
       "    }\n",
       "\n",
       "    .dataframe thead th {\n",
       "        text-align: right;\n",
       "    }\n",
       "</style>\n",
       "<table border=\"1\" class=\"dataframe\">\n",
       "  <thead>\n",
       "    <tr style=\"text-align: right;\">\n",
       "      <th></th>\n",
       "      <th>abstracts_headlines</th>\n",
       "      <th>section_name</th>\n",
       "      <th>cohen_kappa_label</th>\n",
       "      <th>cohen_kappa_range_none_to_slight</th>\n",
       "      <th>cohen_kappa_range_fair</th>\n",
       "      <th>cohen_kappa_range_moderate</th>\n",
       "      <th>cohen_kappa_range_substantial</th>\n",
       "      <th>cohen_kappa_range_almost_perfect</th>\n",
       "      <th>cohen_kappa_range_nan</th>\n",
       "    </tr>\n",
       "  </thead>\n",
       "  <tbody>\n",
       "    <tr>\n",
       "      <th>0</th>\n",
       "      <td>new start treaty nearly wrapped president obama begin discussing far reaching deals russia next treaties</td>\n",
       "      <td>1</td>\n",
       "      <td>0.05</td>\n",
       "      <td>1</td>\n",
       "      <td>0</td>\n",
       "      <td>0</td>\n",
       "      <td>0</td>\n",
       "      <td>0</td>\n",
       "      <td>0</td>\n",
       "    </tr>\n",
       "    <tr>\n",
       "      <th>1</th>\n",
       "      <td>response plea israel release jonathan pollard plea pollard release</td>\n",
       "      <td>1</td>\n",
       "      <td>0.00</td>\n",
       "      <td>0</td>\n",
       "      <td>0</td>\n",
       "      <td>0</td>\n",
       "      <td>0</td>\n",
       "      <td>0</td>\n",
       "      <td>1</td>\n",
       "    </tr>\n",
       "    <tr>\n",
       "      <th>2</th>\n",
       "      <td>letters editor regarding tensions new york medical schools caribbean doctors learn best</td>\n",
       "      <td>1</td>\n",
       "      <td>0.05</td>\n",
       "      <td>1</td>\n",
       "      <td>0</td>\n",
       "      <td>0</td>\n",
       "      <td>0</td>\n",
       "      <td>0</td>\n",
       "      <td>0</td>\n",
       "    </tr>\n",
       "    <tr>\n",
       "      <th>3</th>\n",
       "      <td>canada beat united states semifinals world junior tournament advancing final th consecutive year canada beats united states world junior semifinal</td>\n",
       "      <td>0</td>\n",
       "      <td>0.35</td>\n",
       "      <td>0</td>\n",
       "      <td>1</td>\n",
       "      <td>0</td>\n",
       "      <td>0</td>\n",
       "      <td>0</td>\n",
       "      <td>0</td>\n",
       "    </tr>\n",
       "    <tr>\n",
       "      <th>4</th>\n",
       "      <td>kristine lilly holds world record international appearances u announced retirement wednesday lilly iron lady u soccer retires</td>\n",
       "      <td>0</td>\n",
       "      <td>0.05</td>\n",
       "      <td>1</td>\n",
       "      <td>0</td>\n",
       "      <td>0</td>\n",
       "      <td>0</td>\n",
       "      <td>0</td>\n",
       "      <td>0</td>\n",
       "    </tr>\n",
       "    <tr>\n",
       "      <th>...</th>\n",
       "      <td>...</td>\n",
       "      <td>...</td>\n",
       "      <td>...</td>\n",
       "      <td>...</td>\n",
       "      <td>...</td>\n",
       "      <td>...</td>\n",
       "      <td>...</td>\n",
       "      <td>...</td>\n",
       "      <td>...</td>\n",
       "    </tr>\n",
       "    <tr>\n",
       "      <th>20403</th>\n",
       "      <td>job market remained strong last month suggesting workers remain high demand still quitting often labor department report showed workers quit february job openings stayed high</td>\n",
       "      <td>0</td>\n",
       "      <td>0.05</td>\n",
       "      <td>1</td>\n",
       "      <td>0</td>\n",
       "      <td>0</td>\n",
       "      <td>0</td>\n",
       "      <td>0</td>\n",
       "      <td>0</td>\n",
       "    </tr>\n",
       "    <tr>\n",
       "      <th>20404</th>\n",
       "      <td>recent poll data suggests rising prices dominate americans economic concerns inflation fears highest since americans especially republicans getting worried inflation</td>\n",
       "      <td>0</td>\n",
       "      <td>0.05</td>\n",
       "      <td>1</td>\n",
       "      <td>0</td>\n",
       "      <td>0</td>\n",
       "      <td>0</td>\n",
       "      <td>0</td>\n",
       "      <td>0</td>\n",
       "    </tr>\n",
       "    <tr>\n",
       "      <th>20405</th>\n",
       "      <td>scientists keeping eye ba one three genetically distinct varieties omicron variant coronavirus ba subvariant omicron accounts half new u coronavirus cases c c estimates</td>\n",
       "      <td>0</td>\n",
       "      <td>0.05</td>\n",
       "      <td>1</td>\n",
       "      <td>0</td>\n",
       "      <td>0</td>\n",
       "      <td>0</td>\n",
       "      <td>0</td>\n",
       "      <td>0</td>\n",
       "    </tr>\n",
       "    <tr>\n",
       "      <th>20406</th>\n",
       "      <td>twenty one republican state attorneys general filed lawsuit biden administration tuesday block federal mask mandate public transportation twenty one states file lawsuit block mask mandate public transportation</td>\n",
       "      <td>0</td>\n",
       "      <td>0.05</td>\n",
       "      <td>1</td>\n",
       "      <td>0</td>\n",
       "      <td>0</td>\n",
       "      <td>0</td>\n",
       "      <td>0</td>\n",
       "      <td>0</td>\n",
       "    </tr>\n",
       "    <tr>\n",
       "      <th>20407</th>\n",
       "      <td>bill named emmett till black boy murdered mississippi first time explicitly criminalized act come symbolize grim history racism united states biden signs bill making lynching federal crime</td>\n",
       "      <td>0</td>\n",
       "      <td>0.45</td>\n",
       "      <td>0</td>\n",
       "      <td>0</td>\n",
       "      <td>1</td>\n",
       "      <td>0</td>\n",
       "      <td>0</td>\n",
       "      <td>0</td>\n",
       "    </tr>\n",
       "  </tbody>\n",
       "</table>\n",
       "<p>20408 rows × 9 columns</p>\n",
       "</div>"
      ],
      "text/plain": [
       "                                                                                                                                                                                                     abstracts_headlines  \\\n",
       "0                                                                                                               new start treaty nearly wrapped president obama begin discussing far reaching deals russia next treaties   \n",
       "1                                                                                                                                                     response plea israel release jonathan pollard plea pollard release   \n",
       "2                                                                                                                                letters editor regarding tensions new york medical schools caribbean doctors learn best   \n",
       "3                                                                     canada beat united states semifinals world junior tournament advancing final th consecutive year canada beats united states world junior semifinal   \n",
       "4                                                                                          kristine lilly holds world record international appearances u announced retirement wednesday lilly iron lady u soccer retires   \n",
       "...                                                                                                                                                                                                                  ...   \n",
       "20403                                     job market remained strong last month suggesting workers remain high demand still quitting often labor department report showed workers quit february job openings stayed high   \n",
       "20404                                              recent poll data suggests rising prices dominate americans economic concerns inflation fears highest since americans especially republicans getting worried inflation   \n",
       "20405                                           scientists keeping eye ba one three genetically distinct varieties omicron variant coronavirus ba subvariant omicron accounts half new u coronavirus cases c c estimates   \n",
       "20406  twenty one republican state attorneys general filed lawsuit biden administration tuesday block federal mask mandate public transportation twenty one states file lawsuit block mask mandate public transportation   \n",
       "20407                       bill named emmett till black boy murdered mississippi first time explicitly criminalized act come symbolize grim history racism united states biden signs bill making lynching federal crime   \n",
       "\n",
       "       section_name  cohen_kappa_label  cohen_kappa_range_none_to_slight  \\\n",
       "0                 1               0.05                                 1   \n",
       "1                 1               0.00                                 0   \n",
       "2                 1               0.05                                 1   \n",
       "3                 0               0.35                                 0   \n",
       "4                 0               0.05                                 1   \n",
       "...             ...                ...                               ...   \n",
       "20403             0               0.05                                 1   \n",
       "20404             0               0.05                                 1   \n",
       "20405             0               0.05                                 1   \n",
       "20406             0               0.05                                 1   \n",
       "20407             0               0.45                                 0   \n",
       "\n",
       "       cohen_kappa_range_fair  cohen_kappa_range_moderate  \\\n",
       "0                           0                           0   \n",
       "1                           0                           0   \n",
       "2                           0                           0   \n",
       "3                           1                           0   \n",
       "4                           0                           0   \n",
       "...                       ...                         ...   \n",
       "20403                       0                           0   \n",
       "20404                       0                           0   \n",
       "20405                       0                           0   \n",
       "20406                       0                           0   \n",
       "20407                       0                           1   \n",
       "\n",
       "       cohen_kappa_range_substantial  cohen_kappa_range_almost_perfect  \\\n",
       "0                                  0                                 0   \n",
       "1                                  0                                 0   \n",
       "2                                  0                                 0   \n",
       "3                                  0                                 0   \n",
       "4                                  0                                 0   \n",
       "...                              ...                               ...   \n",
       "20403                              0                                 0   \n",
       "20404                              0                                 0   \n",
       "20405                              0                                 0   \n",
       "20406                              0                                 0   \n",
       "20407                              0                                 0   \n",
       "\n",
       "       cohen_kappa_range_nan  \n",
       "0                          0  \n",
       "1                          1  \n",
       "2                          0  \n",
       "3                          0  \n",
       "4                          0  \n",
       "...                      ...  \n",
       "20403                      0  \n",
       "20404                      0  \n",
       "20405                      0  \n",
       "20406                      0  \n",
       "20407                      0  \n",
       "\n",
       "[20408 rows x 9 columns]"
      ]
     },
     "execution_count": 66,
     "metadata": {},
     "output_type": "execute_result"
    }
   ],
   "source": [
    "df_train = df_train.drop(columns='Unnamed: 0')\n",
    "df_train"
   ]
  },
  {
   "cell_type": "markdown",
   "id": "4c21c054",
   "metadata": {},
   "source": []
  },
  {
   "cell_type": "code",
   "execution_count": 83,
   "id": "cd69d5b4",
   "metadata": {},
   "outputs": [],
   "source": [
    "df_train.to_csv('/Users/ben/Desktop/DSI_GA_Materials/capstone/Capstone_Project_backup/Data/new_train_neg_words.csv')"
   ]
  },
  {
   "cell_type": "markdown",
   "id": "e1df9d52-3980-4c2f-818b-f01e5dcdd98e",
   "metadata": {},
   "source": [
    "### Training on the Multilabeled Data"
   ]
  },
  {
   "cell_type": "code",
   "execution_count": 70,
   "id": "a336a0e4-15a9-4b33-baa2-0bd544bad169",
   "metadata": {},
   "outputs": [
    {
     "data": {
      "text/html": [
       "<div>\n",
       "<style scoped>\n",
       "    .dataframe tbody tr th:only-of-type {\n",
       "        vertical-align: middle;\n",
       "    }\n",
       "\n",
       "    .dataframe tbody tr th {\n",
       "        vertical-align: top;\n",
       "    }\n",
       "\n",
       "    .dataframe thead th {\n",
       "        text-align: right;\n",
       "    }\n",
       "</style>\n",
       "<table border=\"1\" class=\"dataframe\">\n",
       "  <thead>\n",
       "    <tr style=\"text-align: right;\">\n",
       "      <th></th>\n",
       "      <th>cohen_kappa_range_fair</th>\n",
       "      <th>cohen_kappa_range_moderate</th>\n",
       "      <th>cohen_kappa_range_substantial</th>\n",
       "      <th>cohen_kappa_range_almost_perfect</th>\n",
       "      <th>cohen_kappa_range_nan</th>\n",
       "    </tr>\n",
       "  </thead>\n",
       "  <tbody>\n",
       "    <tr>\n",
       "      <th>0</th>\n",
       "      <td>0</td>\n",
       "      <td>0</td>\n",
       "      <td>0</td>\n",
       "      <td>0</td>\n",
       "      <td>0</td>\n",
       "    </tr>\n",
       "    <tr>\n",
       "      <th>1</th>\n",
       "      <td>0</td>\n",
       "      <td>0</td>\n",
       "      <td>0</td>\n",
       "      <td>0</td>\n",
       "      <td>1</td>\n",
       "    </tr>\n",
       "    <tr>\n",
       "      <th>2</th>\n",
       "      <td>0</td>\n",
       "      <td>0</td>\n",
       "      <td>0</td>\n",
       "      <td>0</td>\n",
       "      <td>0</td>\n",
       "    </tr>\n",
       "    <tr>\n",
       "      <th>3</th>\n",
       "      <td>1</td>\n",
       "      <td>0</td>\n",
       "      <td>0</td>\n",
       "      <td>0</td>\n",
       "      <td>0</td>\n",
       "    </tr>\n",
       "    <tr>\n",
       "      <th>4</th>\n",
       "      <td>0</td>\n",
       "      <td>0</td>\n",
       "      <td>0</td>\n",
       "      <td>0</td>\n",
       "      <td>0</td>\n",
       "    </tr>\n",
       "    <tr>\n",
       "      <th>...</th>\n",
       "      <td>...</td>\n",
       "      <td>...</td>\n",
       "      <td>...</td>\n",
       "      <td>...</td>\n",
       "      <td>...</td>\n",
       "    </tr>\n",
       "    <tr>\n",
       "      <th>20403</th>\n",
       "      <td>0</td>\n",
       "      <td>0</td>\n",
       "      <td>0</td>\n",
       "      <td>0</td>\n",
       "      <td>0</td>\n",
       "    </tr>\n",
       "    <tr>\n",
       "      <th>20404</th>\n",
       "      <td>0</td>\n",
       "      <td>0</td>\n",
       "      <td>0</td>\n",
       "      <td>0</td>\n",
       "      <td>0</td>\n",
       "    </tr>\n",
       "    <tr>\n",
       "      <th>20405</th>\n",
       "      <td>0</td>\n",
       "      <td>0</td>\n",
       "      <td>0</td>\n",
       "      <td>0</td>\n",
       "      <td>0</td>\n",
       "    </tr>\n",
       "    <tr>\n",
       "      <th>20406</th>\n",
       "      <td>0</td>\n",
       "      <td>0</td>\n",
       "      <td>0</td>\n",
       "      <td>0</td>\n",
       "      <td>0</td>\n",
       "    </tr>\n",
       "    <tr>\n",
       "      <th>20407</th>\n",
       "      <td>0</td>\n",
       "      <td>1</td>\n",
       "      <td>0</td>\n",
       "      <td>0</td>\n",
       "      <td>0</td>\n",
       "    </tr>\n",
       "  </tbody>\n",
       "</table>\n",
       "<p>20408 rows × 5 columns</p>\n",
       "</div>"
      ],
      "text/plain": [
       "       cohen_kappa_range_fair  cohen_kappa_range_moderate  \\\n",
       "0                           0                           0   \n",
       "1                           0                           0   \n",
       "2                           0                           0   \n",
       "3                           1                           0   \n",
       "4                           0                           0   \n",
       "...                       ...                         ...   \n",
       "20403                       0                           0   \n",
       "20404                       0                           0   \n",
       "20405                       0                           0   \n",
       "20406                       0                           0   \n",
       "20407                       0                           1   \n",
       "\n",
       "       cohen_kappa_range_substantial  cohen_kappa_range_almost_perfect  \\\n",
       "0                                  0                                 0   \n",
       "1                                  0                                 0   \n",
       "2                                  0                                 0   \n",
       "3                                  0                                 0   \n",
       "4                                  0                                 0   \n",
       "...                              ...                               ...   \n",
       "20403                              0                                 0   \n",
       "20404                              0                                 0   \n",
       "20405                              0                                 0   \n",
       "20406                              0                                 0   \n",
       "20407                              0                                 0   \n",
       "\n",
       "       cohen_kappa_range_nan  \n",
       "0                          0  \n",
       "1                          1  \n",
       "2                          0  \n",
       "3                          0  \n",
       "4                          0  \n",
       "...                      ...  \n",
       "20403                      0  \n",
       "20404                      0  \n",
       "20405                      0  \n",
       "20406                      0  \n",
       "20407                      0  \n",
       "\n",
       "[20408 rows x 5 columns]"
      ]
     },
     "execution_count": 70,
     "metadata": {},
     "output_type": "execute_result"
    }
   ],
   "source": [
    "df_train[df_train.columns[4:9]]"
   ]
  },
  {
   "cell_type": "code",
   "execution_count": 71,
   "id": "3df61bfb-87ca-4a31-943d-5caff83e718f",
   "metadata": {},
   "outputs": [
    {
     "data": {
      "text/html": [
       "<style>#sk-container-id-1 {color: black;}#sk-container-id-1 pre{padding: 0;}#sk-container-id-1 div.sk-toggleable {background-color: white;}#sk-container-id-1 label.sk-toggleable__label {cursor: pointer;display: block;width: 100%;margin-bottom: 0;padding: 0.3em;box-sizing: border-box;text-align: center;}#sk-container-id-1 label.sk-toggleable__label-arrow:before {content: \"▸\";float: left;margin-right: 0.25em;color: #696969;}#sk-container-id-1 label.sk-toggleable__label-arrow:hover:before {color: black;}#sk-container-id-1 div.sk-estimator:hover label.sk-toggleable__label-arrow:before {color: black;}#sk-container-id-1 div.sk-toggleable__content {max-height: 0;max-width: 0;overflow: hidden;text-align: left;background-color: #f0f8ff;}#sk-container-id-1 div.sk-toggleable__content pre {margin: 0.2em;color: black;border-radius: 0.25em;background-color: #f0f8ff;}#sk-container-id-1 input.sk-toggleable__control:checked~div.sk-toggleable__content {max-height: 200px;max-width: 100%;overflow: auto;}#sk-container-id-1 input.sk-toggleable__control:checked~label.sk-toggleable__label-arrow:before {content: \"▾\";}#sk-container-id-1 div.sk-estimator input.sk-toggleable__control:checked~label.sk-toggleable__label {background-color: #d4ebff;}#sk-container-id-1 div.sk-label input.sk-toggleable__control:checked~label.sk-toggleable__label {background-color: #d4ebff;}#sk-container-id-1 input.sk-hidden--visually {border: 0;clip: rect(1px 1px 1px 1px);clip: rect(1px, 1px, 1px, 1px);height: 1px;margin: -1px;overflow: hidden;padding: 0;position: absolute;width: 1px;}#sk-container-id-1 div.sk-estimator {font-family: monospace;background-color: #f0f8ff;border: 1px dotted black;border-radius: 0.25em;box-sizing: border-box;margin-bottom: 0.5em;}#sk-container-id-1 div.sk-estimator:hover {background-color: #d4ebff;}#sk-container-id-1 div.sk-parallel-item::after {content: \"\";width: 100%;border-bottom: 1px solid gray;flex-grow: 1;}#sk-container-id-1 div.sk-label:hover label.sk-toggleable__label {background-color: #d4ebff;}#sk-container-id-1 div.sk-serial::before {content: \"\";position: absolute;border-left: 1px solid gray;box-sizing: border-box;top: 0;bottom: 0;left: 50%;z-index: 0;}#sk-container-id-1 div.sk-serial {display: flex;flex-direction: column;align-items: center;background-color: white;padding-right: 0.2em;padding-left: 0.2em;position: relative;}#sk-container-id-1 div.sk-item {position: relative;z-index: 1;}#sk-container-id-1 div.sk-parallel {display: flex;align-items: stretch;justify-content: center;background-color: white;position: relative;}#sk-container-id-1 div.sk-item::before, #sk-container-id-1 div.sk-parallel-item::before {content: \"\";position: absolute;border-left: 1px solid gray;box-sizing: border-box;top: 0;bottom: 0;left: 50%;z-index: -1;}#sk-container-id-1 div.sk-parallel-item {display: flex;flex-direction: column;z-index: 1;position: relative;background-color: white;}#sk-container-id-1 div.sk-parallel-item:first-child::after {align-self: flex-end;width: 50%;}#sk-container-id-1 div.sk-parallel-item:last-child::after {align-self: flex-start;width: 50%;}#sk-container-id-1 div.sk-parallel-item:only-child::after {width: 0;}#sk-container-id-1 div.sk-dashed-wrapped {border: 1px dashed gray;margin: 0 0.4em 0.5em 0.4em;box-sizing: border-box;padding-bottom: 0.4em;background-color: white;}#sk-container-id-1 div.sk-label label {font-family: monospace;font-weight: bold;display: inline-block;line-height: 1.2em;}#sk-container-id-1 div.sk-label-container {text-align: center;}#sk-container-id-1 div.sk-container {/* jupyter's `normalize.less` sets `[hidden] { display: none; }` but bootstrap.min.css set `[hidden] { display: none !important; }` so we also need the `!important` here to be able to override the default hidden behavior on the sphinx rendered scikit-learn.org. See: https://github.com/scikit-learn/scikit-learn/issues/21755 */display: inline-block !important;position: relative;}#sk-container-id-1 div.sk-text-repr-fallback {display: none;}</style><div id=\"sk-container-id-1\" class=\"sk-top-container\"><div class=\"sk-text-repr-fallback\"><pre>TfidfVectorizer(max_df=0.6, max_features=9000, min_df=5e-05)</pre><b>In a Jupyter environment, please rerun this cell to show the HTML representation or trust the notebook. <br />On GitHub, the HTML representation is unable to render, please try loading this page with nbviewer.org.</b></div><div class=\"sk-container\" hidden><div class=\"sk-item\"><div class=\"sk-estimator sk-toggleable\"><input class=\"sk-toggleable__control sk-hidden--visually\" id=\"sk-estimator-id-1\" type=\"checkbox\" checked><label for=\"sk-estimator-id-1\" class=\"sk-toggleable__label sk-toggleable__label-arrow\">TfidfVectorizer</label><div class=\"sk-toggleable__content\"><pre>TfidfVectorizer(max_df=0.6, max_features=9000, min_df=5e-05)</pre></div></div></div></div></div>"
      ],
      "text/plain": [
       "TfidfVectorizer(max_df=0.6, max_features=9000, min_df=5e-05)"
      ]
     },
     "execution_count": 71,
     "metadata": {},
     "output_type": "execute_result"
    }
   ],
   "source": [
    "X = df_train[\"abstracts_headlines\"]\n",
    "y = df_train[\"cohen_kappa_label\"]\n",
    "'''\n",
    "'rf__max_depth': None,\n",
    " 'rf__min_samples_split': 5,\n",
    " 'rf__n_estimators': 100,\n",
    " 'tvec__max_df': 0.6,\n",
    " 'tvec__max_features': 9000,\n",
    " 'tvec__min_df': 5e-05,\n",
    " 'tvec__ngram_range': (1, 1)}\n",
    " '''\n",
    "vectorizer = TfidfVectorizer(max_features=9000, max_df=0.6, min_df = 5e-05, ngram_range=(1, 1)) # TfidfVectorizer(max_features=2500, max_df=0.9) Resulted in 0.92 train 0.43 test \n",
    "vectorizer.fit(X)"
   ]
  },
  {
   "cell_type": "code",
   "execution_count": 72,
   "id": "82f405b1-4766-4099-a736-43243e411589",
   "metadata": {},
   "outputs": [
    {
     "data": {
      "text/plain": [
       "0        0.05\n",
       "1        0.00\n",
       "2        0.05\n",
       "3        0.35\n",
       "4        0.05\n",
       "         ... \n",
       "20403    0.05\n",
       "20404    0.05\n",
       "20405    0.05\n",
       "20406    0.05\n",
       "20407    0.45\n",
       "Name: cohen_kappa_label, Length: 20408, dtype: float64"
      ]
     },
     "execution_count": 72,
     "metadata": {},
     "output_type": "execute_result"
    }
   ],
   "source": [
    "y"
   ]
  },
  {
   "cell_type": "code",
   "execution_count": 73,
   "id": "3141fb72-abd8-4b6b-9a18-a0ea1a8546ec",
   "metadata": {},
   "outputs": [],
   "source": [
    "X_train, X_test, y_train, y_test = train_test_split(X, \n",
    "                                                    y,\n",
    "                                                    random_state=42)\n",
    "\n",
    "\n",
    "X_train_tfidf = vectorizer.transform(X_train)\n",
    "X_test_tfidf = vectorizer.transform(X_test)"
   ]
  },
  {
   "cell_type": "code",
   "execution_count": 74,
   "id": "0cca5de2-35de-4c4a-a64e-bf69bac7ac52",
   "metadata": {},
   "outputs": [
    {
     "name": "stderr",
     "output_type": "stream",
     "text": [
      "[Parallel(n_jobs=-1)]: Using backend ThreadingBackend with 8 concurrent workers.\n",
      "[Parallel(n_jobs=-1)]: Done  34 tasks      | elapsed:  1.2min\n",
      "[Parallel(n_jobs=-1)]: Done 100 out of 100 | elapsed:  3.0min finished\n"
     ]
    }
   ],
   "source": [
    "clf = RandomForestRegressor(max_depth = None,\n",
    "                            min_samples_split=5,\n",
    "                            n_estimators=100,\n",
    "                            n_jobs=-1,\n",
    "                            verbose=1).fit(X_train_tfidf, y_train)"
   ]
  },
  {
   "cell_type": "code",
   "execution_count": 75,
   "id": "ffe2ae8d-3820-474a-90c3-6985829b3e58",
   "metadata": {},
   "outputs": [
    {
     "name": "stderr",
     "output_type": "stream",
     "text": [
      "[Parallel(n_jobs=8)]: Using backend ThreadingBackend with 8 concurrent workers.\n",
      "[Parallel(n_jobs=8)]: Done  34 tasks      | elapsed:    0.1s\n",
      "[Parallel(n_jobs=8)]: Done 100 out of 100 | elapsed:    0.3s finished\n"
     ]
    },
    {
     "data": {
      "text/plain": [
       "0.9205752979345201"
      ]
     },
     "execution_count": 75,
     "metadata": {},
     "output_type": "execute_result"
    }
   ],
   "source": [
    "clf.score(X_train_tfidf, y_train)"
   ]
  },
  {
   "cell_type": "code",
   "execution_count": 76,
   "id": "7a760315-8eab-45c5-bef0-2e76eb6f5534",
   "metadata": {},
   "outputs": [
    {
     "name": "stderr",
     "output_type": "stream",
     "text": [
      "[Parallel(n_jobs=8)]: Using backend ThreadingBackend with 8 concurrent workers.\n",
      "[Parallel(n_jobs=8)]: Done  34 tasks      | elapsed:    0.1s\n",
      "[Parallel(n_jobs=8)]: Done 100 out of 100 | elapsed:    0.1s finished\n"
     ]
    }
   ],
   "source": [
    "preds = clf.predict(X_test_tfidf)"
   ]
  },
  {
   "cell_type": "code",
   "execution_count": 77,
   "id": "21db8ff9-3f15-4e43-8e4b-c2a7b6698309",
   "metadata": {},
   "outputs": [
    {
     "name": "stderr",
     "output_type": "stream",
     "text": [
      "[Parallel(n_jobs=8)]: Using backend ThreadingBackend with 8 concurrent workers.\n",
      "[Parallel(n_jobs=8)]: Done  34 tasks      | elapsed:    0.0s\n"
     ]
    },
    {
     "name": "stderr",
     "output_type": "stream",
     "text": [
      "[Parallel(n_jobs=8)]: Done 100 out of 100 | elapsed:    0.1s finished\n"
     ]
    },
    {
     "data": {
      "text/plain": [
       "0.5198908410401821"
      ]
     },
     "execution_count": 77,
     "metadata": {},
     "output_type": "execute_result"
    }
   ],
   "source": [
    "clf.score(X_test_tfidf, y_test)"
   ]
  },
  {
   "cell_type": "markdown",
   "id": "38c67472",
   "metadata": {},
   "source": [
    "### Long Run Time Warning: Random Forest GridSearch Results in Lengthy Computation Times"
   ]
  },
  {
   "cell_type": "code",
   "execution_count": 78,
   "id": "a6de12a2-0ad3-40bb-b795-d56c2bf5e0b1",
   "metadata": {},
   "outputs": [],
   "source": [
    "# # Pipeline with CountVectorizer and RandomForest\n",
    "# rf_pipe1_a = Pipeline([\n",
    "#     ('cvec', CountVectorizer()),\n",
    "#     ('rf', RandomForestRegressor())\n",
    "# ])\n",
    "\n",
    "# # Pipeline with TfidfVectorizer and RandomForest\n",
    "# rf_pipe2_a = Pipeline([\n",
    "#     ('tvec', TfidfVectorizer()),\n",
    "#     ('rf', RandomForestRegressor())\n",
    "# ])\n",
    "\n",
    "# # Parameter grids for RandomForest\n",
    "# rf_params1_a = {\n",
    "#     'cvec__max_features': list(np.arange(5000, 10000, 1000)),\n",
    "#     'cvec__ngram_range': [(1, 1), (1, 2)],\n",
    "#     'cvec__min_df': [0.00005, 0.0001],\n",
    "#     'cvec__max_df': [0.6, 0.65, 0.7],\n",
    "#     'rf__n_estimators': [10, 50, 100],\n",
    "#     'rf__max_depth': [None, 10, 20],\n",
    "#     'rf__min_samples_split': [2, 5, 10],\n",
    "#     'rf__verbose': [1]\n",
    "# }\n",
    "\n",
    "# rf_params2_a = {\n",
    "#     'tvec__max_features': list(np.arange(5000, 10000, 1000)),\n",
    "#     'tvec__ngram_range': [(1, 1), (1, 2)],\n",
    "#     'tvec__min_df': [0.00005, 0.0001],\n",
    "#     'tvec__max_df': [0.6, 0.65, 0.7],\n",
    "#     'rf__n_estimators': [10, 50, 100],\n",
    "#     'rf__max_depth': [None, 10, 20],\n",
    "#     'rf__min_samples_split': [2, 5, 10],\n",
    "#     'rf__verbose': [1]\n",
    "# }\n",
    "\n",
    "# # Instantiate GridSearchCV for RandomForest\n",
    "# gs_rf1_a = GridSearchCV(rf_pipe1_a,\n",
    "#                         param_grid=rf_params1_a,\n",
    "#                         cv=5,\n",
    "#                         n_jobs=-1)\n",
    "\n",
    "# gs_rf2_a = GridSearchCV(rf_pipe2_a,\n",
    "#                         param_grid=rf_params2_a,\n",
    "#                         cv=5,\n",
    "#                         n_jobs=-1)\n",
    "\n",
    "# # Measure the time taken for the parameter search\n",
    "# start_time = time.time()\n",
    "# gs_rf1_a.fit(X_train, y_train)\n",
    "# end_time = time.time()\n",
    "# print(f\"Time taken for GridSearchCV with RandomForest and CountVectorizer: {end_time - start_time:.2f} seconds\")\n",
    "\n",
    "# start_time = time.time()\n",
    "# gs_rf2_a.fit(X_train, y_train)\n",
    "# end_time = time.time()\n",
    "# print(f\"Time taken for GridSearchCV with RandomForest and TfidfVectorizer: {end_time - start_time:.2f} seconds\")"
   ]
  },
  {
   "cell_type": "code",
   "execution_count": 79,
   "id": "e6684efd-6b22-4473-a132-c87ea0e0a71f",
   "metadata": {},
   "outputs": [],
   "source": [
    "# gs_rf1_a.best_params_"
   ]
  },
  {
   "cell_type": "code",
   "execution_count": 80,
   "id": "46714374-8a00-4206-9005-0c3728a858e8",
   "metadata": {},
   "outputs": [],
   "source": [
    "# gs_rf2_a.best_params_"
   ]
  },
  {
   "cell_type": "code",
   "execution_count": 81,
   "id": "a3bf785c-f588-4192-bc65-01b9809429f4",
   "metadata": {},
   "outputs": [],
   "source": [
    "# gs_rf1_a.score(X_train, y_train)"
   ]
  },
  {
   "cell_type": "code",
   "execution_count": 82,
   "id": "e0a69c3a-8961-4b65-a2ef-7d1337494ec1",
   "metadata": {},
   "outputs": [],
   "source": [
    "# gs_rf1_a.score(X_test, y_test)"
   ]
  },
  {
   "cell_type": "markdown",
   "id": "0c6f36d7",
   "metadata": {},
   "source": [
    "## Results are not satisfactory for Regression models must move to Part III LSTM Neural Network"
   ]
  }
 ],
 "metadata": {
  "kernelspec": {
   "display_name": "Python 3 (ipykernel)",
   "language": "python",
   "name": "python3"
  },
  "language_info": {
   "codemirror_mode": {
    "name": "ipython",
    "version": 3
   },
   "file_extension": ".py",
   "mimetype": "text/x-python",
   "name": "python",
   "nbconvert_exporter": "python",
   "pygments_lexer": "ipython3",
   "version": "3.10.13"
  }
 },
 "nbformat": 4,
 "nbformat_minor": 5
}
