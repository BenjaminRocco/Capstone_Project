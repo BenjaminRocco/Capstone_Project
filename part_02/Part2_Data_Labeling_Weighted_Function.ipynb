{
 "cells": [
  {
   "cell_type": "code",
   "execution_count": 120,
   "id": "c2c2e72a-1866-46cd-b599-4eaaef379379",
   "metadata": {},
   "outputs": [],
   "source": [
    "# Fundamentals\n",
    "import pandas as pd\n",
    "import numpy as np\n",
    "import re\n",
    "from nltk.corpus import stopwords # Import the stop word list\n",
    "import matplotlib.pyplot as plt\n",
    "import seaborn as sns\n",
    "import time\n",
    "\n",
    "# Modeling Fundamentals\n",
    "from sklearn.preprocessing import PolynomialFeatures, StandardScaler\n",
    "from sklearn.pipeline import Pipeline, make_pipeline\n",
    "from sklearn.model_selection import train_test_split, GridSearchCV, cross_val_score\n",
    "from sklearn.feature_extraction.text import CountVectorizer, TfidfVectorizer\n",
    "from collections import Counter\n",
    "from sklearn.metrics import make_scorer\n",
    "\n",
    "# Models\n",
    "from sklearn.linear_model import LinearRegression\n",
    "from sklearn.linear_model import LogisticRegression\n",
    "from sklearn.neighbors import KNeighborsClassifier\n",
    "from sklearn.naive_bayes import MultinomialNB, BernoulliNB, GaussianNB\n",
    "from sklearn.ensemble import BaggingClassifier, RandomForestClassifier, RandomForestRegressor\n",
    "from sklearn.ensemble import AdaBoostClassifier\n",
    "from sklearn.tree import DecisionTreeClassifier\n",
    "from sklearn.svm import LinearSVC\n",
    "from sklearn.pipeline import Pipeline\n",
    "\n",
    "# Evaluation metrics\n",
    "from sklearn.metrics import confusion_matrix, ConfusionMatrixDisplay\n",
    "from sklearn.metrics import mean_absolute_error, mean_squared_error\n",
    "from sklearn.metrics import f1_score\n",
    "from sklearn.metrics import cohen_kappa_score\n",
    "\n",
    "# Ignore Future warnings\n",
    "import warnings\n",
    "warnings.simplefilter(action='ignore', category=FutureWarning);"
   ]
  },
  {
   "cell_type": "code",
   "execution_count": 121,
   "id": "445d5fb0-de36-415a-b5c9-a3346253f378",
   "metadata": {},
   "outputs": [],
   "source": [
    "# snorkel specific imports\n",
    "from snorkel.labeling import labeling_function\n",
    "from textblob import TextBlob\n",
    "from snorkel.labeling.model import LabelModel\n",
    "from snorkel.labeling import PandasLFApplier\n",
    "\n",
    "import random\n",
    "\n",
    "import nltk\n",
    "from nltk.corpus import wordnet as wn\n",
    "\n",
    "from snorkel.augmentation import transformation_function\n",
    "\n",
    "nltk.download(\"wordnet\", quiet=True)\n",
    "\n",
    "from snorkel.augmentation import ApplyOnePolicy, PandasTFApplier\n"
   ]
  },
  {
   "cell_type": "code",
   "execution_count": 122,
   "id": "1da6ea53-1631-4a3e-926e-5d85df9c5127",
   "metadata": {},
   "outputs": [],
   "source": [
    "pd.set_option('display.max_colwidth', None)"
   ]
  },
  {
   "cell_type": "markdown",
   "id": "43b49221-f327-4411-9470-288cc4bdfd6a",
   "metadata": {},
   "source": [
    "## Define the label mappings for convenience (These are Cohen Kappa Score tiers)\n",
    "\n",
    "- 0.01–0.20 as none to slight bias\n",
    "- 0.21–0.40 as fair bias\n",
    "- 0.41– 0.60 as moderate bias\n",
    "- 0.61–0.80 as substantial bias\n",
    "- 0.81–1.00 as perfectly bias \n"
   ]
  },
  {
   "cell_type": "code",
   "execution_count": 123,
   "id": "45e9d29a-e3f6-4e76-b9d5-6b76afee34b3",
   "metadata": {},
   "outputs": [],
   "source": [
    "abstain = -1 # cohen kappa is not lower than 0 \n",
    "none_to_slight = 0.20\n",
    "fair = 0.40\n",
    "moderate = 0.60\n",
    "substantial = 0.80\n",
    "perfect = 1.0 "
   ]
  },
  {
   "cell_type": "markdown",
   "id": "9e07aeea-eb32-4aa8-85e5-0f40da6bd92f",
   "metadata": {},
   "source": [
    "#### Outputs of multivariable linear equation will fall within 0 or 1 and will thus be assigned a Cohen Kappa Score"
   ]
  },
  {
   "cell_type": "markdown",
   "id": "acdb5139-34b9-47a9-a348-c4a96d69fc23",
   "metadata": {},
   "source": [
    "# Define Labeling Functions"
   ]
  },
  {
   "cell_type": "markdown",
   "id": "517423c5-3edb-4ebd-a323-148cdf3dac6d",
   "metadata": {},
   "source": [
    "#### List of misleading bias terms identified in false positives / false negatives from Part I "
   ]
  },
  {
   "cell_type": "code",
   "execution_count": 124,
   "id": "518aa28c-87f0-4d79-98d1-6043bb50e9f8",
   "metadata": {},
   "outputs": [],
   "source": [
    "misleading_bias_terms = ['trump', 'u', 'america', 'american', 'new', 'people', 'states', 'president', 'many', 'states', 'united', 'americans', 'one']"
   ]
  },
  {
   "cell_type": "markdown",
   "id": "c8520f49-aad3-4182-aa7f-971047d598ff",
   "metadata": {},
   "source": [
    "#### Started with Multi-Tier but now implementing \n",
    "#### a binary return to create a linear function with \n",
    "#### weights associated with each variable represented by a labeling function"
   ]
  },
  {
   "cell_type": "code",
   "execution_count": 125,
   "id": "b1845ca8-f63f-49c9-b3ef-e3133391c8eb",
   "metadata": {},
   "outputs": [],
   "source": [
    "def lf_keyword_my(x):\n",
    "    \"\"\"Label based on the number of hits in the misleading_bias_terms list. \n",
    "    These words were throwing the most errors in the classification models (false positives/negatives).\"\"\"\n",
    "    count_hits = sum(term in str(x).lower() for term in misleading_bias_terms)\n",
    "\n",
    "    if count_hits == 0:\n",
    "        return abstain\n",
    "    elif count_hits <= 1:\n",
    "        return none_to_slight\n",
    "    elif count_hits <= 2:\n",
    "        return fair\n",
    "    elif count_hits <= 3:\n",
    "        return moderate\n",
    "    elif count_hits <= 4:\n",
    "        return substantial\n",
    "    else:\n",
    "        return perfect"
   ]
  },
  {
   "cell_type": "code",
   "execution_count": 126,
   "id": "341004b6-e142-41a3-a24e-5701e9a90eb6",
   "metadata": {},
   "outputs": [],
   "source": [
    "@labeling_function()\n",
    "def lf_keyword_my_binary(x):\n",
    "    \"\"\"Return 1 if any of the misleading_bias_terms is present, else return 0.\"\"\"\n",
    "    presence = any(term in str(x).lower() for term in misleading_bias_terms)\n",
    "    return 1 if presence else 0"
   ]
  },
  {
   "cell_type": "code",
   "execution_count": 127,
   "id": "7805a4f6-7326-4806-922f-b1b3ce1bb524",
   "metadata": {},
   "outputs": [
    {
     "data": {
      "text/plain": [
       "0.6"
      ]
     },
     "execution_count": 127,
     "metadata": {},
     "output_type": "execute_result"
    }
   ],
   "source": [
    "lf_keyword_my('Trump is America')"
   ]
  },
  {
   "cell_type": "code",
   "execution_count": 128,
   "id": "8d7899ab-2dbd-4f1f-baf0-e707247cb857",
   "metadata": {},
   "outputs": [
    {
     "data": {
      "text/plain": [
       "1"
      ]
     },
     "execution_count": 128,
     "metadata": {},
     "output_type": "execute_result"
    }
   ],
   "source": [
    "lf_keyword_my_binary('Trump is America')"
   ]
  },
  {
   "cell_type": "markdown",
   "id": "6df119b1-c617-4ed2-97f9-723feff5bf14",
   "metadata": {},
   "source": [
    "#### Bias words : Paradoxically, headlines/abstracts that incorporate these words can often times be biased themselves"
   ]
  },
  {
   "cell_type": "code",
   "execution_count": 129,
   "id": "680ffae2-0a05-4f61-9ea3-99f6b2b65bd0",
   "metadata": {},
   "outputs": [],
   "source": [
    "bias_words = ['fake', 'news', 'media','biased', 'unreliable', 'propaganda', 'misleading', 'partisan', 'manipulative']\n"
   ]
  },
  {
   "cell_type": "code",
   "execution_count": 130,
   "id": "47fa1cf0-ef42-461d-8c06-f4082847e879",
   "metadata": {},
   "outputs": [],
   "source": [
    "@labeling_function()\n",
    "def lf_regex_fake_news(x):\n",
    "    \"\"\"Label based on the number of hits in the bias_words list. More hits means more biased. \n",
    "    Paradoxically, abstracts and headlines that include these terms tend to be more biased. \"\"\"\n",
    "    count_hits = sum(re.search(fr\"\\b{word}\\b\", str(x), flags=re.I) is not None for word in bias_words)\n",
    "\n",
    "    if count_hits == 0:\n",
    "        return abstain\n",
    "    elif count_hits <= 1:\n",
    "        return none_to_slight\n",
    "    elif count_hits <= 2:\n",
    "        return fair\n",
    "    elif count_hits <= 3:\n",
    "        return moderate\n",
    "    elif count_hits <= 4:\n",
    "        return substantial\n",
    "    else:\n",
    "        return perfect"
   ]
  },
  {
   "cell_type": "code",
   "execution_count": 131,
   "id": "36e7c27e-7852-4bc1-b37c-56886eef536c",
   "metadata": {},
   "outputs": [],
   "source": [
    "@labeling_function()\n",
    "def lf_regex_fake_news_binary(x):\n",
    "    \"\"\"Return 1 if any of the bias_words is present, else return 0.\"\"\"\n",
    "    presence = any(re.search(fr\"\\b{word}\\b\", str(x), flags=re.I) is not None for word in bias_words)\n",
    "    return 1 if presence else 0"
   ]
  },
  {
   "cell_type": "markdown",
   "id": "ab5fa311",
   "metadata": {},
   "source": [
    "##### Test the \"fake news\" function"
   ]
  },
  {
   "cell_type": "code",
   "execution_count": 132,
   "id": "9d90c614-5587-42c8-b63a-ce889f1ee4cc",
   "metadata": {},
   "outputs": [
    {
     "data": {
      "text/plain": [
       "0.6"
      ]
     },
     "execution_count": 132,
     "metadata": {},
     "output_type": "execute_result"
    }
   ],
   "source": [
    "lf_regex_fake_news('Fake news media is leading america down a dark path')"
   ]
  },
  {
   "cell_type": "code",
   "execution_count": 133,
   "id": "3bc0fca9-1776-4dc1-ad3d-529af9ffa0cc",
   "metadata": {},
   "outputs": [
    {
     "data": {
      "text/plain": [
       "1"
      ]
     },
     "execution_count": 133,
     "metadata": {},
     "output_type": "execute_result"
    }
   ],
   "source": [
    "lf_regex_fake_news_binary('Fake news media is leading america down a dark path')"
   ]
  },
  {
   "cell_type": "markdown",
   "id": "f3515648-a49b-461c-a6e1-ee42bd9871f8",
   "metadata": {},
   "source": [
    "#### Label Function for words that are associated with opinionated speech "
   ]
  },
  {
   "cell_type": "code",
   "execution_count": 134,
   "id": "5aaa8634-540a-4aa7-a90d-c3c55ab1645a",
   "metadata": {},
   "outputs": [],
   "source": [
    "subj_words = ['feel', 'feels', 'thinks','thought', 'thoughts','opinion', 'bias', 'think', 'felt', 'believe','believed','believes','believer']\n"
   ]
  },
  {
   "cell_type": "code",
   "execution_count": 135,
   "id": "19566909",
   "metadata": {},
   "outputs": [],
   "source": [
    "import re\n",
    "\n",
    "keywords = [\n",
    "    \"maps\", \"county\", \"election\", \"coronavirus\", \"case\",\n",
    "    \"risk\", \"cases\", \"covid\", \"latest\", \"trump\",\n",
    "    \"ukraine\", \"russia\", \"war\", \"reminiscent\",\n",
    "    \"removes\", \"proceed\", \"ponder\"\n",
    "]\n",
    "\n",
    "keywords_pattern = \"|\".join(fr\"\\b{re.escape(keyword)}\\b\" for keyword in keywords)\n",
    "\n",
    "@labeling_function()\n",
    "def lf_keyword_maps_binary(x):\n",
    "    return 1 if re.search(fr\"\\b{re.escape('maps')}\\b\", str(x), flags=re.I) else 0\n",
    "\n",
    "@labeling_function()\n",
    "def lf_keyword_county_binary(x):\n",
    "    return 1 if re.search(fr\"\\b{re.escape('county')}\\b\", str(x), flags=re.I) else 0\n",
    "\n",
    "@labeling_function()\n",
    "def lf_keyword_election_binary(x):\n",
    "    return 1 if re.search(fr\"\\b{re.escape('election')}\\b\", str(x), flags=re.I) else 0\n",
    "\n",
    "@labeling_function()\n",
    "def lf_keyword_coronavirus_binary(x):\n",
    "    return 1 if re.search(fr\"\\b{re.escape('coronavirus')}\\b\", str(x), flags=re.I) else 0\n",
    "\n",
    "@labeling_function()\n",
    "def lf_keyword_case_binary(x):\n",
    "    return 1 if re.search(fr\"\\b{re.escape('case')}\\b\", str(x), flags=re.I) else 0\n",
    "\n",
    "@labeling_function()\n",
    "def lf_keyword_risk_binary(x):\n",
    "    return 1 if re.search(fr\"\\b{re.escape('risk')}\\b\", str(x), flags=re.I) else 0\n",
    "\n",
    "@labeling_function()\n",
    "def lf_keyword_cases_binary(x):\n",
    "    return 1 if re.search(fr\"\\b{re.escape('cases')}\\b\", str(x), flags=re.I) else 0\n",
    "\n",
    "@labeling_function()\n",
    "def lf_keyword_covid_binary(x):\n",
    "    return 1 if re.search(fr\"\\b{re.escape('covid')}\\b\", str(x), flags=re.I) else 0\n",
    "\n",
    "@labeling_function()\n",
    "def lf_keyword_latest_binary(x):\n",
    "    return 1 if re.search(fr\"\\b{re.escape('latest')}\\b\", str(x), flags=re.I) else 0\n",
    "\n",
    "@labeling_function()\n",
    "def lf_keyword_trump_binary(x):\n",
    "    return 1 if re.search(fr\"\\b{re.escape('trump')}\\b\", str(x), flags=re.I) else 0\n",
    "\n",
    "@labeling_function()\n",
    "def lf_keyword_ukraine_binary(x):\n",
    "    return 1 if re.search(fr\"\\b{re.escape('ukraine')}\\b\", str(x), flags=re.I) else 0\n",
    "\n",
    "@labeling_function()\n",
    "def lf_keyword_russia_binary(x):\n",
    "    return 1 if re.search(fr\"\\b{re.escape('russia')}\\b\", str(x), flags=re.I) else 0\n",
    "\n",
    "@labeling_function()\n",
    "def lf_keyword_war_binary(x):\n",
    "    return 1 if re.search(fr\"\\b{re.escape('war')}\\b\", str(x), flags=re.I) else 0\n",
    "\n",
    "@labeling_function()\n",
    "def lf_keyword_reminiscent_binary(x):\n",
    "    return 1 if re.search(fr\"\\b{re.escape('reminiscent')}\\b\", str(x), flags=re.I) else 0\n",
    "\n",
    "@labeling_function()\n",
    "def lf_keyword_removes_binary(x):\n",
    "    return 1 if re.search(fr\"\\b{re.escape('removes')}\\b\", str(x), flags=re.I) else 0\n",
    "\n",
    "@labeling_function()\n",
    "def lf_keyword_proceed_binary(x):\n",
    "    return 1 if re.search(fr\"\\b{re.escape('proceed')}\\b\", str(x), flags=re.I) else 0\n",
    "\n",
    "@labeling_function()\n",
    "def lf_keyword_ponder_binary(x):\n",
    "    return 1 if re.search(fr\"\\b{re.escape('ponder')}\\b\", str(x), flags=re.I) else 0\n"
   ]
  },
  {
   "cell_type": "code",
   "execution_count": 136,
   "id": "f2591940-b1de-42a3-8e90-f7c61b1cf1a4",
   "metadata": {},
   "outputs": [],
   "source": [
    "@labeling_function()\n",
    "def lf_regex_subjective(x):\n",
    "    \"\"\"Label based on the number of hits in the bias_words list. More hits means more biased. \n",
    "    Paradoxically, abstracts and headlines that include these terms tend to be more biased. \"\"\"\n",
    "    count_hits = sum(re.search(fr\"\\b{word}\\b\", str(x), flags=re.I) is not None for word in subj_words)\n",
    "\n",
    "    if count_hits == 0:\n",
    "        return abstain\n",
    "    elif count_hits <= 1:\n",
    "        return none_to_slight\n",
    "    elif count_hits <= 2:\n",
    "        return fair\n",
    "    elif count_hits <= 3:\n",
    "        return moderate\n",
    "    elif count_hits <= 4:\n",
    "        return substantial\n",
    "    else:\n",
    "        return perfect"
   ]
  },
  {
   "cell_type": "code",
   "execution_count": 137,
   "id": "57822ebb-6c9b-4f08-b9d0-8954f2f8d869",
   "metadata": {},
   "outputs": [],
   "source": [
    "@labeling_function()\n",
    "def lf_regex_subjective_binary(x):\n",
    "    \"\"\"Return 1 if any of the subj_words is present, else return 0.\"\"\"\n",
    "    presence = any(re.search(fr\"\\b{word}\\b\", str(x), flags=re.I) is not None for word in subj_words)\n",
    "    return 1 if presence else 0"
   ]
  },
  {
   "cell_type": "markdown",
   "id": "2ee0b6ad",
   "metadata": {},
   "source": [
    "##### Test the subjective function"
   ]
  },
  {
   "cell_type": "code",
   "execution_count": 138,
   "id": "14e2faab-529b-4230-aa58-09397ac29a96",
   "metadata": {},
   "outputs": [
    {
     "data": {
      "text/plain": [
       "0.2"
      ]
     },
     "execution_count": 138,
     "metadata": {},
     "output_type": "execute_result"
    }
   ],
   "source": [
    "lf_regex_subjective('The author felt')"
   ]
  },
  {
   "cell_type": "code",
   "execution_count": 139,
   "id": "e41df66b-ed74-4e52-8fe8-98ed6b98c2b9",
   "metadata": {},
   "outputs": [
    {
     "data": {
      "text/plain": [
       "1"
      ]
     },
     "execution_count": 139,
     "metadata": {},
     "output_type": "execute_result"
    }
   ],
   "source": [
    "lf_regex_subjective_binary('The author felt')"
   ]
  },
  {
   "cell_type": "code",
   "execution_count": 140,
   "id": "e44815c5-db7f-43aa-9007-3edd69661409",
   "metadata": {},
   "outputs": [],
   "source": [
    "@labeling_function()\n",
    "def lf_long_combined_text(text_list):\n",
    "    \"\"\"Categorize based on combined length of words in abstracts and headlines. Longer abstracts and titles that tend to ramble tend to be more biased.\"\"\"\n",
    "    length = len(\" \".join(str(text_list)).split())\n",
    "\n",
    "    return (\n",
    "        abstain if length < 19 else\n",
    "        none_to_slight if length < 56 else\n",
    "        fair if length < 133 else\n",
    "        moderate if length < 376 else\n",
    "        substantial if length < 615 else\n",
    "        perfect\n",
    "    )"
   ]
  },
  {
   "cell_type": "code",
   "execution_count": 141,
   "id": "6675aba7-fad1-4e42-b0d2-da63b7c89c6d",
   "metadata": {},
   "outputs": [],
   "source": [
    "@labeling_function()\n",
    "def lf_long_combined_text_binary(text_list):\n",
    "    \"\"\"Return 1 if the combined length is greater than 376, else return 0.\"\"\"\n",
    "    length = len(\" \".join(str(text_list)).split())\n",
    "    return 1 if length > 376 else 0"
   ]
  },
  {
   "cell_type": "code",
   "execution_count": 142,
   "id": "413e431d-a418-42db-86b2-aae75816448b",
   "metadata": {},
   "outputs": [
    {
     "data": {
      "text/plain": [
       "0.4"
      ]
     },
     "execution_count": 142,
     "metadata": {},
     "output_type": "execute_result"
    }
   ],
   "source": [
    "lf_long_combined_text('America is headed down an incredibly dark path if it continues to support genocide')"
   ]
  },
  {
   "cell_type": "code",
   "execution_count": 143,
   "id": "f018649e-36a3-420b-af94-b5c3a7e34456",
   "metadata": {},
   "outputs": [],
   "source": [
    "@labeling_function()\n",
    "def lf_textblob_polarity(x):\n",
    "    \"\"\"\n",
    "    We use a third-party sentiment classification model, TextBlob.\n",
    "\n",
    "    We map the polarity to the specified bias categories with heuristic that negative abstracts/headlines tend to contain more bias. \n",
    "    \"\"\"\n",
    "    polarity = TextBlob(str(x)).sentiment.polarity\n",
    "\n",
    "    return (\n",
    "        abstain if polarity > 0.3 else\n",
    "        none_to_slight if polarity > 0.0 else\n",
    "        fair if polarity > -0.2 else\n",
    "        moderate if polarity > -0.4 else\n",
    "        substantial if polarity > -0.6 else\n",
    "        perfect\n",
    "    )"
   ]
  },
  {
   "cell_type": "code",
   "execution_count": 144,
   "id": "76b8df0b-fb5c-4d46-83ec-10ac5f1d2778",
   "metadata": {},
   "outputs": [],
   "source": [
    "@labeling_function()\n",
    "def lf_textblob_polarity_binary(x):\n",
    "    \"\"\"\n",
    "    We use a third-party sentiment classification model, TextBlob.\n",
    "\n",
    "    We map the polarity to binary classification: 1 if negative, 0 otherwise.\n",
    "    \"\"\"\n",
    "    polarity = TextBlob(str(x)).sentiment.polarity\n",
    "    return 1 if polarity < 0 else 0"
   ]
  },
  {
   "cell_type": "code",
   "execution_count": 145,
   "id": "e958b7a5-1b7d-4a4e-9e09-91bf8bc63143",
   "metadata": {},
   "outputs": [
    {
     "data": {
      "text/plain": [
       "0"
      ]
     },
     "execution_count": 145,
     "metadata": {},
     "output_type": "execute_result"
    }
   ],
   "source": [
    "lf_textblob_polarity_binary('something positive')"
   ]
  },
  {
   "cell_type": "code",
   "execution_count": 146,
   "id": "2fdf51e1-8a6e-46ff-a1bb-b845f9d6eb43",
   "metadata": {},
   "outputs": [],
   "source": [
    "@labeling_function()\n",
    "def lf_textblob_subjectivity(x):\n",
    "    \"\"\"\n",
    "    We use a third-party sentiment classification model, TextBlob.\n",
    "\n",
    "    We map the polarity to the specified bias categories with heuristic that negative abstracts/headlines tend to contain more bias. \n",
    "    \"\"\"\n",
    "    subjectivity = TextBlob(str(x)).sentiment.subjectivity\n",
    "\n",
    "    return (\n",
    "        abstain if subjectivity == 0.0 else\n",
    "        none_to_slight if subjectivity < 0.2 else\n",
    "        fair if subjectivity < 0.4 else\n",
    "        moderate if subjectivity < 0.6 else\n",
    "        substantial if subjectivity < 0.8 else\n",
    "        perfect\n",
    "    )"
   ]
  },
  {
   "cell_type": "code",
   "execution_count": 147,
   "id": "4e69d88d-a799-4e35-af84-d38239f8c47f",
   "metadata": {},
   "outputs": [],
   "source": [
    "@labeling_function()\n",
    "def lf_textblob_subjectivity_binary(x):\n",
    "    \"\"\"\n",
    "    We use a third-party sentiment classification model, TextBlob.\n",
    "\n",
    "    We map the subjectivity to binary classification: 1 if high subjectivity, 0 otherwise.\n",
    "    \"\"\"\n",
    "    subjectivity = TextBlob(str(x)).sentiment.subjectivity\n",
    "    return 1 if subjectivity > 0.5 else 0"
   ]
  },
  {
   "cell_type": "code",
   "execution_count": 148,
   "id": "dcfbdef1",
   "metadata": {},
   "outputs": [
    {
     "data": {
      "text/plain": [
       "0"
      ]
     },
     "execution_count": 148,
     "metadata": {},
     "output_type": "execute_result"
    }
   ],
   "source": [
    "lf_textblob_subjectivity_binary('united states entered third year pandemic fewer americans reporting wearing masks recent months according poll released tuesday associated press norc americans taking fewer precautions two years pandemic poll says')\n",
    "\n"
   ]
  },
  {
   "cell_type": "markdown",
   "id": "bc71c61e-03ad-42cd-9a6a-2d808201c56a",
   "metadata": {},
   "source": [
    "# Precleaning \n"
   ]
  },
  {
   "cell_type": "code",
   "execution_count": 149,
   "id": "4c475070-0a7b-409d-892a-6cb90786b341",
   "metadata": {},
   "outputs": [],
   "source": [
    "df = pd.read_csv('/Users/ben/Desktop/DSI_GA_Materials/capstone/Capstone_Project_backup/Data/precleaned_df.csv')\n"
   ]
  },
  {
   "cell_type": "markdown",
   "id": "d084c839-798d-4d34-9093-a41622810f3d",
   "metadata": {},
   "source": [
    "### Train Test Split and Regex Clean"
   ]
  },
  {
   "cell_type": "code",
   "execution_count": 150,
   "id": "c20952d4-3877-4f0a-94cd-9f08372ca872",
   "metadata": {},
   "outputs": [],
   "source": [
    "X_train, X_test, y_train, y_test = train_test_split(df[['abstract', 'headline']],\n",
    "                                                    df['section_name'],\n",
    "                                                    train_size = 0.80,\n",
    "                                                    random_state = 42,\n",
    "                                                   shuffle=False)"
   ]
  },
  {
   "cell_type": "code",
   "execution_count": 151,
   "id": "d7115a62-f7de-4554-9e2b-3a44f1037eef",
   "metadata": {},
   "outputs": [
    {
     "name": "stdout",
     "output_type": "stream",
     "text": [
      "There are 25510 posts.\n",
      "Cleaning and parsing the training set abstracts...\n",
      "Post 5000 of 25510.\n",
      "Post 10000 of 25510.\n",
      "Post 15000 of 25510.\n"
     ]
    },
    {
     "name": "stdout",
     "output_type": "stream",
     "text": [
      "Post 20000 of 25510.\n",
      "Cleaning and parsing the testing set abstracts...\n",
      "Post 20500 of 25510.\n",
      "Post 21000 of 25510.\n",
      "Post 21500 of 25510.\n",
      "Post 22000 of 25510.\n",
      "Post 22500 of 25510.\n",
      "Post 23000 of 25510.\n",
      "Post 23500 of 25510.\n",
      "Post 24000 of 25510.\n",
      "Post 24500 of 25510.\n",
      "Post 25000 of 25510.\n",
      "Post 25500 of 25510.\n",
      "Cleaning and parsing the training set headlines...\n",
      "Post 5000 of 25510.\n",
      "Post 10000 of 25510.\n",
      "Post 15000 of 25510.\n",
      "Post 20000 of 25510.\n",
      "Cleaning and parsing the testing set headlines...\n",
      "Post 20500 of 25510.\n",
      "Post 21000 of 25510.\n",
      "Post 21500 of 25510.\n",
      "Post 22000 of 25510.\n",
      "Post 22500 of 25510.\n",
      "Post 23000 of 25510.\n",
      "Post 23500 of 25510.\n",
      "Post 24000 of 25510.\n",
      "Post 24500 of 25510.\n",
      "Post 25000 of 25510.\n",
      "Post 25500 of 25510.\n"
     ]
    }
   ],
   "source": [
    "def filtered_words(train_data):\n",
    "    # Function to convert a raw post to a string of words\n",
    "    # The input is a single string (a raw abstract/headline coupling), and \n",
    "    # the output is a single string (a preprocessed abstract/headline article)\n",
    "    \n",
    "    # 1. Remove non-letters.\n",
    "    letters_only = re.sub(\"[^a-zA-Z]\", \" \", train_data)\n",
    "    \n",
    "    # 2. Convert to lower case, split into individual words.\n",
    "    words = letters_only.lower().split()\n",
    "    \n",
    "    # 3. In Python, searching a set is much faster than searching\n",
    "    # a list, so convert the stop words to a set.\n",
    "    stops = set(stopwords.words('english'))\n",
    "    \n",
    "    # 4. Remove stop words.\n",
    "    meaningful_words = [w for w in words if w not in stops]\n",
    "    \n",
    "    # 5. Join the words back into one string separated by space, \n",
    "    # and return the result.\n",
    "    return(\" \".join(meaningful_words))\n",
    "\n",
    "total_abs_headlines = df.shape[0]\n",
    "print(f'There are {total_abs_headlines} posts.')\n",
    "\n",
    "# Initialize an empty list to hold the clean abstracts and headlines.\n",
    "clean_train_abs = []\n",
    "clean_test_abs = []\n",
    "clean_train_lines = []\n",
    "clean_test_lines = []\n",
    "\n",
    "print(\"Cleaning and parsing the training set abstracts...\")\n",
    "\n",
    "j = 0\n",
    "for train_abs in X_train['abstract']:\n",
    "    # Convert abstract to words, then append to clean_train_abs.\n",
    "    train_abs_str = str(train_abs)\n",
    "    clean_train_abs.append(filtered_words(train_abs_str))   \n",
    "    # If the index is divisible by 5000, print a message\n",
    "    if (j + 1) % 5000 == 0:\n",
    "        print(f'Post {j + 1} of {total_abs_headlines}.')\n",
    "    \n",
    "    j += 1\n",
    "\n",
    "print(\"Cleaning and parsing the testing set abstracts...\")\n",
    "# Do the same for testing set.\n",
    "for test_abs in X_test['abstract']:\n",
    "    # Convert abstract to words, then append to clean_test_abs.\n",
    "    test_abs_str = str(test_abs)\n",
    "    clean_test_abs.append(filtered_words(test_abs_str))\n",
    "    \n",
    "    # If the index is divisible by 500, print a message\n",
    "    if (j + 1) % 500 == 0:\n",
    "        print(f'Post {j + 1} of {total_abs_headlines}.')\n",
    "        \n",
    "    j += 1\n",
    "\n",
    "print(\"Cleaning and parsing the training set headlines...\")\n",
    "\n",
    "j = 0\n",
    "for train_lines in X_train['headline']:\n",
    "    # Convert headline to words, then append to clean_train_lines.\n",
    "    train_lines_str = str(train_lines)\n",
    "    clean_train_lines.append(filtered_words(train_lines_str))\n",
    "    \n",
    "    # If the index is divisible by 5000, print a message\n",
    "    if (j + 1) % 5000 == 0:\n",
    "        print(f'Post {j + 1} of {total_abs_headlines}.')\n",
    "    \n",
    "    j += 1\n",
    "\n",
    "print(\"Cleaning and parsing the testing set headlines...\")\n",
    "# Do the same for testing set.\n",
    "for test_lines in X_test['headline']:\n",
    "    # Convert headline to words, then append to clean_test_lines.\n",
    "    test_lines_str = str(test_lines)\n",
    "    clean_test_lines.append(filtered_words(test_lines_str))\n",
    "    \n",
    "    # If the index is divisible by 500, print a message\n",
    "    if (j + 1) % 500 == 0:\n",
    "        print(f'Post {j + 1} of {total_abs_headlines}.')\n",
    "        \n",
    "    j += 1\n"
   ]
  },
  {
   "cell_type": "code",
   "execution_count": 152,
   "id": "11af588b-f940-4e76-9038-300c3eb9968c",
   "metadata": {},
   "outputs": [
    {
     "data": {
      "text/plain": [
       "0                                                                                                                 new start treaty nearly wrapped president obama begin discussing far reaching deals russia next treaties\n",
       "1                                                                                                                                                       response plea israel release jonathan pollard plea pollard release\n",
       "2                                                                                                                                  letters editor regarding tensions new york medical schools caribbean doctors learn best\n",
       "3                                                                       canada beat united states semifinals world junior tournament advancing final th consecutive year canada beats united states world junior semifinal\n",
       "4                                                                                            kristine lilly holds world record international appearances u announced retirement wednesday lilly iron lady u soccer retires\n",
       "                                                                                                               ...                                                                                                        \n",
       "20403                                       job market remained strong last month suggesting workers remain high demand still quitting often labor department report showed workers quit february job openings stayed high\n",
       "20404                                                recent poll data suggests rising prices dominate americans economic concerns inflation fears highest since americans especially republicans getting worried inflation\n",
       "20405                                             scientists keeping eye ba one three genetically distinct varieties omicron variant coronavirus ba subvariant omicron accounts half new u coronavirus cases c c estimates\n",
       "20406    twenty one republican state attorneys general filed lawsuit biden administration tuesday block federal mask mandate public transportation twenty one states file lawsuit block mask mandate public transportation\n",
       "20407                         bill named emmett till black boy murdered mississippi first time explicitly criminalized act come symbolize grim history racism united states biden signs bill making lynching federal crime\n",
       "Length: 20408, dtype: object"
      ]
     },
     "execution_count": 152,
     "metadata": {},
     "output_type": "execute_result"
    }
   ],
   "source": [
    "clean_train_abs = pd.Series(clean_train_abs)\n",
    "clean_train_lines = pd.Series(clean_train_lines)\n",
    "\n",
    "# Combine the lists element-wise\n",
    "clean_train_total = clean_train_abs + ' ' + clean_train_lines\n",
    "\n",
    "# Display the result\n",
    "clean_train_total"
   ]
  },
  {
   "cell_type": "code",
   "execution_count": 153,
   "id": "4470656c-c0bc-4f9b-b9c2-6ce3a9eee178",
   "metadata": {},
   "outputs": [
    {
     "data": {
      "text/plain": [
       "0       united states entered third year pandemic fewer americans reporting wearing masks recent months according poll released tuesday associated press norc americans taking fewer precautions two years pandemic poll says\n",
       "1                                                                                    republicans ignored widespread agreement among judges sentencing guidelines message republicans send judges attack ketanji brown jackson\n",
       "2                                                                                                                 culture medicine means crying sleeping making mistakes getting help many doctors treat mental health secret\n",
       "3                                                                                                                                                       samuel huntington foresaw current world order yes clash civilizations\n",
       "4                                                                                                                   supervisors called help people navigate personal challenges whether training everyone ok back work anyway\n",
       "                                                                                                                ...                                                                                                          \n",
       "5097                                                                                                           unconscious bias medical profession may raising risks pregnant black women bias endangers pregnant black women\n",
       "5098                                                                                                     upshot staff shares selection favorite charts documents queries calculations past year data points documents made us\n",
       "5099                                                   move comes israel presses offensive gaza despite increasing pressure united states lower conflict intensity biden administration bypasses congress weapons sale israel\n",
       "5100                                                        president biden seems nervous sealing deal would improve health quality life millions americans stricter rule truck emissions electrify big noisy belching trucks\n",
       "5101                                                                           era shrinking water resources rising temperatures undoubtedly test southwest states question adapt whether survive flee american southwest yet\n",
       "Length: 5102, dtype: object"
      ]
     },
     "execution_count": 153,
     "metadata": {},
     "output_type": "execute_result"
    }
   ],
   "source": [
    "clean_test_abs = pd.Series(clean_test_abs)\n",
    "clean_test_lines = pd.Series(clean_test_lines)\n",
    "\n",
    "# Combine the lists element-wise\n",
    "clean_test_total = clean_test_abs + ' ' + clean_test_lines\n",
    "\n",
    "# Display the result\n",
    "clean_test_total"
   ]
  },
  {
   "cell_type": "code",
   "execution_count": 154,
   "id": "9e85dba7-cd41-497b-b474-61452a94260a",
   "metadata": {},
   "outputs": [
    {
     "data": {
      "text/html": [
       "<div>\n",
       "<style scoped>\n",
       "    .dataframe tbody tr th:only-of-type {\n",
       "        vertical-align: middle;\n",
       "    }\n",
       "\n",
       "    .dataframe tbody tr th {\n",
       "        vertical-align: top;\n",
       "    }\n",
       "\n",
       "    .dataframe thead th {\n",
       "        text-align: right;\n",
       "    }\n",
       "</style>\n",
       "<table border=\"1\" class=\"dataframe\">\n",
       "  <thead>\n",
       "    <tr style=\"text-align: right;\">\n",
       "      <th></th>\n",
       "      <th>abstract</th>\n",
       "      <th>headline</th>\n",
       "    </tr>\n",
       "  </thead>\n",
       "  <tbody>\n",
       "    <tr>\n",
       "      <th>0</th>\n",
       "      <td>With the New Start treaty nearly wrapped up, President Obama should begin discussing other, more far-reaching deals with Russia.</td>\n",
       "      <td>The Next Treaties</td>\n",
       "    </tr>\n",
       "    <tr>\n",
       "      <th>1</th>\n",
       "      <td>A response to a plea by Israel for the release of Jonathan Pollard.</td>\n",
       "      <td>Plea for Pollard’s Release</td>\n",
       "    </tr>\n",
       "    <tr>\n",
       "      <th>2</th>\n",
       "      <td>Letters to the editor regarding tensions between New York medical schools and those in the Caribbean.</td>\n",
       "      <td>Where Do Doctors Learn Best?</td>\n",
       "    </tr>\n",
       "    <tr>\n",
       "      <th>3</th>\n",
       "      <td>Canada beat the United States in the semifinals of the world junior tournament, advancing to the final for the 10th consecutive year.</td>\n",
       "      <td>Canada Beats United States in World Junior Semifinal</td>\n",
       "    </tr>\n",
       "    <tr>\n",
       "      <th>4</th>\n",
       "      <td>Kristine Lilly, who holds the world record with 352 international appearances for the U.S., announced her retirement on Wednesday.</td>\n",
       "      <td>Lilly, Iron Lady of U.S. Soccer, Retires at 39</td>\n",
       "    </tr>\n",
       "    <tr>\n",
       "      <th>...</th>\n",
       "      <td>...</td>\n",
       "      <td>...</td>\n",
       "    </tr>\n",
       "    <tr>\n",
       "      <th>20403</th>\n",
       "      <td>The job market remained very strong last month, suggesting that workers remain in high demand and are still quitting more often, a Labor Department report showed.</td>\n",
       "      <td>More workers quit in February as job openings stayed high.</td>\n",
       "    </tr>\n",
       "    <tr>\n",
       "      <th>20404</th>\n",
       "      <td>Recent poll data suggests that rising prices dominate Americans’ economic concerns, with inflation fears the highest since 1985.</td>\n",
       "      <td>Americans, especially Republicans, are getting more worried about inflation.</td>\n",
       "    </tr>\n",
       "    <tr>\n",
       "      <th>20405</th>\n",
       "      <td>Scientists have been keeping an eye on BA.2, one of three genetically distinct varieties of the Omicron variant of the coronavirus.</td>\n",
       "      <td>The BA.2 subvariant of Omicron accounts for over half of new U.S. coronavirus cases, the C.D.C. estimates.</td>\n",
       "    </tr>\n",
       "    <tr>\n",
       "      <th>20406</th>\n",
       "      <td>Twenty-one Republican state attorneys general filed a lawsuit against the Biden administration on Tuesday to block the federal mask mandate on public transportation.</td>\n",
       "      <td>Twenty-one states file a lawsuit to block the mask mandate on public transportation.</td>\n",
       "    </tr>\n",
       "    <tr>\n",
       "      <th>20407</th>\n",
       "      <td>The bill, named for Emmett Till, a Black boy who was murdered in Mississippi in 1955, for the first time explicitly criminalized an act that had come to symbolize the grim history of racism in the United States.</td>\n",
       "      <td>Biden Signs Bill Making Lynching a Federal Crime</td>\n",
       "    </tr>\n",
       "  </tbody>\n",
       "</table>\n",
       "<p>20408 rows × 2 columns</p>\n",
       "</div>"
      ],
      "text/plain": [
       "                                                                                                                                                                                                                  abstract  \\\n",
       "0                                                                                         With the New Start treaty nearly wrapped up, President Obama should begin discussing other, more far-reaching deals with Russia.   \n",
       "1                                                                                                                                                      A response to a plea by Israel for the release of Jonathan Pollard.   \n",
       "2                                                                                                                    Letters to the editor regarding tensions between New York medical schools and those in the Caribbean.   \n",
       "3                                                                                    Canada beat the United States in the semifinals of the world junior tournament, advancing to the final for the 10th consecutive year.   \n",
       "4                                                                                       Kristine Lilly, who holds the world record with 352 international appearances for the U.S., announced her retirement on Wednesday.   \n",
       "...                                                                                                                                                                                                                    ...   \n",
       "20403                                                   The job market remained very strong last month, suggesting that workers remain in high demand and are still quitting more often, a Labor Department report showed.   \n",
       "20404                                                                                     Recent poll data suggests that rising prices dominate Americans’ economic concerns, with inflation fears the highest since 1985.   \n",
       "20405                                                                                  Scientists have been keeping an eye on BA.2, one of three genetically distinct varieties of the Omicron variant of the coronavirus.   \n",
       "20406                                                Twenty-one Republican state attorneys general filed a lawsuit against the Biden administration on Tuesday to block the federal mask mandate on public transportation.   \n",
       "20407  The bill, named for Emmett Till, a Black boy who was murdered in Mississippi in 1955, for the first time explicitly criminalized an act that had come to symbolize the grim history of racism in the United States.   \n",
       "\n",
       "                                                                                                         headline  \n",
       "0                                                                                               The Next Treaties  \n",
       "1                                                                                      Plea for Pollard’s Release  \n",
       "2                                                                                    Where Do Doctors Learn Best?  \n",
       "3                                                            Canada Beats United States in World Junior Semifinal  \n",
       "4                                                                  Lilly, Iron Lady of U.S. Soccer, Retires at 39  \n",
       "...                                                                                                           ...  \n",
       "20403                                                  More workers quit in February as job openings stayed high.  \n",
       "20404                                Americans, especially Republicans, are getting more worried about inflation.  \n",
       "20405  The BA.2 subvariant of Omicron accounts for over half of new U.S. coronavirus cases, the C.D.C. estimates.  \n",
       "20406                        Twenty-one states file a lawsuit to block the mask mandate on public transportation.  \n",
       "20407                                                            Biden Signs Bill Making Lynching a Federal Crime  \n",
       "\n",
       "[20408 rows x 2 columns]"
      ]
     },
     "execution_count": 154,
     "metadata": {},
     "output_type": "execute_result"
    }
   ],
   "source": [
    "X_train"
   ]
  },
  {
   "cell_type": "code",
   "execution_count": 155,
   "id": "05e8009a-36b1-4d5b-af08-c816de356108",
   "metadata": {},
   "outputs": [
    {
     "data": {
      "text/plain": [
       "0        1\n",
       "1        1\n",
       "2        1\n",
       "3        0\n",
       "4        0\n",
       "        ..\n",
       "20403    0\n",
       "20404    0\n",
       "20405    0\n",
       "20406    0\n",
       "20407    0\n",
       "Name: section_name, Length: 20408, dtype: int64"
      ]
     },
     "execution_count": 155,
     "metadata": {},
     "output_type": "execute_result"
    }
   ],
   "source": [
    "y_train"
   ]
  },
  {
   "cell_type": "markdown",
   "id": "e7b03c43-e289-4a4d-8fdd-f23a8315dbba",
   "metadata": {},
   "source": [
    "### Finally, we proceed to new label modeling"
   ]
  },
  {
   "cell_type": "code",
   "execution_count": 156,
   "id": "4220e26c-ef7b-45d9-9831-64a260a89168",
   "metadata": {},
   "outputs": [],
   "source": [
    "# Read in data and replace with your relative path\n",
    "df_train = pd.read_csv('/Users/ben/Desktop/DSI_GA_Materials/capstone/Capstone_Project_backup/Data/unlabeled_train.csv')\n",
    "\n"
   ]
  },
  {
   "cell_type": "code",
   "execution_count": 157,
   "id": "dba2d695-a15f-4e47-bf53-2827bbe96a18",
   "metadata": {},
   "outputs": [],
   "source": [
    "# Define weights for each binary labeling function - version 1\n",
    "weight_lf_keyword_my_binary = 0.2\n",
    "weight_lf_regex_fake_news_binary = 0.1\n",
    "weight_lf_regex_subjective_binary = 0.1\n",
    "weight_lf_long_combined_text_binary = 0.2\n",
    "weight_lf_textblob_polarity_binary = 0.1\n",
    "weight_lf_textblob_subjectivity_binary = 0.3\n",
    "\n",
    "@labeling_function()\n",
    "def combined_binary_bias_score(x):\n",
    "    \"\"\"Combine binary labeling functions into a linear equation.\"\"\"\n",
    "    lf1_score = lf_keyword_my_binary(x) * weight_lf_keyword_my_binary\n",
    "    lf2_score = lf_regex_fake_news_binary(x) * weight_lf_regex_fake_news_binary\n",
    "    lf3_score = lf_regex_subjective_binary(x) * weight_lf_regex_subjective_binary\n",
    "    lf4_score = lf_long_combined_text_binary(x) * weight_lf_long_combined_text_binary\n",
    "    lf5_score = lf_textblob_polarity_binary(x) * weight_lf_textblob_polarity_binary\n",
    "    lf6_score = lf_textblob_subjectivity_binary(x) * weight_lf_textblob_subjectivity_binary\n",
    "\n",
    "    # Combine scores with weights\n",
    "    combined_score = lf1_score + lf2_score + lf3_score + lf4_score + lf5_score + lf6_score\n",
    "\n",
    "    # Normalize to the range [0, 1]\n",
    "    normalized_score = max(0, min(combined_score, 1))\n",
    "\n",
    "    return normalized_score\n"
   ]
  },
  {
   "cell_type": "code",
   "execution_count": 159,
   "id": "023496c2",
   "metadata": {},
   "outputs": [],
   "source": [
    "# Version 2\n",
    "# Define weights for each binary labeling function [ New Silo to try tomorrow ]\n",
    "weight_lf_keyword_my_binary = 0.2 # Lower this to 0.05 with neg words, raise to 0.2 without neg words\n",
    "weight_lf_regex_fake_news_binary = 0.1\n",
    "weight_lf_regex_subjective_binary = 0.1\n",
    "weight_lf_long_combined_text_binary = 0.2\n",
    "weight_lf_textblob_polarity_binary = 0.2\n",
    "weight_lf_textblob_subjectivity_binary = 0.3\n",
    "# Neg/pos words - Set weights to 0.00 for original model and put to 0.05 for subsequent pos and neg word tests\n",
    "# weight_lf_past_tense_keywords_binary = 0.00 \n",
    "# weight_lf_present_tense_keywords_binary = 0.00\n",
    "# weight_lf_active_voice_keywords_binary = 0.00\n",
    "# sub 0.1\n",
    "weight_lf_keyword_maps_binary = -0.01\n",
    "weight_lf_keyword_county_binary = -0.01\n",
    "weight_lf_keyword_election_binary = -0.01\n",
    "weight_lf_keyword_coronavirus_binary = -0.01\n",
    "weight_lf_keyword_case_binary = -0.01\n",
    "weight_lf_keyword_risk_binary = -0.01\n",
    "weight_lf_keyword_cases_binary = -0.01\n",
    "weight_lf_keyword_covid_binary = -0.02\n",
    "weight_lf_keyword_latest_binary = -0.01\n",
    "# add 0.1\n",
    "weight_lf_keyword_trump_binary = 0.03\n",
    "weight_lf_keyword_ukraine_binary = 0.01\n",
    "weight_lf_keyword_russia_binary = 0.01\n",
    "weight_lf_keyword_war_binary = 0.01\n",
    "weight_lf_keyword_reminiscent_binary = 0.01\n",
    "weight_lf_keyword_removes_binary = 0.01\n",
    "weight_lf_keyword_proceed_binary = 0.01\n",
    "weight_lf_keyword_ponder_binary = 0.01"
   ]
  },
  {
   "cell_type": "code",
   "execution_count": 160,
   "id": "8b0db162",
   "metadata": {},
   "outputs": [],
   "source": [
    "@labeling_function()\n",
    "def combined_binary_bias_score_v2(x):\n",
    "    \"\"\"Combine binary labeling functions into a linear equation.\"\"\"\n",
    "    lf1_score = lf_keyword_my_binary(x) * weight_lf_keyword_my_binary\n",
    "    lf2_score = lf_regex_fake_news_binary(x) * weight_lf_regex_fake_news_binary\n",
    "    lf3_score = lf_regex_subjective_binary(x) * weight_lf_regex_subjective_binary\n",
    "    lf4_score = lf_long_combined_text_binary(x) * weight_lf_long_combined_text_binary\n",
    "    lf5_score = lf_textblob_polarity_binary(x) * weight_lf_textblob_polarity_binary\n",
    "    lf6_score = lf_textblob_subjectivity_binary(x) * weight_lf_textblob_subjectivity_binary\n",
    "    # neg words\n",
    "#     lf7_score = lf_past_tense_keywords_binary(x) * weight_lf_past_tense_keywords_binary\n",
    "#     lf8_score = lf_present_tense_keywords_binary(x) * weight_lf_present_tense_keywords_binary\n",
    "#     lf9_score = lf_active_voice_keywords_binary(x) * weight_lf_active_voice_keywords_binary\n",
    "    # keyword binary functions\n",
    "    lf10_score = lf_keyword_maps_binary(x) * weight_lf_keyword_maps_binary\n",
    "    lf11_score = lf_keyword_county_binary(x) * weight_lf_keyword_county_binary\n",
    "    lf12_score = lf_keyword_election_binary(x) * weight_lf_keyword_election_binary\n",
    "    lf13_score = lf_keyword_coronavirus_binary(x) * weight_lf_keyword_coronavirus_binary\n",
    "    lf14_score = lf_keyword_case_binary(x) * weight_lf_keyword_case_binary\n",
    "    lf15_score = lf_keyword_risk_binary(x) * weight_lf_keyword_risk_binary\n",
    "    lf16_score = lf_keyword_cases_binary(x) * weight_lf_keyword_cases_binary\n",
    "    lf17_score = lf_keyword_covid_binary(x) * weight_lf_keyword_covid_binary\n",
    "    lf18_score = lf_keyword_latest_binary(x) * weight_lf_keyword_latest_binary\n",
    "    lf19_score = lf_keyword_trump_binary(x) * weight_lf_keyword_trump_binary\n",
    "    lf20_score = lf_keyword_ukraine_binary(x) * weight_lf_keyword_ukraine_binary\n",
    "    lf21_score = lf_keyword_russia_binary(x) * weight_lf_keyword_russia_binary\n",
    "    lf22_score = lf_keyword_war_binary(x) * weight_lf_keyword_war_binary\n",
    "    lf23_score = lf_keyword_reminiscent_binary(x) * weight_lf_keyword_reminiscent_binary\n",
    "    lf24_score = lf_keyword_removes_binary(x) * weight_lf_keyword_removes_binary\n",
    "    lf25_score = lf_keyword_proceed_binary(x) * weight_lf_keyword_proceed_binary\n",
    "    lf26_score = lf_keyword_ponder_binary(x) * weight_lf_keyword_ponder_binary\n",
    "\n",
    "    # Combine scores with weights\n",
    "    combined_score = (\n",
    "            lf1_score + lf2_score + lf3_score + lf4_score +\n",
    "            lf5_score + lf6_score + \n",
    "            #lf7_score + lf8_score + lf9_score +\n",
    "            lf10_score + lf11_score + lf12_score + lf13_score +\n",
    "            lf14_score + lf15_score + lf16_score + lf17_score +\n",
    "            lf18_score + lf19_score + lf20_score + lf21_score +\n",
    "            lf22_score + lf23_score + lf24_score + lf25_score + lf26_score\n",
    "    )\n",
    "    # Normalize to the range [0, 1]\n",
    "    normalized_score = max(0, min(combined_score, 1))\n",
    "\n",
    "    return normalized_score\n"
   ]
  },
  {
   "cell_type": "code",
   "execution_count": 198,
   "id": "11f4b318-b3bb-4ffe-ac34-cdfd4a31acdb",
   "metadata": {},
   "outputs": [],
   "source": [
    "df_train[\"cohen_kappa_label_v2\"] = df_train[\"abstracts_headlines\"].apply(combined_binary_bias_score_v2)\n"
   ]
  },
  {
   "cell_type": "code",
   "execution_count": 197,
   "id": "a095d311",
   "metadata": {},
   "outputs": [],
   "source": [
    "df_train[\"cohen_kappa_label_label2\"] = df_train[\"abstracts_headlines\"].apply(combined_binary_bias_score)\n"
   ]
  },
  {
   "cell_type": "markdown",
   "id": "5b9f185c",
   "metadata": {},
   "source": [
    "##### Original Label Function Distribution"
   ]
  },
  {
   "cell_type": "code",
   "execution_count": 175,
   "id": "2ec42775-9ef2-4104-97b0-4019ca6a25eb",
   "metadata": {},
   "outputs": [
    {
     "data": {
      "text/plain": [
       "cohen_kappa_label_label2\n",
       "0.2    0.484467\n",
       "0.5    0.260143\n",
       "0.4    0.145139\n",
       "0.7    0.058016\n",
       "0.3    0.026166\n",
       "0.0    0.010241\n",
       "0.6    0.007644\n",
       "0.3    0.003920\n",
       "0.8    0.003724\n",
       "0.1    0.000490\n",
       "0.9    0.000049\n",
       "Name: proportion, dtype: float64"
      ]
     },
     "execution_count": 175,
     "metadata": {},
     "output_type": "execute_result"
    }
   ],
   "source": [
    "df_train[\"cohen_kappa_label_label2\"].value_counts(normalize=True)"
   ]
  },
  {
   "cell_type": "markdown",
   "id": "3dd20be3",
   "metadata": {},
   "source": [
    "##### New Label Function Distribution"
   ]
  },
  {
   "cell_type": "code",
   "execution_count": 189,
   "id": "f0782162",
   "metadata": {},
   "outputs": [
    {
     "data": {
      "text/plain": [
       "cohen_kappa_label_v2\n",
       "0.20    0.355792\n",
       "0.40    0.113436\n",
       "0.50    0.097707\n",
       "0.41    0.088887\n",
       "0.48    0.042140\n",
       "          ...   \n",
       "0.90    0.000049\n",
       "0.19    0.000049\n",
       "0.78    0.000049\n",
       "0.12    0.000049\n",
       "0.43    0.000049\n",
       "Name: proportion, Length: 80, dtype: float64"
      ]
     },
     "execution_count": 189,
     "metadata": {},
     "output_type": "execute_result"
    }
   ],
   "source": [
    "df_train[\"cohen_kappa_label_v2\"].value_counts(normalize=True)"
   ]
  },
  {
   "cell_type": "markdown",
   "id": "baa8bff4",
   "metadata": {},
   "source": [
    "##### Visualize the Distribution"
   ]
  },
  {
   "cell_type": "code",
   "execution_count": 199,
   "id": "124a9e59-3704-4292-a6c0-c02155ac7c1c",
   "metadata": {},
   "outputs": [
    {
     "data": {
      "image/png": "[encoded data removed]",
      "text/plain": [
       "<Figure size 640x480 with 1 Axes>"
      ]
     },
     "metadata": {},
     "output_type": "display_data"
    }
   ],
   "source": [
    "sns.histplot(df_train[\"cohen_kappa_label_label2\"], bins=10, kde=False, color='skyblue', edgecolor='black')\n",
    "\n",
    "plt.xlabel('Cohen Kappa Bias Score')\n",
    "plt.ylabel('Frequency')\n",
    "plt.title('Distribution of Combined Cohen Kappa Bias Scores')\n",
    "plt.show()"
   ]
  },
  {
   "cell_type": "code",
   "execution_count": 200,
   "id": "5e50e754",
   "metadata": {},
   "outputs": [
    {
     "data": {
      "image/png": "[encoded data removed]",
      "text/plain": [
       "<Figure size 640x480 with 1 Axes>"
      ]
     },
     "metadata": {},
     "output_type": "display_data"
    }
   ],
   "source": [
    "sns.histplot(df_train[\"cohen_kappa_label_v2\"], bins=10, kde=False, color='skyblue', edgecolor='black')\n",
    "\n",
    "plt.xlabel('Cohen Kappa Bias Score')\n",
    "plt.ylabel('Frequency')\n",
    "plt.title('Distribution of Combined Cohen Kappa Bias Scores')\n",
    "plt.show()"
   ]
  },
  {
   "cell_type": "markdown",
   "id": "195c9661",
   "metadata": {},
   "source": [
    "##### Utilize Kernel Density Estimation to visualize continuous version of distribution "
   ]
  },
  {
   "cell_type": "code",
   "execution_count": 201,
   "id": "5b5773b0-d907-4dfe-a139-1fa3060dcbc0",
   "metadata": {},
   "outputs": [
    {
     "data": {
      "image/png": "[encoded data removed]",
      "text/plain": [
       "<Figure size 640x480 with 1 Axes>"
      ]
     },
     "metadata": {},
     "output_type": "display_data"
    }
   ],
   "source": [
    "sns.histplot(df_train[\"cohen_kappa_label_label2\"], bins=10, kde=True, color='purple', edgecolor='black',\n",
    "             kde_kws={'bw_method': 0.3})\n",
    "\n",
    "plt.xlabel('Cohen Kappa Bias Score')\n",
    "plt.ylabel('Frequency')\n",
    "plt.title('Distribution of Combined Cohen Kappa Bias Scores with Two Bell Curves')\n",
    "plt.show()"
   ]
  },
  {
   "cell_type": "code",
   "execution_count": 202,
   "id": "f990fe8a",
   "metadata": {},
   "outputs": [
    {
     "data": {
      "image/png": "[encoded data removed]",
      "text/plain": [
       "<Figure size 640x480 with 1 Axes>"
      ]
     },
     "metadata": {},
     "output_type": "display_data"
    }
   ],
   "source": [
    "sns.histplot(df_train[\"cohen_kappa_label_v2\"], bins=10, kde=True, color='purple', edgecolor='black',\n",
    "             kde_kws={'bw_method': 0.3})\n",
    "\n",
    "plt.xlabel('Cohen Kappa Bias Score')\n",
    "plt.ylabel('Frequency')\n",
    "plt.title('Distribution of Combined Cohen Kappa Bias Scores with Two Bell Curves')\n",
    "plt.show()"
   ]
  },
  {
   "cell_type": "markdown",
   "id": "add52ab0",
   "metadata": {},
   "source": [
    "##### Too many bins from version 2, use the linear labeling model version 1 for neural network model. "
   ]
  },
  {
   "cell_type": "code",
   "execution_count": 188,
   "id": "072066b9",
   "metadata": {},
   "outputs": [],
   "source": [
    "#### Save the model - replace with your relative path \n",
    "# df_train.to_csv('/Users/ben/Desktop/DSI_GA_Materials/capstone/Capstone_Project_backup/Data/new_labels_v2.csv')"
   ]
  },
  {
   "cell_type": "markdown",
   "id": "0c6f36d7",
   "metadata": {},
   "source": [
    "## Now Proceed to Part 3 LSTM Neural Network - Use your output file with 5 distinct labels for this Neural Network - column `cohen_kappa_label_label2` in this example"
   ]
  }
 ],
 "metadata": {
  "kernelspec": {
   "display_name": "Python 3 (ipykernel)",
   "language": "python",
   "name": "python3"
  },
  "language_info": {
   "codemirror_mode": {
    "name": "ipython",
    "version": 3
   },
   "file_extension": ".py",
   "mimetype": "text/x-python",
   "name": "python",
   "nbconvert_exporter": "python",
   "pygments_lexer": "ipython3",
   "version": "3.10.13"
  }
 },
 "nbformat": 4,
 "nbformat_minor": 5
}
