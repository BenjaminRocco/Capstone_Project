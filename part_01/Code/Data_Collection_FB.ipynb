{
 "cells": [
  {
   "cell_type": "code",
   "execution_count": null,
   "id": "83bbb041-4535-46a0-8a35-656323d2763f",
   "metadata": {},
   "outputs": [],
   "source": [
    "import requests\n",
    "\n",
    "# Replace these values with your actual Facebook API credentials\n",
    "app_id = \"253266301181250\"\n",
    "app_secret = \"dfc7f8e9163ac03bc1960dfc69ac9a0d\"\n",
    "access_token = \"400628a10a0e9f8dbeef58cf31a8d036\"\n",
    "\n",
    "# User or Page ID for which you want to get posts\n",
    "user_id = \"user_id_or_page_id\"\n",
    "\n",
    "# Facebook Graph API endpoint for user's/posts\n",
    "url = f\"https://graph.facebook.com/{user_id}/posts\"\n",
    "\n",
    "# Parameters for the request\n",
    "params = {\n",
    "    \"access_token\": f\"{app_id}|{app_secret}\",  # App ID and App Secret concatenated with a pipe \"|\"\n",
    "}\n",
    "\n",
    "# Make the API request\n",
    "response = requests.get(url, params=params)\n",
    "\n",
    "# Check if the request was successful\n",
    "if response.status_code == 200:\n",
    "    data = response.json()\n",
    "    # Process the data as needed\n",
    "    print(data)\n",
    "else:\n",
    "    print(f\"Error: {response.status_code}\")\n",
    "    print(response.text)\n"
   ]
  },
  {
   "cell_type": "code",
   "execution_count": 5,
   "id": "92e82a11-8173-4425-bcde-06eefb02e8ab",
   "metadata": {},
   "outputs": [],
   "source": [
    "# Fake Credentials to plug in when pushing\n",
    "app_id_fake = \"GxHbYsLkQwEiZjO\"\n",
    "app_secret_fake = \"RfPqXyZvWsLuHgTeNbMoJiKuRcExAz\"\n",
    "access_token_fake = \"DkTmYlHjVnGfSbOpQcRiAxZuWkLrNeF\"\n",
    "\n",
    "# Real Credentials to Put in a separate file you don't push \n",
    "\n",
    "app_id = \"253266301181250\"\n",
    "app_secret = \"dfc7f8e9163ac03bc1960dfc69ac9a0d\"\n",
    "access_token = \"400628a10a0e9f8dbeef58cf31a8d036\""
   ]
  }
 ],
 "metadata": {
  "kernelspec": {
   "display_name": "Python 3 (ipykernel)",
   "language": "python",
   "name": "python3"
  },
  "language_info": {
   "codemirror_mode": {
    "name": "ipython",
    "version": 3
   },
   "file_extension": ".py",
   "mimetype": "text/x-python",
   "name": "python",
   "nbconvert_exporter": "python",
   "pygments_lexer": "ipython3",
   "version": "3.10.13"
  }
 },
 "nbformat": 4,
 "nbformat_minor": 5
}
