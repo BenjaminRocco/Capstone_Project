{
 "cells": [
  {
   "cell_type": "code",
   "execution_count": 3,
   "id": "163c4f3b-b351-4f31-a3ad-033bc5a1952c",
   "metadata": {},
   "outputs": [
    {
     "name": "stdout",
     "output_type": "stream",
     "text": [
      "Error: 403 Forbidden\n",
      "453 - You currently have access to a subset of Twitter API v2 endpoints and limited v1.1 endpoints (e.g. media post, oauth) only. If you need access to this endpoint, you may need a different access level. You can learn more here: https://developer.twitter.com/en/portal/product\n"
     ]
    }
   ],
   "source": [
    "import tweepy\n",
    "\n",
    "# Replace these values with your actual Twitter API credentials\n",
    "consumer_key = \"YYbytQ84s8wrGz6N0pSzS4W8O\"\n",
    "consumer_secret = \"oDCeZgbO7SM4fWihlgANkD2DKm5QSWnpsKeBqHPy3O3Hh4p2Wt\"\n",
    "access_token = \"1679268404132298753-haGek1s3hNy2zO8Ttar79DOirDJBEB\"\n",
    "access_token_secret = \"rRPIyQtjuHZpAckh5iuGGmwku7DEVubJQl2YgOpKrG7jU\"\n",
    "bearer_token = 'AAAAAAAAAAAAAAAAAAAAAHiCsQEAAAAAE8LbwVjqzn%2BkwgWSC8WZ84cGQN4%3Dub8zs0EYuYGKu7uMtdHpErjjalWohqnrRG86q2iyalN4GKUVUI'\n",
    "\n",
    "# Authenticate with Twitter API\n",
    "auth = tweepy.OAuthHandler(consumer_key, consumer_secret)\n",
    "auth.set_access_token(access_token, access_token_secret)\n",
    "api = tweepy.API(auth, wait_on_rate_limit=True)\n",
    "\n",
    "# Example: Fetch recent tweets from a user's timeline\n",
    "user_id = \"CNN\"  # Replace with the Twitter user ID\n",
    "tweet_count = 10  # Number of tweets to retrieve\n",
    "\n",
    "try:\n",
    "    tweets = api.user_timeline(user_id=user_id, count=tweet_count)\n",
    "    for tweet in tweets:\n",
    "        print(f\"{tweet.user.screen_name}: {tweet.text}\")\n",
    "except Exception as e:\n",
    "    print(f\"Error: {e}\")"
   ]
  },
  {
   "cell_type": "code",
   "execution_count": 3,
   "id": "dea99dbe-7754-4657-a51f-8060e7ce92ad",
   "metadata": {},
   "outputs": [],
   "source": [
    "# Fake Credentials to plug in when pushing\n",
    "consumer_key_fake = \"JvPbYkQwEiZjOaHgTsLxRfGd\"\n",
    "consumer_key_fake = \"WmRtYnZvXwSbOpQcExAzHgTsLuHjNkYmLpVfCcRiAxZuWk\"\n",
    "access_token_fake = \"DkTmYlHjVnGfSbOpQcRiAxZuWkLrNeFyUgTsLuHjNkYmLpV\"\n",
    "access_token_secret_fake = \"QwErTyUiOpAsDfGhJkLzXcVbNmQwErTyUiOpAsDfGhJkLzXcVbN\"\n",
    "bearer_token_fake = 'AARAAAATAAAABAAAAAAAAHECsQEAAAAAE8LbwVjtzn%4BkwgWSC8yZ95cGQN4%3Dub8zs0EYuYGKu7uMtzHpErjjalWohqnrRG86q1iyalN4rKVWLi'\n",
    "\n",
    "\n",
    "# Real Credentials to Put in a separate file you don't push \n",
    "\n",
    "consumer_key = \"YYbytQ84s8wrGz6N0pSzS4W8O\"\n",
    "consumer_secret = \"oDCeZgbO7SM4fWihlgANkD2DKm5QSWnpsKeBqHPy3O3Hh4p2Wt\"\n",
    "access_token = \"1679268404132298753-haGek1s3hNy2zO8Ttar79DOirDJBEB\"\n",
    "access_token_secret = \"rRPIyQtjuHZpAckh5iuGGmwku7DEVubJQl2YgOpKrG7jU\""
   ]
  }
 ],
 "metadata": {
  "kernelspec": {
   "display_name": "Python 3 (ipykernel)",
   "language": "python",
   "name": "python3"
  },
  "language_info": {
   "codemirror_mode": {
    "name": "ipython",
    "version": 3
   },
   "file_extension": ".py",
   "mimetype": "text/x-python",
   "name": "python",
   "nbconvert_exporter": "python",
   "pygments_lexer": "ipython3",
   "version": "3.10.13"
  }
 },
 "nbformat": 4,
 "nbformat_minor": 5
}
