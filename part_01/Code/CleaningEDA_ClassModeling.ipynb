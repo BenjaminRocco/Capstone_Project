{
 "cells": [
  {
   "cell_type": "markdown",
   "id": "cbffcb46-2997-4e30-9a0a-c21f8e7a8522",
   "metadata": {},
   "source": [
    "### Import Section"
   ]
  },
  {
   "cell_type": "code",
   "execution_count": 91,
   "id": "74342ebb-05ba-4328-a90e-794512ecf7fd",
   "metadata": {},
   "outputs": [],
   "source": [
    "# Fundamentals\n",
    "import pandas as pd\n",
    "import numpy as np\n",
    "import re\n",
    "from nltk.corpus import stopwords # Import the stop word list\n",
    "import matplotlib.pyplot as plt\n",
    "import time\n",
    "\n",
    "# Modeling Fundamentals\n",
    "from sklearn.preprocessing import StandardScaler\n",
    "from sklearn.pipeline import Pipeline, make_pipeline\n",
    "from sklearn.model_selection import train_test_split, GridSearchCV, cross_val_score\n",
    "from sklearn.feature_extraction.text import CountVectorizer, TfidfVectorizer\n",
    "from collections import Counter\n",
    "from sklearn.metrics import make_scorer\n",
    "\n",
    "# Models\n",
    "from sklearn.linear_model import LogisticRegression\n",
    "from sklearn.neighbors import KNeighborsClassifier\n",
    "from sklearn.naive_bayes import MultinomialNB, BernoulliNB, GaussianNB\n",
    "from sklearn.ensemble import BaggingClassifier, RandomForestClassifier\n",
    "from sklearn.ensemble import AdaBoostClassifier\n",
    "from sklearn.tree import DecisionTreeClassifier\n",
    "from sklearn.svm import LinearSVC, SVC\n",
    "from sklearn.pipeline import Pipeline\n",
    "\n",
    "# Evaluation metrics\n",
    "from sklearn.metrics import confusion_matrix, ConfusionMatrixDisplay\n",
    "from sklearn.metrics import mean_absolute_error, mean_squared_error\n",
    "from sklearn.metrics import f1_score\n",
    "\n",
    "# Ignore Future warnings\n",
    "import warnings\n",
    "warnings.simplefilter(action='ignore', category=FutureWarning);\n",
    "# Max column width\n",
    "pd.set_option('display.max_colwidth', None)\n",
    "\n",
    "# Import pickle to save model\n",
    "import pickle"
   ]
  },
  {
   "cell_type": "markdown",
   "id": "a118507e-b2e8-4621-bbd1-2b475813c76f",
   "metadata": {},
   "source": [
    "##### Replace with your filepath"
   ]
  },
  {
   "cell_type": "code",
   "execution_count": 92,
   "id": "b126b1ac-e274-4d97-9e78-fe5d3236c948",
   "metadata": {},
   "outputs": [],
   "source": [
    "df = pd.read_csv('/Users/ben/Desktop/DSI_GA_Materials/capstone/Capstone_Project_backup/Data/united_states_headlines_last_decade.csv')\n"
   ]
  },
  {
   "cell_type": "markdown",
   "id": "db070af9",
   "metadata": {},
   "source": [
    "##### View columns"
   ]
  },
  {
   "cell_type": "code",
   "execution_count": 93,
   "id": "e636e972-7627-4b56-a541-d861770a07df",
   "metadata": {},
   "outputs": [
    {
     "data": {
      "text/plain": [
       "Index(['Unnamed: 0', 'abstract', 'headline', 'pub_date', 'year',\n",
       "       'section_name', 'news_desk', 'keyword'],\n",
       "      dtype='object')"
      ]
     },
     "execution_count": 93,
     "metadata": {},
     "output_type": "execute_result"
    }
   ],
   "source": [
    "df.columns"
   ]
  },
  {
   "cell_type": "markdown",
   "id": "c0327d6d",
   "metadata": {},
   "source": [
    "##### View section names distribution, these will be the basis for a fair portion of analysis throughout the course of this project"
   ]
  },
  {
   "cell_type": "code",
   "execution_count": 94,
   "id": "4ce7a1e1-c154-451c-8215-1699cc6cb3ea",
   "metadata": {},
   "outputs": [
    {
     "data": {
      "text/plain": [
       "section_name\n",
       "U.S.                    0.364239\n",
       "Opinion                 0.234201\n",
       "World                   0.131253\n",
       "Business Day            0.080877\n",
       "Sports                  0.027325\n",
       "Health                  0.024385\n",
       "Science                 0.011722\n",
       "Podcasts                0.011173\n",
       "Technology              0.009918\n",
       "The Upshot              0.009801\n",
       "New York                0.008821\n",
       "Arts                    0.008115\n",
       "Briefing                0.008037\n",
       "Magazine                0.006547\n",
       "Travel                  0.006508\n",
       "Blogs                   0.006469\n",
       "Multimedia/Photos       0.005920\n",
       "Books                   0.005645\n",
       "Food                    0.005606\n",
       "Climate                 0.005449\n",
       "Automobiles             0.003999\n",
       "Your Money              0.003999\n",
       "Real Estate             0.003371\n",
       "Style                   0.003175\n",
       "Sunday Review           0.001999\n",
       "Well                    0.001490\n",
       "Fashion & Style         0.001372\n",
       "Education               0.001255\n",
       "Times Insider           0.001176\n",
       "Movies                  0.001098\n",
       "Reader Center           0.000862\n",
       "T Magazine              0.000745\n",
       "Crosswords & Games      0.000470\n",
       "Theater                 0.000353\n",
       "Public Editor           0.000353\n",
       "At Home                 0.000314\n",
       "The Learning Network    0.000274\n",
       "Obituaries              0.000274\n",
       "Video                   0.000196\n",
       "Headway                 0.000196\n",
       "Giving                  0.000157\n",
       "Parenting               0.000157\n",
       "Special Series          0.000118\n",
       "Job Market              0.000118\n",
       "The Weekly              0.000118\n",
       "Week in Review          0.000078\n",
       "Universal               0.000078\n",
       "Smarter Living          0.000078\n",
       "Booming                 0.000039\n",
       "NYT Now                 0.000039\n",
       "en Español              0.000039\n",
       "Name: proportion, dtype: float64"
      ]
     },
     "execution_count": 94,
     "metadata": {},
     "output_type": "execute_result"
    }
   ],
   "source": [
    "df['section_name'].value_counts(normalize=True)"
   ]
  },
  {
   "cell_type": "markdown",
   "id": "f836444e",
   "metadata": {},
   "source": [
    "##### Drop unnecessary columns"
   ]
  },
  {
   "cell_type": "code",
   "execution_count": 95,
   "id": "80cac305-d120-4170-b370-afb9e8753d7b",
   "metadata": {},
   "outputs": [],
   "source": [
    "columns_to_drop = ['Unnamed: 0', 'keyword', 'news_desk', 'keyword','pub_date','year']"
   ]
  },
  {
   "cell_type": "code",
   "execution_count": 96,
   "id": "36541647-f643-4b7e-9147-510444130ab6",
   "metadata": {},
   "outputs": [],
   "source": [
    "df = df.drop(columns=columns_to_drop)"
   ]
  },
  {
   "cell_type": "code",
   "execution_count": 97,
   "id": "eba9e427-d4c7-4835-b708-26578255cb2b",
   "metadata": {},
   "outputs": [
    {
     "data": {
      "text/html": [
       "<div>\n",
       "<style scoped>\n",
       "    .dataframe tbody tr th:only-of-type {\n",
       "        vertical-align: middle;\n",
       "    }\n",
       "\n",
       "    .dataframe tbody tr th {\n",
       "        vertical-align: top;\n",
       "    }\n",
       "\n",
       "    .dataframe thead th {\n",
       "        text-align: right;\n",
       "    }\n",
       "</style>\n",
       "<table border=\"1\" class=\"dataframe\">\n",
       "  <thead>\n",
       "    <tr style=\"text-align: right;\">\n",
       "      <th></th>\n",
       "      <th>abstract</th>\n",
       "      <th>headline</th>\n",
       "      <th>section_name</th>\n",
       "    </tr>\n",
       "  </thead>\n",
       "  <tbody>\n",
       "    <tr>\n",
       "      <th>0</th>\n",
       "      <td>With the New Start treaty nearly wrapped up, President Obama should begin discussing other, more far-reaching deals with Russia.</td>\n",
       "      <td>The Next Treaties</td>\n",
       "      <td>Opinion</td>\n",
       "    </tr>\n",
       "    <tr>\n",
       "      <th>1</th>\n",
       "      <td>A response to a plea by Israel for the release of Jonathan Pollard.</td>\n",
       "      <td>Plea for Pollard’s Release</td>\n",
       "      <td>Opinion</td>\n",
       "    </tr>\n",
       "    <tr>\n",
       "      <th>2</th>\n",
       "      <td>Letters to the editor regarding tensions between New York medical schools and those in the Caribbean.</td>\n",
       "      <td>Where Do Doctors Learn Best?</td>\n",
       "      <td>Opinion</td>\n",
       "    </tr>\n",
       "    <tr>\n",
       "      <th>3</th>\n",
       "      <td>Canada beat the United States in the semifinals of the world junior tournament, advancing to the final for the 10th consecutive year.</td>\n",
       "      <td>Canada Beats United States in World Junior Semifinal</td>\n",
       "      <td>Sports</td>\n",
       "    </tr>\n",
       "    <tr>\n",
       "      <th>4</th>\n",
       "      <td>Kristine Lilly, who holds the world record with 352 international appearances for the U.S., announced her retirement on Wednesday.</td>\n",
       "      <td>Lilly, Iron Lady of U.S. Soccer, Retires at 39</td>\n",
       "      <td>Sports</td>\n",
       "    </tr>\n",
       "    <tr>\n",
       "      <th>...</th>\n",
       "      <td>...</td>\n",
       "      <td>...</td>\n",
       "      <td>...</td>\n",
       "    </tr>\n",
       "    <tr>\n",
       "      <th>25505</th>\n",
       "      <td>Unconscious bias in the medical profession may be raising risks for pregnant Black women.</td>\n",
       "      <td>How Bias Endangers Pregnant Black Women</td>\n",
       "      <td>Health</td>\n",
       "    </tr>\n",
       "    <tr>\n",
       "      <th>25506</th>\n",
       "      <td>The Upshot staff shares a selection of their favorite charts, documents, queries and calculations from the past year.</td>\n",
       "      <td>10 Data Points and Documents That Made Us 🤔 in 2023</td>\n",
       "      <td>The Upshot</td>\n",
       "    </tr>\n",
       "    <tr>\n",
       "      <th>25507</th>\n",
       "      <td>The move comes as Israel presses on with its offensive in Gaza despite increasing pressure from the United States to lower the conflict’s intensity.</td>\n",
       "      <td>Biden Administration Again Bypasses Congress for Weapons Sale to Israel</td>\n",
       "      <td>World</td>\n",
       "    </tr>\n",
       "    <tr>\n",
       "      <th>25508</th>\n",
       "      <td>President Biden seems nervous about sealing a deal that would improve the health and quality of life of millions of Americans through a stricter rule on truck emissions.</td>\n",
       "      <td>Electrify All the Big, Noisy, Belching Trucks</td>\n",
       "      <td>Opinion</td>\n",
       "    </tr>\n",
       "    <tr>\n",
       "      <th>25509</th>\n",
       "      <td>The era of shrinking water resources and rising temperatures will undoubtedly test Southwest states, but it’s a question of how we adapt, not whether we survive.</td>\n",
       "      <td>Don’t Flee the American Southwest Just Yet</td>\n",
       "      <td>Opinion</td>\n",
       "    </tr>\n",
       "  </tbody>\n",
       "</table>\n",
       "<p>25510 rows × 3 columns</p>\n",
       "</div>"
      ],
      "text/plain": [
       "                                                                                                                                                                        abstract  \\\n",
       "0                                               With the New Start treaty nearly wrapped up, President Obama should begin discussing other, more far-reaching deals with Russia.   \n",
       "1                                                                                                            A response to a plea by Israel for the release of Jonathan Pollard.   \n",
       "2                                                                          Letters to the editor regarding tensions between New York medical schools and those in the Caribbean.   \n",
       "3                                          Canada beat the United States in the semifinals of the world junior tournament, advancing to the final for the 10th consecutive year.   \n",
       "4                                             Kristine Lilly, who holds the world record with 352 international appearances for the U.S., announced her retirement on Wednesday.   \n",
       "...                                                                                                                                                                          ...   \n",
       "25505                                                                                  Unconscious bias in the medical profession may be raising risks for pregnant Black women.   \n",
       "25506                                                      The Upshot staff shares a selection of their favorite charts, documents, queries and calculations from the past year.   \n",
       "25507                       The move comes as Israel presses on with its offensive in Gaza despite increasing pressure from the United States to lower the conflict’s intensity.   \n",
       "25508  President Biden seems nervous about sealing a deal that would improve the health and quality of life of millions of Americans through a stricter rule on truck emissions.   \n",
       "25509          The era of shrinking water resources and rising temperatures will undoubtedly test Southwest states, but it’s a question of how we adapt, not whether we survive.   \n",
       "\n",
       "                                                                      headline  \\\n",
       "0                                                            The Next Treaties   \n",
       "1                                                   Plea for Pollard’s Release   \n",
       "2                                                 Where Do Doctors Learn Best?   \n",
       "3                         Canada Beats United States in World Junior Semifinal   \n",
       "4                               Lilly, Iron Lady of U.S. Soccer, Retires at 39   \n",
       "...                                                                        ...   \n",
       "25505                                  How Bias Endangers Pregnant Black Women   \n",
       "25506                      10 Data Points and Documents That Made Us 🤔 in 2023   \n",
       "25507  Biden Administration Again Bypasses Congress for Weapons Sale to Israel   \n",
       "25508                            Electrify All the Big, Noisy, Belching Trucks   \n",
       "25509                               Don’t Flee the American Southwest Just Yet   \n",
       "\n",
       "      section_name  \n",
       "0          Opinion  \n",
       "1          Opinion  \n",
       "2          Opinion  \n",
       "3           Sports  \n",
       "4           Sports  \n",
       "...            ...  \n",
       "25505       Health  \n",
       "25506   The Upshot  \n",
       "25507        World  \n",
       "25508      Opinion  \n",
       "25509      Opinion  \n",
       "\n",
       "[25510 rows x 3 columns]"
      ]
     },
     "execution_count": 97,
     "metadata": {},
     "output_type": "execute_result"
    }
   ],
   "source": [
    "df"
   ]
  },
  {
   "cell_type": "markdown",
   "id": "d2997917",
   "metadata": {},
   "source": [
    "##### Save newly edited dataframe - replace with your relative file path"
   ]
  },
  {
   "cell_type": "code",
   "execution_count": 98,
   "id": "bb67c936-dea0-4a59-bde0-bbbddb1d4631",
   "metadata": {},
   "outputs": [],
   "source": [
    "# df.to_csv('/Users/ben/Desktop/DSI_GA_Materials/capstone/Capstone_Project_backup/Data/df_with_section_names.csv')"
   ]
  },
  {
   "cell_type": "markdown",
   "id": "5516ed68-8cb9-4ecb-8186-7db6e36ec84f",
   "metadata": {},
   "source": [
    "##### First step is correctly identifying whether an abstract/headline coupling is from the `Opinion` section or a `non-Opinion` section. This will be the basis of a binary classification model within this file. "
   ]
  },
  {
   "cell_type": "markdown",
   "id": "fba465dc-d34c-4afe-a321-8223abe37a21",
   "metadata": {},
   "source": [
    "##### Binary classification: True label i.e. '1' denotes positive class, i.e. `Opinion` piece, False label i.e. '0' a `non-Opinion` piece. \n",
    "\n"
   ]
  },
  {
   "cell_type": "code",
   "execution_count": 99,
   "id": "2e29d21c-b6c2-4dec-b04a-f9bcbefad91c",
   "metadata": {},
   "outputs": [],
   "source": [
    "df['section_name'] = np.where(df['section_name'] == 'Opinion', 1, 0)"
   ]
  },
  {
   "cell_type": "markdown",
   "id": "3e1b5acd",
   "metadata": {},
   "source": [
    "##### Verify this was accomplished successfully. "
   ]
  },
  {
   "cell_type": "code",
   "execution_count": 100,
   "id": "1e40008f-4b1f-4d41-9964-2238040fc8ea",
   "metadata": {},
   "outputs": [
    {
     "data": {
      "text/html": [
       "<div>\n",
       "<style scoped>\n",
       "    .dataframe tbody tr th:only-of-type {\n",
       "        vertical-align: middle;\n",
       "    }\n",
       "\n",
       "    .dataframe tbody tr th {\n",
       "        vertical-align: top;\n",
       "    }\n",
       "\n",
       "    .dataframe thead th {\n",
       "        text-align: right;\n",
       "    }\n",
       "</style>\n",
       "<table border=\"1\" class=\"dataframe\">\n",
       "  <thead>\n",
       "    <tr style=\"text-align: right;\">\n",
       "      <th></th>\n",
       "      <th>abstract</th>\n",
       "      <th>headline</th>\n",
       "      <th>section_name</th>\n",
       "    </tr>\n",
       "  </thead>\n",
       "  <tbody>\n",
       "    <tr>\n",
       "      <th>0</th>\n",
       "      <td>With the New Start treaty nearly wrapped up, President Obama should begin discussing other, more far-reaching deals with Russia.</td>\n",
       "      <td>The Next Treaties</td>\n",
       "      <td>1</td>\n",
       "    </tr>\n",
       "    <tr>\n",
       "      <th>1</th>\n",
       "      <td>A response to a plea by Israel for the release of Jonathan Pollard.</td>\n",
       "      <td>Plea for Pollard’s Release</td>\n",
       "      <td>1</td>\n",
       "    </tr>\n",
       "    <tr>\n",
       "      <th>2</th>\n",
       "      <td>Letters to the editor regarding tensions between New York medical schools and those in the Caribbean.</td>\n",
       "      <td>Where Do Doctors Learn Best?</td>\n",
       "      <td>1</td>\n",
       "    </tr>\n",
       "    <tr>\n",
       "      <th>3</th>\n",
       "      <td>Canada beat the United States in the semifinals of the world junior tournament, advancing to the final for the 10th consecutive year.</td>\n",
       "      <td>Canada Beats United States in World Junior Semifinal</td>\n",
       "      <td>0</td>\n",
       "    </tr>\n",
       "    <tr>\n",
       "      <th>4</th>\n",
       "      <td>Kristine Lilly, who holds the world record with 352 international appearances for the U.S., announced her retirement on Wednesday.</td>\n",
       "      <td>Lilly, Iron Lady of U.S. Soccer, Retires at 39</td>\n",
       "      <td>0</td>\n",
       "    </tr>\n",
       "    <tr>\n",
       "      <th>...</th>\n",
       "      <td>...</td>\n",
       "      <td>...</td>\n",
       "      <td>...</td>\n",
       "    </tr>\n",
       "    <tr>\n",
       "      <th>25505</th>\n",
       "      <td>Unconscious bias in the medical profession may be raising risks for pregnant Black women.</td>\n",
       "      <td>How Bias Endangers Pregnant Black Women</td>\n",
       "      <td>0</td>\n",
       "    </tr>\n",
       "    <tr>\n",
       "      <th>25506</th>\n",
       "      <td>The Upshot staff shares a selection of their favorite charts, documents, queries and calculations from the past year.</td>\n",
       "      <td>10 Data Points and Documents That Made Us 🤔 in 2023</td>\n",
       "      <td>0</td>\n",
       "    </tr>\n",
       "    <tr>\n",
       "      <th>25507</th>\n",
       "      <td>The move comes as Israel presses on with its offensive in Gaza despite increasing pressure from the United States to lower the conflict’s intensity.</td>\n",
       "      <td>Biden Administration Again Bypasses Congress for Weapons Sale to Israel</td>\n",
       "      <td>0</td>\n",
       "    </tr>\n",
       "    <tr>\n",
       "      <th>25508</th>\n",
       "      <td>President Biden seems nervous about sealing a deal that would improve the health and quality of life of millions of Americans through a stricter rule on truck emissions.</td>\n",
       "      <td>Electrify All the Big, Noisy, Belching Trucks</td>\n",
       "      <td>1</td>\n",
       "    </tr>\n",
       "    <tr>\n",
       "      <th>25509</th>\n",
       "      <td>The era of shrinking water resources and rising temperatures will undoubtedly test Southwest states, but it’s a question of how we adapt, not whether we survive.</td>\n",
       "      <td>Don’t Flee the American Southwest Just Yet</td>\n",
       "      <td>1</td>\n",
       "    </tr>\n",
       "  </tbody>\n",
       "</table>\n",
       "<p>25510 rows × 3 columns</p>\n",
       "</div>"
      ],
      "text/plain": [
       "                                                                                                                                                                        abstract  \\\n",
       "0                                               With the New Start treaty nearly wrapped up, President Obama should begin discussing other, more far-reaching deals with Russia.   \n",
       "1                                                                                                            A response to a plea by Israel for the release of Jonathan Pollard.   \n",
       "2                                                                          Letters to the editor regarding tensions between New York medical schools and those in the Caribbean.   \n",
       "3                                          Canada beat the United States in the semifinals of the world junior tournament, advancing to the final for the 10th consecutive year.   \n",
       "4                                             Kristine Lilly, who holds the world record with 352 international appearances for the U.S., announced her retirement on Wednesday.   \n",
       "...                                                                                                                                                                          ...   \n",
       "25505                                                                                  Unconscious bias in the medical profession may be raising risks for pregnant Black women.   \n",
       "25506                                                      The Upshot staff shares a selection of their favorite charts, documents, queries and calculations from the past year.   \n",
       "25507                       The move comes as Israel presses on with its offensive in Gaza despite increasing pressure from the United States to lower the conflict’s intensity.   \n",
       "25508  President Biden seems nervous about sealing a deal that would improve the health and quality of life of millions of Americans through a stricter rule on truck emissions.   \n",
       "25509          The era of shrinking water resources and rising temperatures will undoubtedly test Southwest states, but it’s a question of how we adapt, not whether we survive.   \n",
       "\n",
       "                                                                      headline  \\\n",
       "0                                                            The Next Treaties   \n",
       "1                                                   Plea for Pollard’s Release   \n",
       "2                                                 Where Do Doctors Learn Best?   \n",
       "3                         Canada Beats United States in World Junior Semifinal   \n",
       "4                               Lilly, Iron Lady of U.S. Soccer, Retires at 39   \n",
       "...                                                                        ...   \n",
       "25505                                  How Bias Endangers Pregnant Black Women   \n",
       "25506                      10 Data Points and Documents That Made Us 🤔 in 2023   \n",
       "25507  Biden Administration Again Bypasses Congress for Weapons Sale to Israel   \n",
       "25508                            Electrify All the Big, Noisy, Belching Trucks   \n",
       "25509                               Don’t Flee the American Southwest Just Yet   \n",
       "\n",
       "       section_name  \n",
       "0                 1  \n",
       "1                 1  \n",
       "2                 1  \n",
       "3                 0  \n",
       "4                 0  \n",
       "...             ...  \n",
       "25505             0  \n",
       "25506             0  \n",
       "25507             0  \n",
       "25508             1  \n",
       "25509             1  \n",
       "\n",
       "[25510 rows x 3 columns]"
      ]
     },
     "execution_count": 100,
     "metadata": {},
     "output_type": "execute_result"
    }
   ],
   "source": [
    "df"
   ]
  },
  {
   "cell_type": "markdown",
   "id": "e6e4d3a4-78a2-452a-938a-1c8058c4355f",
   "metadata": {},
   "source": [
    "# Train Test Split and Cleaning"
   ]
  },
  {
   "cell_type": "markdown",
   "id": "4fa44a4f",
   "metadata": {},
   "source": [
    "##### Train Test Split"
   ]
  },
  {
   "cell_type": "code",
   "execution_count": 101,
   "id": "a1d98801-27ef-46a5-a5d5-3837fc92e985",
   "metadata": {},
   "outputs": [],
   "source": [
    "X_train, X_test, y_train, y_test = train_test_split(df[['abstract', 'headline']],\n",
    "                                                    df['section_name'],\n",
    "                                                    train_size = 0.80,\n",
    "                                                    random_state = 42)"
   ]
  },
  {
   "cell_type": "markdown",
   "id": "b972c4d2",
   "metadata": {},
   "source": [
    "##### Use of Regular Expressions to preprocess strings"
   ]
  },
  {
   "cell_type": "code",
   "execution_count": 102,
   "id": "8350bab5-7ab8-47c1-a5c6-7d92359ba3c1",
   "metadata": {},
   "outputs": [
    {
     "name": "stdout",
     "output_type": "stream",
     "text": [
      "There are 25510 posts.\n",
      "Cleaning and parsing the training set abstracts...\n",
      "Post 5000 of 25510.\n",
      "Post 10000 of 25510.\n",
      "Post 15000 of 25510.\n",
      "Post 20000 of 25510.\n",
      "Cleaning and parsing the testing set abstracts...\n",
      "Post 20500 of 25510.\n",
      "Post 21000 of 25510.\n",
      "Post 21500 of 25510.\n",
      "Post 22000 of 25510.\n",
      "Post 22500 of 25510.\n",
      "Post 23000 of 25510.\n",
      "Post 23500 of 25510.\n",
      "Post 24000 of 25510.\n",
      "Post 24500 of 25510.\n",
      "Post 25000 of 25510.\n",
      "Post 25500 of 25510.\n",
      "Cleaning and parsing the training set headlines...\n"
     ]
    },
    {
     "name": "stdout",
     "output_type": "stream",
     "text": [
      "Post 5000 of 25510.\n",
      "Post 10000 of 25510.\n",
      "Post 15000 of 25510.\n",
      "Post 20000 of 25510.\n",
      "Cleaning and parsing the testing set headlines...\n",
      "Post 20500 of 25510.\n",
      "Post 21000 of 25510.\n",
      "Post 21500 of 25510.\n",
      "Post 22000 of 25510.\n",
      "Post 22500 of 25510.\n",
      "Post 23000 of 25510.\n",
      "Post 23500 of 25510.\n",
      "Post 24000 of 25510.\n",
      "Post 24500 of 25510.\n",
      "Post 25000 of 25510.\n",
      "Post 25500 of 25510.\n"
     ]
    }
   ],
   "source": [
    "def filtered_words(train_data):\n",
    "    # Function to convert a raw post to a string of words\n",
    "    # The input is a single string (a raw abstract or headline), and \n",
    "    # the output is a single string (a preprocessed abstact or headlines from an article)\n",
    "    \n",
    "    # 1. Remove non-letters.\n",
    "    letters_only = re.sub(\"[^a-zA-Z]\", \" \", train_data)\n",
    "    \n",
    "    # 2. Convert to lower case, split into individual words.\n",
    "    words = letters_only.lower().split()\n",
    "    \n",
    "    # 3. In Python, searching a set is much faster than searching\n",
    "    # a list, so convert the stop words to a set.\n",
    "    stops = set(stopwords.words('english'))\n",
    "    \n",
    "    # 4. Remove stop words.\n",
    "    meaningful_words = [w for w in words if w not in stops]\n",
    "    \n",
    "    # 5. Join the words back into one string separated by space, \n",
    "    # and return the result.\n",
    "    return(\" \".join(meaningful_words))\n",
    "\n",
    "total_abs_headlines = df.shape[0]\n",
    "print(f'There are {total_abs_headlines} posts.')\n",
    "\n",
    "# Initialize an empty list to hold the clean abstracts and headlines.\n",
    "clean_train_abs = []\n",
    "clean_test_abs = []\n",
    "clean_train_lines = []\n",
    "clean_test_lines = []\n",
    "\n",
    "print(\"Cleaning and parsing the training set abstracts...\")\n",
    "\n",
    "j = 0\n",
    "for train_abs in X_train['abstract']:\n",
    "    # Convert abstract to words, then append to clean_train_abs.\n",
    "    train_abs_str = str(train_abs)\n",
    "    clean_train_abs.append(filtered_words(train_abs_str))   \n",
    "    # If the index is divisible by 5000, print a message\n",
    "    if (j + 1) % 5000 == 0:\n",
    "        print(f'Post {j + 1} of {total_abs_headlines}.')\n",
    "    \n",
    "    j += 1\n",
    "\n",
    "print(\"Cleaning and parsing the testing set abstracts...\")\n",
    "# Do the same for testing set.\n",
    "for test_abs in X_test['abstract']:\n",
    "    # Convert abstract to words, then append to clean_test_abs.\n",
    "    test_abs_str = str(test_abs)\n",
    "    clean_test_abs.append(filtered_words(test_abs_str))\n",
    "    \n",
    "    # If the index is divisible by 500, print a message\n",
    "    if (j + 1) % 500 == 0:\n",
    "        print(f'Post {j + 1} of {total_abs_headlines}.')\n",
    "        \n",
    "    j += 1\n",
    "\n",
    "print(\"Cleaning and parsing the training set headlines...\")\n",
    "\n",
    "j = 0\n",
    "for train_lines in X_train['headline']:\n",
    "    # Convert headline to words, then append to clean_train_lines.\n",
    "    train_lines_str = str(train_lines)\n",
    "    clean_train_lines.append(filtered_words(train_lines_str))\n",
    "    \n",
    "    # If the index is divisible by 5000, print a message\n",
    "    if (j + 1) % 5000 == 0:\n",
    "        print(f'Post {j + 1} of {total_abs_headlines}.')\n",
    "    \n",
    "    j += 1\n",
    "\n",
    "print(\"Cleaning and parsing the testing set headlines...\")\n",
    "# Do the same for testing set.\n",
    "for test_lines in X_test['headline']:\n",
    "    # Convert headline to words, then append to clean_test_lines.\n",
    "    test_lines_str = str(test_lines)\n",
    "    clean_test_lines.append(filtered_words(test_lines_str))\n",
    "    \n",
    "    # If the index is divisible by 500, print a message\n",
    "    if (j + 1) % 500 == 0:\n",
    "        print(f'Post {j + 1} of {total_abs_headlines}.')\n",
    "        \n",
    "    j += 1\n"
   ]
  },
  {
   "cell_type": "markdown",
   "id": "c78c748b",
   "metadata": {},
   "source": [
    "##### Combine into one train total"
   ]
  },
  {
   "cell_type": "code",
   "execution_count": 103,
   "id": "c1dad945-117c-46c6-a88f-dc012732c1ce",
   "metadata": {},
   "outputs": [
    {
     "data": {
      "text/plain": [
       "0                                                                                                                                 see latest charts maps coronavirus cases deaths hospitalizations garfield county montana garfield county montana covid case risk tracker\n",
       "1                                                                                                                                   biggest increases come groups past far less likely babies highly educated women women never married u fertility rate yet women mothers\n",
       "2        miguel cardona education secretary said reopening nation schools without addressing time lost learning pandemic would insufficient called schools use federal stimulus funds invest mental health counseling tutoring cardona urges schools invest extra tutoring\n",
       "3                                                                                                                                                   mohamed morsi egypt first democratically elected president said washington revitalize alliance egypt relations egypt u\n",
       "4                                                                                                                                                                                     see full results maps district columbia elections district columbia election results\n",
       "                                                                                                                                       ...                                                                                                                                \n",
       "20403                                                                                                                        americans extremely attuned cost living midterm election voters head polls divided blame inflation plagues democrats polling crush ballot box\n",
       "20404                                                                                                                                                                                                       quest community leads superstar back ohio look homeward lebron\n",
       "20405                                                                                                                                                                                 american rugby team members discuss world cup experience reflections rugby underdogs\n",
       "20406                                                                                                                                                                            see full results maps florida election florida election results th congressional district\n",
       "20407                                                                                                                                        see latest charts maps virus hospitalizations cases deaths tests vaccinations davis county iowa track covid davis county iowa\n",
       "Length: 20408, dtype: object"
      ]
     },
     "execution_count": 103,
     "metadata": {},
     "output_type": "execute_result"
    }
   ],
   "source": [
    "clean_train_abs = pd.Series(clean_train_abs)\n",
    "clean_train_lines = pd.Series(clean_train_lines)\n",
    "\n",
    "# Combine the lists element-wise\n",
    "clean_train_total = clean_train_abs + ' ' + clean_train_lines\n",
    "\n",
    "# Display the result\n",
    "clean_train_total"
   ]
  },
  {
   "cell_type": "markdown",
   "id": "691ae473",
   "metadata": {},
   "source": [
    "##### Ensure this worked"
   ]
  },
  {
   "cell_type": "code",
   "execution_count": 104,
   "id": "e45c9c1b-ebba-4830-826c-0d5479d7dbbe",
   "metadata": {},
   "outputs": [
    {
     "data": {
      "text/plain": [
       "'u partisanship highest decades pew study finds'"
      ]
     },
     "execution_count": 104,
     "metadata": {},
     "output_type": "execute_result"
    }
   ],
   "source": [
    "clean_train_lines[456]"
   ]
  },
  {
   "cell_type": "code",
   "execution_count": 105,
   "id": "c9324005-ae62-4e6e-a1a4-5b348a878bac",
   "metadata": {},
   "outputs": [
    {
     "data": {
      "text/plain": [
       "'negativity fear anger among democrats republicans rise research shows'"
      ]
     },
     "execution_count": 105,
     "metadata": {},
     "output_type": "execute_result"
    }
   ],
   "source": [
    "clean_train_abs[456]"
   ]
  },
  {
   "cell_type": "code",
   "execution_count": 106,
   "id": "f07449fe-e3bc-4276-a7d6-602358110381",
   "metadata": {},
   "outputs": [
    {
     "data": {
      "text/plain": [
       "'negativity fear anger among democrats republicans rise research shows u partisanship highest decades pew study finds'"
      ]
     },
     "execution_count": 106,
     "metadata": {},
     "output_type": "execute_result"
    }
   ],
   "source": [
    "clean_train_total[456]"
   ]
  },
  {
   "cell_type": "markdown",
   "id": "0319ef13",
   "metadata": {},
   "source": [
    "##### Combine into one test total"
   ]
  },
  {
   "cell_type": "code",
   "execution_count": 107,
   "id": "215dcb0d-09f5-4e7b-b99f-7e4d2171d58b",
   "metadata": {},
   "outputs": [
    {
     "data": {
      "text/plain": [
       "0                                                                                                          see full results maps california election california election results th congressional district\n",
       "1                                                                                                                           campuses challenging definition rape many states redefining law regulating sex\n",
       "2                        move radical departure country historically dependable american ally southeast asia could undermine president obama foreign policy behind duterte bluster philippine shift away u\n",
       "3                                   appeal help united states rushing dozens missiles surveillance drones help iraqi forces combat violence qaeda backed insurgency u sends arms aid iraq fight extremists\n",
       "4                                                               see latest charts maps coronavirus cases deaths hospitalizations atchison county missouri atchison county missouri covid case risk tracker\n",
       "                                                                                                       ...                                                                                                \n",
       "5097                                                                                                                                             abdicated parental rights duties new societal norm played\n",
       "5098                                                                                                                                    overcame desperation felt stepping congress still fight katie hill\n",
       "5099                                               former n f l wide receiver joined premier lacrosse league pros sports found opportunities field chris hogan left lacrosse league given others path back\n",
       "5100    placing tracking devices netbooks discarded cellphones batteries printer cartridges researchers tracked paths e waste across nation well developing countries global pinball game tracking e waste\n",
       "5101                                            sales alternative fuel vehicle fallen along gasoline prices volkswagen recalls million vehicles suspension defect wheelies alternative fuel plunge edition\n",
       "Length: 5102, dtype: object"
      ]
     },
     "execution_count": 107,
     "metadata": {},
     "output_type": "execute_result"
    }
   ],
   "source": [
    "clean_test_abs = pd.Series(clean_test_abs)\n",
    "clean_test_lines = pd.Series(clean_test_lines)\n",
    "\n",
    "# Combine the lists element-wise\n",
    "clean_test_total = clean_test_abs + ' ' + clean_test_lines\n",
    "\n",
    "# Display the result\n",
    "clean_test_total"
   ]
  },
  {
   "cell_type": "markdown",
   "id": "22eb7101",
   "metadata": {},
   "source": [
    "##### Ensure this worked"
   ]
  },
  {
   "cell_type": "code",
   "execution_count": 108,
   "id": "c85f87c6-e2c2-4ffa-a3e6-1dfe14f8bb46",
   "metadata": {},
   "outputs": [
    {
     "data": {
      "text/plain": [
       "'two recent supreme court decisions reduce abusive frivolous patent litigation increased sharply recent years'"
      ]
     },
     "execution_count": 108,
     "metadata": {},
     "output_type": "execute_result"
    }
   ],
   "source": [
    "clean_test_abs[456]"
   ]
  },
  {
   "cell_type": "code",
   "execution_count": 109,
   "id": "80168c8a-1400-40e4-b7f5-522bf3692858",
   "metadata": {},
   "outputs": [
    {
     "data": {
      "text/plain": [
       "'clarifying tightening patent law'"
      ]
     },
     "execution_count": 109,
     "metadata": {},
     "output_type": "execute_result"
    }
   ],
   "source": [
    "clean_test_lines[456]"
   ]
  },
  {
   "cell_type": "code",
   "execution_count": 110,
   "id": "3febfa41-fb37-40f4-8d69-e32d4baa0c39",
   "metadata": {},
   "outputs": [
    {
     "data": {
      "text/plain": [
       "'two recent supreme court decisions reduce abusive frivolous patent litigation increased sharply recent years clarifying tightening patent law'"
      ]
     },
     "execution_count": 110,
     "metadata": {},
     "output_type": "execute_result"
    }
   ],
   "source": [
    "clean_test_total[456]"
   ]
  },
  {
   "cell_type": "markdown",
   "id": "f2aa99a5-cd53-482d-993c-3e14c2ed6362",
   "metadata": {},
   "source": [
    "#### The element-wise concatentation worked proceed to modeling section"
   ]
  },
  {
   "cell_type": "code",
   "execution_count": 111,
   "id": "146d6ebd-d3ea-4476-b026-fda68ae1811a",
   "metadata": {},
   "outputs": [
    {
     "data": {
      "text/plain": [
       "pandas.core.series.Series"
      ]
     },
     "execution_count": 111,
     "metadata": {},
     "output_type": "execute_result"
    }
   ],
   "source": [
    "type(clean_train_total)"
   ]
  },
  {
   "cell_type": "code",
   "execution_count": 112,
   "id": "d01f3fc5-cb4e-4a06-aa42-3a7b9c84db7f",
   "metadata": {},
   "outputs": [],
   "source": [
    "clean_train_total = clean_train_total.tolist()"
   ]
  },
  {
   "cell_type": "code",
   "execution_count": 113,
   "id": "dee3bc78-0ac5-49ff-84cb-94180f8c189f",
   "metadata": {},
   "outputs": [],
   "source": [
    "clean_test_total = clean_test_total.tolist()"
   ]
  },
  {
   "cell_type": "code",
   "execution_count": 114,
   "id": "59bbe8af-8904-4525-b336-3bbc859bce38",
   "metadata": {},
   "outputs": [
    {
     "data": {
      "text/plain": [
       "list"
      ]
     },
     "execution_count": 114,
     "metadata": {},
     "output_type": "execute_result"
    }
   ],
   "source": [
    "type(clean_train_total)"
   ]
  },
  {
   "cell_type": "code",
   "execution_count": 115,
   "id": "57ff6b40-2265-4fc0-9a38-360bd8e153c9",
   "metadata": {},
   "outputs": [
    {
     "data": {
      "text/plain": [
       "list"
      ]
     },
     "execution_count": 115,
     "metadata": {},
     "output_type": "execute_result"
    }
   ],
   "source": [
    "type(clean_test_total)"
   ]
  },
  {
   "cell_type": "markdown",
   "id": "35df371f",
   "metadata": {},
   "source": [
    "##### For usage with part 3 - see documentation for details"
   ]
  },
  {
   "cell_type": "code",
   "execution_count": 116,
   "id": "0ab8b925-dfac-4a48-95bd-40ce18ba4b4e",
   "metadata": {},
   "outputs": [],
   "source": [
    "summed_lists = clean_train_total + clean_test_total"
   ]
  },
  {
   "cell_type": "code",
   "execution_count": 117,
   "id": "89bd904a-8c8f-4408-b706-0a93eb8806ad",
   "metadata": {},
   "outputs": [],
   "source": [
    "labels = df['section_name'].tolist()"
   ]
  },
  {
   "cell_type": "code",
   "execution_count": 118,
   "id": "83c6f97d-0442-42ef-a428-2146bd211d40",
   "metadata": {},
   "outputs": [],
   "source": [
    "corpus_df = pd.DataFrame({'Document': summed_lists, \n",
    "                          'Category': labels})"
   ]
  },
  {
   "cell_type": "code",
   "execution_count": 119,
   "id": "a951c733-99df-4b57-be2a-dd34370714fa",
   "metadata": {},
   "outputs": [
    {
     "data": {
      "text/html": [
       "<div>\n",
       "<style scoped>\n",
       "    .dataframe tbody tr th:only-of-type {\n",
       "        vertical-align: middle;\n",
       "    }\n",
       "\n",
       "    .dataframe tbody tr th {\n",
       "        vertical-align: top;\n",
       "    }\n",
       "\n",
       "    .dataframe thead th {\n",
       "        text-align: right;\n",
       "    }\n",
       "</style>\n",
       "<table border=\"1\" class=\"dataframe\">\n",
       "  <thead>\n",
       "    <tr style=\"text-align: right;\">\n",
       "      <th></th>\n",
       "      <th>Document</th>\n",
       "      <th>Category</th>\n",
       "    </tr>\n",
       "  </thead>\n",
       "  <tbody>\n",
       "    <tr>\n",
       "      <th>0</th>\n",
       "      <td>see latest charts maps coronavirus cases deaths hospitalizations garfield county montana garfield county montana covid case risk tracker</td>\n",
       "      <td>1</td>\n",
       "    </tr>\n",
       "    <tr>\n",
       "      <th>1</th>\n",
       "      <td>biggest increases come groups past far less likely babies highly educated women women never married u fertility rate yet women mothers</td>\n",
       "      <td>1</td>\n",
       "    </tr>\n",
       "    <tr>\n",
       "      <th>2</th>\n",
       "      <td>miguel cardona education secretary said reopening nation schools without addressing time lost learning pandemic would insufficient called schools use federal stimulus funds invest mental health counseling tutoring cardona urges schools invest extra tutoring</td>\n",
       "      <td>1</td>\n",
       "    </tr>\n",
       "    <tr>\n",
       "      <th>3</th>\n",
       "      <td>mohamed morsi egypt first democratically elected president said washington revitalize alliance egypt relations egypt u</td>\n",
       "      <td>0</td>\n",
       "    </tr>\n",
       "    <tr>\n",
       "      <th>4</th>\n",
       "      <td>see full results maps district columbia elections district columbia election results</td>\n",
       "      <td>0</td>\n",
       "    </tr>\n",
       "    <tr>\n",
       "      <th>5</th>\n",
       "      <td>see full results maps arizona special election arizona u senate special election results</td>\n",
       "      <td>0</td>\n",
       "    </tr>\n",
       "    <tr>\n",
       "      <th>6</th>\n",
       "      <td>nan oklahoma presidential republican primary election results</td>\n",
       "      <td>0</td>\n",
       "    </tr>\n",
       "    <tr>\n",
       "      <th>7</th>\n",
       "      <td>signatories letter sent president trump many cabinet members include former secretaries state madeleine albright john kerry trump revised travel ban denounced foreign policy experts</td>\n",
       "      <td>0</td>\n",
       "    </tr>\n",
       "    <tr>\n",
       "      <th>8</th>\n",
       "      <td>study facebook use suggests may become less self obsessed age get less narcissistic get older</td>\n",
       "      <td>0</td>\n",
       "    </tr>\n",
       "    <tr>\n",
       "      <th>9</th>\n",
       "      <td>president trump stance legal undocumented immigrants could devastating results american family makes country great danger</td>\n",
       "      <td>0</td>\n",
       "    </tr>\n",
       "    <tr>\n",
       "      <th>10</th>\n",
       "      <td>american public never great outcry withdrawing polling suggests biden pulls afghanistan much americans care</td>\n",
       "      <td>0</td>\n",
       "    </tr>\n",
       "    <tr>\n",
       "      <th>11</th>\n",
       "      <td>modern medicine still depends animal blood test bacteria vaccines alternative test requires study tests coronavirus vaccine need ingredient horseshoe crabs</td>\n",
       "      <td>0</td>\n",
       "    </tr>\n",
       "    <tr>\n",
       "      <th>12</th>\n",
       "      <td>co author new heritage foundation study highly critical senate bipartisan immigration proposal also wrote doctoral dissertation argued immigrants generally q substantially lower white native population critic immigration proposal cited lower q immigrants dissertation</td>\n",
       "      <td>0</td>\n",
       "    </tr>\n",
       "    <tr>\n",
       "      <th>13</th>\n",
       "      <td>interview chinese edition men health gary locke departing united states ambassador china said could hold plank position minutes magazine cover famously humble ambassador</td>\n",
       "      <td>1</td>\n",
       "    </tr>\n",
       "    <tr>\n",
       "      <th>14</th>\n",
       "      <td>extreme poverty united states giving rise group infections known neglected tropical diseases ordinarily think confined developing countries tropical diseases new plague poverty</td>\n",
       "      <td>0</td>\n",
       "    </tr>\n",
       "    <tr>\n",
       "      <th>15</th>\n",
       "      <td>tracking virus wastewater helping cities hospitals respond recent wave coronavirus coordinated national effort needed experts say sewage clues omicron surge</td>\n",
       "      <td>0</td>\n",
       "    </tr>\n",
       "    <tr>\n",
       "      <th>16</th>\n",
       "      <td>nearly half american adults take prescription drugs new report finds many struggling prescription drug costs</td>\n",
       "      <td>0</td>\n",
       "    </tr>\n",
       "    <tr>\n",
       "      <th>17</th>\n",
       "      <td>see latest charts maps coronavirus cases deaths hospitalizations tampa area hillsborough county florida covid case risk tracker</td>\n",
       "      <td>0</td>\n",
       "    </tr>\n",
       "    <tr>\n",
       "      <th>18</th>\n",
       "      <td>price gallon regular fallen nearly penny day last four weeks averaging nationwide tuesday economies slow price gas falls</td>\n",
       "      <td>0</td>\n",
       "    </tr>\n",
       "    <tr>\n",
       "      <th>19</th>\n",
       "      <td>well intentioned moral fervor campuses today often slides dangerous type zealotry campus crusaders</td>\n",
       "      <td>0</td>\n",
       "    </tr>\n",
       "    <tr>\n",
       "      <th>20</th>\n",
       "      <td>representative eric cantor virginia house majority leader broke prominent republicans declined friday criticize representative michele bachmann minnesota house republicans accused top aide secretary state hillary rodman clinton links muslim brotherhood cantor declines criticize bachmann abedin charges</td>\n",
       "      <td>1</td>\n",
       "    </tr>\n",
       "    <tr>\n",
       "      <th>21</th>\n",
       "      <td>million chip making tool dutch company become lever u chinese struggle also shows entrenched global supply chain tech cold war complicated machine china reach</td>\n",
       "      <td>0</td>\n",
       "    </tr>\n",
       "    <tr>\n",
       "      <th>22</th>\n",
       "      <td>see latest charts maps virus hospitalizations cases deaths tests vaccinations madison county illinois track covid madison county illinois</td>\n",
       "      <td>1</td>\n",
       "    </tr>\n",
       "    <tr>\n",
       "      <th>23</th>\n",
       "      <td>francis arrived havana saturday first stop nine day papal trip includes united states first latin american pope must try open cuba roman catholic church pope francis arriving cuba seeks revive church</td>\n",
       "      <td>0</td>\n",
       "    </tr>\n",
       "    <tr>\n",
       "      <th>24</th>\n",
       "      <td>see full results maps presidential election oklahoma oklahoma presidential election results</td>\n",
       "      <td>0</td>\n",
       "    </tr>\n",
       "    <tr>\n",
       "      <th>25</th>\n",
       "      <td>sharpest rise negative views australia unfavorable opinions jumped united states europe pew survey found distrust china jumps new highs democratic nations</td>\n",
       "      <td>0</td>\n",
       "    </tr>\n",
       "  </tbody>\n",
       "</table>\n",
       "</div>"
      ],
      "text/plain": [
       "                                                                                                                                                                                                                                                                                                          Document  \\\n",
       "0                                                                                                                                                                         see latest charts maps coronavirus cases deaths hospitalizations garfield county montana garfield county montana covid case risk tracker   \n",
       "1                                                                                                                                                                           biggest increases come groups past far less likely babies highly educated women women never married u fertility rate yet women mothers   \n",
       "2                                                miguel cardona education secretary said reopening nation schools without addressing time lost learning pandemic would insufficient called schools use federal stimulus funds invest mental health counseling tutoring cardona urges schools invest extra tutoring   \n",
       "3                                                                                                                                                                                           mohamed morsi egypt first democratically elected president said washington revitalize alliance egypt relations egypt u   \n",
       "4                                                                                                                                                                                                                             see full results maps district columbia elections district columbia election results   \n",
       "5                                                                                                                                                                                                                         see full results maps arizona special election arizona u senate special election results   \n",
       "6                                                                                                                                                                                                                                                    nan oklahoma presidential republican primary election results   \n",
       "7                                                                                                                            signatories letter sent president trump many cabinet members include former secretaries state madeleine albright john kerry trump revised travel ban denounced foreign policy experts   \n",
       "8                                                                                                                                                                                                                    study facebook use suggests may become less self obsessed age get less narcissistic get older   \n",
       "9                                                                                                                                                                                        president trump stance legal undocumented immigrants could devastating results american family makes country great danger   \n",
       "10                                                                                                                                                                                                     american public never great outcry withdrawing polling suggests biden pulls afghanistan much americans care   \n",
       "11                                                                                                                                                     modern medicine still depends animal blood test bacteria vaccines alternative test requires study tests coronavirus vaccine need ingredient horseshoe crabs   \n",
       "12                                     co author new heritage foundation study highly critical senate bipartisan immigration proposal also wrote doctoral dissertation argued immigrants generally q substantially lower white native population critic immigration proposal cited lower q immigrants dissertation   \n",
       "13                                                                                                                                       interview chinese edition men health gary locke departing united states ambassador china said could hold plank position minutes magazine cover famously humble ambassador   \n",
       "14                                                                                                                                extreme poverty united states giving rise group infections known neglected tropical diseases ordinarily think confined developing countries tropical diseases new plague poverty   \n",
       "15                                                                                                                                                    tracking virus wastewater helping cities hospitals respond recent wave coronavirus coordinated national effort needed experts say sewage clues omicron surge   \n",
       "16                                                                                                                                                                                                    nearly half american adults take prescription drugs new report finds many struggling prescription drug costs   \n",
       "17                                                                                                                                                                                 see latest charts maps coronavirus cases deaths hospitalizations tampa area hillsborough county florida covid case risk tracker   \n",
       "18                                                                                                                                                                                        price gallon regular fallen nearly penny day last four weeks averaging nationwide tuesday economies slow price gas falls   \n",
       "19                                                                                                                                                                                                              well intentioned moral fervor campuses today often slides dangerous type zealotry campus crusaders   \n",
       "20  representative eric cantor virginia house majority leader broke prominent republicans declined friday criticize representative michele bachmann minnesota house republicans accused top aide secretary state hillary rodman clinton links muslim brotherhood cantor declines criticize bachmann abedin charges   \n",
       "21                                                                                                                                                  million chip making tool dutch company become lever u chinese struggle also shows entrenched global supply chain tech cold war complicated machine china reach   \n",
       "22                                                                                                                                                                       see latest charts maps virus hospitalizations cases deaths tests vaccinations madison county illinois track covid madison county illinois   \n",
       "23                                                                                                         francis arrived havana saturday first stop nine day papal trip includes united states first latin american pope must try open cuba roman catholic church pope francis arriving cuba seeks revive church   \n",
       "24                                                                                                                                                                                                                     see full results maps presidential election oklahoma oklahoma presidential election results   \n",
       "25                                                                                                                                                      sharpest rise negative views australia unfavorable opinions jumped united states europe pew survey found distrust china jumps new highs democratic nations   \n",
       "\n",
       "    Category  \n",
       "0          1  \n",
       "1          1  \n",
       "2          1  \n",
       "3          0  \n",
       "4          0  \n",
       "5          0  \n",
       "6          0  \n",
       "7          0  \n",
       "8          0  \n",
       "9          0  \n",
       "10         0  \n",
       "11         0  \n",
       "12         0  \n",
       "13         1  \n",
       "14         0  \n",
       "15         0  \n",
       "16         0  \n",
       "17         0  \n",
       "18         0  \n",
       "19         0  \n",
       "20         1  \n",
       "21         0  \n",
       "22         1  \n",
       "23         0  \n",
       "24         0  \n",
       "25         0  "
      ]
     },
     "execution_count": 119,
     "metadata": {},
     "output_type": "execute_result"
    }
   ],
   "source": [
    "\n",
    "corpus_df.head(26)"
   ]
  },
  {
   "cell_type": "markdown",
   "id": "8e04328b",
   "metadata": {},
   "source": [
    "##### Uncomment this line and insert relative file path for Word2Vec and related context-based neural network algorithms (See section 3)"
   ]
  },
  {
   "cell_type": "code",
   "execution_count": 120,
   "id": "df780dee-fc5c-47f1-b2e5-fa2291cb84ee",
   "metadata": {},
   "outputs": [],
   "source": [
    "\n",
    "# corpus_df.to_csv('/Users/ben/Desktop/DSI_GA_Materials/capstone/Capstone_Project_backup/Data/dfnew_with_section_names.csv')"
   ]
  },
  {
   "cell_type": "markdown",
   "id": "8234c9c0-c973-4437-aee9-07331978160a",
   "metadata": {},
   "source": [
    "# Preliminary Modeling Section"
   ]
  },
  {
   "cell_type": "markdown",
   "id": "eefb13b1-9c1a-4fc7-9cc5-e6ccb49d8eb8",
   "metadata": {},
   "source": [
    "# Baseline accuracy\n",
    "Calculate baseline accuracy in order to tell if model is better than null model (predicting the plurality class)."
   ]
  },
  {
   "cell_type": "code",
   "execution_count": 121,
   "id": "67f812c8-4e86-47c1-b306-396af6cd34d4",
   "metadata": {},
   "outputs": [
    {
     "data": {
      "text/plain": [
       "section_name\n",
       "0    0.765817\n",
       "1    0.234183\n",
       "Name: proportion, dtype: float64"
      ]
     },
     "execution_count": 121,
     "metadata": {},
     "output_type": "execute_result"
    }
   ],
   "source": [
    "df['section_name'].value_counts(normalize=True)"
   ]
  },
  {
   "cell_type": "code",
   "execution_count": 122,
   "id": "6b901b04-aceb-4cdd-a5c9-4520b9869bf3",
   "metadata": {},
   "outputs": [
    {
     "data": {
      "text/plain": [
       "section_name\n",
       "0    0.765729\n",
       "1    0.234271\n",
       "Name: proportion, dtype: float64"
      ]
     },
     "execution_count": 122,
     "metadata": {},
     "output_type": "execute_result"
    }
   ],
   "source": [
    "# Baseline prediction dem 1 rep 0\n",
    "y_train.value_counts(normalize=True)"
   ]
  },
  {
   "cell_type": "code",
   "execution_count": 123,
   "id": "d884a92f-a6d2-4e75-836b-caf34beb2586",
   "metadata": {},
   "outputs": [
    {
     "name": "stdout",
     "output_type": "stream",
     "text": [
      "Difference metric | 9e-05\n"
     ]
    }
   ],
   "source": [
    "print(f\"Difference metric | {round(np.abs(np.mean(df['section_name'])-np.mean(y_train)), 5)}\")"
   ]
  },
  {
   "cell_type": "markdown",
   "id": "7d204f72-5597-4f94-997c-b4eb4baa8a76",
   "metadata": {},
   "source": [
    "# Classification Modeling Section"
   ]
  },
  {
   "cell_type": "markdown",
   "id": "d738ba6e-4e24-4927-a7ef-306afae90fa7",
   "metadata": {},
   "source": [
    "## Logistic regression - Not Optimal We Transition To Other Models Following"
   ]
  },
  {
   "cell_type": "code",
   "execution_count": 124,
   "id": "40c6db69-b617-4dde-a4b3-b391668a7cb9",
   "metadata": {},
   "outputs": [
    {
     "name": "stderr",
     "output_type": "stream",
     "text": [
      "/Users/ben/miniforge3/lib/python3.10/site-packages/sklearn/model_selection/_validation.py:425: FitFailedWarning: \n",
      "1200 fits failed out of a total of 2400.\n",
      "The score on these train-test partitions for these parameters will be set to nan.\n",
      "If these failures are not expected, you can try to debug them by setting error_score='raise'.\n",
      "\n",
      "Below are more details about the failures:\n",
      "--------------------------------------------------------------------------------\n",
      "1200 fits failed with the following error:\n",
      "Traceback (most recent call last):\n",
      "  File \"/Users/ben/miniforge3/lib/python3.10/site-packages/sklearn/model_selection/_validation.py\", line 732, in _fit_and_score\n",
      "    estimator.fit(X_train, y_train, **fit_params)\n",
      "  File \"/Users/ben/miniforge3/lib/python3.10/site-packages/sklearn/base.py\", line 1151, in wrapper\n",
      "    return fit_method(estimator, *args, **kwargs)\n",
      "  File \"/Users/ben/miniforge3/lib/python3.10/site-packages/sklearn/pipeline.py\", line 420, in fit\n",
      "    self._final_estimator.fit(Xt, y, **fit_params_last_step)\n",
      "  File \"/Users/ben/miniforge3/lib/python3.10/site-packages/sklearn/base.py\", line 1151, in wrapper\n",
      "    return fit_method(estimator, *args, **kwargs)\n",
      "  File \"/Users/ben/miniforge3/lib/python3.10/site-packages/sklearn/linear_model/_logistic.py\", line 1168, in fit\n",
      "    solver = _check_solver(self.solver, self.penalty, self.dual)\n",
      "  File \"/Users/ben/miniforge3/lib/python3.10/site-packages/sklearn/linear_model/_logistic.py\", line 56, in _check_solver\n",
      "    raise ValueError(\n",
      "ValueError: Solver lbfgs supports only 'l2' or 'none' penalties, got l1 penalty.\n",
      "\n",
      "  warnings.warn(some_fits_failed_message, FitFailedWarning)\n",
      "/Users/ben/miniforge3/lib/python3.10/site-packages/sklearn/model_selection/_search.py:976: UserWarning: One or more of the test scores are non-finite: [       nan 0.87921426        nan 0.88073352        nan 0.86324036\n",
      "        nan 0.84736415        nan 0.87906721        nan 0.87916538\n",
      "        nan 0.86181942        nan 0.8436403         nan 0.87921431\n",
      "        nan 0.87941057        nan 0.86275048        nan 0.84751122\n",
      "        nan 0.87838121        nan 0.87975328        nan 0.86113323\n",
      "        nan 0.84486525        nan 0.87970434        nan 0.88141943\n",
      "        nan 0.86544543        nan 0.85206823        nan 0.88004723\n",
      "        nan 0.8809784         nan 0.86363234        nan 0.85118626\n",
      "        nan 0.87990035        nan 0.88161546        nan 0.86583748\n",
      "        nan 0.85275435        nan 0.87999818        nan 0.88019441\n",
      "        nan 0.86446542        nan 0.85123528        nan 0.8801943\n",
      "        nan 0.88298745        nan 0.86789553        nan 0.8564784\n",
      "        nan 0.88078222        nan 0.88220329        nan 0.86750337\n",
      "        nan 0.85544939        nan 0.87990034        nan 0.88269345\n",
      "        nan 0.86681769        nan 0.8540284         nan 0.88068421\n",
      "        nan 0.88141939        nan 0.86716047        nan 0.85451829\n",
      "        nan 0.8805373         nan 0.88352648        nan 0.86970862\n",
      "        nan 0.85853642        nan 0.8811252         nan 0.88230141\n",
      "        nan 0.86853247        nan 0.85907531        nan 0.88024335\n",
      "        nan 0.88230163        nan 0.86882677        nan 0.85780146\n",
      "        nan 0.88127221        nan 0.88308528        nan 0.86833635\n",
      "        nan 0.85770321        nan 0.88088029        nan 0.88352653\n",
      "        nan 0.86892467        nan 0.85932053        nan 0.88146825\n",
      "        nan 0.88225243        nan 0.86887549        nan 0.86039822\n",
      "        nan 0.88068433        nan 0.88269358        nan 0.87005165\n",
      "        nan 0.86128053        nan 0.88137026        nan 0.88293839\n",
      "        nan 0.86760145        nan 0.8584382         nan 0.87921426\n",
      "        nan 0.88073352        nan 0.86324036        nan 0.84736415\n",
      "        nan 0.87906721        nan 0.87916538        nan 0.86181942\n",
      "        nan 0.8436403         nan 0.87921431        nan 0.87941057\n",
      "        nan 0.86275048        nan 0.84751122        nan 0.87838121\n",
      "        nan 0.87975328        nan 0.86113323        nan 0.84486525\n",
      "        nan 0.87970434        nan 0.88141943        nan 0.86544543\n",
      "        nan 0.85206823        nan 0.88004723        nan 0.8809784\n",
      "        nan 0.86363234        nan 0.85118626        nan 0.87990035\n",
      "        nan 0.88161546        nan 0.86583748        nan 0.85275435\n",
      "        nan 0.87999818        nan 0.88019441        nan 0.86446542\n",
      "        nan 0.85123528        nan 0.8801943         nan 0.88298745\n",
      "        nan 0.86789553        nan 0.8564784         nan 0.88078222\n",
      "        nan 0.88220329        nan 0.86750337        nan 0.85544939\n",
      "        nan 0.87990034        nan 0.88269345        nan 0.86681769\n",
      "        nan 0.8540284         nan 0.88068421        nan 0.88141939\n",
      "        nan 0.86716047        nan 0.85451829        nan 0.8805373\n",
      "        nan 0.88352648        nan 0.86970862        nan 0.85853642\n",
      "        nan 0.8811252         nan 0.88230141        nan 0.86853247\n",
      "        nan 0.85907531        nan 0.88024335        nan 0.88230163\n",
      "        nan 0.86882677        nan 0.85780146        nan 0.88127221\n",
      "        nan 0.88308528        nan 0.86833635        nan 0.85770321\n",
      "        nan 0.88088029        nan 0.88352653        nan 0.86892467\n",
      "        nan 0.85932053        nan 0.88146825        nan 0.88225243\n",
      "        nan 0.86887549        nan 0.86039822        nan 0.88068433\n",
      "        nan 0.88269358        nan 0.87005165        nan 0.86128053\n",
      "        nan 0.88137026        nan 0.88293839        nan 0.86760145\n",
      "        nan 0.8584382         nan 0.87921426        nan 0.88073352\n",
      "        nan 0.86324036        nan 0.84736415        nan 0.87906721\n",
      "        nan 0.87916538        nan 0.86181942        nan 0.8436403\n",
      "        nan 0.87921431        nan 0.87941057        nan 0.86275048\n",
      "        nan 0.84751122        nan 0.87838121        nan 0.87975328\n",
      "        nan 0.86113323        nan 0.84486525        nan 0.87970434\n",
      "        nan 0.88141943        nan 0.86544543        nan 0.85206823\n",
      "        nan 0.88004723        nan 0.8809784         nan 0.86363234\n",
      "        nan 0.85118626        nan 0.87990035        nan 0.88161546\n",
      "        nan 0.86583748        nan 0.85275435        nan 0.87999818\n",
      "        nan 0.88019441        nan 0.86446542        nan 0.85123528\n",
      "        nan 0.8801943         nan 0.88298745        nan 0.86789553\n",
      "        nan 0.8564784         nan 0.88078222        nan 0.88220329\n",
      "        nan 0.86750337        nan 0.85544939        nan 0.87990034\n",
      "        nan 0.88269345        nan 0.86681769        nan 0.8540284\n",
      "        nan 0.88068421        nan 0.88141939        nan 0.86716047\n",
      "        nan 0.85451829        nan 0.8805373         nan 0.88352648\n",
      "        nan 0.86970862        nan 0.85853642        nan 0.8811252\n",
      "        nan 0.88230141        nan 0.86853247        nan 0.85907531\n",
      "        nan 0.88024335        nan 0.88230163        nan 0.86882677\n",
      "        nan 0.85780146        nan 0.88127221        nan 0.88308528\n",
      "        nan 0.86833635        nan 0.85770321        nan 0.88088029\n",
      "        nan 0.88352653        nan 0.86892467        nan 0.85932053\n",
      "        nan 0.88146825        nan 0.88225243        nan 0.86887549\n",
      "        nan 0.86039822        nan 0.88068433        nan 0.88269358\n",
      "        nan 0.87005165        nan 0.86128053        nan 0.88137026\n",
      "        nan 0.88293839        nan 0.86760145        nan 0.8584382 ]\n",
      "  warnings.warn(\n",
      "/Users/ben/miniforge3/lib/python3.10/site-packages/sklearn/model_selection/_validation.py:425: FitFailedWarning: \n",
      "1200 fits failed out of a total of 2400.\n",
      "The score on these train-test partitions for these parameters will be set to nan.\n",
      "If these failures are not expected, you can try to debug them by setting error_score='raise'.\n",
      "\n",
      "Below are more details about the failures:\n",
      "--------------------------------------------------------------------------------\n",
      "1200 fits failed with the following error:\n",
      "Traceback (most recent call last):\n",
      "  File \"/Users/ben/miniforge3/lib/python3.10/site-packages/sklearn/model_selection/_validation.py\", line 732, in _fit_and_score\n",
      "    estimator.fit(X_train, y_train, **fit_params)\n",
      "  File \"/Users/ben/miniforge3/lib/python3.10/site-packages/sklearn/base.py\", line 1151, in wrapper\n",
      "    return fit_method(estimator, *args, **kwargs)\n",
      "  File \"/Users/ben/miniforge3/lib/python3.10/site-packages/sklearn/pipeline.py\", line 420, in fit\n",
      "    self._final_estimator.fit(Xt, y, **fit_params_last_step)\n",
      "  File \"/Users/ben/miniforge3/lib/python3.10/site-packages/sklearn/base.py\", line 1151, in wrapper\n",
      "    return fit_method(estimator, *args, **kwargs)\n",
      "  File \"/Users/ben/miniforge3/lib/python3.10/site-packages/sklearn/linear_model/_logistic.py\", line 1168, in fit\n",
      "    solver = _check_solver(self.solver, self.penalty, self.dual)\n",
      "  File \"/Users/ben/miniforge3/lib/python3.10/site-packages/sklearn/linear_model/_logistic.py\", line 56, in _check_solver\n",
      "    raise ValueError(\n",
      "ValueError: Solver lbfgs supports only 'l2' or 'none' penalties, got l1 penalty.\n",
      "\n",
      "  warnings.warn(some_fits_failed_message, FitFailedWarning)\n",
      "/Users/ben/miniforge3/lib/python3.10/site-packages/sklearn/model_selection/_search.py:976: UserWarning: One or more of the test scores are non-finite: [       nan        nan        nan        nan        nan        nan\n",
      "        nan        nan        nan        nan        nan        nan\n",
      "        nan        nan        nan        nan        nan        nan\n",
      "        nan        nan        nan        nan        nan        nan\n",
      "        nan        nan        nan        nan        nan        nan\n",
      "        nan        nan        nan        nan        nan        nan\n",
      "        nan        nan        nan        nan        nan        nan\n",
      "        nan        nan        nan        nan        nan        nan\n",
      "        nan        nan        nan        nan        nan        nan\n",
      "        nan        nan        nan        nan        nan        nan\n",
      " 0.78253626 0.7829773  0.78253625 0.78292826 0.78072322 0.78096827\n",
      " 0.78047822 0.78106625 0.7791062  0.77954728 0.7791552  0.77949823\n",
      " 0.77822418 0.77832224 0.7779792  0.77827322 0.77734216 0.77739122\n",
      " 0.77729316 0.77734223 0.78253626 0.7829773  0.78253625 0.78292826\n",
      " 0.78072322 0.78096827 0.78047822 0.78106625 0.7791062  0.77954728\n",
      " 0.7791552  0.77949823 0.77822418 0.77832224 0.7779792  0.77827322\n",
      " 0.77734216 0.77739122 0.77729316 0.77734223 0.78253626 0.7829773\n",
      " 0.78253625 0.78292826 0.78072322 0.78096827 0.78047822 0.78106625\n",
      " 0.7791062  0.77954728 0.7791552  0.77949823 0.77822418 0.77832224\n",
      " 0.7779792  0.77827322 0.77734216 0.77739122 0.77729316 0.77734223\n",
      "        nan        nan        nan        nan        nan        nan\n",
      "        nan        nan        nan        nan        nan        nan\n",
      "        nan        nan        nan        nan        nan        nan\n",
      "        nan        nan        nan        nan        nan        nan\n",
      "        nan        nan        nan        nan        nan        nan\n",
      "        nan        nan        nan        nan        nan        nan\n",
      "        nan        nan        nan        nan        nan        nan\n",
      "        nan        nan        nan        nan        nan        nan\n",
      "        nan        nan        nan        nan        nan        nan\n",
      "        nan        nan        nan        nan        nan        nan\n",
      " 0.8585363  0.85990811 0.85863429 0.85976115 0.8587813  0.85936913\n",
      " 0.85838932 0.85966317 0.85858532 0.85995718 0.85878133 0.85985918\n",
      " 0.85843829 0.85956513 0.85883028 0.85941813 0.85785027 0.85887913\n",
      " 0.85706622 0.85902618 0.8585363  0.85990811 0.85863429 0.85976115\n",
      " 0.8587813  0.85936913 0.85838932 0.85966317 0.85858532 0.85995718\n",
      " 0.85878133 0.85985918 0.85843829 0.85956513 0.85883028 0.85941813\n",
      " 0.85785027 0.85887913 0.85706622 0.85902618 0.8585363  0.85990811\n",
      " 0.85863429 0.85976115 0.8587813  0.85936913 0.85838932 0.85966317\n",
      " 0.85858532 0.85995718 0.85878133 0.85985918 0.85843829 0.85956513\n",
      " 0.85883028 0.85941813 0.85785027 0.85887913 0.85706622 0.85902618\n",
      "        nan        nan        nan        nan        nan        nan\n",
      "        nan        nan        nan        nan        nan        nan\n",
      "        nan        nan        nan        nan        nan        nan\n",
      "        nan        nan        nan        nan        nan        nan\n",
      "        nan        nan        nan        nan        nan        nan\n",
      "        nan        nan        nan        nan        nan        nan\n",
      "        nan        nan        nan        nan        nan        nan\n",
      "        nan        nan        nan        nan        nan        nan\n",
      "        nan        nan        nan        nan        nan        nan\n",
      "        nan        nan        nan        nan        nan        nan\n",
      " 0.86921842 0.86716031 0.86931645 0.86779733 0.86961046 0.86941435\n",
      " 0.86882631 0.86985531 0.87088459 0.86970848 0.8706886  0.87059038\n",
      " 0.86961067 0.86946332 0.86887573 0.86926747 0.8686796  0.87039443\n",
      " 0.8688757  0.86990452 0.86921842 0.86716031 0.86931645 0.86779733\n",
      " 0.86961046 0.86941435 0.86882631 0.86985531 0.87088459 0.86970848\n",
      " 0.8706886  0.87059038 0.86961067 0.86946332 0.86887573 0.86926747\n",
      " 0.8686796  0.87039443 0.8688757  0.86990452 0.86921842 0.86716031\n",
      " 0.86931645 0.86779733 0.86961046 0.86941435 0.86882631 0.86985531\n",
      " 0.87088459 0.86970848 0.8706886  0.87059038 0.86961067 0.86946332\n",
      " 0.86887573 0.86926747 0.8686796  0.87039443 0.8688757  0.86990452\n",
      "        nan        nan        nan        nan        nan        nan\n",
      "        nan        nan        nan        nan        nan        nan\n",
      "        nan        nan        nan        nan        nan        nan\n",
      "        nan        nan        nan        nan        nan        nan\n",
      "        nan        nan        nan        nan        nan        nan\n",
      "        nan        nan        nan        nan        nan        nan\n",
      "        nan        nan        nan        nan        nan        nan\n",
      "        nan        nan        nan        nan        nan        nan\n",
      "        nan        nan        nan        nan        nan        nan\n",
      "        nan        nan        nan        nan        nan        nan\n",
      " 0.85172532 0.85515516 0.85255843 0.85388121 0.85187244 0.8520192\n",
      " 0.85324448 0.85344035 0.85451859 0.85437139 0.85285254 0.85491057\n",
      " 0.85505757 0.85500816 0.85500872 0.85476326 0.85515554 0.85638031\n",
      " 0.85647848 0.85589026 0.85172532 0.85515516 0.85255843 0.85388121\n",
      " 0.85187244 0.8520192  0.85324448 0.85344035 0.85451859 0.85437139\n",
      " 0.85285254 0.85491057 0.85505757 0.85500816 0.85500872 0.85476326\n",
      " 0.85515554 0.85638031 0.85647848 0.85589026 0.85172532 0.85515516\n",
      " 0.85255843 0.85388121 0.85187244 0.8520192  0.85324448 0.85344035\n",
      " 0.85451859 0.85437139 0.85285254 0.85491057 0.85505757 0.85500816\n",
      " 0.85500872 0.85476326 0.85515554 0.85638031 0.85647848 0.85589026]\n",
      "  warnings.warn(\n"
     ]
    },
    {
     "data": {
      "text/html": [
       "<style>#sk-container-id-12 {color: black;}#sk-container-id-12 pre{padding: 0;}#sk-container-id-12 div.sk-toggleable {background-color: white;}#sk-container-id-12 label.sk-toggleable__label {cursor: pointer;display: block;width: 100%;margin-bottom: 0;padding: 0.3em;box-sizing: border-box;text-align: center;}#sk-container-id-12 label.sk-toggleable__label-arrow:before {content: \"▸\";float: left;margin-right: 0.25em;color: #696969;}#sk-container-id-12 label.sk-toggleable__label-arrow:hover:before {color: black;}#sk-container-id-12 div.sk-estimator:hover label.sk-toggleable__label-arrow:before {color: black;}#sk-container-id-12 div.sk-toggleable__content {max-height: 0;max-width: 0;overflow: hidden;text-align: left;background-color: #f0f8ff;}#sk-container-id-12 div.sk-toggleable__content pre {margin: 0.2em;color: black;border-radius: 0.25em;background-color: #f0f8ff;}#sk-container-id-12 input.sk-toggleable__control:checked~div.sk-toggleable__content {max-height: 200px;max-width: 100%;overflow: auto;}#sk-container-id-12 input.sk-toggleable__control:checked~label.sk-toggleable__label-arrow:before {content: \"▾\";}#sk-container-id-12 div.sk-estimator input.sk-toggleable__control:checked~label.sk-toggleable__label {background-color: #d4ebff;}#sk-container-id-12 div.sk-label input.sk-toggleable__control:checked~label.sk-toggleable__label {background-color: #d4ebff;}#sk-container-id-12 input.sk-hidden--visually {border: 0;clip: rect(1px 1px 1px 1px);clip: rect(1px, 1px, 1px, 1px);height: 1px;margin: -1px;overflow: hidden;padding: 0;position: absolute;width: 1px;}#sk-container-id-12 div.sk-estimator {font-family: monospace;background-color: #f0f8ff;border: 1px dotted black;border-radius: 0.25em;box-sizing: border-box;margin-bottom: 0.5em;}#sk-container-id-12 div.sk-estimator:hover {background-color: #d4ebff;}#sk-container-id-12 div.sk-parallel-item::after {content: \"\";width: 100%;border-bottom: 1px solid gray;flex-grow: 1;}#sk-container-id-12 div.sk-label:hover label.sk-toggleable__label {background-color: #d4ebff;}#sk-container-id-12 div.sk-serial::before {content: \"\";position: absolute;border-left: 1px solid gray;box-sizing: border-box;top: 0;bottom: 0;left: 50%;z-index: 0;}#sk-container-id-12 div.sk-serial {display: flex;flex-direction: column;align-items: center;background-color: white;padding-right: 0.2em;padding-left: 0.2em;position: relative;}#sk-container-id-12 div.sk-item {position: relative;z-index: 1;}#sk-container-id-12 div.sk-parallel {display: flex;align-items: stretch;justify-content: center;background-color: white;position: relative;}#sk-container-id-12 div.sk-item::before, #sk-container-id-12 div.sk-parallel-item::before {content: \"\";position: absolute;border-left: 1px solid gray;box-sizing: border-box;top: 0;bottom: 0;left: 50%;z-index: -1;}#sk-container-id-12 div.sk-parallel-item {display: flex;flex-direction: column;z-index: 1;position: relative;background-color: white;}#sk-container-id-12 div.sk-parallel-item:first-child::after {align-self: flex-end;width: 50%;}#sk-container-id-12 div.sk-parallel-item:last-child::after {align-self: flex-start;width: 50%;}#sk-container-id-12 div.sk-parallel-item:only-child::after {width: 0;}#sk-container-id-12 div.sk-dashed-wrapped {border: 1px dashed gray;margin: 0 0.4em 0.5em 0.4em;box-sizing: border-box;padding-bottom: 0.4em;background-color: white;}#sk-container-id-12 div.sk-label label {font-family: monospace;font-weight: bold;display: inline-block;line-height: 1.2em;}#sk-container-id-12 div.sk-label-container {text-align: center;}#sk-container-id-12 div.sk-container {/* jupyter's `normalize.less` sets `[hidden] { display: none; }` but bootstrap.min.css set `[hidden] { display: none !important; }` so we also need the `!important` here to be able to override the default hidden behavior on the sphinx rendered scikit-learn.org. See: https://github.com/scikit-learn/scikit-learn/issues/21755 */display: inline-block !important;position: relative;}#sk-container-id-12 div.sk-text-repr-fallback {display: none;}</style><div id=\"sk-container-id-12\" class=\"sk-top-container\"><div class=\"sk-text-repr-fallback\"><pre>GridSearchCV(cv=5,\n",
       "             estimator=Pipeline(steps=[(&#x27;tvec&#x27;, TfidfVectorizer()),\n",
       "                                       (&#x27;lr&#x27;, LogisticRegression())]),\n",
       "             n_jobs=-1,\n",
       "             param_grid={&#x27;lr__C&#x27;: [0.1, 1, 10, 100], &#x27;lr__max_iter&#x27;: [1000],\n",
       "                         &#x27;lr__penalty&#x27;: [&#x27;l1&#x27;, &#x27;l2&#x27;],\n",
       "                         &#x27;tvec__max_df&#x27;: [0.6, 0.65, 0.7],\n",
       "                         &#x27;tvec__max_features&#x27;: [5000, 6000, 7000, 8000, 9000],\n",
       "                         &#x27;tvec__min_df&#x27;: [5e-05, 0.0001],\n",
       "                         &#x27;tvec__ngram_range&#x27;: [(1, 1), (1, 2)]})</pre><b>In a Jupyter environment, please rerun this cell to show the HTML representation or trust the notebook. <br />On GitHub, the HTML representation is unable to render, please try loading this page with nbviewer.org.</b></div><div class=\"sk-container\" hidden><div class=\"sk-item sk-dashed-wrapped\"><div class=\"sk-label-container\"><div class=\"sk-label sk-toggleable\"><input class=\"sk-toggleable__control sk-hidden--visually\" id=\"sk-estimator-id-12\" type=\"checkbox\" ><label for=\"sk-estimator-id-12\" class=\"sk-toggleable__label sk-toggleable__label-arrow\">GridSearchCV</label><div class=\"sk-toggleable__content\"><pre>GridSearchCV(cv=5,\n",
       "             estimator=Pipeline(steps=[(&#x27;tvec&#x27;, TfidfVectorizer()),\n",
       "                                       (&#x27;lr&#x27;, LogisticRegression())]),\n",
       "             n_jobs=-1,\n",
       "             param_grid={&#x27;lr__C&#x27;: [0.1, 1, 10, 100], &#x27;lr__max_iter&#x27;: [1000],\n",
       "                         &#x27;lr__penalty&#x27;: [&#x27;l1&#x27;, &#x27;l2&#x27;],\n",
       "                         &#x27;tvec__max_df&#x27;: [0.6, 0.65, 0.7],\n",
       "                         &#x27;tvec__max_features&#x27;: [5000, 6000, 7000, 8000, 9000],\n",
       "                         &#x27;tvec__min_df&#x27;: [5e-05, 0.0001],\n",
       "                         &#x27;tvec__ngram_range&#x27;: [(1, 1), (1, 2)]})</pre></div></div></div><div class=\"sk-parallel\"><div class=\"sk-parallel-item\"><div class=\"sk-item\"><div class=\"sk-label-container\"><div class=\"sk-label sk-toggleable\"><input class=\"sk-toggleable__control sk-hidden--visually\" id=\"sk-estimator-id-13\" type=\"checkbox\" ><label for=\"sk-estimator-id-13\" class=\"sk-toggleable__label sk-toggleable__label-arrow\">estimator: Pipeline</label><div class=\"sk-toggleable__content\"><pre>Pipeline(steps=[(&#x27;tvec&#x27;, TfidfVectorizer()), (&#x27;lr&#x27;, LogisticRegression())])</pre></div></div></div><div class=\"sk-serial\"><div class=\"sk-item\"><div class=\"sk-serial\"><div class=\"sk-item\"><div class=\"sk-estimator sk-toggleable\"><input class=\"sk-toggleable__control sk-hidden--visually\" id=\"sk-estimator-id-14\" type=\"checkbox\" ><label for=\"sk-estimator-id-14\" class=\"sk-toggleable__label sk-toggleable__label-arrow\">TfidfVectorizer</label><div class=\"sk-toggleable__content\"><pre>TfidfVectorizer()</pre></div></div></div><div class=\"sk-item\"><div class=\"sk-estimator sk-toggleable\"><input class=\"sk-toggleable__control sk-hidden--visually\" id=\"sk-estimator-id-15\" type=\"checkbox\" ><label for=\"sk-estimator-id-15\" class=\"sk-toggleable__label sk-toggleable__label-arrow\">LogisticRegression</label><div class=\"sk-toggleable__content\"><pre>LogisticRegression()</pre></div></div></div></div></div></div></div></div></div></div></div></div>"
      ],
      "text/plain": [
       "GridSearchCV(cv=5,\n",
       "             estimator=Pipeline(steps=[('tvec', TfidfVectorizer()),\n",
       "                                       ('lr', LogisticRegression())]),\n",
       "             n_jobs=-1,\n",
       "             param_grid={'lr__C': [0.1, 1, 10, 100], 'lr__max_iter': [1000],\n",
       "                         'lr__penalty': ['l1', 'l2'],\n",
       "                         'tvec__max_df': [0.6, 0.65, 0.7],\n",
       "                         'tvec__max_features': [5000, 6000, 7000, 8000, 9000],\n",
       "                         'tvec__min_df': [5e-05, 0.0001],\n",
       "                         'tvec__ngram_range': [(1, 1), (1, 2)]})"
      ]
     },
     "execution_count": 124,
     "metadata": {},
     "output_type": "execute_result"
    }
   ],
   "source": [
    "pipe1 = Pipeline([\n",
    "    ('cvec', CountVectorizer()),\n",
    "    # ('ss', StandardScaler(with_mean=False)),\n",
    "    ('lr',LogisticRegression())\n",
    "])\n",
    "\n",
    "pipe2 = Pipeline([\n",
    "    ('tvec', TfidfVectorizer()),\n",
    "    # ('ss', StandardScaler(with_mean=False)),\n",
    "    ('lr',LogisticRegression()) \n",
    "])\n",
    "\n",
    "pipe_params1 = {'cvec__max_features': list(np.arange(5000, 10000, 1000)),\n",
    "               'cvec__ngram_range': [(1,1), (1,2)],\n",
    "                'cvec__min_df': [0.00005, 0.0001],\n",
    "                'cvec__max_df': [0.6,0.65,0.7],\n",
    "                'lr__C': [0.1, 1, 10, 100],\n",
    "                'lr__penalty': ['l1', 'l2'],\n",
    "                'lr__max_iter': [1000],\n",
    "              }\n",
    "\n",
    "pipe_params2 = {'tvec__max_features' : list(np.arange(5000, 10000, 1000)),\n",
    "               'tvec__ngram_range' : [(1, 1), (1, 2)],\n",
    "                'tvec__min_df': [0.00005, 0.0001],\n",
    "                'tvec__max_df': [0.6,0.65,0.7],\n",
    "                'lr__C': [0.1, 1, 10, 100],\n",
    "                'lr__penalty': ['l1', 'l2'],\n",
    "                'lr__max_iter': [1000], # Do not go lower than 1000 fail to converge\n",
    "              }\n",
    "\n",
    "# Instantiate GridSearchCV.\n",
    "\n",
    "gs1 = GridSearchCV(pipe1, # what object are we optimizing?\n",
    "                  param_grid=pipe_params1, # what parameters values are we searching?\n",
    "                  cv=5,\n",
    "                  n_jobs=-1) # 5-fold cross-validation.\n",
    "\n",
    "gs2 = GridSearchCV(pipe2, # what object are we optimizing?\n",
    "                  param_grid=pipe_params2, # what parameters values are we searching?\n",
    "                  cv=5, \n",
    "                  n_jobs=-1) # 5-fold cross-validation.\n",
    "\n",
    "gs1.fit(clean_train_total, y_train)\n",
    "\n",
    "gs2.fit(clean_train_total, y_train)"
   ]
  },
  {
   "cell_type": "code",
   "execution_count": 125,
   "id": "57569e45-cb41-4689-9e3f-32be986a6891",
   "metadata": {},
   "outputs": [
    {
     "name": "stdout",
     "output_type": "stream",
     "text": [
      "{'cvec__max_df': 0.6, 'cvec__max_features': 9000, 'cvec__min_df': 5e-05, 'cvec__ngram_range': (1, 1), 'lr__C': 1, 'lr__max_iter': 1000, 'lr__penalty': 'l2'}\n"
     ]
    }
   ],
   "source": [
    "# max iter was 1000 before non convergence warnings all other parameters were defaults\n",
    "'''\n",
    "gs1:\n",
    "{'cvec__max_df': 0.6,\n",
    " 'cvec__max_features': 9000,\n",
    " 'cvec__min_df': 5e-05,\n",
    " 'cvec__ngram_range': (1, 1),\n",
    " 'lr__C': 1,\n",
    " 'lr__max_iter': 1000,\n",
    " 'lr__penalty': 'l2'}\n",
    "'''\n",
    "print(gs1.best_params_)"
   ]
  },
  {
   "cell_type": "code",
   "execution_count": 126,
   "id": "f16d083e-eeff-42e5-812c-8ec6db556464",
   "metadata": {},
   "outputs": [],
   "source": [
    "cvec_lr_optimized = CountVectorizer(max_df = 0.6,\n",
    " max_features = 9000,\n",
    " min_df = 5e-05,\n",
    " ngram_range= (1, 1))"
   ]
  },
  {
   "cell_type": "code",
   "execution_count": 127,
   "id": "1730a080-a1d7-4440-aed1-7b5162016672",
   "metadata": {},
   "outputs": [],
   "source": [
    "tvec_lr_optimized = TfidfVectorizer(max_df= 0.6,max_features= 7000,min_df= 5e-05,ngram_range= (1, 1))"
   ]
  },
  {
   "cell_type": "code",
   "execution_count": 128,
   "id": "aa3c58d5-ae61-4dad-b3ac-443c45488794",
   "metadata": {},
   "outputs": [],
   "source": [
    "lr_cvec_opt = LogisticRegression(C = 1, max_iter = 1000, penalty= 'l2')"
   ]
  },
  {
   "cell_type": "code",
   "execution_count": 129,
   "id": "0d5f990e-e36e-4ab1-9108-9364ed8c6943",
   "metadata": {},
   "outputs": [],
   "source": [
    "lr_tvec_opt = LogisticRegression(C = 10, max_iter = 1000, penalty = 'l2')"
   ]
  },
  {
   "cell_type": "code",
   "execution_count": 130,
   "id": "108bb09a-5036-46dd-9aef-e7cd2d97d8b1",
   "metadata": {},
   "outputs": [],
   "source": [
    "cvec_lr_optimized_clean_train_total = cvec_lr_optimized.fit_transform(clean_train_total)"
   ]
  },
  {
   "cell_type": "code",
   "execution_count": 131,
   "id": "7a8c0b43-d1b9-44a7-923f-71aac8b13624",
   "metadata": {},
   "outputs": [],
   "source": [
    "cvec_lr_optimized_clean_test_total = cvec_lr_optimized.transform(clean_test_total)"
   ]
  },
  {
   "cell_type": "code",
   "execution_count": 132,
   "id": "25cb75e1-a75d-46ed-b26a-f72c72f5d04c",
   "metadata": {},
   "outputs": [],
   "source": [
    "tvec_lr_optimized_clean_train_total = tvec_lr_optimized.fit_transform(clean_train_total)"
   ]
  },
  {
   "cell_type": "code",
   "execution_count": 133,
   "id": "f486d598-918a-4923-ac9c-17b9a508fba0",
   "metadata": {},
   "outputs": [],
   "source": [
    "tvec_lr_optimized_clean_test_total = tvec_lr_optimized.transform(clean_test_total)"
   ]
  },
  {
   "cell_type": "code",
   "execution_count": 134,
   "id": "767bd90a-c5b8-4a5b-a178-5a87f717851e",
   "metadata": {},
   "outputs": [
    {
     "data": {
      "text/html": [
       "<style>#sk-container-id-13 {color: black;}#sk-container-id-13 pre{padding: 0;}#sk-container-id-13 div.sk-toggleable {background-color: white;}#sk-container-id-13 label.sk-toggleable__label {cursor: pointer;display: block;width: 100%;margin-bottom: 0;padding: 0.3em;box-sizing: border-box;text-align: center;}#sk-container-id-13 label.sk-toggleable__label-arrow:before {content: \"▸\";float: left;margin-right: 0.25em;color: #696969;}#sk-container-id-13 label.sk-toggleable__label-arrow:hover:before {color: black;}#sk-container-id-13 div.sk-estimator:hover label.sk-toggleable__label-arrow:before {color: black;}#sk-container-id-13 div.sk-toggleable__content {max-height: 0;max-width: 0;overflow: hidden;text-align: left;background-color: #f0f8ff;}#sk-container-id-13 div.sk-toggleable__content pre {margin: 0.2em;color: black;border-radius: 0.25em;background-color: #f0f8ff;}#sk-container-id-13 input.sk-toggleable__control:checked~div.sk-toggleable__content {max-height: 200px;max-width: 100%;overflow: auto;}#sk-container-id-13 input.sk-toggleable__control:checked~label.sk-toggleable__label-arrow:before {content: \"▾\";}#sk-container-id-13 div.sk-estimator input.sk-toggleable__control:checked~label.sk-toggleable__label {background-color: #d4ebff;}#sk-container-id-13 div.sk-label input.sk-toggleable__control:checked~label.sk-toggleable__label {background-color: #d4ebff;}#sk-container-id-13 input.sk-hidden--visually {border: 0;clip: rect(1px 1px 1px 1px);clip: rect(1px, 1px, 1px, 1px);height: 1px;margin: -1px;overflow: hidden;padding: 0;position: absolute;width: 1px;}#sk-container-id-13 div.sk-estimator {font-family: monospace;background-color: #f0f8ff;border: 1px dotted black;border-radius: 0.25em;box-sizing: border-box;margin-bottom: 0.5em;}#sk-container-id-13 div.sk-estimator:hover {background-color: #d4ebff;}#sk-container-id-13 div.sk-parallel-item::after {content: \"\";width: 100%;border-bottom: 1px solid gray;flex-grow: 1;}#sk-container-id-13 div.sk-label:hover label.sk-toggleable__label {background-color: #d4ebff;}#sk-container-id-13 div.sk-serial::before {content: \"\";position: absolute;border-left: 1px solid gray;box-sizing: border-box;top: 0;bottom: 0;left: 50%;z-index: 0;}#sk-container-id-13 div.sk-serial {display: flex;flex-direction: column;align-items: center;background-color: white;padding-right: 0.2em;padding-left: 0.2em;position: relative;}#sk-container-id-13 div.sk-item {position: relative;z-index: 1;}#sk-container-id-13 div.sk-parallel {display: flex;align-items: stretch;justify-content: center;background-color: white;position: relative;}#sk-container-id-13 div.sk-item::before, #sk-container-id-13 div.sk-parallel-item::before {content: \"\";position: absolute;border-left: 1px solid gray;box-sizing: border-box;top: 0;bottom: 0;left: 50%;z-index: -1;}#sk-container-id-13 div.sk-parallel-item {display: flex;flex-direction: column;z-index: 1;position: relative;background-color: white;}#sk-container-id-13 div.sk-parallel-item:first-child::after {align-self: flex-end;width: 50%;}#sk-container-id-13 div.sk-parallel-item:last-child::after {align-self: flex-start;width: 50%;}#sk-container-id-13 div.sk-parallel-item:only-child::after {width: 0;}#sk-container-id-13 div.sk-dashed-wrapped {border: 1px dashed gray;margin: 0 0.4em 0.5em 0.4em;box-sizing: border-box;padding-bottom: 0.4em;background-color: white;}#sk-container-id-13 div.sk-label label {font-family: monospace;font-weight: bold;display: inline-block;line-height: 1.2em;}#sk-container-id-13 div.sk-label-container {text-align: center;}#sk-container-id-13 div.sk-container {/* jupyter's `normalize.less` sets `[hidden] { display: none; }` but bootstrap.min.css set `[hidden] { display: none !important; }` so we also need the `!important` here to be able to override the default hidden behavior on the sphinx rendered scikit-learn.org. See: https://github.com/scikit-learn/scikit-learn/issues/21755 */display: inline-block !important;position: relative;}#sk-container-id-13 div.sk-text-repr-fallback {display: none;}</style><div id=\"sk-container-id-13\" class=\"sk-top-container\"><div class=\"sk-text-repr-fallback\"><pre>LogisticRegression(C=1, max_iter=1000)</pre><b>In a Jupyter environment, please rerun this cell to show the HTML representation or trust the notebook. <br />On GitHub, the HTML representation is unable to render, please try loading this page with nbviewer.org.</b></div><div class=\"sk-container\" hidden><div class=\"sk-item\"><div class=\"sk-estimator sk-toggleable\"><input class=\"sk-toggleable__control sk-hidden--visually\" id=\"sk-estimator-id-16\" type=\"checkbox\" checked><label for=\"sk-estimator-id-16\" class=\"sk-toggleable__label sk-toggleable__label-arrow\">LogisticRegression</label><div class=\"sk-toggleable__content\"><pre>LogisticRegression(C=1, max_iter=1000)</pre></div></div></div></div></div>"
      ],
      "text/plain": [
       "LogisticRegression(C=1, max_iter=1000)"
      ]
     },
     "execution_count": 134,
     "metadata": {},
     "output_type": "execute_result"
    }
   ],
   "source": [
    "lr_cvec_opt.fit(cvec_lr_optimized_clean_train_total, y_train)"
   ]
  },
  {
   "cell_type": "code",
   "execution_count": 135,
   "id": "2bfb63a0-56a9-4665-a212-576f98fa3bb6",
   "metadata": {},
   "outputs": [
    {
     "data": {
      "text/html": [
       "<style>#sk-container-id-14 {color: black;}#sk-container-id-14 pre{padding: 0;}#sk-container-id-14 div.sk-toggleable {background-color: white;}#sk-container-id-14 label.sk-toggleable__label {cursor: pointer;display: block;width: 100%;margin-bottom: 0;padding: 0.3em;box-sizing: border-box;text-align: center;}#sk-container-id-14 label.sk-toggleable__label-arrow:before {content: \"▸\";float: left;margin-right: 0.25em;color: #696969;}#sk-container-id-14 label.sk-toggleable__label-arrow:hover:before {color: black;}#sk-container-id-14 div.sk-estimator:hover label.sk-toggleable__label-arrow:before {color: black;}#sk-container-id-14 div.sk-toggleable__content {max-height: 0;max-width: 0;overflow: hidden;text-align: left;background-color: #f0f8ff;}#sk-container-id-14 div.sk-toggleable__content pre {margin: 0.2em;color: black;border-radius: 0.25em;background-color: #f0f8ff;}#sk-container-id-14 input.sk-toggleable__control:checked~div.sk-toggleable__content {max-height: 200px;max-width: 100%;overflow: auto;}#sk-container-id-14 input.sk-toggleable__control:checked~label.sk-toggleable__label-arrow:before {content: \"▾\";}#sk-container-id-14 div.sk-estimator input.sk-toggleable__control:checked~label.sk-toggleable__label {background-color: #d4ebff;}#sk-container-id-14 div.sk-label input.sk-toggleable__control:checked~label.sk-toggleable__label {background-color: #d4ebff;}#sk-container-id-14 input.sk-hidden--visually {border: 0;clip: rect(1px 1px 1px 1px);clip: rect(1px, 1px, 1px, 1px);height: 1px;margin: -1px;overflow: hidden;padding: 0;position: absolute;width: 1px;}#sk-container-id-14 div.sk-estimator {font-family: monospace;background-color: #f0f8ff;border: 1px dotted black;border-radius: 0.25em;box-sizing: border-box;margin-bottom: 0.5em;}#sk-container-id-14 div.sk-estimator:hover {background-color: #d4ebff;}#sk-container-id-14 div.sk-parallel-item::after {content: \"\";width: 100%;border-bottom: 1px solid gray;flex-grow: 1;}#sk-container-id-14 div.sk-label:hover label.sk-toggleable__label {background-color: #d4ebff;}#sk-container-id-14 div.sk-serial::before {content: \"\";position: absolute;border-left: 1px solid gray;box-sizing: border-box;top: 0;bottom: 0;left: 50%;z-index: 0;}#sk-container-id-14 div.sk-serial {display: flex;flex-direction: column;align-items: center;background-color: white;padding-right: 0.2em;padding-left: 0.2em;position: relative;}#sk-container-id-14 div.sk-item {position: relative;z-index: 1;}#sk-container-id-14 div.sk-parallel {display: flex;align-items: stretch;justify-content: center;background-color: white;position: relative;}#sk-container-id-14 div.sk-item::before, #sk-container-id-14 div.sk-parallel-item::before {content: \"\";position: absolute;border-left: 1px solid gray;box-sizing: border-box;top: 0;bottom: 0;left: 50%;z-index: -1;}#sk-container-id-14 div.sk-parallel-item {display: flex;flex-direction: column;z-index: 1;position: relative;background-color: white;}#sk-container-id-14 div.sk-parallel-item:first-child::after {align-self: flex-end;width: 50%;}#sk-container-id-14 div.sk-parallel-item:last-child::after {align-self: flex-start;width: 50%;}#sk-container-id-14 div.sk-parallel-item:only-child::after {width: 0;}#sk-container-id-14 div.sk-dashed-wrapped {border: 1px dashed gray;margin: 0 0.4em 0.5em 0.4em;box-sizing: border-box;padding-bottom: 0.4em;background-color: white;}#sk-container-id-14 div.sk-label label {font-family: monospace;font-weight: bold;display: inline-block;line-height: 1.2em;}#sk-container-id-14 div.sk-label-container {text-align: center;}#sk-container-id-14 div.sk-container {/* jupyter's `normalize.less` sets `[hidden] { display: none; }` but bootstrap.min.css set `[hidden] { display: none !important; }` so we also need the `!important` here to be able to override the default hidden behavior on the sphinx rendered scikit-learn.org. See: https://github.com/scikit-learn/scikit-learn/issues/21755 */display: inline-block !important;position: relative;}#sk-container-id-14 div.sk-text-repr-fallback {display: none;}</style><div id=\"sk-container-id-14\" class=\"sk-top-container\"><div class=\"sk-text-repr-fallback\"><pre>LogisticRegression(C=10, max_iter=1000)</pre><b>In a Jupyter environment, please rerun this cell to show the HTML representation or trust the notebook. <br />On GitHub, the HTML representation is unable to render, please try loading this page with nbviewer.org.</b></div><div class=\"sk-container\" hidden><div class=\"sk-item\"><div class=\"sk-estimator sk-toggleable\"><input class=\"sk-toggleable__control sk-hidden--visually\" id=\"sk-estimator-id-17\" type=\"checkbox\" checked><label for=\"sk-estimator-id-17\" class=\"sk-toggleable__label sk-toggleable__label-arrow\">LogisticRegression</label><div class=\"sk-toggleable__content\"><pre>LogisticRegression(C=10, max_iter=1000)</pre></div></div></div></div></div>"
      ],
      "text/plain": [
       "LogisticRegression(C=10, max_iter=1000)"
      ]
     },
     "execution_count": 135,
     "metadata": {},
     "output_type": "execute_result"
    }
   ],
   "source": [
    "lr_tvec_opt.fit(tvec_lr_optimized_clean_train_total, y_train)"
   ]
  },
  {
   "cell_type": "code",
   "execution_count": 136,
   "id": "ea613815-7533-4e17-bf30-f10bdeec7db4",
   "metadata": {},
   "outputs": [
    {
     "name": "stdout",
     "output_type": "stream",
     "text": [
      "Train Accuracy Score CVec LR| 0.974\n",
      "Test Accuracy Score CVec LR| 0.889\n"
     ]
    }
   ],
   "source": [
    "print(f\"Train Accuracy Score CVec LR| {round(lr_cvec_opt.score(cvec_lr_optimized_clean_train_total, y_train),3)}\")\n",
    "print(f\"Test Accuracy Score CVec LR| {round(lr_cvec_opt.score(cvec_lr_optimized_clean_test_total, y_test),3)}\")"
   ]
  },
  {
   "cell_type": "code",
   "execution_count": 137,
   "id": "270e3f03-5d9b-4ae8-8a67-985fbbdec84a",
   "metadata": {},
   "outputs": [
    {
     "name": "stdout",
     "output_type": "stream",
     "text": [
      "Train Accuracy Score TVec LR| 0.962\n",
      "Test Accuracy Score TVec LR| 0.875\n"
     ]
    }
   ],
   "source": [
    "print(f\"Train Accuracy Score TVec LR| {round(lr_tvec_opt.score(tvec_lr_optimized_clean_train_total, y_train),3)}\")\n",
    "print(f\"Test Accuracy Score TVec LR| {round(lr_tvec_opt.score(tvec_lr_optimized_clean_test_total, y_test),3)}\")"
   ]
  },
  {
   "cell_type": "code",
   "execution_count": 138,
   "id": "2f1e0a62-2aa7-4f76-be16-27b1c5dd4b8f",
   "metadata": {},
   "outputs": [
    {
     "data": {
      "text/plain": [
       "\"\\ngs2: \\n{'lr__C': 10,\\n 'lr__max_iter': 1000,\\n 'lr__penalty': 'l2',\\n 'tvec__max_df': 0.6,\\n 'tvec__max_features': 7000,\\n 'tvec__min_df': 5e-05,\\n 'tvec__ngram_range': (1, 1)}\\n\""
      ]
     },
     "execution_count": 138,
     "metadata": {},
     "output_type": "execute_result"
    }
   ],
   "source": [
    "gs2.best_params_\n",
    "'''\n",
    "gs2: \n",
    "{'lr__C': 10,\n",
    " 'lr__max_iter': 1000,\n",
    " 'lr__penalty': 'l2',\n",
    " 'tvec__max_df': 0.6,\n",
    " 'tvec__max_features': 7000,\n",
    " 'tvec__min_df': 5e-05,\n",
    " 'tvec__ngram_range': (1, 1)}\n",
    "'''"
   ]
  },
  {
   "cell_type": "code",
   "execution_count": 139,
   "id": "50859736-1678-4b0c-9f99-185ab6a9292a",
   "metadata": {},
   "outputs": [
    {
     "name": "stdout",
     "output_type": "stream",
     "text": [
      "Train Accuracy Score CVec LR| 0.974\n",
      "Test Accuracy Score CVec LR| 0.889\n"
     ]
    }
   ],
   "source": [
    "print(f\"Train Accuracy Score CVec LR| {round(gs1.score(clean_train_total, y_train),3)}\")\n",
    "print(f\"Test Accuracy Score CVec LR| {round(gs1.score(clean_test_total, y_test),3)}\")"
   ]
  },
  {
   "cell_type": "code",
   "execution_count": 140,
   "id": "7d3ad3da-bf1f-4827-8b13-86bce1fb5fd8",
   "metadata": {},
   "outputs": [
    {
     "name": "stdout",
     "output_type": "stream",
     "text": [
      "Train Accuracy Score TVec LR| 0.962\n",
      "Test Accuracy Score TVec LR| 0.875\n"
     ]
    }
   ],
   "source": [
    "print(f\"Train Accuracy Score TVec LR| {round(gs2.score(clean_train_total, y_train),3)}\")\n",
    "print(f\"Test Accuracy Score TVec LR| {round(gs2.score(clean_test_total, y_test),3)}\")"
   ]
  },
  {
   "cell_type": "code",
   "execution_count": 141,
   "id": "12275470-9e01-42d6-9c3e-2d522e3d0c29",
   "metadata": {},
   "outputs": [
    {
     "name": "stdout",
     "output_type": "stream",
     "text": [
      "TN: 3605\n",
      "FP: 304\n",
      "FN: 262\n",
      "TP: 931\n"
     ]
    },
    {
     "data": {
      "image/png": "[encoded data removed]",
      "text/plain": [
       "<Figure size 640x480 with 2 Axes>"
      ]
     },
     "metadata": {},
     "output_type": "display_data"
    }
   ],
   "source": [
    "# Get predictions from optimal LR model\n",
    "preds = gs1.predict(clean_test_total)\n",
    "# Save confusion matrix values\n",
    "tn, fp, fn, tp = confusion_matrix(y_test, preds).ravel()\n",
    "\n",
    "# Generate values of confusion matrix for reference\n",
    "def find_cm(y_test, preds):\n",
    "    tn, fp, fn, tp = confusion_matrix(y_test, preds).ravel()\n",
    "    \n",
    "    return f\"TN: {tn}\\nFP: {fp}\\nFN: {fn}\\nTP: {tp}\" \n",
    "    \n",
    "# View confusion matrix\n",
    "ConfusionMatrixDisplay.from_estimator(gs1, clean_test_total, y_test, cmap='Blues');\n",
    "plt.title('Confusion Matrix for the Logistic Regression CVec Predictions',fontsize=16, loc='center');\n",
    "\n",
    "print(find_cm(y_test, preds))"
   ]
  },
  {
   "cell_type": "code",
   "execution_count": 142,
   "id": "fb7f0d50-80cd-4300-a619-a9e57cfd45aa",
   "metadata": {},
   "outputs": [
    {
     "name": "stdout",
     "output_type": "stream",
     "text": [
      "Sensitivity | 0.78\n",
      "Specificity | 0.922\n",
      "Accuracy | 0.889\n",
      "Precision | 0.754\n",
      "Miscalculation Rate | 0.111\n"
     ]
    }
   ],
   "source": [
    "# Calculate Sensitivity\n",
    "print(f\"Sensitivity | {round(tp/(tp+fn),3)}\")\n",
    "# Calculate the Specificity\n",
    "print(f\"Specificity | {round(tn/(tn+fp),3)}\")\n",
    "# Calculate Accuracy\n",
    "print(f\"Accuracy | {round((tp+tn)/(tp+fp+tn+fn),3)}\")\n",
    "# Calculate Precision\n",
    "print(f\"Precision | {round(tp/(tp+fp),3)}\")\n",
    "# Calculate Miscalculation Rate\n",
    "print(f\"Miscalculation Rate | {round((fp+fn)/(tp+fp+tn+fn),3)}\")"
   ]
  },
  {
   "cell_type": "markdown",
   "id": "f64cb985-6c6d-4d3e-8a07-d048b452bcc9",
   "metadata": {},
   "source": [
    "At the moment we are optimizing specificity, i.e. minimizing false positives (incorrectly telling the viewer that the abstract/headline pair belongs to an `Opinion` section) and this comes at the expense of increasing false negatives. \n",
    "\n",
    "Precision is improving but still not quite what it needs to be and thus we must continue along with other models in order to fine-tune to find the best classification model before we proceed to sentiment analysis of those articles within the `Opinion` section. "
   ]
  },
  {
   "cell_type": "code",
   "execution_count": 143,
   "id": "bcac53e1-a5a1-4bcd-b16d-044c3ce47f17",
   "metadata": {},
   "outputs": [
    {
     "name": "stdout",
     "output_type": "stream",
     "text": [
      "TN: 3643\n",
      "FP: 266\n",
      "FN: 370\n",
      "TP: 823\n"
     ]
    },
    {
     "data": {
      "image/png": "[encoded data removed]",
      "text/plain": [
       "<Figure size 640x480 with 2 Axes>"
      ]
     },
     "metadata": {},
     "output_type": "display_data"
    }
   ],
   "source": [
    "# Get predictions from optimal LR model\n",
    "preds = gs2.predict(clean_test_total)\n",
    "# Save confusion matrix values\n",
    "tn, fp, fn, tp = confusion_matrix(y_test, preds).ravel()\n",
    "\n",
    "# Generate values of confusion matrix for reference\n",
    "def find_cm(y_test, preds):\n",
    "    tn, fp, fn, tp = confusion_matrix(y_test, preds).ravel()\n",
    "    \n",
    "    return f\"TN: {tn}\\nFP: {fp}\\nFN: {fn}\\nTP: {tp}\" \n",
    "    \n",
    "# View confusion matrix\n",
    "ConfusionMatrixDisplay.from_estimator(gs2, clean_test_total, y_test, cmap='Reds');\n",
    "plt.title('Confusion Matrix for the Logistic Regression TVec Predictions',fontsize=16, loc='center');\n",
    "\n",
    "print(find_cm(y_test, preds))"
   ]
  },
  {
   "cell_type": "code",
   "execution_count": 144,
   "id": "437e0389-6f65-4c19-a8bd-5c83e3cbd375",
   "metadata": {},
   "outputs": [
    {
     "name": "stdout",
     "output_type": "stream",
     "text": [
      "Sensitivity | 0.69\n",
      "Specificity | 0.932\n",
      "Accuracy | 0.875\n",
      "Precision | 0.756\n",
      "Miscalculation Rate | 0.125\n"
     ]
    }
   ],
   "source": [
    "# Calculate Sensitivity\n",
    "print(f\"Sensitivity | {round(tp/(tp+fn),3)}\")\n",
    "# Calculate the Specificity\n",
    "print(f\"Specificity | {round(tn/(tn+fp),3)}\")\n",
    "# Calculate Accuracy\n",
    "print(f\"Accuracy | {round((tp+tn)/(tp+fp+tn+fn),3)}\")\n",
    "# Calculate Precision\n",
    "print(f\"Precision | {round(tp/(tp+fp),3)}\")\n",
    "# Calculate Miscalculation Rate\n",
    "print(f\"Miscalculation Rate | {round((fp+fn)/(tp+fp+tn+fn),3)}\")"
   ]
  },
  {
   "attachments": {},
   "cell_type": "markdown",
   "id": "641c2d22-472e-4bd2-8195-50698ae093ee",
   "metadata": {},
   "source": [
    "At the moment we are optimizing specificity, i.e. minimizing false positives (incorrectly telling the viewer that the abstract/headline pair belongs to an `Opinion` section) and this comes at the expense of increasing false negatives. \n",
    "\n",
    "Precision is improving but still not quite what it needs to be and thus we must continue along with other models in order to fine-tune to find the best classification model before we proceed to sentiment analysis of those articles within the `Opinion` section. "
   ]
  },
  {
   "cell_type": "markdown",
   "id": "71b667ba-b3ab-437f-b273-789fceb80832",
   "metadata": {},
   "source": [
    "##### Combine preds with original dataframe and check how our predictions performed"
   ]
  },
  {
   "cell_type": "code",
   "execution_count": 145,
   "id": "5cb11fa9-9040-4cd7-bb7a-f13b590f8e5e",
   "metadata": {},
   "outputs": [
    {
     "name": "stdout",
     "output_type": "stream",
     "text": [
      "Confusion Matrix:\n",
      "Predicted     0    1\n",
      "Actual              \n",
      "0          3643  266\n",
      "1           370  823\n"
     ]
    }
   ],
   "source": [
    "# Combine predictions with the original DataFrame\n",
    "df_test_outcomes = pd.DataFrame({'X_test': clean_test_total, 'y_test': y_test, 'Predictions_LR_CVec': preds})\n",
    "\n",
    "\n",
    "# Calculate confusion matrix\n",
    "conf_matrix = pd.crosstab(df_test_outcomes['y_test'], df_test_outcomes['Predictions_LR_CVec'], rownames=['Actual'], colnames=['Predicted'])\n",
    "\n",
    "# Extract values from the confusion matrix\n",
    "true_negatives = conf_matrix[0][0]\n",
    "false_positives = conf_matrix[0][1]\n",
    "false_negatives = conf_matrix[1][0]\n",
    "true_positives = conf_matrix[1][1]\n",
    "\n",
    "# Display the confusion matrix\n",
    "print(\"Confusion Matrix:\")\n",
    "print(conf_matrix)\n",
    "\n",
    "# Create lists for false positives and false negatives\n",
    "false_positives_list = df_test_outcomes[(df_test_outcomes['y_test'] == 0) & (df_test_outcomes['Predictions_LR_CVec'] == 1)]['X_test'].tolist()\n",
    "false_negatives_list = df_test_outcomes[(df_test_outcomes['y_test'] == 1) & (df_test_outcomes['Predictions_LR_CVec'] == 0)]['X_test'].tolist()\n"
   ]
  },
  {
   "cell_type": "code",
   "execution_count": 146,
   "id": "cc7930fb-ead9-49be-93cc-392bcc8f41fa",
   "metadata": {},
   "outputs": [
    {
     "name": "stdout",
     "output_type": "stream",
     "text": [
      "Most common words in False Positives:\n",
      "['trump', 'u', 'america', 'american', 'new', 'people', 'states', 'president', 'many', 'women']\n",
      "\n",
      "Most common words in False Negatives:\n",
      "['states', 'america', 'american', 'trump', 'united', 'president', 'new', 'americans', 'u', 'one']\n",
      "\n",
      "Combined stopwords for CountVectorizer:\n",
      "['trump', 'u', 'america', 'american', 'new', 'people', 'states', 'president', 'many', 'women', 'states', 'america', 'american', 'trump', 'united', 'president', 'new', 'americans', 'u', 'one']\n"
     ]
    }
   ],
   "source": [
    "# Function to get the most common words from a list\n",
    "def get_most_common_words(text_list, top_n=10):\n",
    "    all_text = ' '.join(text_list)\n",
    "    words = all_text.split()\n",
    "    counter = Counter(words)\n",
    "    most_common_words = counter.most_common(top_n)\n",
    "    return [word for word, _ in most_common_words]\n",
    "\n",
    "# Get most common words from false positives and false negatives lists\n",
    "top_words_false_positives = get_most_common_words(false_positives_list)\n",
    "top_words_false_negatives = get_most_common_words(false_negatives_list)\n",
    "\n",
    "# Combine the lists of most common words\n",
    "common_stopwords = list(top_words_false_positives + top_words_false_negatives)\n",
    "\n",
    "# Display the most common words\n",
    "print(\"Most common words in False Positives:\")\n",
    "print(top_words_false_positives)\n",
    "\n",
    "print(\"\\nMost common words in False Negatives:\")\n",
    "print(top_words_false_negatives)\n",
    "\n",
    "print(\"\\nCombined stopwords for CountVectorizer:\")\n",
    "print(common_stopwords)"
   ]
  },
  {
   "cell_type": "code",
   "execution_count": 147,
   "id": "90bb9a07-1932-4547-a219-4c0dff3ec03a",
   "metadata": {},
   "outputs": [
    {
     "name": "stdout",
     "output_type": "stream",
     "text": [
      "Confusion Matrix:\n",
      "Predicted     0    1\n",
      "Actual              \n",
      "0          3643  266\n",
      "1           370  823\n"
     ]
    }
   ],
   "source": [
    "# Combine predictions with the original DataFrame\n",
    "df_test_outcomes = pd.DataFrame({'X_test': clean_test_total, 'y_test': y_test, 'Predictions_LR_TVec': preds})\n",
    "\n",
    "\n",
    "# Calculate confusion matrix\n",
    "conf_matrix = pd.crosstab(df_test_outcomes['y_test'], df_test_outcomes['Predictions_LR_TVec'], rownames=['Actual'], colnames=['Predicted'])\n",
    "\n",
    "# Extract values from the confusion matrix\n",
    "true_negatives = conf_matrix[0][0]\n",
    "false_positives = conf_matrix[0][1]\n",
    "false_negatives = conf_matrix[1][0]\n",
    "true_positives = conf_matrix[1][1]\n",
    "\n",
    "# Display the confusion matrix\n",
    "print(\"Confusion Matrix:\")\n",
    "print(conf_matrix)\n",
    "\n",
    "# Create lists for false positives and false negatives\n",
    "false_positives_list = df_test_outcomes[(df_test_outcomes['y_test'] == 0) & (df_test_outcomes['Predictions_LR_TVec'] == 1)]['X_test'].tolist()\n",
    "false_negatives_list = df_test_outcomes[(df_test_outcomes['y_test'] == 1) & (df_test_outcomes['Predictions_LR_TVec'] == 0)]['X_test'].tolist()\n"
   ]
  },
  {
   "cell_type": "code",
   "execution_count": 148,
   "id": "3e1b21e1-66be-47ca-ad81-573a02302c61",
   "metadata": {},
   "outputs": [
    {
     "name": "stdout",
     "output_type": "stream",
     "text": [
      "Most common words in False Positives:\n",
      "['trump', 'u', 'america', 'american', 'new', 'people', 'states', 'president', 'many', 'women']\n",
      "\n",
      "Most common words in False Negatives:\n",
      "['states', 'america', 'american', 'trump', 'united', 'president', 'new', 'americans', 'u', 'one']\n",
      "\n",
      "Combined stopwords for TfidfVectorizer:\n",
      "['trump', 'u', 'america', 'american', 'new', 'people', 'states', 'president', 'many', 'women', 'states', 'america', 'american', 'trump', 'united', 'president', 'new', 'americans', 'u', 'one']\n"
     ]
    }
   ],
   "source": [
    "# Get most common words from false positives and false negatives lists\n",
    "top_words_false_positives = get_most_common_words(false_positives_list)\n",
    "top_words_false_negatives = get_most_common_words(false_negatives_list)\n",
    "\n",
    "# Combine the lists of most common words\n",
    "common_stopwords = list(top_words_false_positives + top_words_false_negatives)\n",
    "\n",
    "# Display the most common words\n",
    "print(\"Most common words in False Positives:\")\n",
    "print(top_words_false_positives)\n",
    "\n",
    "print(\"\\nMost common words in False Negatives:\")\n",
    "print(top_words_false_negatives)\n",
    "\n",
    "print(\"\\nCombined stopwords for TfidfVectorizer:\")\n",
    "print(common_stopwords)"
   ]
  },
  {
   "cell_type": "markdown",
   "id": "e5a9a18b-0e06-4b06-af07-a5c09ef53d56",
   "metadata": {},
   "source": [
    "### Implementing the Custom Scorer and the combined stopwords (CVEC) - Commented Out and Results Were Marginal Improvement Over Model Without False Positive/Negative Stopwords"
   ]
  },
  {
   "cell_type": "code",
   "execution_count": 149,
   "id": "81adc603-1d70-48ef-8c65-5a7c13aba541",
   "metadata": {},
   "outputs": [],
   "source": [
    "# custom_scorer = make_scorer(f1_score)\n",
    "\n",
    "# # Common stopwords from the previous example\n",
    "# # common_stopwords = set(common_stopwords)  # Replace with your actual common stopwords\n",
    "\n",
    "# # Pipeline with CountVectorizer\n",
    "# pipe1_a = Pipeline([\n",
    "#     ('cvec', CountVectorizer(stop_words=common_stopwords)),\n",
    "#     ('lr', LogisticRegression())\n",
    "# ])\n",
    "\n",
    "# # Pipeline with TfidfVectorizer\n",
    "# pipe2_a = Pipeline([\n",
    "#     ('tvec', TfidfVectorizer(stop_words=common_stopwords)),\n",
    "#     ('lr', LogisticRegression())\n",
    "# ])\n",
    "\n",
    "# # Parameter grids with common stopwords\n",
    "# pipe_params1_a = {\n",
    "#     'cvec__max_features': list(np.arange(5000, 10000, 1000)),\n",
    "#     'cvec__ngram_range': [(1, 1), (1, 2)],\n",
    "#     'cvec__min_df': [0.00005, 0.0001],\n",
    "#     'cvec__max_df': [0.6, 0.65, 0.7],\n",
    "#     'lr__C': [0.1, 1, 10, 100],\n",
    "#     'lr__penalty': ['l1', 'l2'],\n",
    "#     'lr__max_iter': [1000],\n",
    "# }\n",
    "\n",
    "# pipe_params2_a = {\n",
    "#     'tvec__max_features': list(np.arange(5000, 10000, 1000)),\n",
    "#     'tvec__ngram_range': [(1, 1), (1, 2)],\n",
    "#     'tvec__min_df': [0.00005, 0.0001],\n",
    "#     'tvec__max_df': [0.6, 0.65, 0.7],\n",
    "#     'lr__C': [0.1, 1, 10, 100],\n",
    "#     'lr__penalty': ['l1', 'l2'],\n",
    "#     'lr__max_iter': [1000],  # Do not go lower than 1000 fail to converge\n",
    "# }\n",
    "\n",
    "# # Instantiate GridSearchCV.\n",
    "# gs1_a = GridSearchCV(pipe1_a,\n",
    "#                    param_grid=pipe_params1_a,\n",
    "#                    cv=5,\n",
    "#                    n_jobs=-1,\n",
    "#                    scoring=custom_scorer)\n",
    "\n",
    "# gs2_a = GridSearchCV(pipe2_a,\n",
    "#                    param_grid=pipe_params2_a,\n",
    "#                    cv=5,\n",
    "#                    n_jobs=-1,\n",
    "#                    scoring=custom_scorer)\n",
    "\n",
    "# # Measure the time taken for the parameter search\n",
    "# start_time = time.time()\n",
    "# gs1_a.fit(clean_train_total, y_train)\n",
    "# end_time = time.time()\n",
    "# print(f\"Time taken for GridSearchCV with CountVectorizer: {end_time - start_time:.2f} seconds\")\n",
    "\n",
    "# # start_time = time.time()\n",
    "# # gs2_a.fit(clean_train_total, y_train)\n",
    "# # end_time = time.time()\n",
    "# # print(f\"Time taken for GridSearchCV with TfidfVectorizer: {end_time - start_time:.2f} seconds\")"
   ]
  },
  {
   "cell_type": "code",
   "execution_count": 150,
   "id": "9d1640a0-b165-431b-8157-83fc5d3251c3",
   "metadata": {},
   "outputs": [],
   "source": [
    "# gs1_a.best_params_"
   ]
  },
  {
   "cell_type": "code",
   "execution_count": 151,
   "id": "0ac01eef-74f3-44c4-b328-966053986d0f",
   "metadata": {},
   "outputs": [],
   "source": [
    "# gs2_a.best_params_"
   ]
  },
  {
   "cell_type": "code",
   "execution_count": 152,
   "id": "39af624d-cd1b-4159-8671-4ccf8e0a8c74",
   "metadata": {},
   "outputs": [],
   "source": [
    "# print(f\"Train Accuracy Score CVec LR Stopwords| {round(gs1_a.score(clean_train_total, y_train),3)}\")\n",
    "# print(f\"Test Accuracy Score CVec LR Stopwords| {round(gs1_a.score(clean_test_total, y_test),3)}\")"
   ]
  },
  {
   "cell_type": "code",
   "execution_count": 153,
   "id": "2e7ef618-f0d9-4cc7-b794-f54488975f73",
   "metadata": {},
   "outputs": [],
   "source": [
    "# print(f\"Train Accuracy Score TVec LR Stopwords| {round(gs2_a.score(clean_train_total, y_train),3)}\")\n",
    "# print(f\"Test Accuracy Score TVec LR Stopwords| {round(gs2_a.score(clean_test_total, y_test),3)}\")"
   ]
  },
  {
   "cell_type": "code",
   "execution_count": 154,
   "id": "7b6374c3-1c20-476e-9e17-3f112b55ac6f",
   "metadata": {},
   "outputs": [],
   "source": [
    "# # Get predictions from optimal LR model\n",
    "# preds_stp = gs1_a.predict(clean_test_total)\n",
    "# # Save confusion matrix values\n",
    "# tn1, fp1, fn1, tp1 = confusion_matrix(y_test, preds_stp).ravel()\n",
    "\n",
    "# # Generate values of confusion matrix for reference\n",
    "# def find_cm(y_test, preds):\n",
    "#     tn, fp, fn, tp = confusion_matrix(y_test, preds).ravel()\n",
    "    \n",
    "#     return f\"TN: {tn}\\nFP: {fp}\\nFN: {fn}\\nTP: {tp}\" \n",
    "    \n",
    "# # View confusion matrix\n",
    "# ConfusionMatrixDisplay.from_estimator(gs1_a, clean_test_total, y_test, cmap='Reds');\n",
    "# plt.title('Confusion Matrix for the Logistic Regression Stopwords CVec Predictions',fontsize=16, loc='center');\n",
    "\n",
    "# print(find_cm(y_test, preds_stp))"
   ]
  },
  {
   "cell_type": "code",
   "execution_count": 155,
   "id": "acca62ea-f324-4081-8ec2-23a2bfdc3b00",
   "metadata": {},
   "outputs": [],
   "source": [
    "# # Calculate Sensitivity\n",
    "# print(f\"Sensitivity | {round(tp1/(tp1+fn1),3)}\")\n",
    "# # Calculate the Specificity\n",
    "# print(f\"Specificity | {round(tn1/(tn1+fp1),3)}\")\n",
    "# # Calculate Accuracy\n",
    "# print(f\"Accuracy | {round((tp1+tn1)/(tp1+fp1+tn1+fn1),3)}\")\n",
    "# # Calculate Precision\n",
    "# print(f\"Precision | {round(tp1/(tp1+fp1),3)}\")\n",
    "# # Calculate Miscalculation Rate\n",
    "# print(f\"Miscalculation Rate | {round((fp1+fn1)/(tp1+fp1+tn1+fn1),3)}\")"
   ]
  },
  {
   "cell_type": "code",
   "execution_count": 156,
   "id": "cea396e8-d7c0-4ba1-8a1f-6fe9b5269101",
   "metadata": {},
   "outputs": [],
   "source": [
    "# # Get predictions from optimal LR model\n",
    "# preds_stp2 = gs2_a.predict(clean_test_total)\n",
    "# # Save confusion matrix values\n",
    "# tn2, fp2, fn2, tp2 = confusion_matrix(y_test, preds_stp2).ravel()\n",
    "\n",
    "# # Generate values of confusion matrix for reference\n",
    "# def find_cm(y_test, preds):\n",
    "#     tn, fp, fn, tp = confusion_matrix(y_test, preds).ravel()\n",
    "    \n",
    "#     return f\"TN: {tn}\\nFP: {fp}\\nFN: {fn}\\nTP: {tp}\" \n",
    "    \n",
    "# # View confusion matrix\n",
    "# ConfusionMatrixDisplay.from_estimator(gs2_a, clean_test_total, y_test, cmap='Reds');\n",
    "# plt.title('Confusion Matrix for the Logistic Regression Stopwords CVec Predictions',fontsize=16, loc='center');\n",
    "\n",
    "# print(find_cm(y_test, preds_stp2))"
   ]
  },
  {
   "cell_type": "code",
   "execution_count": 157,
   "id": "7cd7e9a4-4f60-47a8-b920-e3726f5e33e2",
   "metadata": {},
   "outputs": [],
   "source": [
    "# # Calculate Sensitivity\n",
    "# print(f\"Sensitivity | {round(tp2/(tp2+fn2),3)}\")\n",
    "# # Calculate the Specificity\n",
    "# print(f\"Specificity | {round(tn2/(tn2+fp2),3)}\")\n",
    "# # Calculate Accuracy\n",
    "# print(f\"Accuracy | {round((tp2+tn2)/(tp2+fp2+tn2+fn2),3)}\")\n",
    "# # Calculate Precision\n",
    "# print(f\"Precision | {round(tp2/(tp2+fp2),3)}\")\n",
    "# # Calculate Miscalculation Rate\n",
    "# print(f\"Miscalculation Rate | {round((fp2+fn2)/(tp2+fp2+tn2+fn2),3)}\")"
   ]
  },
  {
   "cell_type": "markdown",
   "id": "c110f1c6-a2c1-428d-a19b-59eef890e603",
   "metadata": {},
   "source": [
    "## Simple Bagging Regressor only tuned for cvec and tvec - Computationally Expensive and Commented Out"
   ]
  },
  {
   "cell_type": "code",
   "execution_count": 158,
   "id": "a192c550-306d-410d-aa21-b1aacecee7ca",
   "metadata": {},
   "outputs": [],
   "source": [
    "# pipe11 = Pipeline([\n",
    "#     ('cvec', CountVectorizer()),\n",
    "#     # ('ss', StandardScaler(with_mean=False)),\n",
    "#     ('bg',BaggingClassifier())\n",
    "# ])\n",
    "\n",
    "# pipe12 = Pipeline([\n",
    "#     ('tvec', TfidfVectorizer()),\n",
    "#     # ('ss', StandardScaler(with_mean=False)),\n",
    "#     ('bg',BaggingClassifier())\n",
    "# ])\n",
    "\n",
    "# pipe_params11 = {'cvec__max_features': list(np.arange(5000, 10000, 1000)),\n",
    "#                'cvec__ngram_range': [(1,1), (1,2)],\n",
    "#                 'cvec__min_df': [0.00005, 0.0001],\n",
    "#                 'cvec__max_df': [0.6,0.65,0.7],\n",
    "#               }\n",
    "\n",
    "# pipe_params12 = {'tvec__max_features' : list(np.arange(5000, 10000, 1000)),\n",
    "#                'tvec__ngram_range' : [(1, 1), (1, 2)],\n",
    "#                 'tvec__min_df': [0.00005, 0.0001],\n",
    "#                 'tvec__max_df': [0.6,0.65,0.7],\n",
    "#               }\n",
    "\n",
    "# # Instantiate GridSearchCV.\n",
    "\n",
    "# gs11 = GridSearchCV(pipe11, # what object are we optimizing?\n",
    "#                   param_grid=pipe_params11, # what parameters values are we searching?\n",
    "#                   cv=5,\n",
    "#                   n_jobs=-1) # 5-fold cross-validation.\n",
    "\n",
    "# gs12 = GridSearchCV(pipe12, # what object are we optimizing?\n",
    "#                   param_grid=pipe_params12, # what parameters values are we searching?\n",
    "#                   cv=5, \n",
    "#                   n_jobs=-1) # 5-fold cross-validation.\n",
    "\n",
    "# gs11.fit(clean_train_total, y_train)\n",
    "\n",
    "# gs12.fit(clean_train_total, y_train)"
   ]
  },
  {
   "cell_type": "code",
   "execution_count": 159,
   "id": "b862cd9c-8e59-4baf-8398-2d203a961283",
   "metadata": {},
   "outputs": [],
   "source": [
    "# gs11.best_params_"
   ]
  },
  {
   "cell_type": "code",
   "execution_count": 160,
   "id": "cc017fa5-1659-46e3-8d62-d6dde3ef4e26",
   "metadata": {},
   "outputs": [],
   "source": [
    "# gs12.best_params_"
   ]
  },
  {
   "cell_type": "code",
   "execution_count": 161,
   "id": "302ebe46-1bed-491b-a464-8cc5b83fb399",
   "metadata": {},
   "outputs": [],
   "source": [
    "# print(f\"Train Accuracy Score CVec Bagging Classifier| {round(gs11.score(clean_train_total, y_train),3)}\")\n",
    "# print(f\"Test Accuracy Score CVec Bagging Classifier| {round(gs11.score(clean_test_total, y_test),3)}\")"
   ]
  },
  {
   "cell_type": "code",
   "execution_count": 162,
   "id": "64fd4525-f7ef-4063-8674-8949634e67fb",
   "metadata": {},
   "outputs": [],
   "source": [
    "# print(f\"Train Accuracy Score TVec Bagging Classifier| {round(gs12.score(clean_train_total, y_train),3)}\")\n",
    "# print(f\"Test Accuracy Score TVec Bagging Classifier| {round(gs12.score(clean_test_total, y_test),3)}\")"
   ]
  },
  {
   "cell_type": "code",
   "execution_count": 163,
   "id": "6c95a78d-fc4b-4f5b-9f24-676e0d3372d5",
   "metadata": {},
   "outputs": [],
   "source": [
    "# # Get predictions from optimal BG model\n",
    "# preds = gs11.predict(clean_test_total)\n",
    "# # Save confusion matrix values\n",
    "# tn11, fp11, fn11, tp11 = confusion_matrix(y_test, preds).ravel()\n",
    "\n",
    "# # Generate values of confusion matrix for reference\n",
    "# def find_cm(y_test, preds):\n",
    "#     tn, fp, fn, tp = confusion_matrix(y_test, preds).ravel()\n",
    "    \n",
    "#     return f\"TN: {tn}\\nFP: {fp}\\nFN: {fn}\\nTP: {tp}\" \n",
    "    \n",
    "# # View confusion matrix\n",
    "# ConfusionMatrixDisplay.from_estimator(gs11, clean_test_total, y_test, cmap='Reds');\n",
    "# plt.title('Confusion Matrix for the Bagging Classifier CVec Predictions',fontsize=16, loc='center');\n",
    "\n",
    "# print(find_cm(y_test, preds))"
   ]
  },
  {
   "cell_type": "code",
   "execution_count": 165,
   "id": "f71d8e0e-1e39-40db-b5e7-c2bda48e4afc",
   "metadata": {},
   "outputs": [],
   "source": [
    "# # Calculate Sensitivity\n",
    "# print(f\"Sensitivity | {round(tp11/(tp11+fn11),3)}\")\n",
    "# # Calculate the Specificity\n",
    "# print(f\"Specificity | {round(tn11/(tn11+fp11),3)}\")\n",
    "# # Calculate Accuracy\n",
    "# print(f\"Accuracy | {round((tp11+tn11)/(tp11+fp11+tn11+fn11),3)}\")\n",
    "# # Calculate Precision\n",
    "# print(f\"Precision | {round(tp11/(tp11+fp11),3)}\")\n",
    "# # Calculate Miscalculation Rate\n",
    "# print(f\"Miscalculation Rate | {round((fp11+fn11)/(tp11+fp11+tn11+fn11),3)}\")"
   ]
  },
  {
   "cell_type": "code",
   "execution_count": 166,
   "id": "ab522ec5-2d70-49a1-a908-70e92c5a64d7",
   "metadata": {},
   "outputs": [],
   "source": [
    "# # Get predictions from optimal BG model\n",
    "# preds = gs12.predict(clean_test_total)\n",
    "# # Save confusion matrix values\n",
    "# tn12, fp12, fn12, tp12 = confusion_matrix(y_test, preds).ravel()\n",
    "\n",
    "# # Generate values of confusion matrix for reference\n",
    "# def find_cm(y_test, preds):\n",
    "#     tn, fp, fn, tp = confusion_matrix(y_test, preds).ravel()\n",
    "    \n",
    "#     return f\"TN: {tn}\\nFP: {fp}\\nFN: {fn}\\nTP: {tp}\" \n",
    "    \n",
    "# # View confusion matrix\n",
    "# ConfusionMatrixDisplay.from_estimator(gs12, clean_test_total, y_test, cmap='Reds');\n",
    "# plt.title('Confusion Matrix for the Bagging Classifier TVec Predictions',fontsize=16, loc='center');\n",
    "\n",
    "# print(find_cm(y_test, preds))"
   ]
  },
  {
   "cell_type": "code",
   "execution_count": 167,
   "id": "1b399f68-307e-4f60-ab4f-d8f36470bbd4",
   "metadata": {},
   "outputs": [],
   "source": [
    "# # Calculate Sensitivity\n",
    "# print(f\"Sensitivity | {round(tp12/(tp12+fn12),3)}\")\n",
    "# # Calculate the Specificity\n",
    "# print(f\"Specificity | {round(tn12/(tn12+fp12),3)}\")\n",
    "# # Calculate Accuracy\n",
    "# print(f\"Accuracy | {round((tp12+tn12)/(tp12+fp12+tn12+fn12),3)}\")\n",
    "# # Calculate Precision\n",
    "# print(f\"Precision | {round(tp12/(tp12+fp12),3)}\")\n",
    "# # Calculate Miscalculation Rate\n",
    "# print(f\"Miscalculation Rate | {round((fp12+fn12)/(tp12+fp12+tn12+fn12),3)}\")"
   ]
  },
  {
   "cell_type": "code",
   "execution_count": 168,
   "id": "7e87e080-1ebd-4ef7-af79-84bb93e77c61",
   "metadata": {},
   "outputs": [],
   "source": [
    "# # Combine predictions with the original DataFrame\n",
    "# df_test_outcomes = pd.DataFrame({'X_test': clean_test_total, 'y_test': y_test, 'Predictions_Bagging_CVec': preds})\n",
    "\n",
    "\n",
    "# # Calculate confusion matrix\n",
    "# conf_matrix = pd.crosstab(df_test_outcomes['y_test'], df_test_outcomes['Predictions_Bagging_CVec'], rownames=['Actual'], colnames=['Predicted'])\n",
    "\n",
    "# # Extract values from the confusion matrix\n",
    "# true_negatives = conf_matrix[0][0]\n",
    "# false_positives = conf_matrix[0][1]\n",
    "# false_negatives = conf_matrix[1][0]\n",
    "# true_positives = conf_matrix[1][1]\n",
    "\n",
    "# # Display the confusion matrix\n",
    "# print(\"Confusion Matrix:\")\n",
    "# print(conf_matrix)\n",
    "\n",
    "# # Create lists for false positives and false negatives\n",
    "# false_positives_list = df_test_outcomes[(df_test_outcomes['y_test'] == 0) & (df_test_outcomes['Predictions_Bagging_CVec'] == 1)]['X_test'].tolist()\n",
    "# false_negatives_list = df_test_outcomes[(df_test_outcomes['y_test'] == 1) & (df_test_outcomes['Predictions_Bagging_CVec'] == 0)]['X_test'].tolist()\n"
   ]
  },
  {
   "cell_type": "code",
   "execution_count": 169,
   "id": "98817105-e745-4952-a828-2440dc4cca3d",
   "metadata": {},
   "outputs": [],
   "source": [
    "# # Function to get the most common words from a list\n",
    "# def get_most_common_words(text_list, top_n=10):\n",
    "#     all_text = ' '.join(text_list)\n",
    "#     words = all_text.split()\n",
    "#     counter = Counter(words)\n",
    "#     most_common_words = counter.most_common(top_n)\n",
    "#     return [word for word, _ in most_common_words]\n",
    "\n",
    "# # Get most common words from false positives and false negatives lists\n",
    "# top_words_false_positives = get_most_common_words(false_positives_list)\n",
    "# top_words_false_negatives = get_most_common_words(false_negatives_list)\n",
    "\n",
    "# # Combine the lists of most common words\n",
    "# common_stopwords = list(top_words_false_positives + top_words_false_negatives)\n",
    "\n",
    "# # Display the most common words\n",
    "# print(\"Most common words in False Positives:\")\n",
    "# print(top_words_false_positives)\n",
    "\n",
    "# print(\"\\nMost common words in False Negatives:\")\n",
    "# print(top_words_false_negatives)\n",
    "\n",
    "# print(\"\\nCombined stopwords for CountVectorizer:\")\n",
    "# print(common_stopwords)"
   ]
  },
  {
   "cell_type": "markdown",
   "id": "07a3eef5",
   "metadata": {},
   "source": [
    "##### Bagging Classifier GridSearch - Computationally Expensive"
   ]
  },
  {
   "cell_type": "code",
   "execution_count": 170,
   "id": "4df87b25-b88b-4db1-8eeb-170d58c692b9",
   "metadata": {},
   "outputs": [],
   "source": [
    "# # Pipeline with CountVectorizer and BaggingClassifier\n",
    "# bagging_pipe1_a = Pipeline([\n",
    "#     ('cvec', CountVectorizer(stop_words=common_stopwords)),\n",
    "#     ('bagging', BaggingClassifier(base_estimator=DecisionTreeClassifier()))\n",
    "# ])\n",
    "\n",
    "# # Pipeline with TfidfVectorizer and BaggingClassifier\n",
    "# bagging_pipe2_a = Pipeline([\n",
    "#     ('tvec', TfidfVectorizer(stop_words=common_stopwords)),\n",
    "#     ('bagging', BaggingClassifier(base_estimator=DecisionTreeClassifier()))\n",
    "# ])\n",
    "\n",
    "# # Parameter grids for BaggingClassifier\n",
    "# bagging_params1_a = {\n",
    "#     'cvec__max_features': list(np.arange(5000, 10000, 1000)),\n",
    "#     'cvec__ngram_range': [(1, 1), (1, 2)],\n",
    "#     'cvec__min_df': [0.00005, 0.0001],\n",
    "#     'cvec__max_df': [0.6, 0.65, 0.7],\n",
    "#     'bagging__n_estimators': [10, 50, 100],\n",
    "#     'bagging__max_samples': [0.5, 0.7, 1.0],\n",
    "#     'bagging__max_features': [0.5, 0.7, 1.0],\n",
    "# }\n",
    "\n",
    "# bagging_params2_a = {\n",
    "#     'tvec__max_features': list(np.arange(5000, 10000, 1000)),\n",
    "#     'tvec__ngram_range': [(1, 1), (1, 2)],\n",
    "#     'tvec__min_df': [0.00005, 0.0001],\n",
    "#     'tvec__max_df': [0.6, 0.65, 0.7],\n",
    "#     'bagging__n_estimators': [10, 50, 100],\n",
    "#     'bagging__max_samples': [0.5, 0.7, 1.0],\n",
    "#     'bagging__max_features': [0.5, 0.7, 1.0],\n",
    "# }\n",
    "\n",
    "# # Instantiate GridSearchCV for BaggingClassifier\n",
    "# gs_bagging1_a = GridSearchCV(bagging_pipe1_a,\n",
    "#                              param_grid=bagging_params1_a,\n",
    "#                              cv=5,\n",
    "#                              n_jobs=-1,\n",
    "#                              scoring=custom_scorer)\n",
    "\n",
    "# gs_bagging2_a = GridSearchCV(bagging_pipe2_a,\n",
    "#                              param_grid=bagging_params2_a,\n",
    "#                              cv=5,\n",
    "#                              n_jobs=-1,\n",
    "#                              scoring=custom_scorer)\n",
    "\n",
    "# # Measure the time taken for the parameter search\n",
    "# start_time = time.time()\n",
    "# gs_bagging1_a.fit(clean_train_total, y_train)\n",
    "# end_time = time.time()\n",
    "# print(f\"Time taken for GridSearchCV with BaggingClassifier and CountVectorizer: {end_time - start_time:.2f} seconds\")\n",
    "\n",
    "# start_time = time.time()\n",
    "# gs_bagging2_a.fit(clean_train_total, y_train)\n",
    "# end_time = time.time()\n",
    "# print(f\"Time taken for GridSearchCV with BaggingClassifier and TfidfVectorizer: {end_time - start_time:.2f} seconds\")"
   ]
  },
  {
   "cell_type": "code",
   "execution_count": 171,
   "id": "1ddee1f9-2cee-4870-927f-6c9dd36e3c48",
   "metadata": {},
   "outputs": [],
   "source": [
    "# gs_bagging1_a.best_params_"
   ]
  },
  {
   "cell_type": "code",
   "execution_count": 172,
   "id": "965e2b3f-3687-42d8-8fc0-33df94bc562f",
   "metadata": {},
   "outputs": [],
   "source": [
    "# gs_bagging2_a.best_params_"
   ]
  },
  {
   "cell_type": "code",
   "execution_count": 173,
   "id": "289d3565-a0ec-4765-9c70-438ba8964332",
   "metadata": {},
   "outputs": [],
   "source": [
    "# print(f\"Train Accuracy Score CVec Bagging Classifier Stopwords| {round(gs_bagging1_a.score(clean_train_total, y_train),3)}\")\n",
    "# print(f\"Test Accuracy Score CVec Bagging Classifier Stopwords| {round(gs_bagging1_a.score(clean_test_total, y_test),3)}\")"
   ]
  },
  {
   "cell_type": "code",
   "execution_count": 174,
   "id": "b84a2c1e-8c2e-492a-94d7-214a473b4e8c",
   "metadata": {},
   "outputs": [],
   "source": [
    "# print(f\"Train Accuracy Score TVec Bagging Classifier Stopwords| {round(gs_bagging2_a.score(clean_train_total, y_train),3)}\")\n",
    "# print(f\"Test Accuracy Score TVec Bagging Classifier Stopwords| {round(gs_bagging2_a.score(clean_test_total, y_test),3)}\")"
   ]
  },
  {
   "cell_type": "code",
   "execution_count": 175,
   "id": "8b204c0c-1033-4c1c-bff1-b4b912a52660",
   "metadata": {},
   "outputs": [],
   "source": [
    "# # Get predictions from optimal BR model\n",
    "# preds_bg_c = gs_bagging1_a.predict(clean_test_total)\n",
    "# # Save confusion matrix values\n",
    "# tn_bg_c, fp_bg_c, fn_bg_c, tp_bg_c = confusion_matrix(y_test, preds).ravel()\n",
    "\n",
    "# # Generate values of confusion matrix for reference\n",
    "# def find_cm(y_test, preds):\n",
    "#     tn, fp, fn, tp = confusion_matrix(y_test, preds).ravel()\n",
    "    \n",
    "#     return f\"TN: {tn}\\nFP: {fp}\\nFN: {fn}\\nTP: {tp}\" \n",
    "    \n",
    "# # View confusion matrix\n",
    "# ConfusionMatrixDisplay.from_estimator(gs_bagging1_a, clean_test_total, y_test, cmap='Reds');\n",
    "# plt.title('Confusion Matrix for the Bagging Classifier TVec Predictions',fontsize=16, loc='center');\n",
    "\n",
    "# print(find_cm(y_test, preds_bg_c))"
   ]
  },
  {
   "cell_type": "code",
   "execution_count": 176,
   "id": "91a580d1-76a6-496b-8fb4-a91e361c9541",
   "metadata": {},
   "outputs": [],
   "source": [
    "# # Calculate Sensitivity\n",
    "# print(f\"Sensitivity | {round(tp_bg_c/(tp_bg_c+fn_bg_c),3)}\")\n",
    "# # Calculate the Specificity\n",
    "# print(f\"Specificity | {round(tn_bg_c/(tn_bg_c+fp_bg_c),3)}\")\n",
    "# # Calculate Accuracy\n",
    "# print(f\"Accuracy | {round((tp_bg_c+tn_bg_c)/(tp_bg_c+fp_bg_c+tn_bg_c+fn_bg_c),3)}\")\n",
    "# # Calculate Precision\n",
    "# print(f\"Precision | {round(tp_bg_c/(tp_bg_c+fp_bg_c),3)}\")\n",
    "# # Calculate Miscalculation Rate\n",
    "# print(f\"Miscalculation Rate | {round((fp_bg_c+fn_bg_c)/(tp_bg_c+fp_bg_c+tn_bg_c+fn_bg_c),3)}\")"
   ]
  },
  {
   "cell_type": "code",
   "execution_count": 177,
   "id": "81b17f2d-67f6-4b0a-b898-cbd9bc8521a0",
   "metadata": {},
   "outputs": [],
   "source": [
    "# # Get predictions from optimal BR model\n",
    "# preds_bg_t = gs_bagging2_a.predict(clean_test_total)\n",
    "# # Save confusion matrix values\n",
    "# tn_bg_t, fp_bg_t, fn_bg_t, tp_bg_t = confusion_matrix(y_test, preds).ravel()\n",
    "\n",
    "# # Generate values of confusion matrix for reference\n",
    "# def find_cm(y_test, preds):\n",
    "#     tn, fp, fn, tp = confusion_matrix(y_test, preds).ravel()\n",
    "    \n",
    "#     return f\"TN: {tn}\\nFP: {fp}\\nFN: {fn}\\nTP: {tp}\" \n",
    "    \n",
    "# # View confusion matrix\n",
    "# ConfusionMatrixDisplay.from_estimator(gs_bagging2_a, clean_test_total, y_test, cmap='Reds');\n",
    "# plt.title('Confusion Matrix for the Bagging Classifier TVec Predictions',fontsize=16, loc='center');\n",
    "\n",
    "# print(find_cm(y_test, preds_bg_t))"
   ]
  },
  {
   "cell_type": "code",
   "execution_count": 178,
   "id": "f3d348f0-a454-4856-8122-d8e490c82cb4",
   "metadata": {},
   "outputs": [],
   "source": [
    "# # Calculate Sensitivity\n",
    "# print(f\"Sensitivity | {round(tp_bg_t/(tp_bg_t+fn_bg_t),3)}\")\n",
    "# # Calculate the Specificity\n",
    "# print(f\"Specificity | {round(tn_bg_t/(tn_bg_t+fp_bg_t),3)}\")\n",
    "# # Calculate Accuracy\n",
    "# print(f\"Accuracy | {round((tp_bg_t+tn_bg_t)/(tp_bg_t+fp_bg_t+tn_bg_t+fn_bg_t),3)}\")\n",
    "# # Calculate Precision\n",
    "# print(f\"Precision | {round(tp_bg_t/(tp_bg_t+fp_bg_t),3)}\")\n",
    "# # Calculate Miscalculation Rate\n",
    "# print(f\"Miscalculation Rate | {round((fp_bg_t+fn_bg_t)/(tp_bg_t+fp_bg_t+tn_bg_t+fn_bg_t),3)}\")"
   ]
  },
  {
   "cell_type": "markdown",
   "id": "11cd13ae-1f44-428b-8981-6ae80ec6dbb3",
   "metadata": {},
   "source": [
    "## Random Forest - very computationally expensive"
   ]
  },
  {
   "cell_type": "code",
   "execution_count": 179,
   "id": "85dcbd95-fc77-4752-ab78-954cb00b418c",
   "metadata": {},
   "outputs": [],
   "source": [
    "# pipe13 = Pipeline([\n",
    "#     ('cvec', CountVectorizer()),\n",
    "#     # ('ss', StandardScaler(with_mean=False)),\n",
    "#     ('rf',RandomForestClassifier())\n",
    "# ])\n",
    "\n",
    "# pipe14 = Pipeline([\n",
    "#     ('tvec', TfidfVectorizer()),\n",
    "#     # ('ss', StandardScaler(with_mean=False)),\n",
    "#     ('rf',RandomForestClassifier())\n",
    "# ])\n",
    "\n",
    "# pipe_params13 = {'cvec__max_features': list(np.arange(5000, 10000, 1000)),\n",
    "#                'cvec__ngram_range': [(1,1), (1,2)],\n",
    "#                 'cvec__min_df': [0.00005, 0.0001],\n",
    "#                 'cvec__max_df': [0.6,0.65,0.7],\n",
    "#               }\n",
    "\n",
    "# pipe_params14 = {'tvec__max_features' : list(np.arange(5000, 10000, 1000)),\n",
    "#                'tvec__ngram_range' : [(1, 1), (1, 2)],\n",
    "#                 'tvec__min_df': [0.00005, 0.0001],\n",
    "#                 'tvec__max_df': [0.6,0.65,0.7],\n",
    "#               }\n",
    "\n",
    "# # Instantiate GridSearchCV.\n",
    "\n",
    "# gs13 = GridSearchCV(pipe13, # what object are we optimizing?\n",
    "#                   param_grid=pipe_params13, # what parameters values are we searching?\n",
    "#                   cv=5,\n",
    "#                   n_jobs=-1) # 5-fold cross-validation.\n",
    "\n",
    "# gs14 = GridSearchCV(pipe14, # what object are we optimizing?\n",
    "#                   param_grid=pipe_params14, # what parameters values are we searching?\n",
    "#                   cv=5, \n",
    "#                   n_jobs=-1) # 5-fold cross-validation.\n",
    "\n",
    "\n",
    "\n",
    "# # Start the timer\n",
    "# start_time = time.time()\n",
    "\n",
    "# gs13.fit(clean_train_total, y_train)\n",
    "\n",
    "# # Stop the timer\n",
    "# end_time = time.time()\n",
    "\n",
    "# # Calculate the elapsed time\n",
    "# elapsed_time = end_time - start_time\n",
    "\n",
    "# # Print the computation time\n",
    "# print(f\"Computation Time Cvec: {elapsed_time:.4f} seconds\")\n",
    "\n",
    "\n",
    "# # Start the timer\n",
    "# start_time = time.time()\n",
    "\n",
    "# gs14.fit(clean_train_total, y_train)\n",
    "\n",
    "# # Stop the timer\n",
    "# end_time = time.time()\n",
    "\n",
    "# # Calculate the elapsed time\n",
    "# elapsed_time = end_time - start_time\n",
    "\n",
    "# # Print the computation time\n",
    "# print(f\"Computation Time Tvec: {elapsed_time:.4f} seconds\")"
   ]
  },
  {
   "cell_type": "code",
   "execution_count": 180,
   "id": "a77578fb-a562-4dda-a892-c0f1883045d0",
   "metadata": {},
   "outputs": [],
   "source": [
    "# gs13.best_params_"
   ]
  },
  {
   "cell_type": "code",
   "execution_count": 181,
   "id": "e2f278a3-819d-479d-ba42-d8f8a344420d",
   "metadata": {},
   "outputs": [],
   "source": [
    "# gs14.best_params_"
   ]
  },
  {
   "cell_type": "code",
   "execution_count": 182,
   "id": "0d0a4b83-9dc6-4f2a-81e9-eb4a7b98b7f8",
   "metadata": {},
   "outputs": [],
   "source": [
    "# print(f\"Train Accuracy Score CVec Random Forest| {round(gs13.score(clean_train_total, y_train),3)}\")\n",
    "# print(f\"Test Accuracy Score CVec Random Forest| {round(gs13.score(clean_test_total, y_test),3)}\")"
   ]
  },
  {
   "cell_type": "code",
   "execution_count": 183,
   "id": "8e3e2ac7-02af-484e-b9f6-1e288cc9f4f9",
   "metadata": {},
   "outputs": [],
   "source": [
    "# print(f\"Train Accuracy Score TVec Random Forest| {round(gs14.score(clean_train_total, y_train),3)}\")\n",
    "# print(f\"Test Accuracy Score TVec Random Forest| {round(gs14.score(clean_test_total, y_test),3)}\")"
   ]
  },
  {
   "cell_type": "code",
   "execution_count": 184,
   "id": "32f45e4c-a701-43c6-b952-be99326b247e",
   "metadata": {},
   "outputs": [],
   "source": [
    "# # Get predictions from optimal RF model\n",
    "# preds = gs13.predict(clean_test_total)\n",
    "# # Save confusion matrix values\n",
    "# tn13, fp13, fn13, tp13 = confusion_matrix(y_test, preds).ravel()\n",
    "\n",
    "# # Generate values of confusion matrix for reference\n",
    "# def find_cm(y_test, preds):\n",
    "#     tn, fp, fn, tp = confusion_matrix(y_test, preds).ravel()\n",
    "    \n",
    "#     return f\"TN: {tn}\\nFP: {fp}\\nFN: {fn}\\nTP: {tp}\" \n",
    "    \n",
    "# # View confusion matrix\n",
    "# ConfusionMatrixDisplay.from_estimator(gs13, clean_test_total, y_test, cmap='Reds');\n",
    "# plt.title('Confusion Matrix for the Random Forest Cvec Predictions',fontsize=16, loc='center');\n",
    "\n",
    "# print(find_cm(y_test, preds))"
   ]
  },
  {
   "cell_type": "code",
   "execution_count": 185,
   "id": "05498455-6088-43ca-9936-3078c90ab1d1",
   "metadata": {},
   "outputs": [],
   "source": [
    "# # Calculate Sensitivity\n",
    "# print(f\"Sensitivity | {round(tp13/(tp13+fn13),3)}\")\n",
    "# # Calculate the Specificity\n",
    "# print(f\"Specificity | {round(tn13/(tn13+fp13),3)}\")\n",
    "# # Calculate Accuracy\n",
    "# print(f\"Accuracy | {round((tp13+tn13)/(tp13+fp13+tn13+fn13),3)}\")\n",
    "# # Calculate Precision\n",
    "# print(f\"Precision | {round(tp13/(tp13+fp13),3)}\")\n",
    "# # Calculate Miscalculation Rate\n",
    "# print(f\"Miscalculation Rate | {round((fp13+fn13)/(tp13+fp13+tn13+fn13),3)}\")"
   ]
  },
  {
   "cell_type": "code",
   "execution_count": 186,
   "id": "d55f67d0-3d95-4c50-a369-6cfd7a995ebe",
   "metadata": {},
   "outputs": [],
   "source": [
    "# # Get predictions from optimal RF model\n",
    "# preds = gs14.predict(clean_test_total)\n",
    "# # Save confusion matrix values\n",
    "# tn14, fp14, fn14, tp14 = confusion_matrix(y_test, preds).ravel()\n",
    "\n",
    "# # Generate values of confusion matrix for reference\n",
    "# def find_cm(y_test, preds):\n",
    "#     tn, fp, fn, tp = confusion_matrix(y_test, preds).ravel()\n",
    "    \n",
    "#     return f\"TN: {tn}\\nFP: {fp}\\nFN: {fn}\\nTP: {tp}\" \n",
    "    \n",
    "# # View confusion matrix\n",
    "# ConfusionMatrixDisplay.from_estimator(gs14, clean_test_total, y_test, cmap='Reds');\n",
    "# plt.title('Confusion Matrix for the Random Forest TVec Predictions',fontsize=16, loc='center');\n",
    "\n",
    "# print(find_cm(y_test, preds))"
   ]
  },
  {
   "cell_type": "code",
   "execution_count": 187,
   "id": "fe5622b2-196d-42eb-8c05-42559b323872",
   "metadata": {},
   "outputs": [],
   "source": [
    "# # Calculate Sensitivity\n",
    "# print(f\"Sensitivity | {round(tp14/(tp14+fn14),3)}\")\n",
    "# # Calculate the Specificity\n",
    "# print(f\"Specificity | {round(tn14/(tn14+fp14),3)}\")\n",
    "# # Calculate Accuracy\n",
    "# print(f\"Accuracy | {round((tp14+tn14)/(tp14+fp14+tn14+fn14),3)}\")\n",
    "# # Calculate Precision\n",
    "# print(f\"Precision | {round(tp14/(tp14+fp14),3)}\")\n",
    "# # Calculate Miscalculation Rate\n",
    "# print(f\"Miscalculation Rate | {round((fp14+fn14)/(tp14+fp14+tn14+fn14),3)}\")"
   ]
  },
  {
   "cell_type": "code",
   "execution_count": 188,
   "id": "dad09b43-5fcb-4454-bd9b-43ca8e809360",
   "metadata": {},
   "outputs": [],
   "source": [
    "# # Combine predictions with the original DataFrame\n",
    "# df_test_outcomes = pd.DataFrame({'X_test': clean_test_total, 'y_test': y_test, 'Predictions_RandomForest_CVec': preds})\n",
    "\n",
    "\n",
    "# # Calculate confusion matrix\n",
    "# conf_matrix = pd.crosstab(df_test_outcomes['y_test'], df_test_outcomes['Predictions_RandomForest_CVec'], rownames=['Actual'], colnames=['Predicted'])\n",
    "\n",
    "# # Extract values from the confusion matrix\n",
    "# true_negatives = conf_matrix[0][0]\n",
    "# false_positives = conf_matrix[0][1]\n",
    "# false_negatives = conf_matrix[1][0]\n",
    "# true_positives = conf_matrix[1][1]\n",
    "\n",
    "# # Display the confusion matrix\n",
    "# print(\"Confusion Matrix:\")\n",
    "# print(conf_matrix)\n",
    "\n",
    "# # Create lists for false positives and false negatives\n",
    "# false_positives_list = df_test_outcomes[(df_test_outcomes['y_test'] == 0) & (df_test_outcomes['Predictions_RandomForest_CVec'] == 1)]['X_test'].tolist()\n",
    "# false_negatives_list = df_test_outcomes[(df_test_outcomes['y_test'] == 1) & (df_test_outcomes['Predictions_RandomForest_CVec'] == 0)]['X_test'].tolist()\n"
   ]
  },
  {
   "cell_type": "code",
   "execution_count": 189,
   "id": "4b0fc338-1f15-4810-937c-4f8d4a64ab6d",
   "metadata": {},
   "outputs": [],
   "source": [
    "# # Get most common words from false positives and false negatives lists\n",
    "# top_words_false_positives = get_most_common_words(false_positives_list)\n",
    "# top_words_false_negatives = get_most_common_words(false_negatives_list)\n",
    "\n",
    "# # Combine the lists of most common words\n",
    "# common_stopwords = list(top_words_false_positives + top_words_false_negatives)\n",
    "\n",
    "# # Display the most common words\n",
    "# print(\"Most common words in False Positives:\")\n",
    "# print(top_words_false_positives)\n",
    "\n",
    "# print(\"\\nMost common words in False Negatives:\")\n",
    "# print(top_words_false_negatives)\n",
    "\n",
    "# print(\"\\nCombined stopwords for CountVectorizer:\")\n",
    "# print(common_stopwords)"
   ]
  },
  {
   "cell_type": "code",
   "execution_count": 190,
   "id": "fb15de66-c326-4e31-8283-f686a108cc8c",
   "metadata": {},
   "outputs": [],
   "source": [
    "# # Pipeline with CountVectorizer and RandomForest\n",
    "# rf_pipe1_a = Pipeline([\n",
    "#     ('cvec', CountVectorizer(stop_words=common_stopwords)),\n",
    "#     ('rf', RandomForestClassifier())\n",
    "# ])\n",
    "\n",
    "# # Pipeline with TfidfVectorizer and RandomForest\n",
    "# rf_pipe2_a = Pipeline([\n",
    "#     ('tvec', TfidfVectorizer(stop_words=common_stopwords)),\n",
    "#     ('rf', RandomForestClassifier())\n",
    "# ])\n",
    "\n",
    "# # Parameter grids for RandomForest\n",
    "# rf_params1_a = {\n",
    "#     'cvec__max_features': list(np.arange(5000, 10000, 1000)),\n",
    "#     'cvec__ngram_range': [(1, 1), (1, 2)],\n",
    "#     'cvec__min_df': [0.00005, 0.0001],\n",
    "#     'cvec__max_df': [0.6, 0.65, 0.7],\n",
    "#     'rf__n_estimators': [10, 50, 100],\n",
    "#     'rf__max_depth': [None, 10, 20],\n",
    "#     'rf__min_samples_split': [2, 5, 10],\n",
    "# }\n",
    "\n",
    "# rf_params2_a = {\n",
    "#     'tvec__max_features': list(np.arange(5000, 10000, 1000)),\n",
    "#     'tvec__ngram_range': [(1, 1), (1, 2)],\n",
    "#     'tvec__min_df': [0.00005, 0.0001],\n",
    "#     'tvec__max_df': [0.6, 0.65, 0.7],\n",
    "#     'rf__n_estimators': [10, 50, 100],\n",
    "#     'rf__max_depth': [None, 10, 20],\n",
    "#     'rf__min_samples_split': [2, 5, 10],\n",
    "# }\n",
    "\n",
    "# # Instantiate GridSearchCV for RandomForest\n",
    "# gs_rf1_a = GridSearchCV(rf_pipe1_a,\n",
    "#                         param_grid=rf_params1_a,\n",
    "#                         cv=5,\n",
    "#                         n_jobs=-1,\n",
    "#                         scoring=custom_scorer)\n",
    "\n",
    "# gs_rf2_a = GridSearchCV(rf_pipe2_a,\n",
    "#                         param_grid=rf_params2_a,\n",
    "#                         cv=5,\n",
    "#                         n_jobs=-1,\n",
    "#                         scoring=custom_scorer)\n",
    "\n",
    "# # Measure the time taken for the parameter search\n",
    "# start_time = time.time()\n",
    "# gs_rf1_a.fit(clean_train_total, y_train)\n",
    "# end_time = time.time()\n",
    "# print(f\"Time taken for GridSearchCV with RandomForest and CountVectorizer: {end_time - start_time:.2f} seconds\")\n",
    "\n",
    "# start_time = time.time()\n",
    "# gs_rf2_a.fit(clean_train_total, y_train)\n",
    "# end_time = time.time()\n",
    "# print(f\"Time taken for GridSearchCV with RandomForest and TfidfVectorizer: {end_time - start_time:.2f} seconds\")"
   ]
  },
  {
   "cell_type": "code",
   "execution_count": 191,
   "id": "3ed93d04-18b2-4823-99f4-d42f62d1af87",
   "metadata": {},
   "outputs": [],
   "source": [
    "# gs_rf1_a.best_params_"
   ]
  },
  {
   "cell_type": "code",
   "execution_count": 192,
   "id": "ad982ee1-90e4-4505-b911-1e35c8612909",
   "metadata": {},
   "outputs": [],
   "source": [
    "# gs_rf2_a.best_params_"
   ]
  },
  {
   "cell_type": "code",
   "execution_count": 193,
   "id": "45d3a497-b7e8-4a66-9568-d0209023fac7",
   "metadata": {},
   "outputs": [],
   "source": [
    "# print(f\"Train Accuracy Score CVec Random Forest Stopwords| {round(gs_rf1_a.score(clean_train_total, y_train),3)}\")\n",
    "# print(f\"Test Accuracy Score CVec Random Forest Stopwords| {round(gs_rf1_a.score(clean_test_total, y_test),3)}\")"
   ]
  },
  {
   "cell_type": "code",
   "execution_count": 194,
   "id": "9413ba70-1045-49d1-95e6-b6b35b88db2e",
   "metadata": {},
   "outputs": [],
   "source": [
    "# print(f\"Train Accuracy Score TVec Random Forest Stopwords| {round(gs_rf2_a.score(clean_train_total, y_train),3)}\")\n",
    "# print(f\"Test Accuracy Score TVec Random Forest Stopwords| {round(gs_rf2_a.score(clean_test_total, y_test),3)}\")"
   ]
  },
  {
   "cell_type": "code",
   "execution_count": 195,
   "id": "54e2718c-5b1c-4f8b-86f8-74200012d5a1",
   "metadata": {},
   "outputs": [],
   "source": [
    "# # Get predictions from optimal RF model\n",
    "# preds_rf1_a = gs_rf1_a.predict(clean_test_total)\n",
    "# # Save confusion matrix values\n",
    "# tn_rf1_a, fp_rf1_a, fn_rf1_a, tp_rf1_a = confusion_matrix(y_test, preds).ravel()\n",
    "\n",
    "# # Generate values of confusion matrix for reference\n",
    "# def find_cm(y_test, preds):\n",
    "#     tn, fp, fn, tp = confusion_matrix(y_test, preds).ravel()\n",
    "    \n",
    "#     return f\"TN: {tn}\\nFP: {fp}\\nFN: {fn}\\nTP: {tp}\" \n",
    "    \n",
    "# # View confusion matrix\n",
    "# ConfusionMatrixDisplay.from_estimator(gs_rf1_a, clean_test_total, y_test, cmap='Reds');\n",
    "# plt.title('Confusion Matrix for the Random Forest TVec Predictions',fontsize=16, loc='center');\n",
    "\n",
    "# print(find_cm(y_test, preds_rf1_a))"
   ]
  },
  {
   "cell_type": "code",
   "execution_count": 196,
   "id": "5b4c5529-840e-42fd-98be-d2c31d35edaf",
   "metadata": {},
   "outputs": [],
   "source": [
    "# # Calculate Sensitivity\n",
    "# print(f\"Sensitivity | {round(tp_rf1_a/(tp_rf1_a+fn_rf1_a),3)}\")\n",
    "# # Calculate the Specificity\n",
    "# print(f\"Specificity | {round(tn_rf1_a/(tn_rf1_a+fp_rf1_a),3)}\")\n",
    "# # Calculate Accuracy\n",
    "# print(f\"Accuracy | {round((tp_rf1_a+tn_rf1_a)/(tp_rf1_a+fp_rf1_a+tn_rf1_a+fn_rf1_a),3)}\")\n",
    "# # Calculate Precision\n",
    "# print(f\"Precision | {round(tp_rf1_a/(tp_rf1_a+fp_rf1_a),3)}\")\n",
    "# # Calculate Miscalculation Rate\n",
    "# print(f\"Miscalculation Rate | {round((fp_rf1_a+fn_rf1_a)/(tp_rf1_a+fp_rf1_a+tn_rf1_a+fn_rf1_a),3)}\")"
   ]
  },
  {
   "cell_type": "code",
   "execution_count": 197,
   "id": "b33b02b9-7e1d-48ca-9304-c75ac9e9e2c8",
   "metadata": {},
   "outputs": [],
   "source": [
    "# # Get predictions from optimal RF model\n",
    "# preds_rf2_a = gs_rf2_a.predict(clean_test_total)\n",
    "# # Save confusion matrix values\n",
    "# tn_rf2_a, fp_rf2_a, fn_rf2_a, tp_rf2_a = confusion_matrix(y_test, preds).ravel()\n",
    "\n",
    "# # Generate values of confusion matrix for reference\n",
    "# def find_cm(y_test, preds):\n",
    "#     tn, fp, fn, tp = confusion_matrix(y_test, preds).ravel()\n",
    "    \n",
    "#     return f\"TN: {tn}\\nFP: {fp}\\nFN: {fn}\\nTP: {tp}\" \n",
    "    \n",
    "# # View confusion matrix\n",
    "# ConfusionMatrixDisplay.from_estimator(gs_rf2_a, clean_test_total, y_test, cmap='Reds');\n",
    "# plt.title('Confusion Matrix for the Random Forest TVec Predictions',fontsize=16, loc='center');\n",
    "\n",
    "# print(find_cm(y_test, preds_rf2_a))"
   ]
  },
  {
   "cell_type": "code",
   "execution_count": 198,
   "id": "32dac209-341c-4e57-9994-5a5fc8a635ae",
   "metadata": {},
   "outputs": [],
   "source": [
    "# # Calculate Sensitivity\n",
    "# print(f\"Sensitivity | {round(tp_rf2_a/(tp_rf2_a+fn_rf2_a),3)}\")\n",
    "# # Calculate the Specificity\n",
    "# print(f\"Specificity | {round(tn_rf2_a/(tn_rf2_a+fp_rf2_a),3)}\")\n",
    "# # Calculate Accuracy\n",
    "# print(f\"Accuracy | {round((tp_rf2_a+tn_rf2_a)/(tp_rf2_a+fp_rf2_a+tn_rf2_a+fn_rf2_a),3)}\")\n",
    "# # Calculate Precision\n",
    "# print(f\"Precision | {round(tp_rf2_a/(tp_rf2_a+fp_rf2_a),3)}\")\n",
    "# # Calculate Miscalculation Rate\n",
    "# print(f\"Miscalculation Rate | {round((fp_rf2_a+fn_rf2_a)/(tp_rf2_a+fp_rf2_a+tn_rf2_a+fn_rf2_a),3)}\")"
   ]
  },
  {
   "cell_type": "code",
   "execution_count": 199,
   "id": "2fc7373e-8619-46f0-b73e-457ebc73f276",
   "metadata": {},
   "outputs": [],
   "source": [
    "# print(f1_score(y_test, preds_rf2_a))\n"
   ]
  },
  {
   "cell_type": "markdown",
   "id": "4d0c73dc-f71a-422d-954d-2bba211a1d3a",
   "metadata": {},
   "source": [
    "## Support Vector Machine - Linear SVC\n",
    "##### Commented out, computationally expensive found on previous run"
   ]
  },
  {
   "cell_type": "code",
   "execution_count": 200,
   "id": "538d74f7-1ab1-468f-8b94-203d76153d39",
   "metadata": {},
   "outputs": [],
   "source": [
    "# pipe17 = Pipeline([\n",
    "#     ('cvec', CountVectorizer()),\n",
    "#     # ('ss', StandardScaler(with_mean=False)),\n",
    "#     ('svc', LinearSVC())\n",
    "# ])\n",
    "\n",
    "# pipe18 = Pipeline([\n",
    "#     ('tvec', TfidfVectorizer()),\n",
    "#     # ('ss', StandardScaler(with_mean=False)),\n",
    "#     ('svc',LinearSVC())\n",
    "# ])\n",
    "\n",
    "# pipe_params17 = {'cvec__max_features': list(np.arange(5000, 10000, 1000)),\n",
    "#                'cvec__ngram_range': [(1,1), (1,2)],\n",
    "#                 'cvec__min_df': [0.00005, 0.0001],\n",
    "#                 'cvec__max_df': [0.6,0.65,0.7],\n",
    "#                 'svc__C': [0.1, 1, 10]\n",
    "#               }\n",
    "\n",
    "# pipe_params18 = {'tvec__max_features' : list(np.arange(5000, 10000, 1000)),\n",
    "#                'tvec__ngram_range' : [(1, 1), (1, 2)],\n",
    "#                 'tvec__min_df': [0.00005, 0.0001],\n",
    "#                 'tvec__max_df': [0.6,0.65,0.7],\n",
    "#                  'svc__C': [0.1, 1, 10]\n",
    "#               }\n",
    "\n",
    "# # Instantiate GridSearchCV.\n",
    "\n",
    "# gs17 = GridSearchCV(pipe17, # what object are we optimizing?\n",
    "#                   param_grid=pipe_params17, # what parameters values are we searching?\n",
    "#                   cv=5,\n",
    "#                   n_jobs=-1) # 5-fold cross-validation.\n",
    "\n",
    "# gs18 = GridSearchCV(pipe18, # what object are we optimizing?\n",
    "#                   param_grid=pipe_params18, # what parameters values are we searching?\n",
    "#                   cv=5, \n",
    "#                   n_jobs=-1) # 5-fold cross-validation.\n",
    "\n",
    "\n",
    "\n",
    "# # Start the timer\n",
    "# start_time = time.time()\n",
    "\n",
    "# gs17.fit(clean_train_total, y_train)\n",
    "\n",
    "# # Stop the timer\n",
    "# end_time = time.time()\n",
    "\n",
    "# # Calculate the elapsed time\n",
    "# elapsed_time = end_time - start_time\n",
    "\n",
    "# # Print the computation time\n",
    "# print(f\"Computation Time Cvec: {elapsed_time:.4f} seconds\")"
   ]
  },
  {
   "cell_type": "code",
   "execution_count": 201,
   "id": "c19d6b78-4d1d-4337-a0ba-ba8d38540dd1",
   "metadata": {},
   "outputs": [],
   "source": [
    "# gs17.best_params_"
   ]
  },
  {
   "cell_type": "code",
   "execution_count": 202,
   "id": "f8afe093-9534-45c9-a3ff-3efc3163ad00",
   "metadata": {},
   "outputs": [],
   "source": [
    "# # Start the timer\n",
    "# start_time = time.time()\n",
    "\n",
    "# gs18.fit(clean_train_total, y_train)\n",
    "\n",
    "# # Stop the timer\n",
    "# end_time = time.time()\n",
    "\n",
    "# # Calculate the elapsed time\n",
    "# elapsed_time = end_time - start_time\n",
    "\n",
    "# # Print the computation time\n",
    "# print(f\"Computation Time Tvec: {elapsed_time:.4f} seconds\")"
   ]
  },
  {
   "cell_type": "code",
   "execution_count": 203,
   "id": "be368767-7aa5-4d35-966e-73122aef9f09",
   "metadata": {},
   "outputs": [],
   "source": [
    "# gs18.best_params_"
   ]
  },
  {
   "cell_type": "code",
   "execution_count": 204,
   "id": "a39d1d72",
   "metadata": {},
   "outputs": [],
   "source": [
    "\n",
    "pipe_chosen = Pipeline([\n",
    "    ('tvec', TfidfVectorizer()),\n",
    "    # ('ss', StandardScaler(with_mean=False)),\n",
    "    ('svc',SVC())\n",
    "])\n",
    "\n",
    "pipe_grid = {'tvec__max_features' : [6000],\n",
    "               'tvec__ngram_range' : [(1, 2)],\n",
    "                'tvec__min_df': [0.0001],\n",
    "                'tvec__max_df': [0.6],\n",
    "                 'svc__C': [10]\n",
    "              }\n",
    "\n",
    "gs_chosen = GridSearchCV(pipe_chosen, # what object are we optimizing?\n",
    "                  param_grid=pipe_grid, # what parameters values are we searching?\n",
    "                  cv=5, \n",
    "                  n_jobs=-1) # 5-fold cross-validation.\n"
   ]
  },
  {
   "cell_type": "code",
   "execution_count": 205,
   "id": "0d517612",
   "metadata": {},
   "outputs": [],
   "source": [
    "# Start the timer\n",
    "start_time = time.time()\n",
    "\n",
    "gs_chosen.fit(clean_train_total, y_train)\n",
    "\n",
    "# Stop the timer\n",
    "end_time = time.time()"
   ]
  },
  {
   "cell_type": "code",
   "execution_count": 206,
   "id": "9ec7bcf4",
   "metadata": {},
   "outputs": [
    {
     "data": {
      "text/plain": [
       "{'svc__C': 10,\n",
       " 'tvec__max_df': 0.6,\n",
       " 'tvec__max_features': 6000,\n",
       " 'tvec__min_df': 0.0001,\n",
       " 'tvec__ngram_range': (1, 2)}"
      ]
     },
     "execution_count": 206,
     "metadata": {},
     "output_type": "execute_result"
    }
   ],
   "source": [
    "gs_chosen.best_params_"
   ]
  },
  {
   "cell_type": "code",
   "execution_count": 207,
   "id": "07e8ee0e",
   "metadata": {},
   "outputs": [
    {
     "name": "stdout",
     "output_type": "stream",
     "text": [
      "Train Accuracy Score TVec SVC | 1.0\n",
      "Test Accuracy Score TVec SVC | 0.88064\n"
     ]
    }
   ],
   "source": [
    "print(f\"Train Accuracy Score TVec SVC | {round(gs_chosen.score(clean_train_total, y_train),5)}\")\n",
    "print(f\"Test Accuracy Score TVec SVC | {round(gs_chosen.score(clean_test_total, y_test),5)}\")"
   ]
  },
  {
   "cell_type": "code",
   "execution_count": 208,
   "id": "54cdeea9",
   "metadata": {},
   "outputs": [
    {
     "name": "stdout",
     "output_type": "stream",
     "text": [
      "TN: 3707\n",
      "FP: 202\n",
      "FN: 407\n",
      "TP: 786\n"
     ]
    },
    {
     "data": {
      "image/png": "[encoded data removed]",
      "text/plain": [
       "<Figure size 640x480 with 2 Axes>"
      ]
     },
     "metadata": {},
     "output_type": "display_data"
    }
   ],
   "source": [
    "# Get predictions from optimal SVC model\n",
    "preds = gs_chosen.predict(clean_test_total)\n",
    "# Save confusion matrix values\n",
    "tn17, fp17, fn17, tp17 = confusion_matrix(y_test, preds).ravel()\n",
    "\n",
    "# Generate values of confusion matrix for reference\n",
    "def find_cm(y_test, preds):\n",
    "    tn, fp, fn, tp = confusion_matrix(y_test, preds).ravel()\n",
    "    \n",
    "    return f\"TN: {tn}\\nFP: {fp}\\nFN: {fn}\\nTP: {tp}\" \n",
    "    \n",
    "# View confusion matrix\n",
    "ConfusionMatrixDisplay.from_estimator(gs_chosen, clean_test_total, y_test, cmap='Greens');\n",
    "plt.title('Confusion Matrix for the SVC TVec Predictions',fontsize=16, loc='center');\n",
    "\n",
    "print(find_cm(y_test, preds))"
   ]
  },
  {
   "cell_type": "code",
   "execution_count": 209,
   "id": "48810c6f",
   "metadata": {},
   "outputs": [
    {
     "name": "stdout",
     "output_type": "stream",
     "text": [
      "Sensitivity | 0.659\n",
      "Specificity | 0.948\n",
      "Accuracy | 0.881\n",
      "Precision | 0.796\n",
      "Miscalculation Rate | 0.119\n"
     ]
    }
   ],
   "source": [
    "# Calculate Sensitivity\n",
    "print(f\"Sensitivity | {round(tp17/(tp17+fn17),3)}\")\n",
    "# Calculate the Specificity\n",
    "print(f\"Specificity | {round(tn17/(tn17+fp17),3)}\")\n",
    "# Calculate Accuracy\n",
    "print(f\"Accuracy | {round((tp17+tn17)/(tp17+fp17+tn17+fn17),3)}\")\n",
    "# Calculate Precision\n",
    "print(f\"Precision | {round(tp17/(tp17+fp17),3)}\")\n",
    "# Calculate Miscalculation Rate\n",
    "print(f\"Miscalculation Rate | {round((fp17+fn17)/(tp17+fp17+tn17+fn17),3)}\")"
   ]
  },
  {
   "cell_type": "code",
   "execution_count": 210,
   "id": "582e17fc",
   "metadata": {},
   "outputs": [
    {
     "name": "stdout",
     "output_type": "stream",
     "text": [
      "F1 Score | 0.721\n"
     ]
    }
   ],
   "source": [
    "print(f\"F1 Score | {round(f1_score(y_test, preds),3)}\")"
   ]
  },
  {
   "cell_type": "markdown",
   "id": "f6a3a80e",
   "metadata": {},
   "source": [
    "### Do not GridSearch For Pickling for Streamlit App"
   ]
  },
  {
   "cell_type": "code",
   "execution_count": 211,
   "id": "c19135e6",
   "metadata": {},
   "outputs": [],
   "source": [
    "tvec_chosen = TfidfVectorizer(max_features=6000, ngram_range = (1, 2), min_df=0.0001, max_df=0.6)\n"
   ]
  },
  {
   "cell_type": "code",
   "execution_count": 212,
   "id": "fe84b481",
   "metadata": {},
   "outputs": [],
   "source": [
    "X_train_tvec = tvec_chosen.fit_transform(clean_train_total)\n",
    "X_test_tvec = tvec_chosen.transform(clean_test_total)"
   ]
  },
  {
   "cell_type": "code",
   "execution_count": 213,
   "id": "f39750a7",
   "metadata": {},
   "outputs": [],
   "source": [
    "svc_chosen = SVC(C = 10)"
   ]
  },
  {
   "cell_type": "code",
   "execution_count": 214,
   "id": "c7767b9f",
   "metadata": {},
   "outputs": [
    {
     "data": {
      "text/html": [
       "<style>#sk-container-id-15 {color: black;}#sk-container-id-15 pre{padding: 0;}#sk-container-id-15 div.sk-toggleable {background-color: white;}#sk-container-id-15 label.sk-toggleable__label {cursor: pointer;display: block;width: 100%;margin-bottom: 0;padding: 0.3em;box-sizing: border-box;text-align: center;}#sk-container-id-15 label.sk-toggleable__label-arrow:before {content: \"▸\";float: left;margin-right: 0.25em;color: #696969;}#sk-container-id-15 label.sk-toggleable__label-arrow:hover:before {color: black;}#sk-container-id-15 div.sk-estimator:hover label.sk-toggleable__label-arrow:before {color: black;}#sk-container-id-15 div.sk-toggleable__content {max-height: 0;max-width: 0;overflow: hidden;text-align: left;background-color: #f0f8ff;}#sk-container-id-15 div.sk-toggleable__content pre {margin: 0.2em;color: black;border-radius: 0.25em;background-color: #f0f8ff;}#sk-container-id-15 input.sk-toggleable__control:checked~div.sk-toggleable__content {max-height: 200px;max-width: 100%;overflow: auto;}#sk-container-id-15 input.sk-toggleable__control:checked~label.sk-toggleable__label-arrow:before {content: \"▾\";}#sk-container-id-15 div.sk-estimator input.sk-toggleable__control:checked~label.sk-toggleable__label {background-color: #d4ebff;}#sk-container-id-15 div.sk-label input.sk-toggleable__control:checked~label.sk-toggleable__label {background-color: #d4ebff;}#sk-container-id-15 input.sk-hidden--visually {border: 0;clip: rect(1px 1px 1px 1px);clip: rect(1px, 1px, 1px, 1px);height: 1px;margin: -1px;overflow: hidden;padding: 0;position: absolute;width: 1px;}#sk-container-id-15 div.sk-estimator {font-family: monospace;background-color: #f0f8ff;border: 1px dotted black;border-radius: 0.25em;box-sizing: border-box;margin-bottom: 0.5em;}#sk-container-id-15 div.sk-estimator:hover {background-color: #d4ebff;}#sk-container-id-15 div.sk-parallel-item::after {content: \"\";width: 100%;border-bottom: 1px solid gray;flex-grow: 1;}#sk-container-id-15 div.sk-label:hover label.sk-toggleable__label {background-color: #d4ebff;}#sk-container-id-15 div.sk-serial::before {content: \"\";position: absolute;border-left: 1px solid gray;box-sizing: border-box;top: 0;bottom: 0;left: 50%;z-index: 0;}#sk-container-id-15 div.sk-serial {display: flex;flex-direction: column;align-items: center;background-color: white;padding-right: 0.2em;padding-left: 0.2em;position: relative;}#sk-container-id-15 div.sk-item {position: relative;z-index: 1;}#sk-container-id-15 div.sk-parallel {display: flex;align-items: stretch;justify-content: center;background-color: white;position: relative;}#sk-container-id-15 div.sk-item::before, #sk-container-id-15 div.sk-parallel-item::before {content: \"\";position: absolute;border-left: 1px solid gray;box-sizing: border-box;top: 0;bottom: 0;left: 50%;z-index: -1;}#sk-container-id-15 div.sk-parallel-item {display: flex;flex-direction: column;z-index: 1;position: relative;background-color: white;}#sk-container-id-15 div.sk-parallel-item:first-child::after {align-self: flex-end;width: 50%;}#sk-container-id-15 div.sk-parallel-item:last-child::after {align-self: flex-start;width: 50%;}#sk-container-id-15 div.sk-parallel-item:only-child::after {width: 0;}#sk-container-id-15 div.sk-dashed-wrapped {border: 1px dashed gray;margin: 0 0.4em 0.5em 0.4em;box-sizing: border-box;padding-bottom: 0.4em;background-color: white;}#sk-container-id-15 div.sk-label label {font-family: monospace;font-weight: bold;display: inline-block;line-height: 1.2em;}#sk-container-id-15 div.sk-label-container {text-align: center;}#sk-container-id-15 div.sk-container {/* jupyter's `normalize.less` sets `[hidden] { display: none; }` but bootstrap.min.css set `[hidden] { display: none !important; }` so we also need the `!important` here to be able to override the default hidden behavior on the sphinx rendered scikit-learn.org. See: https://github.com/scikit-learn/scikit-learn/issues/21755 */display: inline-block !important;position: relative;}#sk-container-id-15 div.sk-text-repr-fallback {display: none;}</style><div id=\"sk-container-id-15\" class=\"sk-top-container\"><div class=\"sk-text-repr-fallback\"><pre>SVC(C=10)</pre><b>In a Jupyter environment, please rerun this cell to show the HTML representation or trust the notebook. <br />On GitHub, the HTML representation is unable to render, please try loading this page with nbviewer.org.</b></div><div class=\"sk-container\" hidden><div class=\"sk-item\"><div class=\"sk-estimator sk-toggleable\"><input class=\"sk-toggleable__control sk-hidden--visually\" id=\"sk-estimator-id-18\" type=\"checkbox\" checked><label for=\"sk-estimator-id-18\" class=\"sk-toggleable__label sk-toggleable__label-arrow\">SVC</label><div class=\"sk-toggleable__content\"><pre>SVC(C=10)</pre></div></div></div></div></div>"
      ],
      "text/plain": [
       "SVC(C=10)"
      ]
     },
     "execution_count": 214,
     "metadata": {},
     "output_type": "execute_result"
    }
   ],
   "source": [
    "svc_chosen.fit(X_train_tvec, y_train)\n"
   ]
  },
  {
   "cell_type": "code",
   "execution_count": 215,
   "id": "3ad99ad1",
   "metadata": {},
   "outputs": [
    {
     "name": "stdout",
     "output_type": "stream",
     "text": [
      "Train Accuracy Score TVec SVC | 1.0\n",
      "Test Accuracy Score TVec SVC | 0.88064\n"
     ]
    }
   ],
   "source": [
    "print(f\"Train Accuracy Score TVec SVC | {round(svc_chosen.score(X_train_tvec, y_train),5)}\")\n",
    "print(f\"Test Accuracy Score TVec SVC | {round(svc_chosen.score(X_test_tvec, y_test),5)}\")"
   ]
  },
  {
   "cell_type": "code",
   "execution_count": 216,
   "id": "43d28f07",
   "metadata": {},
   "outputs": [
    {
     "name": "stdout",
     "output_type": "stream",
     "text": [
      "TN: 3707\n",
      "FP: 202\n",
      "FN: 407\n",
      "TP: 786\n"
     ]
    },
    {
     "data": {
      "image/png": "[encoded data removed]",
      "text/plain": [
       "<Figure size 640x480 with 2 Axes>"
      ]
     },
     "metadata": {},
     "output_type": "display_data"
    }
   ],
   "source": [
    "# Get predictions from optimal SVC model\n",
    "preds = svc_chosen.predict(X_test_tvec)\n",
    "# Save confusion matrix values\n",
    "tn17, fp17, fn17, tp17 = confusion_matrix(y_test, preds).ravel()\n",
    "\n",
    "# Generate values of confusion matrix for reference\n",
    "def find_cm(y_test, preds):\n",
    "    tn, fp, fn, tp = confusion_matrix(y_test, preds).ravel()\n",
    "    \n",
    "    return f\"TN: {tn}\\nFP: {fp}\\nFN: {fn}\\nTP: {tp}\" \n",
    "    \n",
    "# View confusion matrix\n",
    "ConfusionMatrixDisplay.from_estimator(svc_chosen, X_test_tvec, y_test, cmap='Greens');\n",
    "plt.title('Confusion Matrix for the SVC TVec Predictions',fontsize=16, loc='center');\n",
    "\n",
    "print(find_cm(y_test, preds))"
   ]
  },
  {
   "cell_type": "code",
   "execution_count": 217,
   "id": "af80a40d",
   "metadata": {},
   "outputs": [
    {
     "name": "stdout",
     "output_type": "stream",
     "text": [
      "Sensitivity | 0.659\n",
      "Specificity | 0.948\n",
      "Accuracy | 0.881\n",
      "Precision | 0.796\n",
      "Miscalculation Rate | 0.119\n"
     ]
    }
   ],
   "source": [
    "# Calculate Sensitivity\n",
    "print(f\"Sensitivity | {round(tp17/(tp17+fn17),3)}\")\n",
    "# Calculate the Specificity\n",
    "print(f\"Specificity | {round(tn17/(tn17+fp17),3)}\")\n",
    "# Calculate Accuracy\n",
    "print(f\"Accuracy | {round((tp17+tn17)/(tp17+fp17+tn17+fn17),3)}\")\n",
    "# Calculate Precision\n",
    "print(f\"Precision | {round(tp17/(tp17+fp17),3)}\")\n",
    "# Calculate Miscalculation Rate\n",
    "print(f\"Miscalculation Rate | {round((fp17+fn17)/(tp17+fp17+tn17+fn17),3)}\")"
   ]
  },
  {
   "cell_type": "code",
   "execution_count": 218,
   "id": "8943275a",
   "metadata": {},
   "outputs": [
    {
     "name": "stdout",
     "output_type": "stream",
     "text": [
      "F1 Score | 0.721\n"
     ]
    }
   ],
   "source": [
    "print(f\"F1 Score | {round(f1_score(y_test, preds),3)}\")"
   ]
  },
  {
   "cell_type": "markdown",
   "id": "a99cf151",
   "metadata": {},
   "source": [
    "#### We confirm this works and now pickle the non-gridsearch model for Streamlit"
   ]
  },
  {
   "cell_type": "code",
   "execution_count": 219,
   "id": "cda7abe2",
   "metadata": {},
   "outputs": [],
   "source": [
    "# Save the model using pickle\n",
    "model_filename = 'binary_classification_TVEC_nongrid.pkl'\n",
    "with open(model_filename, 'wb') as model_file:\n",
    "    pickle.dump(tvec_chosen, model_file)"
   ]
  },
  {
   "cell_type": "code",
   "execution_count": 220,
   "id": "3c24e9d9",
   "metadata": {},
   "outputs": [],
   "source": [
    "# Save the model using pickle\n",
    "model_filename = 'binary_classification_SVC_nongrid.pkl'\n",
    "with open(model_filename, 'wb') as model_file:\n",
    "    pickle.dump(svc_chosen, model_file)"
   ]
  },
  {
   "cell_type": "markdown",
   "id": "24931b4e",
   "metadata": {},
   "source": [
    "### Move to directory with streamlit script"
   ]
  },
  {
   "cell_type": "code",
   "execution_count": 221,
   "id": "e88866af-4688-4d44-8bf4-7e05a35b08aa",
   "metadata": {},
   "outputs": [],
   "source": [
    "# print(f\"Train Accuracy Score CVec SVC | {round(gs17.score(clean_train_total, y_train),5)}\")\n",
    "# print(f\"Test Accuracy Score CVec SVC | {round(gs17.score(clean_test_total, y_test),5)}\")"
   ]
  },
  {
   "cell_type": "code",
   "execution_count": 222,
   "id": "9b2186f5-cedd-429d-a348-c1127a7a5183",
   "metadata": {},
   "outputs": [],
   "source": [
    "# print(f\"Train Accuracy Score TVec SVC | {round(gs18.score(clean_train_total, y_train),5)}\")\n",
    "# print(f\"Test Accuracy Score TVec SVC | {round(gs18.score(clean_test_total, y_test),5)}\")"
   ]
  },
  {
   "cell_type": "code",
   "execution_count": 224,
   "id": "ec69b6cd-78e8-4888-824c-36a463e6e74e",
   "metadata": {},
   "outputs": [],
   "source": [
    "# # Get predictions from optimal KNN model\n",
    "# preds = gs17.predict(clean_test_total)\n",
    "# # Save confusion matrix values\n",
    "# tn17, fp17, fn17, tp17 = confusion_matrix(y_test, preds).ravel()\n",
    "\n",
    "# # Generate values of confusion matrix for reference\n",
    "# def find_cm(y_test, preds):\n",
    "#     tn, fp, fn, tp = confusion_matrix(y_test, preds).ravel()\n",
    "    \n",
    "#     return f\"TN: {tn}\\nFP: {fp}\\nFN: {fn}\\nTP: {tp}\" \n",
    "    \n",
    "# # View confusion matrix\n",
    "# ConfusionMatrixDisplay.from_estimator(gs17, clean_test_total, y_test, cmap='Reds');\n",
    "# plt.title('Confusion Matrix for the Linear SVC CVec Predictions',fontsize=16, loc='center');\n",
    "\n",
    "# print(find_cm(y_test, preds))"
   ]
  },
  {
   "cell_type": "code",
   "execution_count": 225,
   "id": "1d8d3255-e9a9-4ee1-ae3b-04bcc40ddae6",
   "metadata": {},
   "outputs": [],
   "source": [
    "# # Calculate Sensitivity\n",
    "# print(f\"Sensitivity | {round(tp17/(tp17+fn17),3)}\")\n",
    "# # Calculate the Specificity\n",
    "# print(f\"Specificity | {round(tn17/(tn17+fp17),3)}\")\n",
    "# # Calculate Accuracy\n",
    "# print(f\"Accuracy | {round((tp17+tn17)/(tp17+fp17+tn17+fn17),3)}\")\n",
    "# # Calculate Precision\n",
    "# print(f\"Precision | {round(tp17/(tp17+fp17),3)}\")\n",
    "# # Calculate Miscalculation Rate\n",
    "# print(f\"Miscalculation Rate | {round((fp17+fn17)/(tp17+fp17+tn17+fn17),3)}\")"
   ]
  },
  {
   "cell_type": "code",
   "execution_count": 226,
   "id": "e6054af0-61ba-4c20-8a7f-2c6cd634806c",
   "metadata": {},
   "outputs": [],
   "source": [
    "# # Get predictions from optimal KNN model\n",
    "# preds = gs18.predict(clean_test_total)\n",
    "# # Save confusion matrix values\n",
    "# tn18, fp18, fn18, tp18 = confusion_matrix(y_test, preds).ravel()\n",
    "\n",
    "# # Generate values of confusion matrix for reference\n",
    "# def find_cm(y_test, preds):\n",
    "#     tn, fp, fn, tp = confusion_matrix(y_test, preds).ravel()\n",
    "    \n",
    "#     return f\"TN: {tn}\\nFP: {fp}\\nFN: {fn}\\nTP: {tp}\" \n",
    "    \n",
    "# # View confusion matrix\n",
    "# ConfusionMatrixDisplay.from_estimator(gs18, clean_test_total, y_test, cmap='Reds');\n",
    "# plt.title('Confusion Matrix for the Linear SVC TVec Predictions',fontsize=16, loc='center');\n",
    "\n",
    "# print(find_cm(y_test, preds))"
   ]
  },
  {
   "cell_type": "code",
   "execution_count": 227,
   "id": "ca5cfb38-1523-4b36-8e7d-08347829c632",
   "metadata": {},
   "outputs": [],
   "source": [
    "# # Calculate Sensitivity\n",
    "# print(f\"Sensitivity | {round(tp18/(tp18+fn18),3)}\")\n",
    "# # Calculate the Specificity\n",
    "# print(f\"Specificity | {round(tn18/(tn18+fp18),3)}\")\n",
    "# # Calculate Accuracy\n",
    "# print(f\"Accuracy | {round((tp18+tn18)/(tp18+fp18+tn18+fn18),3)}\")\n",
    "# # Calculate Precision\n",
    "# print(f\"Precision | {round(tp18/(tp18+fp18),3)}\")\n",
    "# # Calculate Miscalculation Rate\n",
    "# print(f\"Miscalculation Rate | {round((fp18+fn18)/(tp18+fp18+tn18+fn18),3)}\")"
   ]
  },
  {
   "cell_type": "code",
   "execution_count": 228,
   "id": "b6ead1e7-595e-4a1c-a9de-d0f11d708598",
   "metadata": {},
   "outputs": [],
   "source": [
    "# print(f\"F1 Score | {round(f1_score(y_test, preds),3)}\")"
   ]
  },
  {
   "cell_type": "markdown",
   "id": "0188687b-43ba-4c69-b065-c49d7bb8064c",
   "metadata": {},
   "source": [
    "#### Optimizing the best performing bagging, forest, and ADA\n",
    "##### We do not run bagging and forest gridsearch as they are quite computationally expensive. Run ADA Only"
   ]
  },
  {
   "cell_type": "code",
   "execution_count": 229,
   "id": "be2893c6-bcff-4383-9b6c-5e08da01924f",
   "metadata": {},
   "outputs": [],
   "source": [
    "# pipe_bgc = Pipeline([\n",
    "#     ('cvec', CountVectorizer()),\n",
    "#     # ('ss', StandardScaler(with_mean=False)),\n",
    "#     ('bg',BaggingClassifier())\n",
    "# ])\n",
    "\n",
    "# pipe_bgt = Pipeline([\n",
    "#     ('tvec', TfidfVectorizer()),\n",
    "#     # ('ss', StandardScaler(with_mean=False)),\n",
    "#     ('bg',BaggingClassifier())\n",
    "# ])\n",
    "\n",
    "# pipe_params_bgc = {'cvec__max_features': list(np.arange(5000, 10000, 1000)),\n",
    "#                'cvec__ngram_range': [(1,1), (1,2)],\n",
    "#                 'cvec__min_df': [0.00005, 0.0001],\n",
    "#                 'cvec__max_df': [0.6,0.65,0.7],\n",
    "#                 'bg__n_estimators': [10, 15, 25],\n",
    "#                 'bg__max_samples': [0.5, 0.7, 1.0],\n",
    "#                 'bg__max_features': [0.5, 0.7, 1.0],\n",
    "#                 'bg__verbose': [1]\n",
    "                   \n",
    "#               }\n",
    "\n",
    "# pipe_params_bgt = {'tvec__max_features' : list(np.arange(5000, 10000, 1000)),\n",
    "#                'tvec__ngram_range' : [(1, 1), (1, 2)],\n",
    "#                 'tvec__min_df': [0.00005, 0.0001],\n",
    "#                 'tvec__max_df': [0.6,0.65,0.7],\n",
    "#                 'bg__n_estimators': [10, 15, 25],\n",
    "#                 'bg__max_samples': [0.5, 0.7, 1.0],\n",
    "#                 'bg__max_features': [0.5, 0.7, 1.0],\n",
    "#                 'bg__verbose': [1]\n",
    "#               }\n",
    "\n",
    "# # Instantiate GridSearchCV.\n",
    "\n",
    "# gs_bgc = GridSearchCV(pipe_bgc, # what object are we optimizing?\n",
    "#                   param_grid=pipe_params_bgc, # what parameters values are we searching?\n",
    "#                   cv=3,\n",
    "#                   n_jobs=-1) # 5-fold cross-validation.\n",
    "\n",
    "# gs_bgt = GridSearchCV(pipe_bgt, # what object are we optimizing?\n",
    "#                   param_grid=pipe_params_bgt, # what parameters values are we searching?\n",
    "#                   cv=3, \n",
    "#                   n_jobs=-1) # 5-fold cross-validation.\n",
    "\n",
    "# # Start the timer\n",
    "# start_time = time.time()\n",
    "\n",
    "# gs_bgc.fit(clean_train_total, y_train)\n",
    "\n",
    "# # Stop the timer\n",
    "# end_time = time.time()\n",
    "\n",
    "# # Calculate the elapsed time\n",
    "# elapsed_time = end_time - start_time\n",
    "\n",
    "# # Print the computation time\n",
    "# print(f\"Computation Time Cvec: {elapsed_time:.4f} seconds\")\n",
    "\n",
    "# # Start the timer\n",
    "# start_time = time.time()\n",
    "\n",
    "# gs_bgt.fit(clean_train_total, y_train)\n",
    "\n",
    "# # Stop the timer\n",
    "# end_time = time.time()\n",
    "\n",
    "# # Calculate the elapsed time\n",
    "# elapsed_time = end_time - start_time\n",
    "\n",
    "# # Print the computation time\n",
    "# print(f\"Computation Time Tvec: {elapsed_time:.4f} seconds\")\n"
   ]
  },
  {
   "cell_type": "code",
   "execution_count": 230,
   "id": "fb251bd6-1ee1-442c-8558-c0e15cdb1531",
   "metadata": {},
   "outputs": [
    {
     "name": "stdout",
     "output_type": "stream",
     "text": [
      "Computation Time Cvec: 2749.1719 seconds\n",
      "Computation Time Tvec: 4902.1197 seconds\n"
     ]
    }
   ],
   "source": [
    "\n",
    "pipe_adac = Pipeline([\n",
    "    ('cvec', CountVectorizer()),\n",
    "    # ('ss', StandardScaler(with_mean=False)),\n",
    "    ('ada', AdaBoostClassifier())\n",
    "])\n",
    "\n",
    "pipe_adat = Pipeline([\n",
    "    ('tvec', TfidfVectorizer()),\n",
    "    # ('ss', StandardScaler(with_mean=False)),\n",
    "    ('ada', AdaBoostClassifier())\n",
    "])\n",
    "\n",
    "pipe_params_adac = {'cvec__max_features': list(np.arange(5000, 10000, 1000)),\n",
    "               'cvec__ngram_range': [(1,1), (1,2)],\n",
    "                'cvec__min_df': [0.00005, 0.0001],\n",
    "                'cvec__max_df': [0.6,0.65,0.7],\n",
    "                'ada__n_estimators': [50, 100, 200],\n",
    "                'ada__learning_rate': [0.01, 0.1, 1.0]\n",
    "              }\n",
    "\n",
    "pipe_params_adat = {'tvec__max_features' : list(np.arange(5000, 10000, 1000)),\n",
    "               'tvec__ngram_range' : [(1, 1), (1, 2)],\n",
    "                'tvec__min_df': [0.00005, 0.0001],\n",
    "                'tvec__max_df': [0.6,0.65,0.7],\n",
    "                'ada__n_estimators': [50, 100, 200],\n",
    "                'ada__learning_rate': [0.01, 0.1, 1.0]\n",
    "              }\n",
    "\n",
    "# Instantiate GridSearchCV.\n",
    "\n",
    "gs_adac = GridSearchCV(pipe_adac, # what object are we optimizing?\n",
    "                  param_grid=pipe_params_adac, # what parameters values are we searching?\n",
    "                  cv=5,\n",
    "                  n_jobs=-1) # 5-fold cross-validation.\n",
    "\n",
    "gs_adat = GridSearchCV(pipe_adat, # what object are we optimizing?\n",
    "                  param_grid=pipe_params_adat, # what parameters values are we searching?\n",
    "                  cv=5, \n",
    "                  n_jobs=-1) # 5-fold cross-validation.\n",
    "\n",
    "\n",
    "\n",
    "# Start the timer\n",
    "start_time = time.time()\n",
    "\n",
    "gs_adac.fit(clean_train_total, y_train)\n",
    "\n",
    "# Stop the timer\n",
    "end_time = time.time()\n",
    "\n",
    "# Calculate the elapsed time\n",
    "elapsed_time = end_time - start_time\n",
    "\n",
    "# Print the computation time\n",
    "print(f\"Computation Time Cvec: {elapsed_time:.4f} seconds\")\n",
    "\n",
    "\n",
    "# Start the timer\n",
    "start_time = time.time()\n",
    "\n",
    "gs_adat.fit(clean_train_total, y_train)\n",
    "\n",
    "# Stop the timer\n",
    "end_time = time.time()\n",
    "\n",
    "# Calculate the elapsed time\n",
    "elapsed_time = end_time - start_time\n",
    "\n",
    "# Print the computation time\n",
    "print(f\"Computation Time Tvec: {elapsed_time:.4f} seconds\")"
   ]
  },
  {
   "cell_type": "markdown",
   "id": "a4f9140d-a9af-4be7-98c4-d2c40fc9cca0",
   "metadata": {},
   "source": [
    "## Metrics Section"
   ]
  },
  {
   "cell_type": "markdown",
   "id": "329b9058-6465-4353-b946-7b6b104402b3",
   "metadata": {},
   "source": [
    "### Bagging Classifier"
   ]
  },
  {
   "cell_type": "code",
   "execution_count": 248,
   "id": "fef7c0c2-2538-484b-b25d-21d2027e8aa3",
   "metadata": {},
   "outputs": [],
   "source": [
    "# gs_bgc.best_params_"
   ]
  },
  {
   "cell_type": "code",
   "execution_count": 249,
   "id": "78427c7a-63cc-4166-a961-d79161032914",
   "metadata": {},
   "outputs": [],
   "source": [
    "# gs_bgt.best_params_"
   ]
  },
  {
   "cell_type": "code",
   "execution_count": 250,
   "id": "0dddfe60-e66f-47f2-b112-87bb316a066e",
   "metadata": {},
   "outputs": [],
   "source": [
    "# print(f\"Train Accuracy Score CVec Bagging Tree | {round(gs_bgc.score(clean_train_total, y_train),5)}\")\n",
    "# print(f\"Test Accuracy Score CVec Bagging Tree | {round(gs_bgc.score(clean_test_total, y_test),5)}\")"
   ]
  },
  {
   "cell_type": "code",
   "execution_count": 251,
   "id": "03902648-4712-460a-ba1a-112b529770b7",
   "metadata": {},
   "outputs": [],
   "source": [
    "# print(f\"Train Accuracy Score TVec Bagging Tree | {round(gs_bgt.score(clean_train_total, y_train),5)}\")\n",
    "# print(f\"Test Accuracy Score TVec Bagging Tree | {round(gs_bgt.score(clean_test_total, y_test),5)}\")"
   ]
  },
  {
   "cell_type": "code",
   "execution_count": 252,
   "id": "eeb6a040-372e-4dc7-aaa2-2fbf59e1912e",
   "metadata": {},
   "outputs": [],
   "source": [
    "# # Get predictions from optimal KNN model\n",
    "# preds = gs_bgc.predict(clean_test_total)\n",
    "# # Save confusion matrix values\n",
    "# tn18, fp18, fn18, tp18 = confusion_matrix(y_test, preds).ravel()\n",
    "\n",
    "# # Generate values of confusion matrix for reference\n",
    "# def find_cm(y_test, preds):\n",
    "#     tn, fp, fn, tp = confusion_matrix(y_test, preds).ravel()\n",
    "    \n",
    "#     return f\"TN: {tn}\\nFP: {fp}\\nFN: {fn}\\nTP: {tp}\" \n",
    "    \n",
    "# # View confusion matrix\n",
    "# ConfusionMatrixDisplay.from_estimator(gs_bgc, clean_test_total, y_test, cmap='Purples');\n",
    "# plt.title('Confusion Matrix for the Bagging Classifier CVec Predictions',fontsize=16, loc='center');\n",
    "\n",
    "# print(find_cm(y_test, preds))"
   ]
  },
  {
   "cell_type": "code",
   "execution_count": 253,
   "id": "a69adf1f-b089-4a57-a433-c64b6f0386db",
   "metadata": {},
   "outputs": [],
   "source": [
    "# # Calculate Sensitivity\n",
    "# print(f\"Sensitivity | {round(tp18/(tp18+fn18),3)}\")\n",
    "# # Calculate the Specificity\n",
    "# print(f\"Specificity | {round(tn18/(tn18+fp18),3)}\")\n",
    "# # Calculate Accuracy\n",
    "# print(f\"Accuracy | {round((tp18+tn18)/(tp18+fp18+tn18+fn18),3)}\")\n",
    "# # Calculate Precision\n",
    "# print(f\"Precision | {round(tp18/(tp18+fp18),3)}\")\n",
    "# # Calculate Miscalculation Rate\n",
    "# print(f\"Miscalculation Rate | {round((fp18+fn18)/(tp18+fp18+tn18+fn18),3)}\")"
   ]
  },
  {
   "cell_type": "code",
   "execution_count": 254,
   "id": "45968972-3e97-4a74-be27-0b91e26c5b88",
   "metadata": {},
   "outputs": [],
   "source": [
    "# # Get predictions from optimal KNN model\n",
    "# preds = gs_bgt.predict(clean_test_total)\n",
    "# # Save confusion matrix values\n",
    "# tn19, fp19, fn19, tp19 = confusion_matrix(y_test, preds).ravel()\n",
    "\n",
    "# # Generate values of confusion matrix for reference\n",
    "# def find_cm(y_test, preds):\n",
    "#     tn, fp, fn, tp = confusion_matrix(y_test, preds).ravel()\n",
    "    \n",
    "#     return f\"TN: {tn}\\nFP: {fp}\\nFN: {fn}\\nTP: {tp}\" \n",
    "    \n",
    "# # View confusion matrix\n",
    "# ConfusionMatrixDisplay.from_estimator(gs_bgt, clean_test_total, y_test, cmap='Purples');\n",
    "# plt.title('Confusion Matrix for the Bagging Classifier TVec Predictions',fontsize=16, loc='center');\n",
    "\n",
    "# print(find_cm(y_test, preds))"
   ]
  },
  {
   "cell_type": "code",
   "execution_count": 255,
   "id": "70ab46ba-3cb3-4005-8861-a55c51a4a0c0",
   "metadata": {},
   "outputs": [],
   "source": [
    "# # Calculate Sensitivity\n",
    "# print(f\"Sensitivity | {round(tp19/(tp19+fn19),3)}\")\n",
    "# # Calculate the Specificity\n",
    "# print(f\"Specificity | {round(tn19/(tn19+fp19),3)}\")\n",
    "# # Calculate Accuracy\n",
    "# print(f\"Accuracy | {round((tp19+tn19)/(tp19+fp19+tn19+fn19),3)}\")\n",
    "# # Calculate Precision\n",
    "# print(f\"Precision | {round(tp19/(tp19+fp19),3)}\")\n",
    "# # Calculate Miscalculation Rate\n",
    "# print(f\"Miscalculation Rate | {round((fp19+fn19)/(tp19+fp19+tn19+fn19),3)}\")"
   ]
  },
  {
   "cell_type": "code",
   "execution_count": 256,
   "id": "71afed76-d3aa-470a-af7c-52a9383737be",
   "metadata": {},
   "outputs": [
    {
     "data": {
      "text/plain": [
       "{'ada__learning_rate': 1.0,\n",
       " 'ada__n_estimators': 200,\n",
       " 'cvec__max_df': 0.6,\n",
       " 'cvec__max_features': 8000,\n",
       " 'cvec__min_df': 5e-05,\n",
       " 'cvec__ngram_range': (1, 1)}"
      ]
     },
     "execution_count": 256,
     "metadata": {},
     "output_type": "execute_result"
    }
   ],
   "source": [
    "gs_adac.best_params_"
   ]
  },
  {
   "cell_type": "code",
   "execution_count": 257,
   "id": "59f9f3e7-7844-41e1-a112-b4ae91f45019",
   "metadata": {},
   "outputs": [
    {
     "data": {
      "text/plain": [
       "{'ada__learning_rate': 1.0,\n",
       " 'ada__n_estimators': 200,\n",
       " 'tvec__max_df': 0.6,\n",
       " 'tvec__max_features': 9000,\n",
       " 'tvec__min_df': 5e-05,\n",
       " 'tvec__ngram_range': (1, 1)}"
      ]
     },
     "execution_count": 257,
     "metadata": {},
     "output_type": "execute_result"
    }
   ],
   "source": [
    "gs_adat.best_params_"
   ]
  },
  {
   "cell_type": "code",
   "execution_count": 258,
   "id": "d679a56a-db21-4856-aaca-c0f8821bbe27",
   "metadata": {},
   "outputs": [
    {
     "name": "stdout",
     "output_type": "stream",
     "text": [
      "Train Accuracy Score CVec ADA Boost | 0.85305\n",
      "Test Accuracy Score CVec ADA Boost | 0.84379\n"
     ]
    }
   ],
   "source": [
    "print(f\"Train Accuracy Score CVec ADA Boost | {round(gs_adac.score(clean_train_total, y_train),5)}\")\n",
    "print(f\"Test Accuracy Score CVec ADA Boost | {round(gs_adac.score(clean_test_total, y_test),5)}\")"
   ]
  },
  {
   "cell_type": "code",
   "execution_count": 259,
   "id": "e33a9095-c28c-4f23-9f22-38ecd7749719",
   "metadata": {},
   "outputs": [
    {
     "name": "stdout",
     "output_type": "stream",
     "text": [
      "Train Accuracy Score TVec ADA Boost | 0.87304\n",
      "Test Accuracy Score TVec ADA Boost | 0.86535\n"
     ]
    }
   ],
   "source": [
    "print(f\"Train Accuracy Score TVec ADA Boost | {round(gs_adat.score(clean_train_total, y_train),5)}\")\n",
    "print(f\"Test Accuracy Score TVec ADA Boost | {round(gs_adat.score(clean_test_total, y_test),5)}\")"
   ]
  },
  {
   "cell_type": "code",
   "execution_count": 260,
   "id": "c1928e4f-998e-4e7d-abb9-c55cfdf30a6b",
   "metadata": {},
   "outputs": [
    {
     "name": "stdout",
     "output_type": "stream",
     "text": [
      "TN: 3529\n",
      "FP: 380\n",
      "FN: 417\n",
      "TP: 776\n"
     ]
    },
    {
     "data": {
      "image/png": "[encoded data removed]",
      "text/plain": [
       "<Figure size 640x480 with 2 Axes>"
      ]
     },
     "metadata": {},
     "output_type": "display_data"
    }
   ],
   "source": [
    "# Get predictions from optimal KNN model\n",
    "preds = gs_adac.predict(clean_test_total)\n",
    "# Save confusion matrix values\n",
    "tn_adac, fp_adac, fn_adac, tp_adac = confusion_matrix(y_test, preds).ravel()\n",
    "\n",
    "# Generate values of confusion matrix for reference\n",
    "def find_cm(y_test, preds):\n",
    "    tn, fp, fn, tp = confusion_matrix(y_test, preds).ravel()\n",
    "    \n",
    "    return f\"TN: {tn}\\nFP: {fp}\\nFN: {fn}\\nTP: {tp}\" \n",
    "    \n",
    "# View confusion matrix\n",
    "ConfusionMatrixDisplay.from_estimator(gs_adac, clean_test_total, y_test, cmap='Purples');\n",
    "plt.title('Confusion Matrix for the ADA CVec Predictions',fontsize=16, loc='center');\n",
    "\n",
    "print(find_cm(y_test, preds))"
   ]
  },
  {
   "cell_type": "code",
   "execution_count": 261,
   "id": "0e56595d-e4ae-4f76-9685-c7711cc1708f",
   "metadata": {},
   "outputs": [
    {
     "name": "stdout",
     "output_type": "stream",
     "text": [
      "Sensitivity | 0.65\n",
      "Specificity | 0.903\n",
      "Accuracy | 0.844\n",
      "Precision | 0.671\n",
      "Miscalculation Rate | 0.156\n"
     ]
    }
   ],
   "source": [
    "# Calculate Sensitivity\n",
    "print(f\"Sensitivity | {round(tp_adac/(tp_adac+fn_adac),3)}\")\n",
    "# Calculate the Specificity\n",
    "print(f\"Specificity | {round(tn_adac/(tn_adac+fp_adac),3)}\")\n",
    "# Calculate Accuracy\n",
    "print(f\"Accuracy | {round((tp_adac+tn_adac)/(tp_adac+fp_adac+tn_adac+fn_adac),3)}\")\n",
    "# Calculate Precision\n",
    "print(f\"Precision | {round(tp_adac/(tp_adac+fp_adac),3)}\")\n",
    "# Calculate Miscalculation Rate\n",
    "print(f\"Miscalculation Rate | {round((fp_adac+fn_adac)/(tp_adac+fp_adac+tn_adac+fn_adac),3)}\")"
   ]
  },
  {
   "cell_type": "code",
   "execution_count": 262,
   "id": "27b30126-5784-45f6-bdeb-f1793850dcb0",
   "metadata": {},
   "outputs": [
    {
     "name": "stdout",
     "output_type": "stream",
     "text": [
      "TN: 3682\n",
      "FP: 227\n",
      "FN: 460\n",
      "TP: 733\n"
     ]
    },
    {
     "data": {
      "image/png": "[encoded data removed]",
      "text/plain": [
       "<Figure size 640x480 with 2 Axes>"
      ]
     },
     "metadata": {},
     "output_type": "display_data"
    }
   ],
   "source": [
    "# Get predictions from optimal KNN model\n",
    "preds = gs_adat.predict(clean_test_total)\n",
    "# Save confusion matrix values\n",
    "tn_adat, fp_adat, fn_adat, tp_adat = confusion_matrix(y_test, preds).ravel()\n",
    "\n",
    "# Generate values of confusion matrix for reference\n",
    "def find_cm(y_test, preds):\n",
    "    tn, fp, fn, tp = confusion_matrix(y_test, preds).ravel()\n",
    "    \n",
    "    return f\"TN: {tn}\\nFP: {fp}\\nFN: {fn}\\nTP: {tp}\" \n",
    "    \n",
    "# View confusion matrix\n",
    "ConfusionMatrixDisplay.from_estimator(gs_adat, clean_test_total, y_test, cmap='Purples');\n",
    "plt.title('Confusion Matrix for the ADA TVec Predictions',fontsize=16, loc='center');\n",
    "\n",
    "print(find_cm(y_test, preds))"
   ]
  },
  {
   "cell_type": "code",
   "execution_count": 263,
   "id": "f30dd71e-135e-411f-a3b8-3fad3f73f82b",
   "metadata": {},
   "outputs": [
    {
     "name": "stdout",
     "output_type": "stream",
     "text": [
      "Sensitivity | 0.614\n",
      "Specificity | 0.942\n",
      "Accuracy | 0.865\n",
      "Precision | 0.764\n",
      "Miscalculation Rate | 0.135\n"
     ]
    }
   ],
   "source": [
    "# Calculate Sensitivity\n",
    "print(f\"Sensitivity | {round(tp_adat/(tp_adat+fn_adat),3)}\")\n",
    "# Calculate the Specificity\n",
    "print(f\"Specificity | {round(tn_adat/(tn_adat+fp_adat),3)}\")\n",
    "# Calculate Accuracy\n",
    "print(f\"Accuracy | {round((tp_adat+tn_adat)/(tp_adat+fp_adat+tn_adat+fn_adat),3)}\")\n",
    "# Calculate Precision\n",
    "print(f\"Precision | {round(tp_adat/(tp_adat+fp_adat),3)}\")\n",
    "# Calculate Miscalculation Rate\n",
    "print(f\"Miscalculation Rate | {round((fp_adat+fn_adat)/(tp_adat+fp_adat+tn_adat+fn_adat),3)}\")"
   ]
  },
  {
   "cell_type": "code",
   "execution_count": 264,
   "id": "b82ce552-62dc-4a6e-ae66-91c09bb2ee17",
   "metadata": {},
   "outputs": [
    {
     "data": {
      "text/plain": [
       "0.6809103576405016"
      ]
     },
     "execution_count": 264,
     "metadata": {},
     "output_type": "execute_result"
    }
   ],
   "source": [
    "f1_score(y_test, preds)"
   ]
  },
  {
   "cell_type": "markdown",
   "id": "627ee4f1-795d-4aa6-8bca-a8d848499a5f",
   "metadata": {},
   "source": [
    "### Summary"
   ]
  },
  {
   "cell_type": "markdown",
   "id": "9cd49013-906f-4827-ae52-a8dacd37b3a8",
   "metadata": {},
   "source": [
    "Support Vector Machine Classifier (SVC) TfidfVectorier (TVec) performed very well in specificity and accuracy and F1 score was also acceptable: \n",
    "\n",
    "Sensitivity | 0.659\n",
    "\n",
    "Specificity | 0.948\n",
    "\n",
    "Accuracy | 0.881\n",
    "\n",
    "Precision | 0.796\n",
    "\n",
    "Miscalculation Rate | 0.119\n",
    "\n",
    "F1 Score | 0.721.\n",
    "\n",
    "ADA Boost was the closest fit model in terms of accuracy scores with \n",
    "\n",
    "Train Accuracy Score CVec ADA Boost | 0.85305\n",
    "\n",
    "Test Accuracy Score CVec ADA Boost | 0.84379\n",
    "\n",
    "and \n",
    "\n",
    "Train Accuracy Score TVec ADA Boost | 0.87304\n",
    "\n",
    "Test Accuracy Score TVec ADA Boost | 0.86535.\n",
    "\n",
    "### We export the SVC model and use this for binary classification in our Streamlit application to differentiate whether or not an abstract/headline coupling originated from an `Opinion` section or a `non-Opinion` section. "
   ]
  }
 ],
 "metadata": {
  "kernelspec": {
   "display_name": "Python 3 (ipykernel)",
   "language": "python",
   "name": "python3"
  },
  "language_info": {
   "codemirror_mode": {
    "name": "ipython",
    "version": 3
   },
   "file_extension": ".py",
   "mimetype": "text/x-python",
   "name": "python",
   "nbconvert_exporter": "python",
   "pygments_lexer": "ipython3",
   "version": "3.10.13"
  }
 },
 "nbformat": 4,
 "nbformat_minor": 5
}
